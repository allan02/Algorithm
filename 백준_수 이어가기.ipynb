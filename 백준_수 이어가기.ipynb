{
 "cells": [
  {
   "cell_type": "code",
   "execution_count": 5,
   "metadata": {},
   "outputs": [
    {
     "name": "stdout",
     "output_type": "stream",
     "text": [
      "100\n",
      "8\n",
      "100 62 38 24 14 10 4 6 "
     ]
    }
   ],
   "source": [
    "n = int(input())\n",
    "\n",
    "answer = 0\n",
    "ans_array = []\n",
    "\n",
    "for i in range(30000):\n",
    "    temp = []\n",
    "    temp.append(n)\n",
    "    temp.append(i)\n",
    "    index = 2\n",
    "    \n",
    "    while True:\n",
    "        now = temp[index - 2] - temp[index - 1]\n",
    "        \n",
    "        if now < 0:\n",
    "            break\n",
    "            \n",
    "        else:\n",
    "            index += 1\n",
    "            temp.append(now)\n",
    "            \n",
    "    if answer < len(temp):\n",
    "        answer = len(temp)\n",
    "        ans_array = temp\n",
    "    \n",
    "print(answer)\n",
    "for i in ans_array:\n",
    "    print(i, end = ' ')"
   ]
  }
 ],
 "metadata": {
  "kernelspec": {
   "display_name": "Python 3",
   "language": "python",
   "name": "python3"
  },
  "language_info": {
   "codemirror_mode": {
    "name": "ipython",
    "version": 3
   },
   "file_extension": ".py",
   "mimetype": "text/x-python",
   "name": "python",
   "nbconvert_exporter": "python",
   "pygments_lexer": "ipython3",
   "version": "3.8.5"
  }
 },
 "nbformat": 4,
 "nbformat_minor": 4
}
