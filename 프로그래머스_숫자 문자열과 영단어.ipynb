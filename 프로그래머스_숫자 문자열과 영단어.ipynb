{
 "cells": [
  {
   "cell_type": "code",
   "execution_count": 16,
   "metadata": {},
   "outputs": [],
   "source": [
    "def solution(s):\n",
    "    answer = s \n",
    "    answer = answer.replace('zero', '0')\n",
    "    answer = answer.replace('one', '1')\n",
    "    answer = answer.replace('two', '2')\n",
    "    answer = answer.replace('three', '3')\n",
    "    answer = answer.replace('four', '4')\n",
    "    answer = answer.replace('five', '5')\n",
    "    answer = answer.replace('six', '6')\n",
    "    answer = answer.replace('seven', '7')\n",
    "    answer = answer.replace('eight', '8')\n",
    "    answer = answer.replace('nine', '9')\n",
    "    return int(answer)"
   ]
  }
 ],
 "metadata": {
  "kernelspec": {
   "display_name": "Python 3",
   "language": "python",
   "name": "python3"
  },
  "language_info": {
   "codemirror_mode": {
    "name": "ipython",
    "version": 3
   },
   "file_extension": ".py",
   "mimetype": "text/x-python",
   "name": "python",
   "nbconvert_exporter": "python",
   "pygments_lexer": "ipython3",
   "version": "3.8.5"
  }
 },
 "nbformat": 4,
 "nbformat_minor": 4
}
