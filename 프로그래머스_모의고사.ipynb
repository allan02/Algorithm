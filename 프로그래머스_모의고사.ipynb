{
 "cells": [
  {
   "cell_type": "code",
   "execution_count": null,
   "metadata": {},
   "outputs": [],
   "source": [
    "def solution(answers):\n",
    "    \n",
    "    answer = []\n",
    "    \n",
    "    array1 = [1,2,3,4,5]\n",
    "    array2 = [2,1,2,3,2,4,2,5]\n",
    "    array3 = [3,3,1,1,2,2,4,4,5,5]\n",
    "    \n",
    "    length = len(answers)\n",
    "    index = 0\n",
    "    count1 = 0\n",
    "    count2 = 0\n",
    "    count3 = 0\n",
    "    while index < length:\n",
    "        if array1[index % 5] == answers[index]:\n",
    "            count1 += 1\n",
    "        if array2[index % 8] == answers[index]:\n",
    "            count2 += 1\n",
    "        if array3[index % 10] == answers[index]:\n",
    "            count3 += 1\n",
    "        index += 1\n",
    "        \n",
    "    max_value = max(count1, count2, count3)\n",
    "    \n",
    "    if count1 == max_value:\n",
    "        answer.append(1)\n",
    "    if count2 == max_value:\n",
    "        answer.append(2)\n",
    "    if count3 == max_value:\n",
    "        answer.append(3)\n",
    "    \n",
    "\n",
    "    return answer"
   ]
  }
 ],
 "metadata": {
  "kernelspec": {
   "display_name": "Python 3",
   "language": "python",
   "name": "python3"
  },
  "language_info": {
   "codemirror_mode": {
    "name": "ipython",
    "version": 3
   },
   "file_extension": ".py",
   "mimetype": "text/x-python",
   "name": "python",
   "nbconvert_exporter": "python",
   "pygments_lexer": "ipython3",
   "version": "3.8.5"
  }
 },
 "nbformat": 4,
 "nbformat_minor": 4
}
