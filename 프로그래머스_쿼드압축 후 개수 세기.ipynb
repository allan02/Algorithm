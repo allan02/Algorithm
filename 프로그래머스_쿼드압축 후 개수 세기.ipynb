{
 "cells": [
  {
   "cell_type": "code",
   "execution_count": 1,
   "metadata": {},
   "outputs": [],
   "source": [
    "# 함수 안에 함수 -> nonlocal\n",
    "\n",
    "def solution(arr):\n",
    "    answer = []\n",
    "    answer0 = 0\n",
    "    answer1 = 0\n",
    "    def sol(x1, y1, x2, y2):\n",
    "        \n",
    "        nonlocal answer0\n",
    "        nonlocal answer1\n",
    "    \n",
    "        temp = arr[x1][y1]\n",
    "        flag = True\n",
    "    \n",
    "        for i in range(x1, x2):\n",
    "            for j in range(y1, y2):\n",
    "                if arr[i][j] != temp:\n",
    "                    flag = False\n",
    "                    break\n",
    "                \n",
    "        if flag == True:\n",
    "            if temp == 0:\n",
    "                answer0 += 1\n",
    "            else:\n",
    "                answer1 += 1\n",
    "        else:\n",
    "            sol(x1, y1, (x1 + x2) // 2, (y1 + y2) // 2)\n",
    "            sol(x1, (y1 + y2) // 2, (x1 + x2) // 2, y2)\n",
    "            sol((x1 + x2) // 2, y1, x2, (y1 + y2) // 2)\n",
    "            sol((x1 + x2) // 2, (y1 + y2) // 2, x2, y2)\n",
    "    \n",
    "    sol(0, 0, len(arr), len(arr))\n",
    "    \n",
    "    answer.append(answer0)\n",
    "    answer.append(answer1)\n",
    "    return answer\n",
    "\n"
   ]
  }
 ],
 "metadata": {
  "kernelspec": {
   "display_name": "Python 3",
   "language": "python",
   "name": "python3"
  },
  "language_info": {
   "codemirror_mode": {
    "name": "ipython",
    "version": 3
   },
   "file_extension": ".py",
   "mimetype": "text/x-python",
   "name": "python",
   "nbconvert_exporter": "python",
   "pygments_lexer": "ipython3",
   "version": "3.8.5"
  }
 },
 "nbformat": 4,
 "nbformat_minor": 4
}
