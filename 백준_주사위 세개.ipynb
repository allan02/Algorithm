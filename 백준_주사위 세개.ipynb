{
 "cells": [
  {
   "cell_type": "code",
   "execution_count": 3,
   "metadata": {},
   "outputs": [
    {
     "name": "stdout",
     "output_type": "stream",
     "text": [
      "6 2 5\n",
      "600\n"
     ]
    }
   ],
   "source": [
    "a, b, c = map(int, input().split())\n",
    "\n",
    "if a == b == c:\n",
    "    print(10000 + a * 1000)\n",
    "    \n",
    "elif a != b and b != c and a != c:\n",
    "    print(max(a, b, c) * 100)\n",
    "    \n",
    "else:\n",
    "    if a == b:\n",
    "        print(1000 + a * 100)\n",
    "    elif b == c:\n",
    "        print(1000 + b * 100)\n",
    "    else:\n",
    "        print(1000 + c * 100)"
   ]
  }
 ],
 "metadata": {
  "kernelspec": {
   "display_name": "Python 3",
   "language": "python",
   "name": "python3"
  },
  "language_info": {
   "codemirror_mode": {
    "name": "ipython",
    "version": 3
   },
   "file_extension": ".py",
   "mimetype": "text/x-python",
   "name": "python",
   "nbconvert_exporter": "python",
   "pygments_lexer": "ipython3",
   "version": "3.8.5"
  }
 },
 "nbformat": 4,
 "nbformat_minor": 4
}
