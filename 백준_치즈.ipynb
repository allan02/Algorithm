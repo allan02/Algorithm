{
 "cells": [
  {
   "cell_type": "code",
   "execution_count": 3,
   "metadata": {},
   "outputs": [
    {
     "name": "stdout",
     "output_type": "stream",
     "text": [
      "13 12\n",
      "0 0 0 0 0 0 0 0 0 0 0 0\n",
      "0 0 0 0 0 0 0 0 0 0 0 0\n",
      "0 0 0 0 0 0 0 1 1 0 0 0\n",
      "0 1 1 1 0 0 0 1 1 0 0 0\n",
      "0 1 1 1 1 1 1 0 0 0 0 0\n",
      "0 1 1 1 1 1 0 1 1 0 0 0\n",
      "0 1 1 1 1 0 0 1 1 0 0 0\n",
      "0 0 1 1 0 0 0 1 1 0 0 0\n",
      "0 0 1 1 1 1 1 1 1 0 0 0\n",
      "0 0 1 1 1 1 1 1 1 0 0 0\n",
      "0 0 1 1 1 1 1 1 1 0 0 0\n",
      "0 0 1 1 1 1 1 1 1 0 0 0\n",
      "0 0 0 0 0 0 0 0 0 0 0 0\n",
      "3\n",
      "22\n"
     ]
    }
   ],
   "source": [
    "from collections import deque\n",
    "\n",
    "dx = [0, 0, 1, -1]\n",
    "dy = [1, -1, 0, 0]\n",
    "\n",
    "n, m = map(int, input().split())\n",
    "\n",
    "array = []\n",
    "\n",
    "for i in range(n):\n",
    "    array.append(list(map(int, input().split())))\n",
    "        \n",
    "count = 0\n",
    "answer = []\n",
    "        \n",
    "while True:\n",
    "    q = deque()\n",
    "    q.append((0, 0))\n",
    "    visited = [[False] * m for _ in range(n)]\n",
    "    temp = []\n",
    "    \n",
    "    while q:\n",
    "        # print(q)\n",
    "        x, y = q.popleft()\n",
    "        for i in range(4):\n",
    "            nx = x + dx[i]\n",
    "            ny = y + dy[i]\n",
    "            \n",
    "            if 0 <= nx < n and 0 <= ny < m and array[nx][ny] == 1 and visited[nx][ny] == False:\n",
    "                temp.append((nx, ny))\n",
    "                visited[nx][ny] = True\n",
    "                \n",
    "            elif 0 <= nx < n and 0 <= ny < m and array[nx][ny] == 0 and visited[nx][ny] == False:\n",
    "                q.append((nx, ny))\n",
    "                visited[nx][ny] = True\n",
    "                \n",
    "    # print(temp)\n",
    "    if len(temp) == 0:\n",
    "        break\n",
    "        \n",
    "    for temp_x, temp_y in temp:\n",
    "        array[temp_x][temp_y] = 0\n",
    "        \n",
    "    answer.append(len(temp))\n",
    "    count += 1\n",
    "    \n",
    "print(count)\n",
    "print(answer[-1])\n",
    "                \n",
    "            \n",
    "                \n",
    "            \n",
    "\n",
    "    \n",
    "    "
   ]
  },
  {
   "cell_type": "code",
   "execution_count": 8,
   "metadata": {},
   "outputs": [
    {
     "name": "stdout",
     "output_type": "stream",
     "text": [
      "5\n",
      "4\n"
     ]
    }
   ],
   "source": [
    "answer = [1,2,3,4,5]\n",
    "print(answer[-1])\n",
    "print(answer[-2])"
   ]
  }
 ],
 "metadata": {
  "kernelspec": {
   "display_name": "Python 3",
   "language": "python",
   "name": "python3"
  },
  "language_info": {
   "codemirror_mode": {
    "name": "ipython",
    "version": 3
   },
   "file_extension": ".py",
   "mimetype": "text/x-python",
   "name": "python",
   "nbconvert_exporter": "python",
   "pygments_lexer": "ipython3",
   "version": "3.8.5"
  }
 },
 "nbformat": 4,
 "nbformat_minor": 4
}
