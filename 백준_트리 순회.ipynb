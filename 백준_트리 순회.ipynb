{
 "cells": [
  {
   "cell_type": "code",
   "execution_count": 25,
   "metadata": {},
   "outputs": [
    {
     "name": "stdout",
     "output_type": "stream",
     "text": [
      "7\n",
      "A B C\n",
      "B D .\n",
      "C E F\n",
      "E . .\n",
      "F . G\n",
      "D . .\n",
      "G . .\n",
      "ABDCEFG\n",
      "DBAECFG\n",
      "DBEGFCA"
     ]
    }
   ],
   "source": [
    "from collections import defaultdict\n",
    "\n",
    "d = defaultdict(str)\n",
    "n = int(input())\n",
    "for _ in range(n):\n",
    "    root, a, b = input().split()\n",
    "    d[root] = [a, b]\n",
    "    \n",
    "def sol1(root):\n",
    "    if root != '.':\n",
    "        print(root, end = '')\n",
    "        sol1(d[root][0])\n",
    "        sol1(d[root][1])\n",
    "    return\n",
    "\n",
    "def sol2(root):\n",
    "    if root != '.':\n",
    "        sol2(d[root][0])\n",
    "        print(root, end = '')\n",
    "        sol2(d[root][1])\n",
    "    return\n",
    "\n",
    "def sol3(root):\n",
    "    if root != '.':\n",
    "        sol3(d[root][0])\n",
    "        sol3(d[root][1])\n",
    "        print(root, end = '')\n",
    "\n",
    "sol1('A')\n",
    "print()\n",
    "sol2('A')\n",
    "print()\n",
    "sol3('A')"
   ]
  },
  {
   "cell_type": "code",
   "execution_count": null,
   "metadata": {},
   "outputs": [],
   "source": []
  },
  {
   "cell_type": "code",
   "execution_count": null,
   "metadata": {},
   "outputs": [],
   "source": []
  }
 ],
 "metadata": {
  "kernelspec": {
   "display_name": "Python 3",
   "language": "python",
   "name": "python3"
  },
  "language_info": {
   "codemirror_mode": {
    "name": "ipython",
    "version": 3
   },
   "file_extension": ".py",
   "mimetype": "text/x-python",
   "name": "python",
   "nbconvert_exporter": "python",
   "pygments_lexer": "ipython3",
   "version": "3.8.5"
  }
 },
 "nbformat": 4,
 "nbformat_minor": 4
}
