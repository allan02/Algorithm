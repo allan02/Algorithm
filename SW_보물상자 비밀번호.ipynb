{
 "cells": [
  {
   "cell_type": "code",
   "execution_count": 4,
   "metadata": {},
   "outputs": [
    {
     "name": "stdout",
     "output_type": "stream",
     "text": [
      "1\n",
      "12 10\n",
      "1B3B3B81F75E\n",
      "#1 503\n"
     ]
    }
   ],
   "source": [
    "T = int(input())\n",
    "for t in range(T):\n",
    "    n, k = map(int,input().split())\n",
    "    pw = list(map(str,input()))\n",
    "    cnt = n // 4 \n",
    "    arr = [] \n",
    "    for i in range(cnt):\n",
    "        pop = pw.pop() \n",
    "        pw.insert(0,pop)\n",
    "        for j in range(0,n,cnt):\n",
    "            a = ''\n",
    "            for kk in range(j,j+cnt):\n",
    "                a += pw[kk]\n",
    "            arr.append(a)\n",
    "    new_arr = set(arr) \n",
    "    answer = [] \n",
    "    for num in new_arr: \n",
    "        answer.append(int(num,16))\n",
    "    sorted_answer = sorted(answer,reverse=True)\n",
    "    \n",
    "    print(\"#%s %d\" %(t + 1, sorted_answer[k - 1]))"
   ]
  },
  {
   "cell_type": "code",
   "execution_count": 9,
   "metadata": {},
   "outputs": [
    {
     "name": "stdout",
     "output_type": "stream",
     "text": [
      "49\n",
      "2\n",
      "57\n",
      "65\n",
      "70\n"
     ]
    }
   ],
   "source": [
    "# 1B3B3B81F75E\n",
    "print(ord('1'))\n",
    "print(int('2'))\n",
    "print(ord('9'))\n",
    "print(ord('A'))\n",
    "print(ord('F'))"
   ]
  },
  {
   "cell_type": "code",
   "execution_count": 9,
   "metadata": {},
   "outputs": [
    {
     "name": "stdout",
     "output_type": "stream",
     "text": [
      "15\n",
      "483\n"
     ]
    }
   ],
   "source": [
    "print(int('F', 16))\n",
    "print(int('1E3', 16))"
   ]
  },
  {
   "cell_type": "code",
   "execution_count": 1,
   "metadata": {},
   "outputs": [
    {
     "name": "stdout",
     "output_type": "stream",
     "text": [
      "1B3B3B81F75E\n",
      "1B3B3B81F75E\n",
      "['1', 'B', '3', 'B', '3', 'B', '8', '1', 'F', '7', '5', 'E']\n",
      "['1', 'B', '3', 'B', '3', 'B', '8', '1', 'F', '7', '5', 'E']\n"
     ]
    }
   ],
   "source": [
    "number = list(input().strip())\n",
    "number1 = list(input())\n",
    "print(number)\n",
    "print(number1)"
   ]
  },
  {
   "cell_type": "code",
   "execution_count": null,
   "metadata": {},
   "outputs": [],
   "source": []
  }
 ],
 "metadata": {
  "kernelspec": {
   "display_name": "Python 3",
   "language": "python",
   "name": "python3"
  },
  "language_info": {
   "codemirror_mode": {
    "name": "ipython",
    "version": 3
   },
   "file_extension": ".py",
   "mimetype": "text/x-python",
   "name": "python",
   "nbconvert_exporter": "python",
   "pygments_lexer": "ipython3",
   "version": "3.8.5"
  }
 },
 "nbformat": 4,
 "nbformat_minor": 4
}
