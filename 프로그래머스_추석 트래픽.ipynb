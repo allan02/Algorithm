{
 "cells": [
  {
   "cell_type": "code",
   "execution_count": 1,
   "metadata": {},
   "outputs": [],
   "source": [
    "def sol(time, array):\n",
    "    temp = 0\n",
    "    start = time\n",
    "    end = time + 1000\n",
    "    \n",
    "    for i in array:\n",
    "        if i[0] < end and i[1] >= start:\n",
    "            temp += 1\n",
    "    return temp\n",
    "    \n",
    "\n",
    "def solution(lines):\n",
    "    answer = 1\n",
    "    array = []\n",
    "    for i in lines:\n",
    "        i = i.split()\n",
    "        temp1 = i[1].split(\":\")\n",
    "        temp2 = i[2].split(\"s\")\n",
    "        end = (int(temp1[0]) * 3600 + int(temp1[1]) * 60 + float(temp1[2])) * 1000\n",
    "        start = end - float(temp2[0]) * 1000 + 1\n",
    "        array.append((start, end))\n",
    "    \n",
    "    for start, end in array:\n",
    "        answer = max(answer, sol(start, array), sol(end, array))\n",
    "    \n",
    "    return answer"
   ]
  },
  {
   "cell_type": "code",
   "execution_count": null,
   "metadata": {},
   "outputs": [],
   "source": []
  },
  {
   "cell_type": "code",
   "execution_count": null,
   "metadata": {},
   "outputs": [],
   "source": []
  }
 ],
 "metadata": {
  "kernelspec": {
   "display_name": "Python 3",
   "language": "python",
   "name": "python3"
  },
  "language_info": {
   "codemirror_mode": {
    "name": "ipython",
    "version": 3
   },
   "file_extension": ".py",
   "mimetype": "text/x-python",
   "name": "python",
   "nbconvert_exporter": "python",
   "pygments_lexer": "ipython3",
   "version": "3.8.5"
  }
 },
 "nbformat": 4,
 "nbformat_minor": 4
}
