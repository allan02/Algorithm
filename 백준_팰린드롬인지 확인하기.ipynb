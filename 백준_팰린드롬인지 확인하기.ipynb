{
 "cells": [
  {
   "cell_type": "code",
   "execution_count": 2,
   "metadata": {},
   "outputs": [
    {
     "name": "stdout",
     "output_type": "stream",
     "text": [
      "baekjoon\n",
      "0\n"
     ]
    }
   ],
   "source": [
    "s = input()\n",
    "\n",
    "check = True\n",
    "l = len(s)\n",
    "\n",
    "for i in range(l // 2):\n",
    "    if s[i] != s[len(s) - i - 1]:\n",
    "        check = False\n",
    "        \n",
    "if check:\n",
    "    print(1)\n",
    "else:\n",
    "    print(0)\n",
    "    "
   ]
  }
 ],
 "metadata": {
  "kernelspec": {
   "display_name": "Python 3",
   "language": "python",
   "name": "python3"
  },
  "language_info": {
   "codemirror_mode": {
    "name": "ipython",
    "version": 3
   },
   "file_extension": ".py",
   "mimetype": "text/x-python",
   "name": "python",
   "nbconvert_exporter": "python",
   "pygments_lexer": "ipython3",
   "version": "3.8.5"
  }
 },
 "nbformat": 4,
 "nbformat_minor": 4
}
