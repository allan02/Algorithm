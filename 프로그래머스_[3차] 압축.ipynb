{
 "cells": [
  {
   "cell_type": "code",
   "execution_count": 1,
   "metadata": {},
   "outputs": [
    {
     "name": "stdout",
     "output_type": "stream",
     "text": [
      "[1, 4, 5]\n"
     ]
    }
   ],
   "source": [
    "array = [1,2,3,4,5]\n",
    "del array[1:3]\n",
    "print(array)"
   ]
  },
  {
   "cell_type": "code",
   "execution_count": 3,
   "metadata": {},
   "outputs": [
    {
     "name": "stdout",
     "output_type": "stream",
     "text": [
      "[1, 2]\n",
      "3\n"
     ]
    }
   ],
   "source": [
    "array = [1,2,3,4,5]\n",
    "print(array[0:2])\n",
    "print(array[2])"
   ]
  },
  {
   "cell_type": "code",
   "execution_count": 13,
   "metadata": {},
   "outputs": [
    {
     "data": {
      "text/plain": [
       "[20, 15, 2, 5, 15, 18, 14, 15, 20, 27, 29, 31, 36, 30, 32, 34]"
      ]
     },
     "execution_count": 13,
     "metadata": {},
     "output_type": "execute_result"
    }
   ],
   "source": [
    "from collections import defaultdict\n",
    "\n",
    "def solution(msg):\n",
    "    answer = []\n",
    "    \n",
    "    d = defaultdict(int)\n",
    "    for i in range(65, 91):\n",
    "        d[chr(i)] = i - 64\n",
    "    \n",
    "    count = 27\n",
    "    temp = ''\n",
    "    \n",
    "    msg = list(msg)\n",
    "    \n",
    "    while msg:\n",
    "        for i in range(len(msg), -1, -1):\n",
    "            if d[''.join(msg[0 : i])] != 0:\n",
    "                if i == len(msg):\n",
    "                    answer.append(d[''.join(msg[0 : i])])\n",
    "                    del msg[0 : i]\n",
    "                    break\n",
    "                    \n",
    "                else:\n",
    "                    answer.append(d[''.join(msg[0 : i])])\n",
    "                    d[''.join(msg[0 : i]) + msg[i]] = count\n",
    "                    count += 1\n",
    "                    del msg[0 : i]\n",
    "                    break\n",
    "                    # break 신경 써 주기!\n",
    "                    \n",
    "        \n",
    "    \n",
    "    return answer\n",
    "\n",
    "solution(\"TOBEORNOTTOBEORTOBEORNOT\")"
   ]
  },
  {
   "cell_type": "code",
   "execution_count": 2,
   "metadata": {},
   "outputs": [
    {
     "name": "stdout",
     "output_type": "stream",
     "text": [
      "5\n",
      "4\n",
      "3\n",
      "2\n",
      "1\n"
     ]
    }
   ],
   "source": [
    "[20, 15, 2, 5, 15, 18, 14, 15, 20, 27, 29, 31, 36, 30, 32, 34]\n",
    "while array:\n",
    "    print(array.pop())"
   ]
  }
 ],
 "metadata": {
  "kernelspec": {
   "display_name": "Python 3",
   "language": "python",
   "name": "python3"
  },
  "language_info": {
   "codemirror_mode": {
    "name": "ipython",
    "version": 3
   },
   "file_extension": ".py",
   "mimetype": "text/x-python",
   "name": "python",
   "nbconvert_exporter": "python",
   "pygments_lexer": "ipython3",
   "version": "3.8.5"
  }
 },
 "nbformat": 4,
 "nbformat_minor": 4
}
