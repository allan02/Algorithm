{
 "cells": [
  {
   "cell_type": "code",
   "execution_count": 7,
   "metadata": {},
   "outputs": [
    {
     "name": "stdout",
     "output_type": "stream",
     "text": [
      "True\n",
      "False\n",
      "True\n"
     ]
    }
   ],
   "source": [
    "a = '11'\n",
    "b = '21123'\n",
    "\n",
    "if a in b:\n",
    "    print(\"True\")\n",
    "else:\n",
    "    print(\"False\")\n",
    "    \n",
    "    \n",
    "a = '11'\n",
    "b = '21'\n",
    "\n",
    "if a in b:\n",
    "    print(\"True\")\n",
    "else:\n",
    "    print(\"False\")\n",
    "    \n",
    "a = '11'\n",
    "b = '112'\n",
    "\n",
    "if a in b:\n",
    "    print(\"True\")\n",
    "else:\n",
    "    print(\"False\")"
   ]
  },
  {
   "cell_type": "code",
   "execution_count": 1,
   "metadata": {},
   "outputs": [],
   "source": [
    "def solution(phone_book):\n",
    "    phone_book.sort()\n",
    "    for i in range(len(phone_book)-1):\n",
    "        temp = phone_book[i]\n",
    "        if temp == phone_book[i + 1][:len(temp)]:\n",
    "            return False\n",
    "    return True"
   ]
  },
  {
   "cell_type": "code",
   "execution_count": null,
   "metadata": {},
   "outputs": [],
   "source": []
  }
 ],
 "metadata": {
  "kernelspec": {
   "display_name": "Python 3",
   "language": "python",
   "name": "python3"
  },
  "language_info": {
   "codemirror_mode": {
    "name": "ipython",
    "version": 3
   },
   "file_extension": ".py",
   "mimetype": "text/x-python",
   "name": "python",
   "nbconvert_exporter": "python",
   "pygments_lexer": "ipython3",
   "version": "3.8.5"
  }
 },
 "nbformat": 4,
 "nbformat_minor": 4
}
