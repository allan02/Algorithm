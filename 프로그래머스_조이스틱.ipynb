{
 "cells": [
  {
   "cell_type": "code",
   "execution_count": null,
   "metadata": {},
   "outputs": [],
   "source": [
    "def solution(name):\n",
    "    answer = 0\n",
    "    index = 0\n",
    "    \n",
    "    array = list(name)\n",
    "    \n",
    "    for i in range(len(array)):\n",
    "        array[i] = min(90 - ord(array[i]) + 1, ord(array[i]) - 65)\n",
    "        \n",
    "    while True:\n",
    "        answer += array[index]\n",
    "        array[index] = 0\n",
    "        if sum(array) == 0:\n",
    "            return answer\n",
    "        left = 1\n",
    "        right = 1\n",
    "        while array[index - left] == 0:\n",
    "            left += 1\n",
    "        while array[index + right] == 0:\n",
    "            right += 1\n",
    "        if left < right:\n",
    "            index = index - left\n",
    "            answer += left\n",
    "            left = 1\n",
    "        else:\n",
    "            index = index + right\n",
    "            answer += right\n",
    "            right = 1\n",
    "    \n",
    "    return answer"
   ]
  }
 ],
 "metadata": {
  "kernelspec": {
   "display_name": "Python 3",
   "language": "python",
   "name": "python3"
  },
  "language_info": {
   "codemirror_mode": {
    "name": "ipython",
    "version": 3
   },
   "file_extension": ".py",
   "mimetype": "text/x-python",
   "name": "python",
   "nbconvert_exporter": "python",
   "pygments_lexer": "ipython3",
   "version": "3.8.5"
  }
 },
 "nbformat": 4,
 "nbformat_minor": 4
}
