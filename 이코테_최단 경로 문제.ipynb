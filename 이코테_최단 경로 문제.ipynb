{
 "cells": [
  {
   "cell_type": "markdown",
   "metadata": {},
   "source": [
    "## 38, 정확한 순위"
   ]
  },
  {
   "cell_type": "code",
   "execution_count": 5,
   "metadata": {},
   "outputs": [
    {
     "name": "stdout",
     "output_type": "stream",
     "text": [
      "6 6\n",
      "1 5\n",
      "3 4\n",
      "4 2\n",
      "4 6\n",
      "5 2\n",
      "5 4\n",
      "1\n"
     ]
    }
   ],
   "source": [
    "INF = int(1e9)\n",
    "\n",
    "n, m = map(int, input().split())\n",
    "\n",
    "array = [[INF] * (n + 1) for _ in range(n + 1)]\n",
    "\n",
    "for i in range(1, n + 1):\n",
    "    for j in range(1, n + 1):\n",
    "        if array[i] == array[j]: # 꼭 적기.\n",
    "            array[i][j] = 0\n",
    "\n",
    "\n",
    "for _ in range(m):\n",
    "    a, b = map(int, input().split())\n",
    "    array[a][b] = 1\n",
    "    \n",
    "for k in range(1, n + 1):\n",
    "    for i in range(1, n + 1):\n",
    "        for j in range(1, n + 1):\n",
    "            array[i][j] = min(array[i][j], array[i][k] + array[k][j])\n",
    "    \n",
    "# print(array)\n",
    "result = 0\n",
    "            \n",
    "for i in range(1, n + 1):\n",
    "    count = 0\n",
    "    \n",
    "    for j in range(1, n + 1):     \n",
    "        if array[i][j] != INF or array[j][i] != INF:\n",
    "            count += 1\n",
    "    if count == n:\n",
    "        result += 1\n",
    "\n",
    "        \n",
    "print(result)\n"
   ]
  },
  {
   "cell_type": "markdown",
   "metadata": {},
   "source": [
    "## 39, 화성 탐사"
   ]
  },
  {
   "cell_type": "code",
   "execution_count": 1,
   "metadata": {},
   "outputs": [
    {
     "name": "stdout",
     "output_type": "stream",
     "text": [
      "2\n",
      "3\n",
      "5 5 4\n",
      "3 9 1\n",
      "3 2 7\n",
      "[[13, 10, 14], [8, 17, 15], [11, 13, 20]]\n",
      "5\n",
      "3 7 2 0 1\n",
      "2 8 0 9 1\n",
      "1 2 1 8 1\n",
      "9 8 9 2 0\n",
      "3 6 5 1 5\n",
      "[[8, 10, 11, 11, 12], [5, 13, 9, 18, 13], [6, 8, 9, 17, 14], [15, 16, 18, 16, 14], [18, 22, 22, 17, 19]]\n"
     ]
    }
   ],
   "source": [
    "import heapq\n",
    "\n",
    "\n",
    "t = int(input())\n",
    "INF = int(1e9)\n",
    "\n",
    "dx = [0, 0, 1, -1]\n",
    "dy = [1, -1, 0, 0]\n",
    "\n",
    "while t != 0:\n",
    "    \n",
    "    \n",
    "    n = int(input())\n",
    "    distance = [[INF] * n for _ in range(n)]\n",
    "    array = []\n",
    "    \n",
    "    for _ in range(n):\n",
    "        array.append(list(map(int, input().split())))\n",
    "    \n",
    "    q = []    \n",
    "    heapq.heappush(q, (array[0][0], 0, 0))\n",
    "    \n",
    "    while q:\n",
    "        dist, x, y = heapq.heappop(q)\n",
    "        \n",
    "        if distance[x][y] < dist:\n",
    "            continue\n",
    "            \n",
    "        for i in range(4):\n",
    "            nx = x + dx[i]\n",
    "            ny = y + dy[i]\n",
    "            \n",
    "            if nx >= 0 and nx < n and ny >= 0 and ny < n:\n",
    "                cost = dist + array[nx][ny]\n",
    "                \n",
    "                if cost < distance[nx][ny]:\n",
    "                    distance[nx][ny] = cost\n",
    "                    heapq.heappush(q, (cost, nx, ny))\n",
    "                    \n",
    "                    \n",
    "    print(distance)\n",
    "                    \n",
    "                \n",
    "        \n",
    "    \n",
    "    t -=1\n",
    "    "
   ]
  },
  {
   "cell_type": "code",
   "execution_count": null,
   "metadata": {},
   "outputs": [],
   "source": [
    "\n"
   ]
  },
  {
   "cell_type": "code",
   "execution_count": null,
   "metadata": {},
   "outputs": [],
   "source": []
  }
 ],
 "metadata": {
  "kernelspec": {
   "display_name": "Python 3",
   "language": "python",
   "name": "python3"
  },
  "language_info": {
   "codemirror_mode": {
    "name": "ipython",
    "version": 3
   },
   "file_extension": ".py",
   "mimetype": "text/x-python",
   "name": "python",
   "nbconvert_exporter": "python",
   "pygments_lexer": "ipython3",
   "version": "3.8.5"
  }
 },
 "nbformat": 4,
 "nbformat_minor": 4
}
