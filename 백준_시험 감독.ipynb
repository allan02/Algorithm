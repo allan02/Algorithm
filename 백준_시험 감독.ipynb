{
 "cells": [
  {
   "cell_type": "markdown",
   "metadata": {},
   "source": [
    "## 13458번, 시험 감독"
   ]
  },
  {
   "cell_type": "code",
   "execution_count": 7,
   "metadata": {},
   "outputs": [
    {
     "name": "stdout",
     "output_type": "stream",
     "text": [
      "3\n",
      "3 4 5\n",
      "2 2\n",
      "7\n"
     ]
    }
   ],
   "source": [
    "n = int(input())\n",
    "\n",
    "array = list(map(int, input().split()))\n",
    "\n",
    "b, c = map(int, input().split())\n",
    "\n",
    "result = 0\n",
    "\n",
    "for i in array:\n",
    "    i = i - b\n",
    "    result += 1\n",
    "    while i > 0:\n",
    "        i = i - c\n",
    "        result += 1\n",
    "        \n",
    "print(result)\n",
    "        \n",
    "# 시간 초과"
   ]
  },
  {
   "cell_type": "code",
   "execution_count": 11,
   "metadata": {},
   "outputs": [
    {
     "name": "stdout",
     "output_type": "stream",
     "text": [
      "3\n",
      "3 4 5\n",
      "2 2\n",
      "7\n"
     ]
    }
   ],
   "source": [
    "n = int(input())\n",
    "\n",
    "array = list(map(int, input().split()))\n",
    "\n",
    "b, c = map(int, input().split())\n",
    "\n",
    "result = 0\n",
    "\n",
    "for i in array:\n",
    "    i = i - b\n",
    "    result += 1\n",
    "    if i >= 0:\n",
    "        if i % c == 0:\n",
    "            result += (i // c)\n",
    "        else:\n",
    "            result += (i // c + 1)\n",
    "        \n",
    "print(result)"
   ]
  },
  {
   "cell_type": "code",
   "execution_count": null,
   "metadata": {},
   "outputs": [],
   "source": [
    "import sys\n",
    "input = sys.stdin.readline()\n",
    "_input = sys.stdin.readline().split() # 공백 단위로 입력받기\n",
    "num1, num2, num3 = map( int, _input )\n",
    "\n",
    "\n",
    "출처: https://snupi.tistory.com/79 [SNUPI]"
   ]
  },
  {
   "cell_type": "code",
   "execution_count": null,
   "metadata": {},
   "outputs": [],
   "source": []
  },
  {
   "cell_type": "code",
   "execution_count": null,
   "metadata": {},
   "outputs": [],
   "source": []
  }
 ],
 "metadata": {
  "kernelspec": {
   "display_name": "Python 3",
   "language": "python",
   "name": "python3"
  },
  "language_info": {
   "codemirror_mode": {
    "name": "ipython",
    "version": 3
   },
   "file_extension": ".py",
   "mimetype": "text/x-python",
   "name": "python",
   "nbconvert_exporter": "python",
   "pygments_lexer": "ipython3",
   "version": "3.8.5"
  }
 },
 "nbformat": 4,
 "nbformat_minor": 4
}
