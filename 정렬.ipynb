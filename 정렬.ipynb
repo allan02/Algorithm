{
 "cells": [
  {
   "cell_type": "markdown",
   "metadata": {},
   "source": [
    "## 1, 위에서 아래로"
   ]
  },
  {
   "cell_type": "code",
   "execution_count": 2,
   "metadata": {},
   "outputs": [
    {
     "name": "stdout",
     "output_type": "stream",
     "text": [
      "3\n",
      "15\n",
      "27\n",
      "12\n",
      "[27, 15, 12]\n"
     ]
    }
   ],
   "source": [
    "n = int(input())\n",
    "\n",
    "graph = []\n",
    "\n",
    "for _ in range(n):\n",
    "    graph.append(int(input()))\n",
    "    \n",
    "graph.sort(reverse = True)\n",
    "\n",
    "print(graph)\n",
    "    "
   ]
  },
  {
   "cell_type": "code",
   "execution_count": null,
   "metadata": {},
   "outputs": [],
   "source": []
  },
  {
   "cell_type": "markdown",
   "metadata": {},
   "source": [
    "## 2, 성적이 낮은 순서로 학생 출력하기"
   ]
  },
  {
   "cell_type": "code",
   "execution_count": 5,
   "metadata": {},
   "outputs": [
    {
     "name": "stdout",
     "output_type": "stream",
     "text": [
      "2\n",
      "홍길동 95\n",
      "이순신 77\n",
      "이순신 홍길동 "
     ]
    }
   ],
   "source": [
    "n = int(input())\n",
    "\n",
    "graph = []\n",
    "\n",
    "for _ in range(n):\n",
    "    name, score = input().split()\n",
    "    graph.append((int(score), name))\n",
    "\n",
    "graph.sort()\n",
    "\n",
    "for i, j in graph:\n",
    "    print(j, end = ' ')\n",
    "    \n",
    "# sorted(array, key = lambda student: student[1]) -> 원하는 key별로 정렬 가능!"
   ]
  },
  {
   "cell_type": "code",
   "execution_count": null,
   "metadata": {},
   "outputs": [],
   "source": []
  },
  {
   "cell_type": "markdown",
   "metadata": {},
   "source": [
    "## 3, 두 배열의 원소 교체"
   ]
  },
  {
   "cell_type": "code",
   "execution_count": 7,
   "metadata": {},
   "outputs": [
    {
     "name": "stdout",
     "output_type": "stream",
     "text": [
      "5 3\n",
      "1 2 5 4 3\n",
      "5 5 6 6 5\n",
      "26\n"
     ]
    }
   ],
   "source": [
    "n, k = map(int, input().split())\n",
    "\n",
    "array1 = list(map(int, input().split()))\n",
    "\n",
    "array2 = list(map(int, input().split()))\n",
    "\n",
    "array1.sort()\n",
    "array2.sort(reverse = True) # 내림차순 \n",
    "\n",
    "for i in range(k):\n",
    "    if array1[i] < array2[i]:\n",
    "        temp = array1[i]\n",
    "        array1[i] = array2[i]\n",
    "        array2[i] = temp\n",
    "        \n",
    "        # a[i], b[i] = b[i], a[i] 파이썬\n",
    "        # else: break\n",
    "        \n",
    "print(sum(array1))"
   ]
  },
  {
   "cell_type": "code",
   "execution_count": null,
   "metadata": {},
   "outputs": [],
   "source": []
  },
  {
   "cell_type": "code",
   "execution_count": null,
   "metadata": {},
   "outputs": [],
   "source": []
  }
 ],
 "metadata": {
  "kernelspec": {
   "display_name": "Python 3",
   "language": "python",
   "name": "python3"
  },
  "language_info": {
   "codemirror_mode": {
    "name": "ipython",
    "version": 3
   },
   "file_extension": ".py",
   "mimetype": "text/x-python",
   "name": "python",
   "nbconvert_exporter": "python",
   "pygments_lexer": "ipython3",
   "version": "3.8.5"
  }
 },
 "nbformat": 4,
 "nbformat_minor": 4
}
