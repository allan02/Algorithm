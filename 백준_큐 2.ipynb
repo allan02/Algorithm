{
 "cells": [
  {
   "cell_type": "code",
   "execution_count": 20,
   "metadata": {},
   "outputs": [
    {
     "name": "stdout",
     "output_type": "stream",
     "text": [
      "15\n",
      "push 1\n",
      "push 2\n",
      "front\n",
      "1\n",
      "back\n",
      "2\n",
      "size\n",
      "2\n",
      "empty\n",
      "0\n",
      "pop\n",
      "1\n",
      "pop\n",
      "2\n",
      "pop\n",
      "-1\n",
      "size\n",
      "0\n",
      "empty\n",
      "1\n",
      "pop\n",
      "-1\n",
      "push 3\n",
      "empty\n",
      "0\n",
      "front\n",
      "3\n"
     ]
    }
   ],
   "source": [
    "from collections import deque\n",
    "# import sys\n",
    "# input = sys.stdin.readline\n",
    "n = int(input())\n",
    "q = deque()\n",
    "for _ in range(n):\n",
    "    a = list(input().split())\n",
    "    if len(a) == 1:\n",
    "        if a[0] == 'back':\n",
    "            if len(q) != 0:\n",
    "                print(q[-1])\n",
    "            else:\n",
    "                print(-1)\n",
    "        \n",
    "        elif a[0] == 'front':\n",
    "                if len(q) != 0:\n",
    "                    print(q[0])\n",
    "                else:\n",
    "                    print(-1)\n",
    "                    \n",
    "        elif a[0] == 'empty':\n",
    "            if len(q) != 0:\n",
    "                print(0)\n",
    "            else:\n",
    "                print(1)\n",
    "        \n",
    "        elif a[0] == 'size':\n",
    "            print(len(q))\n",
    "            \n",
    "        else:\n",
    "            if len(q) != 0:\n",
    "                print(q.popleft())\n",
    "            else:\n",
    "                print(-1)\n",
    "     \n",
    "    else:\n",
    "        if a[0] == 'push':\n",
    "            q.append(a[1])\n",
    "\n",
    "        "
   ]
  },
  {
   "cell_type": "code",
   "execution_count": 12,
   "metadata": {},
   "outputs": [
    {
     "name": "stdout",
     "output_type": "stream",
     "text": [
      "deque([2])\n",
      "있다\n",
      "2\n",
      "없다\n",
      "deque([])\n"
     ]
    }
   ],
   "source": [
    "from collections import deque\n",
    "\n",
    "a = deque()\n",
    "a.append(2)\n",
    "print(a)\n",
    "if q:\n",
    "    print(\"있다\")\n",
    "print(a.popleft())\n",
    "if len(q) == 1:\n",
    "    print(\"있다\")\n",
    "else:\n",
    "    print(\"없다\")\n",
    "print(a)"
   ]
  },
  {
   "cell_type": "code",
   "execution_count": 14,
   "metadata": {},
   "outputs": [
    {
     "name": "stdout",
     "output_type": "stream",
     "text": [
      "deque([2])\n",
      "있다\n",
      "2\n",
      "있다\n",
      "deque([])\n"
     ]
    }
   ],
   "source": [
    "from collections import deque\n",
    "\n",
    "a = deque()\n",
    "a.append(2)\n",
    "print(a)\n",
    "if q:\n",
    "    print(\"있다\")\n",
    "print(a.popleft())\n",
    "if q:\n",
    "    print(\"있다\")\n",
    "else:\n",
    "    print(\"없다\")\n",
    "print(a)"
   ]
  }
 ],
 "metadata": {
  "kernelspec": {
   "display_name": "Python 3",
   "language": "python",
   "name": "python3"
  },
  "language_info": {
   "codemirror_mode": {
    "name": "ipython",
    "version": 3
   },
   "file_extension": ".py",
   "mimetype": "text/x-python",
   "name": "python",
   "nbconvert_exporter": "python",
   "pygments_lexer": "ipython3",
   "version": "3.8.5"
  }
 },
 "nbformat": 4,
 "nbformat_minor": 4
}
