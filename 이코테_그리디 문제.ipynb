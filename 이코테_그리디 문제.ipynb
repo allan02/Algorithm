{
 "cells": [
  {
   "cell_type": "markdown",
   "metadata": {},
   "source": [
    "## 1, 모험가 길드"
   ]
  },
  {
   "cell_type": "code",
   "execution_count": 1,
   "metadata": {},
   "outputs": [
    {
     "name": "stdout",
     "output_type": "stream",
     "text": [
      "5\n",
      "2 3 1 2 2\n",
      "2\n"
     ]
    }
   ],
   "source": [
    "n = int(input())\n",
    "\n",
    "array = list(map(int, input().split()))\n",
    "\n",
    "array.sort()\n",
    "\n",
    "result = 0\n",
    "\n",
    "count = 1\n",
    "\n",
    "for i in array:\n",
    "    if i <= count:\n",
    "        result += 1\n",
    "        count = 1\n",
    "    else:\n",
    "        count += 1\n",
    "        \n",
    "print(result)"
   ]
  },
  {
   "cell_type": "markdown",
   "metadata": {},
   "source": [
    "## 2, 곱하기 혹은 더하기"
   ]
  },
  {
   "cell_type": "code",
   "execution_count": 9,
   "metadata": {},
   "outputs": [
    {
     "name": "stdout",
     "output_type": "stream",
     "text": [
      "567\n",
      "210\n"
     ]
    }
   ],
   "source": [
    "array = list(map(int, input()))\n",
    "\n",
    "result = array[0]\n",
    "\n",
    "for i in range(1, len(array)):\n",
    "    if array[i] == 0 or result == 0 or array[i] == 1:\n",
    "        result += array[i]\n",
    "    else:\n",
    "        result *= array[i]\n",
    "        \n",
    "print(result)"
   ]
  },
  {
   "cell_type": "markdown",
   "metadata": {},
   "source": [
    "## 3, 문자열 뒤집기"
   ]
  },
  {
   "cell_type": "code",
   "execution_count": 17,
   "metadata": {},
   "outputs": [
    {
     "name": "stdout",
     "output_type": "stream",
     "text": [
      "0001100\n",
      "1 2\n",
      "1\n"
     ]
    }
   ],
   "source": [
    "array = list(map(int, input()))\n",
    "\n",
    "count0 = 0\n",
    "count1 = 0\n",
    "\n",
    "if array[0] == 1:\n",
    "    count0 += 1\n",
    "else:\n",
    "    count1 += 1\n",
    "\n",
    "for i in range(len(array) - 1):\n",
    "    if array[i] == 0 and array[i + 1] == 1:\n",
    "        count0 += 1\n",
    "    elif array[i] == 1 and array[i + 1] == 0:\n",
    "        count1 += 1\n",
    "        \n",
    "print(count0, count1)\n",
    "print(min(count0, count1))\n",
    "        \n"
   ]
  },
  {
   "cell_type": "markdown",
   "metadata": {},
   "source": [
    "## 4, 만들 수 없는 금액"
   ]
  },
  {
   "cell_type": "code",
   "execution_count": 18,
   "metadata": {},
   "outputs": [
    {
     "name": "stdout",
     "output_type": "stream",
     "text": [
      "5\n",
      "3 2 1 1 9\n",
      "8\n"
     ]
    }
   ],
   "source": [
    "n = int(input())\n",
    "\n",
    "array = list(map(int, input().split()))\n",
    "\n",
    "array.sort()\n",
    "\n",
    "target = 1\n",
    "\n",
    "for i in array:\n",
    "    if target < i:\n",
    "        break\n",
    "    target += i\n",
    "    \n",
    "print(target)\n",
    "        "
   ]
  },
  {
   "cell_type": "markdown",
   "metadata": {},
   "source": [
    "## 5, 볼링공 고르기"
   ]
  },
  {
   "cell_type": "code",
   "execution_count": 25,
   "metadata": {},
   "outputs": [
    {
     "name": "stdout",
     "output_type": "stream",
     "text": [
      "8 5\n",
      "1 5 4 3 2 4 5 2\n",
      "25\n"
     ]
    }
   ],
   "source": [
    "from itertools import combinations\n",
    "\n",
    "n, m = map(int, input().split())\n",
    "\n",
    "array = list(map(int, input().split()))\n",
    "\n",
    "array2 = list(set(array))\n",
    "\n",
    "dupl = len(array) - len(array2)\n",
    "\n",
    "print(len(list(combinations(array, 2))) - dupl)\n"
   ]
  },
  {
   "cell_type": "code",
   "execution_count": 20,
   "metadata": {},
   "outputs": [
    {
     "name": "stdout",
     "output_type": "stream",
     "text": [
      "{1, 2, 3, 4, 5}\n"
     ]
    }
   ],
   "source": [
    "array = [1, 2, 3, 4, 5, 2, 3]\n",
    "\n",
    "print(set(array))\n",
    "\n"
   ]
  },
  {
   "cell_type": "code",
   "execution_count": null,
   "metadata": {},
   "outputs": [],
   "source": []
  }
 ],
 "metadata": {
  "kernelspec": {
   "display_name": "Python 3",
   "language": "python",
   "name": "python3"
  },
  "language_info": {
   "codemirror_mode": {
    "name": "ipython",
    "version": 3
   },
   "file_extension": ".py",
   "mimetype": "text/x-python",
   "name": "python",
   "nbconvert_exporter": "python",
   "pygments_lexer": "ipython3",
   "version": "3.8.5"
  }
 },
 "nbformat": 4,
 "nbformat_minor": 4
}
