{
 "cells": [
  {
   "cell_type": "code",
   "execution_count": 10,
   "metadata": {},
   "outputs": [
    {
     "name": "stdout",
     "output_type": "stream",
     "text": [
      "2\n",
      "3 3\n",
      "1 2\n",
      "2 3\n",
      "1 3\n",
      "2\n",
      "5 4\n",
      "2 1\n",
      "2 3\n",
      "4 3\n",
      "4 5\n",
      "4\n"
     ]
    }
   ],
   "source": [
    "def find_parent(array, n):\n",
    "    if array[n] != n:\n",
    "        array[n] = find_parent(array, array[n])\n",
    "    return array[n]\n",
    "\n",
    "def union(array, a, b):\n",
    "    a = find_parent(array, a)\n",
    "    b = find_parent(array, b)\n",
    "    \n",
    "    if a < b:\n",
    "        array[b] = a\n",
    "    else:\n",
    "        array[a] = b\n",
    "\n",
    "t = int(input())\n",
    "while t != 0:\n",
    "    answer = 0\n",
    "    n, m = map(int, input().split())\n",
    "    array = [i for i in range(n + 1)]\n",
    "    for _ in range(m):\n",
    "        a, b = map(int, input().split())\n",
    "        if find_parent(array, a) != find_parent(array, b):\n",
    "            union(array, a, b)\n",
    "            answer += 1\n",
    "    print(answer)\n",
    "    t -= 1\n",
    "    \n",
    "    "
   ]
  },
  {
   "cell_type": "code",
   "execution_count": 5,
   "metadata": {},
   "outputs": [
    {
     "name": "stdout",
     "output_type": "stream",
     "text": [
      "[1, 2, 3, 4, 5]\n",
      "[1, 2, 12, 4, 5]\n"
     ]
    }
   ],
   "source": [
    "def sol(array):\n",
    "    array[2] = 12\n",
    "\n",
    "array = [1, 2, 3, 4, 5]\n",
    "\n",
    "print(array)\n",
    "\n",
    "sol(array)\n",
    "\n",
    "print(array)"
   ]
  },
  {
   "cell_type": "code",
   "execution_count": 7,
   "metadata": {},
   "outputs": [
    {
     "name": "stdout",
     "output_type": "stream",
     "text": [
      "[1, 2, 3, 4, 5]\n",
      "[1, 2, 12, 4, 5]\n"
     ]
    }
   ],
   "source": [
    "def sol():\n",
    "    array[2] = 12\n",
    "\n",
    "array = [1, 2, 3, 4, 5]\n",
    "\n",
    "print(array)\n",
    "\n",
    "sol()\n",
    "\n",
    "print(array)"
   ]
  }
 ],
 "metadata": {
  "kernelspec": {
   "display_name": "Python 3",
   "language": "python",
   "name": "python3"
  },
  "language_info": {
   "codemirror_mode": {
    "name": "ipython",
    "version": 3
   },
   "file_extension": ".py",
   "mimetype": "text/x-python",
   "name": "python",
   "nbconvert_exporter": "python",
   "pygments_lexer": "ipython3",
   "version": "3.8.5"
  }
 },
 "nbformat": 4,
 "nbformat_minor": 4
}
