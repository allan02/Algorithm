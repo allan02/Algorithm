{
 "cells": [
  {
   "cell_type": "markdown",
   "metadata": {},
   "source": [
    "## 1, 팀 결성"
   ]
  },
  {
   "cell_type": "code",
   "execution_count": 3,
   "metadata": {},
   "outputs": [
    {
     "name": "stdout",
     "output_type": "stream",
     "text": [
      "7 8\n",
      "0 1 3\n",
      "1 1 7\n",
      "NO\n",
      "0 7 6\n",
      "1 7 1\n",
      "NO\n",
      "0 3 7\n",
      "0 4 2\n",
      "0 1 1\n",
      "1 1 1\n",
      "YES\n"
     ]
    }
   ],
   "source": [
    "n, m = map(int, input().split())\n",
    "\n",
    "parent = [0] * (n + 1)\n",
    "\n",
    "for i in range(n + 1):\n",
    "    parent[i] = i\n",
    "\n",
    "def find_parent(parent, x):\n",
    "    if parent[x] != x:\n",
    "        parent[x] = find_parent(parent, parent[x])\n",
    "    return parent[x]\n",
    "\n",
    "def union(parent, x, y):\n",
    "    a = find_parent(parent, x)\n",
    "    b = find_parent(parent, y)\n",
    "    \n",
    "    if a < b:\n",
    "        parent[y] = a\n",
    "    else:\n",
    "        parent[x] = b\n",
    "    \n",
    "for _ in range(m): \n",
    "    check, a, b = map(int, input().split())\n",
    "    \n",
    "    if check == 0:\n",
    "        union(parent, a, b)\n",
    "    else:\n",
    "        if find_parent(parent, a) == find_parent(parent, b):\n",
    "            print('YES')\n",
    "        else:\n",
    "            print('NO')\n",
    "    "
   ]
  },
  {
   "cell_type": "markdown",
   "metadata": {},
   "source": [
    "## 2, 도시 분할 계획"
   ]
  },
  {
   "cell_type": "code",
   "execution_count": 6,
   "metadata": {},
   "outputs": [
    {
     "name": "stdout",
     "output_type": "stream",
     "text": [
      "7 12\n",
      "1 2 3\n",
      "1 3 2\n",
      "3 2 1\n",
      "2 5 2\n",
      "3 4 4\n",
      "7 3 6\n",
      "5 1 5\n",
      "1 6 2\n",
      "6 4 1\n",
      "6 5 3\n",
      "4 5 3\n",
      "6 7 4\n",
      "8\n"
     ]
    }
   ],
   "source": [
    "n, m = map(int, input().split())\n",
    "\n",
    "parent = [0] * (n + 1)\n",
    "\n",
    "for i in range(1, n + 1):\n",
    "    parent[i] = i\n",
    "    \n",
    "def find_parent(parent, x):\n",
    "    if parent[x] != x:\n",
    "        parent[x] = find_parent(parent, parent[x])\n",
    "    return parent[x]\n",
    "\n",
    "def union(parent, x, y):\n",
    "    a = find_parent(parent, x)\n",
    "    b = find_parent(parent, y)\n",
    "    \n",
    "    if a < b:\n",
    "        parent[b] = a\n",
    "    else:\n",
    "        parent[a] = b\n",
    "\n",
    "array = []\n",
    "\n",
    "for _ in range(m):\n",
    "    a, b, cost = map(int, input().split())\n",
    "    array.append((cost, a, b))\n",
    "    \n",
    "array.sort()\n",
    "\n",
    "result = 0\n",
    "last = 0 # 두개의 마을로 분리\n",
    "\n",
    "for cost, a, b in array:\n",
    "    if find_parent(parent, a) != find_parent(parent, b):\n",
    "        result += cost\n",
    "        union(parent, a, b)\n",
    "        last = cost\n",
    "        \n",
    "print(result - last)\n"
   ]
  },
  {
   "cell_type": "code",
   "execution_count": 5,
   "metadata": {},
   "outputs": [
    {
     "name": "stdout",
     "output_type": "stream",
     "text": [
      "[1, 2, 3, 3, 5]\n"
     ]
    }
   ],
   "source": [
    "array = [1, 3, 5, 2, 3]\n",
    "array.sort()\n",
    "\n",
    "print(array)"
   ]
  },
  {
   "cell_type": "markdown",
   "metadata": {},
   "source": [
    "## 3, 커리큘럼"
   ]
  },
  {
   "cell_type": "code",
   "execution_count": 8,
   "metadata": {},
   "outputs": [
    {
     "name": "stdout",
     "output_type": "stream",
     "text": [
      "5\n",
      "10 -1\n",
      "10 1 -1\n",
      "4 1 -1\n",
      "4 3 1 -1\n",
      "3 3 -1\n",
      "10\n",
      "20\n",
      "14\n",
      "18\n",
      "17\n"
     ]
    }
   ],
   "source": [
    "from collections import deque\n",
    "\n",
    "import copy\n",
    "\n",
    "n = int(input())\n",
    "\n",
    "graph = [[] for _ in range(n + 1)]\n",
    "\n",
    "indegree = [0] * (n + 1)\n",
    "\n",
    "time = [0] * (n + 1)\n",
    "\n",
    "for i in range(1, n + 1):\n",
    "    data = list(map(int, input().split()))\n",
    "    \n",
    "    time[i] = data[0]\n",
    "    \n",
    "    for route in data[1 : -1]:\n",
    "        indegree[i] += 1\n",
    "        graph[route].append(i)\n",
    "       \n",
    "        \n",
    "def topology_sort():\n",
    "    \n",
    "    result = copy.deepcopy(time) \n",
    "    \n",
    "    queue = deque()\n",
    "    \n",
    "    for i in range(1, n + 1):\n",
    "        if indegree[i] == 0:\n",
    "            queue.append(i)\n",
    "    \n",
    "    while queue:\n",
    "        now = queue.popleft()\n",
    "        max_value = 0\n",
    "        \n",
    "        for i in graph[now]: # 맨 처음에는 루프문 들어가지 X\n",
    "            # result[i] = max(result[i], result[i] + time[now])\n",
    "            result[i] = max(result[i], result[now] + time[i])\n",
    "            indegree[i] -= 1\n",
    "            if indegree[i] == 0:\n",
    "                queue.append(i)\n",
    "    \n",
    "    for i in range(1, n + 1):\n",
    "        print(result[i])\n",
    "            \n",
    "topology_sort() \n",
    "    \n",
    "    "
   ]
  },
  {
   "cell_type": "code",
   "execution_count": 12,
   "metadata": {},
   "outputs": [
    {
     "name": "stdout",
     "output_type": "stream",
     "text": [
      "[2, 3, 1]\n"
     ]
    }
   ],
   "source": [
    "array = [1, 2, 3, 5]\n",
    "array2 = array[1 : -1]\n",
    "array2.append(1)\n",
    "print(array2)"
   ]
  },
  {
   "cell_type": "code",
   "execution_count": 22,
   "metadata": {},
   "outputs": [
    {
     "name": "stdout",
     "output_type": "stream",
     "text": [
      "2\n"
     ]
    }
   ],
   "source": [
    "from collections import deque\n",
    "\n",
    "queue = deque()\n",
    "\n",
    "queue.append(2)\n",
    "\n",
    "print(queue.popleft())"
   ]
  },
  {
   "cell_type": "code",
   "execution_count": 24,
   "metadata": {},
   "outputs": [
    {
     "name": "stdout",
     "output_type": "stream",
     "text": [
      "[1, 2, 3, 4]\n"
     ]
    }
   ],
   "source": [
    "import copy\n",
    "\n",
    "array = [1, 2, 3, 4]\n",
    "\n",
    "array2 = copy.deepcopy(array)\n",
    "\n",
    "print(array2)"
   ]
  },
  {
   "cell_type": "code",
   "execution_count": 29,
   "metadata": {},
   "outputs": [
    {
     "name": "stdout",
     "output_type": "stream",
     "text": [
      "0\n"
     ]
    }
   ],
   "source": [
    "array = []\n",
    "a = 0\n",
    "for i in array:\n",
    "    a = i + 2\n",
    "\n",
    "print(a)"
   ]
  }
 ],
 "metadata": {
  "kernelspec": {
   "display_name": "Python 3",
   "language": "python",
   "name": "python3"
  }
 },
 "nbformat": 4,
 "nbformat_minor": 4
}
