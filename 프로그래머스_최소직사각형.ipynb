{
 "cells": [
  {
   "cell_type": "code",
   "execution_count": 1,
   "metadata": {},
   "outputs": [],
   "source": [
    "def solution(sizes):\n",
    "    answer = 0\n",
    "    temp = []\n",
    "    for i in sizes:\n",
    "        temp.append(sorted(i))\n",
    "    \n",
    "    x = 0\n",
    "    y = 0\n",
    "    \n",
    "    for j in temp:\n",
    "        if j[0] > x:\n",
    "            x = j[0]\n",
    "        if j[1] > y:\n",
    "            y = j[1]\n",
    "            \n",
    "    answer = x * y\n",
    "    return answer"
   ]
  }
 ],
 "metadata": {
  "kernelspec": {
   "display_name": "Python 3",
   "language": "python",
   "name": "python3"
  },
  "language_info": {
   "codemirror_mode": {
    "name": "ipython",
    "version": 3
   },
   "file_extension": ".py",
   "mimetype": "text/x-python",
   "name": "python",
   "nbconvert_exporter": "python",
   "pygments_lexer": "ipython3",
   "version": "3.8.5"
  }
 },
 "nbformat": 4,
 "nbformat_minor": 4
}
