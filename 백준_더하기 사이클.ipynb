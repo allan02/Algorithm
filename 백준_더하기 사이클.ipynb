{
 "cells": [
  {
   "cell_type": "code",
   "execution_count": 8,
   "metadata": {},
   "outputs": [
    {
     "name": "stdout",
     "output_type": "stream",
     "text": [
      "71\n",
      "12\n"
     ]
    }
   ],
   "source": [
    "answer = 1\n",
    "n = input()\n",
    "\n",
    "#print(str(sum(list(map(int, str(n))))))\n",
    "#print(str(n)[-1])\n",
    "\n",
    "temp = int(str(n)[-1] + str(sum(list(map(int, str(n)))))[-1])\n",
    "\n",
    "while temp != int(n):\n",
    "    #print(temp)\n",
    "    temp = int(str(temp)[-1] + str(sum(list(map(int, str(temp)))))[-1])\n",
    "    answer += 1\n",
    "    \n",
    "print(answer)"
   ]
  },
  {
   "cell_type": "code",
   "execution_count": 2,
   "metadata": {},
   "outputs": [
    {
     "name": "stdout",
     "output_type": "stream",
     "text": [
      "2\n",
      "2\n",
      "A\n"
     ]
    }
   ],
   "source": [
    "print(2)\n",
    "print(str(2))\n",
    "print(chr(65))"
   ]
  }
 ],
 "metadata": {
  "kernelspec": {
   "display_name": "Python 3",
   "language": "python",
   "name": "python3"
  },
  "language_info": {
   "codemirror_mode": {
    "name": "ipython",
    "version": 3
   },
   "file_extension": ".py",
   "mimetype": "text/x-python",
   "name": "python",
   "nbconvert_exporter": "python",
   "pygments_lexer": "ipython3",
   "version": "3.8.5"
  }
 },
 "nbformat": 4,
 "nbformat_minor": 4
}
