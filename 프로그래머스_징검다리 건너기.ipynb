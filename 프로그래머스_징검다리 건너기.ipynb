{
 "cells": [
  {
   "cell_type": "code",
   "execution_count": 1,
   "metadata": {},
   "outputs": [],
   "source": [
    "def solution(stones, k):\n",
    "    answer = 0\n",
    "    left, right = 1, max(stones)\n",
    "    while left <= right:\n",
    "        check = 0\n",
    "        mid = (left + right) // 2\n",
    "        for i in stones:\n",
    "            if i < mid:\n",
    "                check += 1\n",
    "                if check >= k:\n",
    "                    break\n",
    "            else:\n",
    "                check = 0\n",
    "                \n",
    "        if check >= k:\n",
    "            right = mid - 1\n",
    "        else:\n",
    "            answer = mid\n",
    "            left = mid + 1\n",
    "    \n",
    "    return answer"
   ]
  }
 ],
 "metadata": {
  "kernelspec": {
   "display_name": "Python 3",
   "language": "python",
   "name": "python3"
  },
  "language_info": {
   "codemirror_mode": {
    "name": "ipython",
    "version": 3
   },
   "file_extension": ".py",
   "mimetype": "text/x-python",
   "name": "python",
   "nbconvert_exporter": "python",
   "pygments_lexer": "ipython3",
   "version": "3.8.5"
  }
 },
 "nbformat": 4,
 "nbformat_minor": 4
}
