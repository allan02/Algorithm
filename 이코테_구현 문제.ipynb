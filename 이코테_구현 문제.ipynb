{
 "cells": [
  {
   "cell_type": "markdown",
   "metadata": {},
   "source": [
    "## 7, 럭키 스트레이트"
   ]
  },
  {
   "cell_type": "code",
   "execution_count": 5,
   "metadata": {},
   "outputs": [
    {
     "name": "stdout",
     "output_type": "stream",
     "text": [
      "123402\n",
      "LUCKY\n"
     ]
    }
   ],
   "source": [
    "array = list(map(int, input()))\n",
    "\n",
    "sum_left = 0\n",
    "sum_right = 0\n",
    "\n",
    "pivot = len(array) // 2\n",
    "for i in range(pivot):\n",
    "    sum_left += array[i]\n",
    "for i in range(pivot, len(array)):\n",
    "    sum_right += array[i]\n",
    "    \n",
    "if sum_left == sum_right:\n",
    "    print('LUCKY')\n",
    "else:\n",
    "    print('READY')"
   ]
  },
  {
   "cell_type": "markdown",
   "metadata": {},
   "source": [
    "## 8, 문자열 재정렬"
   ]
  },
  {
   "cell_type": "code",
   "execution_count": 9,
   "metadata": {},
   "outputs": [
    {
     "name": "stdout",
     "output_type": "stream",
     "text": [
      "K1KA5CB7\n",
      "ABCKK13\n"
     ]
    }
   ],
   "source": [
    "array = list(input())\n",
    "\n",
    "alpha = []\n",
    "\n",
    "number = []\n",
    "\n",
    "for i in array:\n",
    "    if ord(i) >= ord('1') and ord(i) <= ord('9'):\n",
    "        number.append(int(i))\n",
    "    else:\n",
    "        alpha.append(i)\n",
    "\n",
    "alpha.sort()\n",
    "\n",
    "#for i in alpha:\n",
    "#    print(i, end = '')\n",
    "\n",
    "print(''.join(alpha), end = '')\n",
    "print(sum(number))"
   ]
  },
  {
   "cell_type": "code",
   "execution_count": 11,
   "metadata": {},
   "outputs": [
    {
     "name": "stdout",
     "output_type": "stream",
     "text": [
      "49\n",
      "1\n"
     ]
    }
   ],
   "source": [
    "print(ord('1'))\n",
    "print(int('1'))"
   ]
  },
  {
   "cell_type": "code",
   "execution_count": 4,
   "metadata": {},
   "outputs": [
    {
     "name": "stdout",
     "output_type": "stream",
     "text": [
      "[[1, 1, 1], [2, 1, 0], [1, 1, 2]]\n"
     ]
    }
   ],
   "source": [
    "key = [[0, 0, 0], [1, 0, 0], [0, 1, 1]]\n",
    "lock = [[1, 1 ,1], [1, 1, 0], [1, 0, 1]]\n",
    "array = [[0] * 3 for i in range(3)]\n",
    "for i in range(3):\n",
    "    array[i] = [x + y for x, y in zip(key[i], lock[i])]\n",
    "\n",
    "print(array)"
   ]
  },
  {
   "cell_type": "markdown",
   "metadata": {},
   "source": [
    "## 11, 뱀"
   ]
  },
  {
   "cell_type": "code",
   "execution_count": 2,
   "metadata": {},
   "outputs": [
    {
     "name": "stdout",
     "output_type": "stream",
     "text": [
      "10\n",
      "5\n",
      "1 5\n",
      "1 3\n",
      "1 2\n",
      "1 6\n",
      "1 7\n",
      "4\n",
      "8 D\n",
      "10 D\n",
      "11 D\n",
      "13 L\n",
      "13\n"
     ]
    }
   ],
   "source": [
    "# 0 -> 오른쪽 보고\n",
    "# +1 -> 오른쪽 회전\n",
    "\n",
    "dx = [0, 1, 0, -1]\n",
    "dy = [1, 0, -1, 0]\n",
    "\n",
    "direction = 0\n",
    "\n",
    "\n",
    "def change_direction(string):\n",
    "    global direction\n",
    "    if string == 'L':\n",
    "        direction -= 1\n",
    "        if direction == -1:\n",
    "            direction = 3\n",
    "    else:\n",
    "        direction += 1\n",
    "        if direction == 4:\n",
    "            direction = 0\n",
    "\n",
    "\n",
    "n = int(input())\n",
    "\n",
    "k = int(input())\n",
    "\n",
    "\n",
    "data = [[0] * n for _ in range(n)]\n",
    "\n",
    "snake_loc = [[0] * n for _ in range(n)]\n",
    "\n",
    "snake_loc[0][0] = 1\n",
    "\n",
    "snake_head_tail = [(0, 0)]\n",
    "\n",
    "\n",
    "for _ in range(k):\n",
    "    a, b = map(int,input().split())\n",
    "    data[a - 1][b - 1] = 1\n",
    "    \n",
    "l = int(input())\n",
    "\n",
    "changer = []\n",
    "\n",
    "for _ in range(l): \n",
    "    x, c = input().split()\n",
    "    changer.append((int(x), c))\n",
    "\n",
    "count = 0\n",
    "\n",
    "check_changer = 0\n",
    "\n",
    "while True:\n",
    "    \n",
    "    head_x, head_y = snake_head_tail.pop()\n",
    "    \n",
    "    snake_head_tail.append((head_x, head_y))\n",
    "    \n",
    "    nx = head_x + dx[direction]\n",
    "    ny = head_y + dy[direction]\n",
    "    \n",
    "    if nx < 0 or nx >= n or ny < 0 or ny >= n or snake_loc[nx][ny] == 1:\n",
    "        break\n",
    "    \n",
    "    if data[nx][ny] == 1:\n",
    "        snake_head_tail.append((nx, ny))\n",
    "        snake_loc[nx][ny] = 1\n",
    "        count += 1\n",
    "    else:\n",
    "        tail_x, tail_y = snake_head_tail.pop(0)\n",
    "        snake_loc[tail_x][tail_y] = 0\n",
    "        snake_head_tail.append((nx, ny))\n",
    "        snake_loc[nx][ny] = 1\n",
    "        count += 1\n",
    "    \n",
    "    if check_changer < l: \n",
    "        if count == changer[check_changer][0]:\n",
    "            change_direction(changer[check_changer][1])\n",
    "            check_changer += 1\n",
    "        \n",
    "    \n",
    "    \n",
    "print(count + 1)\n",
    "        "
   ]
  },
  {
   "cell_type": "code",
   "execution_count": 3,
   "metadata": {},
   "outputs": [
    {
     "name": "stdout",
     "output_type": "stream",
     "text": [
      "[1, 2, 4, 5, 2]\n"
     ]
    }
   ],
   "source": [
    "q = [1, 2, 3, 4, 5]\n",
    "\n",
    "a = q.pop(2)\n",
    "\n",
    "q.append(2)\n",
    "\n",
    "print(q)"
   ]
  },
  {
   "cell_type": "code",
   "execution_count": 12,
   "metadata": {},
   "outputs": [
    {
     "name": "stdout",
     "output_type": "stream",
     "text": [
      "4\n",
      "11\n",
      "1\n"
     ]
    }
   ],
   "source": [
    "array = [1, 2, 3, 5]\n",
    "print(len(array))\n",
    "print(sum(array))\n",
    "print(min(array))"
   ]
  }
 ],
 "metadata": {
  "kernelspec": {
   "display_name": "Python 3",
   "language": "python",
   "name": "python3"
  },
  "language_info": {
   "codemirror_mode": {
    "name": "ipython",
    "version": 3
   },
   "file_extension": ".py",
   "mimetype": "text/x-python",
   "name": "python",
   "nbconvert_exporter": "python",
   "pygments_lexer": "ipython3",
   "version": "3.8.5"
  }
 },
 "nbformat": 4,
 "nbformat_minor": 4
}
