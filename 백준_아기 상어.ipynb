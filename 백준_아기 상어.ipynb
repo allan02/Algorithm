{
 "cells": [
  {
   "cell_type": "markdown",
   "metadata": {},
   "source": [
    "## 16236번, 아기 상어"
   ]
  },
  {
   "cell_type": "code",
   "execution_count": 5,
   "metadata": {},
   "outputs": [
    {
     "name": "stdout",
     "output_type": "stream",
     "text": [
      "6\n",
      "1 1 1 1 1 1\n",
      "2 2 6 2 2 3\n",
      "2 2 5 2 2 3\n",
      "2 2 2 4 6 3\n",
      "0 0 0 0 0 6\n",
      "0 0 0 0 0 9\n",
      "39\n"
     ]
    }
   ],
   "source": [
    "from collections import deque\n",
    "\n",
    "n = int(input())\n",
    "\n",
    "dx = [1, -1, 0, 0]\n",
    "dy = [0, 0, 1, -1]\n",
    "\n",
    "INF = int(1e9)\n",
    "\n",
    "array = []\n",
    "shark = []\n",
    "\n",
    "final = 0\n",
    "\n",
    "for i in range(n):\n",
    "    array.append(list(map(int, input().split())))\n",
    "    for j in range(n):\n",
    "        if array[i][j] == 9:\n",
    "            shark.append((2, 0, i, j)) # 크기, 먹은 개수, 위치\n",
    "            array[i][j] = 0\n",
    "            \n",
    "def search_go(): # 제일 가까이에 있고, 1, 가장 위에 2, 가장 왼쪽 \n",
    "    global final\n",
    "    big, count, x, y = shark.pop()\n",
    "    \n",
    "    go_feed = deque()\n",
    "    min_distance = INF\n",
    "    \n",
    "    distance = [[0] * n for _ in range(n)]\n",
    "    distance[x][y] = 1 # 길이 전부 1 빼서 계산해줘야,,\n",
    "    q = deque()\n",
    "    q.append((x, y))\n",
    "    \n",
    "    while q:\n",
    "        x, y = q.popleft()\n",
    "        for i in range(4):\n",
    "            nx = x + dx[i]\n",
    "            ny = y + dy[i]\n",
    "            if nx < 0 or nx >= n or ny < 0 or ny >= n:\n",
    "                continue\n",
    "            \n",
    "            if distance[nx][ny] == 0 and array[nx][ny] <= big:\n",
    "                distance[nx][ny] = distance[x][y] + 1\n",
    "                q.append((nx, ny))\n",
    "\n",
    "                \n",
    "    for i in range(n):\n",
    "        for j in range(n):\n",
    "            if array[i][j] < big and distance[i][j] > 1 and array[i][j] != 0:\n",
    "                min_distance = min(min_distance, distance[i][j] - 1)\n",
    "                go_feed.append((distance[i][j] - 1, i, j))\n",
    "     \n",
    "    \n",
    "    result_distance = 0\n",
    "    result_x = 0 \n",
    "    result_y = 0            \n",
    "    \n",
    "    while go_feed:\n",
    "        d, x, y = go_feed.popleft()\n",
    "        \n",
    "        if d == min_distance:\n",
    "            result_distance = d\n",
    "            result_x = x\n",
    "            result_y = y\n",
    "            break\n",
    "        \n",
    "    \n",
    "    final += result_distance\n",
    "    count += 1\n",
    "    \n",
    "    if big == count:\n",
    "        shark.append((big + 1, 0, result_x, result_y))\n",
    "        array[result_x][result_y] = 0\n",
    "    else:\n",
    "        shark.append((big, count, result_x, result_y))\n",
    "        array[result_x][result_y] = 0\n",
    "             \n",
    "\n",
    "    \n",
    "    \n",
    "            \n",
    "while True:\n",
    "    temp = final\n",
    "    search_go()\n",
    "    if temp == final:\n",
    "        break\n",
    "        \n",
    "print(final) \n",
    "    \n",
    "\n",
    "            \n"
   ]
  },
  {
   "cell_type": "code",
   "execution_count": null,
   "metadata": {},
   "outputs": [],
   "source": [
    "temp = []\n",
    "\n",
    "if temp:\n",
    "    print(\"있다\")\n",
    "else:\n",
    "    print(\"없다\")\n",
    "    \n",
    "temp = [2]\n",
    "\n",
    "if temp:\n",
    "    print(\"있다\")\n",
    "else:\n",
    "    print(\"없다\")"
   ]
  },
  {
   "cell_type": "code",
   "execution_count": 9,
   "metadata": {},
   "outputs": [
    {
     "name": "stdout",
     "output_type": "stream",
     "text": [
      "deque([(2, 3, 4), (1, 1, 3), (0, 0, 3), (3, 1, 1)])\n"
     ]
    }
   ],
   "source": [
    "from collections import deque\n",
    "\n",
    "q = deque()\n",
    "\n",
    "q.append((2, 3, 4))\n",
    "q.append((1, 1, 3))\n",
    "q.append((0, 0, 3))\n",
    "q.append((3, 1, 1))\n",
    "\n",
    "print(q)"
   ]
  },
  {
   "cell_type": "code",
   "execution_count": null,
   "metadata": {},
   "outputs": [],
   "source": []
  },
  {
   "cell_type": "code",
   "execution_count": null,
   "metadata": {},
   "outputs": [],
   "source": []
  },
  {
   "cell_type": "code",
   "execution_count": null,
   "metadata": {},
   "outputs": [],
   "source": []
  },
  {
   "cell_type": "code",
   "execution_count": null,
   "metadata": {},
   "outputs": [],
   "source": []
  },
  {
   "cell_type": "code",
   "execution_count": null,
   "metadata": {},
   "outputs": [],
   "source": []
  },
  {
   "cell_type": "code",
   "execution_count": null,
   "metadata": {},
   "outputs": [],
   "source": []
  }
 ],
 "metadata": {
  "kernelspec": {
   "display_name": "Python 3",
   "language": "python",
   "name": "python3"
  },
  "language_info": {
   "codemirror_mode": {
    "name": "ipython",
    "version": 3
   },
   "file_extension": ".py",
   "mimetype": "text/x-python",
   "name": "python",
   "nbconvert_exporter": "python",
   "pygments_lexer": "ipython3",
   "version": "3.8.5"
  }
 },
 "nbformat": 4,
 "nbformat_minor": 4
}
