{
 "cells": [
  {
   "cell_type": "code",
   "execution_count": 14,
   "metadata": {},
   "outputs": [
    {
     "name": "stdout",
     "output_type": "stream",
     "text": [
      "7 2\n",
      "9.3\n",
      "9.5\n",
      "9.6\n",
      "9.8\n",
      "9.1\n",
      "5.0\n",
      "9.3\n",
      "9.37\n",
      "9.39\n"
     ]
    }
   ],
   "source": [
    "n, k = map(int, input().split())\n",
    "\n",
    "array = []\n",
    "\n",
    "for _ in range(n):\n",
    "    array.append(float(input()))\n",
    "    \n",
    "array.sort()\n",
    "\n",
    "answer1 = 0\n",
    "count1 = 0\n",
    "\n",
    "for i in range(k, n - k):\n",
    "    answer1 += array[i]\n",
    "    count1 += 1\n",
    "    \n",
    "print(format(answer1 / count1 + 0.00000001, '.2f'))\n",
    "\n",
    "answer2 = answer1\n",
    "\n",
    "answer2 += (array[k] * k)\n",
    "answer2 += (array[n - k - 1] * k)\n",
    "\n",
    "print(format(answer2 / n + 0.00000001, '.2f'))"
   ]
  },
  {
   "cell_type": "code",
   "execution_count": 6,
   "metadata": {},
   "outputs": [
    {
     "data": {
      "text/plain": [
       "'2.340'"
      ]
     },
     "execution_count": 6,
     "metadata": {},
     "output_type": "execute_result"
    }
   ],
   "source": [
    "format(2.34, '.3f')"
   ]
  }
 ],
 "metadata": {
  "kernelspec": {
   "display_name": "Python 3",
   "language": "python",
   "name": "python3"
  },
  "language_info": {
   "codemirror_mode": {
    "name": "ipython",
    "version": 3
   },
   "file_extension": ".py",
   "mimetype": "text/x-python",
   "name": "python",
   "nbconvert_exporter": "python",
   "pygments_lexer": "ipython3",
   "version": "3.8.5"
  }
 },
 "nbformat": 4,
 "nbformat_minor": 4
}
