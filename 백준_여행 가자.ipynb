{
 "cells": [
  {
   "cell_type": "code",
   "execution_count": 11,
   "metadata": {},
   "outputs": [
    {
     "name": "stdout",
     "output_type": "stream",
     "text": [
      "3\n",
      "3\n",
      "0 1 0\n",
      "1 0 1\n",
      "0 1 0\n",
      "1 2 3\n",
      "YES\n"
     ]
    }
   ],
   "source": [
    "import sys\n",
    "#input = sys.stdin.readline\n",
    "\n",
    "def find_parent(parent, a):\n",
    "    if parent[a] != a:\n",
    "        parent[a] = find_parent(parent, parent[a])\n",
    "    return parent[a]\n",
    "\n",
    "def union(parent, a, b):\n",
    "    a = find_parent(parent, a)\n",
    "    b = find_parent(parent, b)\n",
    "    \n",
    "    if a < b:\n",
    "        parent[b] = a\n",
    "    else:\n",
    "        parent[a] = b\n",
    "    \n",
    "n = int(input())\n",
    "m = int(input())\n",
    "parent = [i for i in range(n)]\n",
    "graph = []\n",
    "\n",
    "for i in range(n):\n",
    "    graph.append(list(map(int, input().split())))\n",
    "    \n",
    "for i in range(n):\n",
    "    for j in range(n):\n",
    "        if graph[i][j] == 1:\n",
    "            union(parent, i, j)\n",
    "           \n",
    "        \n",
    "temp = list(map(int, input().split()))\n",
    "\n",
    "answer = True\n",
    "\n",
    "root = find_parent(parent, temp[0] - 1)\n",
    "for x in temp:\n",
    "    if find_parent(parent, x - 1) != root:\n",
    "        answer = False\n",
    "        break\n",
    "        \n",
    "if answer:\n",
    "    print(\"YES\")\n",
    "else:\n",
    "    print(\"NO\")"
   ]
  },
  {
   "cell_type": "code",
   "execution_count": null,
   "metadata": {},
   "outputs": [],
   "source": [
    "#메모리 초과 코드\n",
    "\n",
    "for i in range(n):\n",
    "    temp = list(map(int, input().split()))\n",
    "    for j in range(n):\n",
    "        if temp[j] == 1:\n",
    "            union(parent, i, j)"
   ]
  }
 ],
 "metadata": {
  "kernelspec": {
   "display_name": "Python 3",
   "language": "python",
   "name": "python3"
  },
  "language_info": {
   "codemirror_mode": {
    "name": "ipython",
    "version": 3
   },
   "file_extension": ".py",
   "mimetype": "text/x-python",
   "name": "python",
   "nbconvert_exporter": "python",
   "pygments_lexer": "ipython3",
   "version": "3.8.5"
  }
 },
 "nbformat": 4,
 "nbformat_minor": 4
}
