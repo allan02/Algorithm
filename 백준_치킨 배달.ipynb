{
 "cells": [
  {
   "cell_type": "markdown",
   "metadata": {},
   "source": [
    "## 15686번, 치킨 배달"
   ]
  },
  {
   "cell_type": "code",
   "execution_count": 30,
   "metadata": {},
   "outputs": [
    {
     "name": "stdout",
     "output_type": "stream",
     "text": [
      "5 1\n",
      "1 2 0 0 0\n",
      "1 2 0 0 0\n",
      "1 2 0 0 0\n",
      "1 2 0 0 0\n",
      "1 2 0 0 0\n",
      "11\n"
     ]
    }
   ],
   "source": [
    "from itertools import combinations\n",
    "\n",
    "INF = int(1e9)\n",
    "\n",
    "n, m = map(int, input().split())\n",
    "\n",
    "graph = []\n",
    "house = []\n",
    "chicken = []\n",
    "\n",
    "for i in range(n):\n",
    "    graph.append(list(map(int, input().split())))\n",
    "    for j in range(n):\n",
    "        if graph[i][j] == 1:\n",
    "            house.append((i, j))\n",
    "            \n",
    "        if graph[i][j] == 2:\n",
    "            chicken.append((i, j))\n",
    "            \n",
    "close_chicken = list(combinations(chicken, m))\n",
    "length = len(close_chicken)\n",
    "\n",
    "#print(length)\n",
    "\n",
    "result = INF\n",
    "\n",
    "\n",
    "#print(close_chicken)\n",
    "for i in range(length):\n",
    "    temp_result = 0\n",
    "    for xx, yy in house:\n",
    "        temp = INF\n",
    "        for x, y in close_chicken[i]:\n",
    "            temp = min(temp, abs(xx - x) + abs(yy - y))\n",
    "        temp_result += temp\n",
    "        \n",
    "    result = min(result, temp_result)\n",
    "    \n",
    "print(result)\n",
    "        \n",
    "            \n",
    "\n",
    "\n",
    "\n",
    "\n",
    "    "
   ]
  },
  {
   "cell_type": "code",
   "execution_count": 19,
   "metadata": {},
   "outputs": [
    {
     "name": "stdout",
     "output_type": "stream",
     "text": [
      "2 3\n",
      "2 5\n"
     ]
    }
   ],
   "source": [
    "from itertools import combinations\n",
    "\n",
    "a = []\n",
    "a.append((2, 3))\n",
    "a.append((2, 5))\n",
    "a.append((2, 4))\n",
    "\n",
    "b = list(combinations(a, 2))\n",
    "for x, y in b[0]:\n",
    "    print(x, y)"
   ]
  }
 ],
 "metadata": {
  "kernelspec": {
   "display_name": "Python 3",
   "language": "python",
   "name": "python3"
  },
  "language_info": {
   "codemirror_mode": {
    "name": "ipython",
    "version": 3
   },
   "file_extension": ".py",
   "mimetype": "text/x-python",
   "name": "python",
   "nbconvert_exporter": "python",
   "pygments_lexer": "ipython3",
   "version": "3.8.5"
  }
 },
 "nbformat": 4,
 "nbformat_minor": 4
}
