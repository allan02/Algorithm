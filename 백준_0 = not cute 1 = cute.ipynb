{
 "cells": [
  {
   "cell_type": "code",
   "execution_count": 1,
   "metadata": {},
   "outputs": [
    {
     "name": "stdout",
     "output_type": "stream",
     "text": [
      "3\n",
      "1\n",
      "0\n",
      "0\n",
      "Junhee is not cute!\n"
     ]
    }
   ],
   "source": [
    "n = int(input())\n",
    "cute = 0\n",
    "not_cute = 0\n",
    "\n",
    "for _ in range(n):\n",
    "    temp = int(input())\n",
    "    if temp == 1:\n",
    "        cute += 1\n",
    "    else:\n",
    "        not_cute += 1\n",
    "        \n",
    "if cute < not_cute:\n",
    "    print(\"Junhee is not cute!\")\n",
    "    \n",
    "else:\n",
    "    print(\"Junhee is cute!\")"
   ]
  }
 ],
 "metadata": {
  "kernelspec": {
   "display_name": "Python 3",
   "language": "python",
   "name": "python3"
  },
  "language_info": {
   "codemirror_mode": {
    "name": "ipython",
    "version": 3
   },
   "file_extension": ".py",
   "mimetype": "text/x-python",
   "name": "python",
   "nbconvert_exporter": "python",
   "pygments_lexer": "ipython3",
   "version": "3.8.5"
  }
 },
 "nbformat": 4,
 "nbformat_minor": 4
}
