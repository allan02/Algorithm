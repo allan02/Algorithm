{
 "cells": [
  {
   "cell_type": "code",
   "execution_count": 2,
   "metadata": {},
   "outputs": [
    {
     "name": "stdout",
     "output_type": "stream",
     "text": [
      "2\n",
      "3 100\n",
      "52 75 10\n",
      "88 13 44\n",
      "56 9 5\n",
      "2\n",
      "2 920368\n",
      "950 950 1\n",
      "943 976 1\n",
      "1\n"
     ]
    }
   ],
   "source": [
    "t = int(input())\n",
    "\n",
    "for _ in range(t):\n",
    "    answer = 0\n",
    "    n, d = map(int, input().split())\n",
    "    array = []\n",
    "    for _ in range(n):\n",
    "        v, f, c = map(int, input().split())\n",
    "        if v * (f / c) >= d:\n",
    "            answer += 1\n",
    "            \n",
    "    print(answer)"
   ]
  }
 ],
 "metadata": {
  "kernelspec": {
   "display_name": "Python 3",
   "language": "python",
   "name": "python3"
  },
  "language_info": {
   "codemirror_mode": {
    "name": "ipython",
    "version": 3
   },
   "file_extension": ".py",
   "mimetype": "text/x-python",
   "name": "python",
   "nbconvert_exporter": "python",
   "pygments_lexer": "ipython3",
   "version": "3.8.5"
  }
 },
 "nbformat": 4,
 "nbformat_minor": 4
}
