{
 "cells": [
  {
   "cell_type": "code",
   "execution_count": 14,
   "metadata": {},
   "outputs": [
    {
     "name": "stdout",
     "output_type": "stream",
     "text": [
      "1\n",
      "2\n",
      "2\n",
      "2\n"
     ]
    }
   ],
   "source": [
    "m = int(input())\n",
    "n = int(input())\n",
    "array = [True] * (n + 1)\n",
    "array[1] = False\n",
    "for i in range(2, n + 1):\n",
    "    if array[i] == True:\n",
    "        for j in range(i + i, n + 1, i):\n",
    "            array[j] = False\n",
    "\n",
    "answer1 = 0\n",
    "answer2 = 0\n",
    "\n",
    "# m'이상' n'이하'\n",
    "for k in range(m, n + 1):\n",
    "    if array[k] == True:\n",
    "        if answer2 == 0:\n",
    "            answer2 = k\n",
    "        answer1 += k\n",
    "\n",
    "if answer1 == 0:\n",
    "    print(-1)\n",
    "else:\n",
    "    print(answer1)\n",
    "    print(answer2)\n",
    "            "
   ]
  }
 ],
 "metadata": {
  "kernelspec": {
   "display_name": "Python 3",
   "language": "python",
   "name": "python3"
  },
  "language_info": {
   "codemirror_mode": {
    "name": "ipython",
    "version": 3
   },
   "file_extension": ".py",
   "mimetype": "text/x-python",
   "name": "python",
   "nbconvert_exporter": "python",
   "pygments_lexer": "ipython3",
   "version": "3.8.5"
  }
 },
 "nbformat": 4,
 "nbformat_minor": 4
}
