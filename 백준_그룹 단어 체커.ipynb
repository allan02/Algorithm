{
 "cells": [
  {
   "cell_type": "code",
   "execution_count": 12,
   "metadata": {},
   "outputs": [
    {
     "name": "stdout",
     "output_type": "stream",
     "text": [
      "1\n",
      "z\n",
      "1\n"
     ]
    }
   ],
   "source": [
    "#import sys\n",
    "#input = sys.stdin.readline\n",
    "\n",
    "n = int(input())\n",
    "answer = 0\n",
    "for _ in range(n):\n",
    "    s = input().rstrip()\n",
    "    array = []\n",
    "    check = True\n",
    "    \n",
    "    for i in range(len(s)):\n",
    "        if s[i] not in array:\n",
    "            array.append(s[i])\n",
    "        else:\n",
    "            if s[i] != s[i - 1]:\n",
    "                check = False\n",
    "    \n",
    "    if check:\n",
    "        answer += 1\n",
    "        \n",
    "print(answer)"
   ]
  }
 ],
 "metadata": {
  "kernelspec": {
   "display_name": "Python 3",
   "language": "python",
   "name": "python3"
  },
  "language_info": {
   "codemirror_mode": {
    "name": "ipython",
    "version": 3
   },
   "file_extension": ".py",
   "mimetype": "text/x-python",
   "name": "python",
   "nbconvert_exporter": "python",
   "pygments_lexer": "ipython3",
   "version": "3.8.5"
  }
 },
 "nbformat": 4,
 "nbformat_minor": 4
}
