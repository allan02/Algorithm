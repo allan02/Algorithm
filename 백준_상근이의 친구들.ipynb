{
 "cells": [
  {
   "cell_type": "code",
   "execution_count": 1,
   "metadata": {},
   "outputs": [
    {
     "name": "stdout",
     "output_type": "stream",
     "text": [
      "2 2\n",
      "4\n",
      "2 3\n",
      "5\n",
      "5 5\n",
      "10\n",
      "1 1\n",
      "2\n",
      "0 0\n"
     ]
    }
   ],
   "source": [
    "while True:\n",
    "    m, f = map(int, input().split())\n",
    "    if m == 0 and f == 0:\n",
    "        break\n",
    "    else:\n",
    "        print(m + f)"
   ]
  }
 ],
 "metadata": {
  "kernelspec": {
   "display_name": "Python 3",
   "language": "python",
   "name": "python3"
  },
  "language_info": {
   "codemirror_mode": {
    "name": "ipython",
    "version": 3
   },
   "file_extension": ".py",
   "mimetype": "text/x-python",
   "name": "python",
   "nbconvert_exporter": "python",
   "pygments_lexer": "ipython3",
   "version": "3.8.5"
  }
 },
 "nbformat": 4,
 "nbformat_minor": 4
}
