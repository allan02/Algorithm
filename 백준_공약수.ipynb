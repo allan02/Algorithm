{
 "cells": [
  {
   "cell_type": "code",
   "execution_count": 19,
   "metadata": {
    "scrolled": true
   },
   "outputs": [
    {
     "name": "stdout",
     "output_type": "stream",
     "text": [
      "6 180\n",
      "30 36\n"
     ]
    }
   ],
   "source": [
    "import math\n",
    "\n",
    "g, l = map(int, input().split())\n",
    "\n",
    "div = l // g\n",
    "\n",
    "x = 1\n",
    "y = div\n",
    "answer = x + y\n",
    "\n",
    "\n",
    "# x, y가 같은 경우 생각\n",
    "for i in range(1, div // 2 + 1):\n",
    "    if div % i == 0:\n",
    "        a = i\n",
    "        b = div // i\n",
    "        if math.gcd(a, b) == 1:\n",
    "            if a + b < answer:\n",
    "                answer = a + b\n",
    "                x = a\n",
    "                y = b\n",
    "                \n",
    "print(x * g, y * g)\n",
    "\n",
    "    "
   ]
  },
  {
   "cell_type": "code",
   "execution_count": 15,
   "metadata": {},
   "outputs": [
    {
     "name": "stdout",
     "output_type": "stream",
     "text": [
      "1\n"
     ]
    }
   ],
   "source": [
    "print(math.gcd(1, 1))"
   ]
  }
 ],
 "metadata": {
  "kernelspec": {
   "display_name": "Python 3",
   "language": "python",
   "name": "python3"
  },
  "language_info": {
   "codemirror_mode": {
    "name": "ipython",
    "version": 3
   },
   "file_extension": ".py",
   "mimetype": "text/x-python",
   "name": "python",
   "nbconvert_exporter": "python",
   "pygments_lexer": "ipython3",
   "version": "3.8.5"
  }
 },
 "nbformat": 4,
 "nbformat_minor": 4
}
