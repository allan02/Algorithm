{
 "cells": [
  {
   "cell_type": "code",
   "execution_count": 12,
   "metadata": {},
   "outputs": [
    {
     "data": {
      "text/plain": [
       "4"
      ]
     },
     "execution_count": 12,
     "metadata": {},
     "output_type": "execute_result"
    }
   ],
   "source": [
    "def solution(N, number):\n",
    "    answer = -1\n",
    "    dp = []\n",
    "    \n",
    "    if N == number:\n",
    "        return 1\n",
    "    \n",
    "    for i in range(1, 9):\n",
    "        all_case = set()\n",
    "        all_case.add(int(str(N) * i))\n",
    "        \n",
    "        for j in range(0, i - 1):\n",
    "            for op1 in dp[j]:\n",
    "                for op2 in dp[-j-1]:\n",
    "                    all_case.add(op1 - op2)\n",
    "                    all_case.add(op1 + op2)\n",
    "                    all_case.add(op1 * op2)\n",
    "                    if op2 != 0:\n",
    "                        all_case.add(op1 // op2)\n",
    "                    \n",
    "        if number in all_case:\n",
    "            return i\n",
    "        dp.append(all_case)\n",
    "        \n",
    "    return -1\n",
    "    \n",
    "    \n",
    "solution(5, 12)"
   ]
  }
 ],
 "metadata": {
  "kernelspec": {
   "display_name": "Python 3",
   "language": "python",
   "name": "python3"
  },
  "language_info": {
   "codemirror_mode": {
    "name": "ipython",
    "version": 3
   },
   "file_extension": ".py",
   "mimetype": "text/x-python",
   "name": "python",
   "nbconvert_exporter": "python",
   "pygments_lexer": "ipython3",
   "version": "3.8.5"
  }
 },
 "nbformat": 4,
 "nbformat_minor": 4
}
