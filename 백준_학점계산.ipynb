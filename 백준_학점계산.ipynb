{
 "cells": [
  {
   "cell_type": "code",
   "execution_count": 4,
   "metadata": {},
   "outputs": [
    {
     "name": "stdout",
     "output_type": "stream",
     "text": [
      "A0\n",
      "4.0\n"
     ]
    }
   ],
   "source": [
    "s = input()\n",
    "\n",
    "\n",
    "\n",
    "if s == 'A+': \n",
    "    print(4.3), \n",
    "elif s == 'A0': \n",
    "    print(4.0) \n",
    "elif s == 'A-': \n",
    "    print(3.7)\n",
    "elif s == 'B+': \n",
    "    print(3.3)\n",
    "elif s == 'B0': \n",
    "    print(3.0)\n",
    "elif s == 'B-': \n",
    "    print(2.7)\n",
    "elif s == 'C+': \n",
    "    print(2.3)\n",
    "elif s == 'C0': \n",
    "    print(2.0)\n",
    "elif s == 'C-': \n",
    "    print(1.7)\n",
    "elif s == 'D+': \n",
    "    print(1.3)\n",
    "elif s == 'D0': \n",
    "    print(1.0)\n",
    "elif s == 'D-': \n",
    "    print(0.7)\n",
    "else:\n",
    "    print(0.0)\n"
   ]
  }
 ],
 "metadata": {
  "kernelspec": {
   "display_name": "Python 3",
   "language": "python",
   "name": "python3"
  },
  "language_info": {
   "codemirror_mode": {
    "name": "ipython",
    "version": 3
   },
   "file_extension": ".py",
   "mimetype": "text/x-python",
   "name": "python",
   "nbconvert_exporter": "python",
   "pygments_lexer": "ipython3",
   "version": "3.8.5"
  }
 },
 "nbformat": 4,
 "nbformat_minor": 4
}
