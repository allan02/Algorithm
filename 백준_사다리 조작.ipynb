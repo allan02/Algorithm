{
 "cells": [
  {
   "cell_type": "markdown",
   "metadata": {},
   "source": [
    "## 15684번, 사다리 조작"
   ]
  },
  {
   "cell_type": "code",
   "execution_count": 3,
   "metadata": {},
   "outputs": [
    {
     "name": "stdout",
     "output_type": "stream",
     "text": [
      "5 5 6\n",
      "1 1\n",
      "3 2\n",
      "2 3\n",
      "5 1\n",
      "5 4\n",
      "3\n"
     ]
    }
   ],
   "source": [
    "import sys\n",
    "from itertools import combinations\n",
    "\n",
    "\n",
    "def move():\n",
    "    for i in range(1, N + 1):\n",
    "        index = [0, i] \n",
    "\n",
    "        while index[0] < H:\n",
    "            if connect[index[0] + 1][index[1]] == 1:  \n",
    "                index[1] += 1\n",
    "            elif index[1] - 1 >= 0 and connect[index[0] + 1][index[1] - 1] == 1:  # 왼쪽으로 이동\n",
    "                index[1] -= 1\n",
    "            index[0] += 1\n",
    "        if index[1] != i:\n",
    "            return 0\n",
    "    return 1\n",
    "\n",
    "\n",
    "\n",
    "def check(arr1, arr2):\n",
    "    if arr1[0] == arr2[0]:\n",
    "        if abs(arr1[1] - arr2[1]) == 1:\n",
    "            return True\n",
    "    return False\n",
    "\n",
    "\n",
    "\n",
    "def find():\n",
    "    if M == 0 or move()\n",
    "        return 0\n",
    "    else:\n",
    "      \n",
    "        for i in range(len(add)):\n",
    "            row, col = add[i]\n",
    "            connect[row][col] = 1\n",
    "            if move():\n",
    "                return 1\n",
    "            else:\n",
    "                connect[row][col] = 0\n",
    "\n",
    "       \n",
    "        order = list(combinations(add, 2))\n",
    "        for i in range(len(order)):\n",
    "            if check(order[i][0], order[i][1]):  # 인접 확인\n",
    "                continue\n",
    "            connect[order[i][0][0]][order[i][0][1]] = 1\n",
    "            connect[order[i][1][0]][order[i][1][1]] = 1\n",
    "            if move():\n",
    "                return 2\n",
    "            else:\n",
    "                connect[order[i][0][0]][order[i][0][1]] = 0\n",
    "                connect[order[i][1][0]][order[i][1][1]] = 0\n",
    "\n",
    "       \n",
    "        order = list(combinations(add, 3))\n",
    "        for i in range(len(order)):\n",
    "            if check(order[i][0], order[i][1]) or check(order[i][0], order[i][2]) or check(order[i][1], order[i][2]):\n",
    "                continue\n",
    "            connect[order[i][0][0]][order[i][0][1]] = 1\n",
    "            connect[order[i][1][0]][order[i][1][1]] = 1\n",
    "            connect[order[i][2][0]][order[i][2][1]] = 1\n",
    "            if move():\n",
    "                return 3\n",
    "            else:\n",
    "                connect[order[i][0][0]][order[i][0][1]] = 0\n",
    "                connect[order[i][1][0]][order[i][1][1]] = 0\n",
    "                connect[order[i][2][0]][order[i][2][1]] = 0\n",
    "\n",
    "        # 나머지 상황\n",
    "        return -1\n",
    "    \n",
    "    \n",
    "    \n",
    "N, M, H = map(int, sys.stdin.readline().split())\n",
    "line = [list(map(int, sys.stdin.readline().split())) for _ in range(M)]  # 가로선의 정보\n",
    "connect = [[0] * (N + 1) for _ in range(H + 1)] \n",
    "\n",
    "\n",
    "for i in range(len(line)):\n",
    "    connect[line[i][0]][line[i][1]] = 1\n",
    "\n",
    "   \n",
    "\n",
    "add = []\n",
    "\n",
    "\n",
    "for i in range(1, H + 1):\n",
    "    for j in range(1, N):\n",
    "        if not (connect[i][j - 1] or connect[i][j] or connect[i][j + 1]):\n",
    "            add.append([i, j])\n",
    "\n",
    "print(find())"
   ]
  },
  {
   "cell_type": "code",
   "execution_count": 10,
   "metadata": {},
   "outputs": [
    {
     "name": "stdout",
     "output_type": "stream",
     "text": [
      "[(1, 2, 3), (1, 2, 4), (1, 2, 5), (1, 3, 4), (1, 3, 5), (1, 4, 5), (2, 3, 4), (2, 3, 5), (2, 4, 5), (3, 4, 5)]\n"
     ]
    }
   ],
   "source": [
    "from itertools import combinations\n",
    "\n",
    "a = [1, 2, 3, 4, 5]\n",
    "\n",
    "a = list(combinations(a, 3))\n",
    "\n",
    "print(a)\n",
    "\n"
   ]
  },
  {
   "cell_type": "code",
   "execution_count": null,
   "metadata": {},
   "outputs": [],
   "source": [
    "while True:\n",
    "    print(1)\n",
    "    break\n",
    "\n",
    "print(1)"
   ]
  },
  {
   "cell_type": "code",
   "execution_count": null,
   "metadata": {},
   "outputs": [],
   "source": []
  },
  {
   "cell_type": "code",
   "execution_count": null,
   "metadata": {},
   "outputs": [],
   "source": []
  },
  {
   "cell_type": "code",
   "execution_count": null,
   "metadata": {},
   "outputs": [],
   "source": []
  }
 ],
 "metadata": {
  "kernelspec": {
   "display_name": "Python 3",
   "language": "python",
   "name": "python3"
  },
  "language_info": {
   "codemirror_mode": {
    "name": "ipython",
    "version": 3
   },
   "file_extension": ".py",
   "mimetype": "text/x-python",
   "name": "python",
   "nbconvert_exporter": "python",
   "pygments_lexer": "ipython3",
   "version": "3.8.5"
  }
 },
 "nbformat": 4,
 "nbformat_minor": 4
}
