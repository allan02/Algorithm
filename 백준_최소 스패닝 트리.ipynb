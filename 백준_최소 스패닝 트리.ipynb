{
 "cells": [
  {
   "cell_type": "code",
   "execution_count": 1,
   "metadata": {},
   "outputs": [
    {
     "name": "stdout",
     "output_type": "stream",
     "text": [
      "3 3\n",
      "1 2 1\n",
      "2 3 2\n",
      "1 3 3\n",
      "3\n"
     ]
    }
   ],
   "source": [
    "import heapq\n",
    "#import sys\n",
    "#input = sys.stdin.readline\n",
    "v, e = map(int, input().split())\n",
    "\n",
    "def find_parent(array, n):\n",
    "    if array[n] != n:\n",
    "        array[n] = find_parent(array, array[n])\n",
    "    return array[n]\n",
    "\n",
    "def union(array, a, b):\n",
    "    a = find_parent(array, a)\n",
    "    b = find_parent(array, b)\n",
    "    \n",
    "    if a < b:\n",
    "        array[b] = a\n",
    "    else:\n",
    "        array[a] = b\n",
    "\n",
    "h = []\n",
    "parent = [i for i in range(v + 1)]\n",
    "answer = 0\n",
    "\n",
    "for _ in range(e):\n",
    "    a, b, cost = map(int, input().split())\n",
    "    heapq.heappush(h, (cost, a, b))\n",
    "    \n",
    "while h:\n",
    "    cost, a, b = heapq.heappop(h)\n",
    "    if find_parent(parent, a) != find_parent(parent, b):\n",
    "        union(parent, a, b)\n",
    "        answer += cost\n",
    "print(answer)\n",
    "    "
   ]
  }
 ],
 "metadata": {
  "kernelspec": {
   "display_name": "Python 3",
   "language": "python",
   "name": "python3"
  },
  "language_info": {
   "codemirror_mode": {
    "name": "ipython",
    "version": 3
   },
   "file_extension": ".py",
   "mimetype": "text/x-python",
   "name": "python",
   "nbconvert_exporter": "python",
   "pygments_lexer": "ipython3",
   "version": "3.8.5"
  }
 },
 "nbformat": 4,
 "nbformat_minor": 4
}
