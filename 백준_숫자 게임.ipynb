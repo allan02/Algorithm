{
 "cells": [
  {
   "cell_type": "code",
   "execution_count": 9,
   "metadata": {},
   "outputs": [
    {
     "name": "stdout",
     "output_type": "stream",
     "text": [
      "3\n",
      "7 5 5 4 9\n",
      "1 1 1 1 1\n",
      "2 3 3 2 10\n",
      "[9, 3, 8]\n",
      "9\n",
      "1\n"
     ]
    }
   ],
   "source": [
    "from itertools import combinations\n",
    "\n",
    "n = int(input())\n",
    "array = []\n",
    "\n",
    "for _ in range(n):\n",
    "    now = list(map(int, input().split()))\n",
    "    p = -1\n",
    "    temp = combinations(now, 3)\n",
    "    \n",
    "    for i in temp:\n",
    "        a, b, c = i\n",
    "        p = max(p, int(str(a + b + c)[-1]))\n",
    "    \n",
    "    array.append(p)\n",
    "    \n",
    "check = max(array)\n",
    "\n",
    "#print(array)\n",
    "#print(check)\n",
    "\n",
    "for i in range(n - 1, -1, -1):\n",
    "    if array[i] == check:\n",
    "        print(i + 1)\n",
    "        break\n"
   ]
  }
 ],
 "metadata": {
  "kernelspec": {
   "display_name": "Python 3",
   "language": "python",
   "name": "python3"
  },
  "language_info": {
   "codemirror_mode": {
    "name": "ipython",
    "version": 3
   },
   "file_extension": ".py",
   "mimetype": "text/x-python",
   "name": "python",
   "nbconvert_exporter": "python",
   "pygments_lexer": "ipython3",
   "version": "3.8.5"
  }
 },
 "nbformat": 4,
 "nbformat_minor": 4
}
