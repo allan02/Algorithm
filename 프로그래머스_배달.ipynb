{
 "cells": [
  {
   "cell_type": "code",
   "execution_count": 1,
   "metadata": {},
   "outputs": [],
   "source": [
    "def solution(N, road, K):\n",
    "    answer = 0\n",
    "    INF = int(1e9)\n",
    "    array = [[INF] * (N + 1) for _ in range(N + 1)]\n",
    "    for i in range(1, N + 1):\n",
    "        for j in range(1, N + 1):\n",
    "            if i == j:\n",
    "                array[i][j] = 0\n",
    "                \n",
    "    for r in road:\n",
    "        x, y, cost = r\n",
    "        array[x][y] = min(array[x][y], cost)\n",
    "        array[y][x] = min(array[y][x], cost)\n",
    "    \n",
    "    for k in range(N + 1):\n",
    "        for i in range(N + 1):\n",
    "            for j in range(N + 1):\n",
    "                array[i][j] = min(array[i][j], array[i][k] + array[k][j])\n",
    "    \n",
    "    for i in array[1]:\n",
    "        if i <= K:\n",
    "            answer += 1\n",
    "    \n",
    "    return answer"
   ]
  }
 ],
 "metadata": {
  "kernelspec": {
   "display_name": "Python 3",
   "language": "python",
   "name": "python3"
  },
  "language_info": {
   "codemirror_mode": {
    "name": "ipython",
    "version": 3
   },
   "file_extension": ".py",
   "mimetype": "text/x-python",
   "name": "python",
   "nbconvert_exporter": "python",
   "pygments_lexer": "ipython3",
   "version": "3.8.5"
  }
 },
 "nbformat": 4,
 "nbformat_minor": 4
}
