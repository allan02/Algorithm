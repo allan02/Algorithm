{
 "cells": [
  {
   "cell_type": "code",
   "execution_count": 9,
   "metadata": {},
   "outputs": [
    {
     "name": "stdout",
     "output_type": "stream",
     "text": [
      "5\n",
      "2 3 1 7 3\n",
      "4 1 9 6 8\n",
      "5 5 2 4 4\n",
      "6 5 2 6 7\n",
      "8 4 2 2 2\n",
      "{0}\n",
      "{1, 3}\n",
      "{2, 3, 4}\n",
      "{1, 2, 3, 4}\n",
      "{2, 3, 4}\n",
      "4\n"
     ]
    }
   ],
   "source": [
    "n = int(input())\n",
    "\n",
    "array = []\n",
    "\n",
    "for _ in range(n):\n",
    "    array.append(list(map(int, input().split())))\n",
    "\n",
    "answer = 0\n",
    "answer_num = 0\n",
    "    \n",
    "for k in range(n):\n",
    "    temp = set()\n",
    "    for i in range(5):\n",
    "        for j in range(n):\n",
    "            if array[k][i] == array[j][i]:\n",
    "                temp.add(j)\n",
    "                \n",
    "    #print(temp)\n",
    "    \n",
    "    if len(temp) > answer_num:\n",
    "        answer = k\n",
    "        answer_num = len(temp)\n",
    "        \n",
    "print(answer + 1)\n",
    "            "
   ]
  }
 ],
 "metadata": {
  "kernelspec": {
   "display_name": "Python 3",
   "language": "python",
   "name": "python3"
  },
  "language_info": {
   "codemirror_mode": {
    "name": "ipython",
    "version": 3
   },
   "file_extension": ".py",
   "mimetype": "text/x-python",
   "name": "python",
   "nbconvert_exporter": "python",
   "pygments_lexer": "ipython3",
   "version": "3.8.5"
  }
 },
 "nbformat": 4,
 "nbformat_minor": 4
}
