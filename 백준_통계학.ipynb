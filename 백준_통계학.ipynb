{
 "cells": [
  {
   "cell_type": "code",
   "execution_count": 35,
   "metadata": {},
   "outputs": [
    {
     "name": "stdout",
     "output_type": "stream",
     "text": [
      "5\n",
      "1\n",
      "3\n",
      "8\n",
      "-2\n",
      "2\n",
      "2\n",
      "2\n",
      "1\n",
      "10\n"
     ]
    }
   ],
   "source": [
    "# import sys\n",
    "#input = sys.stdin.readline\n",
    "\n",
    "from collections import Counter\n",
    "n = int(input())\n",
    "array = []\n",
    "for _ in range(n):\n",
    "    array.append(int(input()))\n",
    "\n",
    "array.sort()\n",
    "\n",
    "print(round(sum(array) / n))\n",
    "print(array[n // 2])\n",
    "\n",
    "a = Counter(array).most_common()\n",
    "if len(a) > 1:\n",
    "    if a[0][1] == a[1][1]:\n",
    "        print(a[1][0])\n",
    "    else:\n",
    "        print(a[0][0])\n",
    "else:\n",
    "    print(a[0][0])\n",
    "print(array[n - 1] - array[0])"
   ]
  }
 ],
 "metadata": {
  "kernelspec": {
   "display_name": "Python 3",
   "language": "python",
   "name": "python3"
  },
  "language_info": {
   "codemirror_mode": {
    "name": "ipython",
    "version": 3
   },
   "file_extension": ".py",
   "mimetype": "text/x-python",
   "name": "python",
   "nbconvert_exporter": "python",
   "pygments_lexer": "ipython3",
   "version": "3.8.5"
  }
 },
 "nbformat": 4,
 "nbformat_minor": 4
}
