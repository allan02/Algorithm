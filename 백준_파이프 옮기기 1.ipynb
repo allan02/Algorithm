{
 "cells": [
  {
   "cell_type": "markdown",
   "metadata": {},
   "source": [
    "## 17070번, 파이프 옮기기 1"
   ]
  },
  {
   "cell_type": "code",
   "execution_count": 17,
   "metadata": {},
   "outputs": [
    {
     "name": "stdout",
     "output_type": "stream",
     "text": [
      "6\n",
      "0 0 0 0 0 0\n",
      "0 1 0 0 0 0\n",
      "0 0 0 0 0 0\n",
      "0 0 0 0 0 0\n",
      "0 0 0 0 0 0\n",
      "0 0 0 0 0 0\n",
      "13\n"
     ]
    }
   ],
   "source": [
    "from collections import deque\n",
    "\n",
    "n = int(input())\n",
    "\n",
    "array = [list(map(int, input().split())) for _ in range(n)]\n",
    "result = [[0] * n for _ in range(n)] \n",
    "\n",
    "\n",
    "pipe = deque()\n",
    "pipe.append((0, 0, 0, 1))\n",
    "\n",
    "while pipe:\n",
    "    x1, y1, x2, y2 = pipe.pop()\n",
    "    \n",
    "    # 가로\n",
    "    if x1 == x2 and y1 < y2:\n",
    "        \n",
    "        if y2 + 1 < n and array[x2][y2 + 1] == 0:\n",
    "            pipe.append((x1, y1 + 1, x2, y2 + 1))\n",
    "            \n",
    "            result[x2][y2 + 1] += 1\n",
    "        if x2 + 1 < n and y2 + 1 < n and array[x2 + 1][y2 + 1] == 0 and array[x2][y2 + 1] == 0 and array[x2 + 1][y2] == 0:\n",
    "            pipe.append((x1, y1 + 1, x2 + 1, y2 + 1))\n",
    "            \n",
    "            result[x2 + 1][y2 + 1] += 1\n",
    "            \n",
    "    # 세로\n",
    "    \n",
    "    elif y1 == y2 and x2 > x1:\n",
    "        if x2 + 1 < n and array[x2 + 1][y2] == 0:\n",
    "            pipe.append((x1 + 1, y1, x2 + 1, y2))\n",
    "            \n",
    "            result[x2 + 1][y2] += 1\n",
    "        if x2 + 1 < n and y2 + 1 < n and array[x2 + 1][y2 + 1] == 0 and array[x2 + 1][y2] == 0 and array[x2][y2 + 1] == 0:\n",
    "            pipe.append((x1 + 1, y1, x2 + 1, y2 + 1))\n",
    "            \n",
    "            result[x2 + 1][y2 + 1] += 1\n",
    "    # 대각선\n",
    "    else:\n",
    "        if y2 + 1 < n and array[x2][y2 + 1] == 0:\n",
    "            pipe.append((x1 + 1, y1 + 1, x2, y2 + 1))\n",
    "            result[x2][y2 + 1] += 1\n",
    "            \n",
    "        if x2 + 1 < n and array[x2 + 1][y2] == 0:\n",
    "            pipe.append((x1 + 1, y1 + 1, x2 + 1, y2))\n",
    "            result[x2 + 1][y2] += 1\n",
    "            \n",
    "        if x2 + 1 < n and y2 + 1 < n and array[x2 + 1][y2 + 1] == 0 and array[x2 + 1][y2] == 0 and array[x2][y2 + 1] == 0:\n",
    "            pipe.append((x1 + 1, y1 + 1, x2 + 1, y2 + 1))\n",
    "            result[x2 + 1][y2 + 1] += 1\n",
    "            \n",
    "            \n",
    "print(result[n - 1][n - 1])\n"
   ]
  },
  {
   "cell_type": "code",
   "execution_count": null,
   "metadata": {},
   "outputs": [],
   "source": []
  },
  {
   "cell_type": "code",
   "execution_count": null,
   "metadata": {},
   "outputs": [],
   "source": []
  },
  {
   "cell_type": "code",
   "execution_count": null,
   "metadata": {},
   "outputs": [],
   "source": []
  }
 ],
 "metadata": {
  "kernelspec": {
   "display_name": "Python 3",
   "language": "python",
   "name": "python3"
  },
  "language_info": {
   "codemirror_mode": {
    "name": "ipython",
    "version": 3
   },
   "file_extension": ".py",
   "mimetype": "text/x-python",
   "name": "python",
   "nbconvert_exporter": "python",
   "pygments_lexer": "ipython3",
   "version": "3.8.5"
  }
 },
 "nbformat": 4,
 "nbformat_minor": 4
}
