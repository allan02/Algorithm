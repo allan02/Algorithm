{
 "cells": [
  {
   "cell_type": "code",
   "execution_count": 1,
   "metadata": {},
   "outputs": [
    {
     "name": "stdout",
     "output_type": "stream",
     "text": [
      "5\n",
      "0 0\n",
      "0 1\n",
      "1 1\n",
      "3 -3\n",
      "2 2\n",
      "Q1: 2\n",
      "Q2: 0\n",
      "Q3: 0\n",
      "Q4: 1\n",
      "AXIS: 2\n"
     ]
    }
   ],
   "source": [
    "t = int(input())\n",
    "\n",
    "q1 = 0\n",
    "q2 = 0\n",
    "q3 = 0\n",
    "q4 = 0\n",
    "axis = 0\n",
    "\n",
    "for _ in range(t):\n",
    "    x, y = map(int, input().split())\n",
    "    if x == 0 or y == 0:\n",
    "        axis += 1\n",
    "    \n",
    "    elif x > 0 and y > 0:\n",
    "        q1 += 1\n",
    "        \n",
    "    elif x < 0 and y > 0:\n",
    "        q2 += 1\n",
    "        \n",
    "    elif x < 0 and y < 0:\n",
    "        q3 += 1\n",
    "        \n",
    "    elif x > 0 and y < 0:\n",
    "        q4 += 1\n",
    "        \n",
    "print(\"Q1: \", end = '')\n",
    "print(q1)\n",
    "print(\"Q2: \", end = '')\n",
    "print(q2)\n",
    "print(\"Q3: \", end = '')\n",
    "print(q3)\n",
    "print(\"Q4: \", end = '')\n",
    "print(q4)\n",
    "print(\"AXIS: \", end = '')\n",
    "print(axis)"
   ]
  }
 ],
 "metadata": {
  "kernelspec": {
   "display_name": "Python 3",
   "language": "python",
   "name": "python3"
  },
  "language_info": {
   "codemirror_mode": {
    "name": "ipython",
    "version": 3
   },
   "file_extension": ".py",
   "mimetype": "text/x-python",
   "name": "python",
   "nbconvert_exporter": "python",
   "pygments_lexer": "ipython3",
   "version": "3.8.5"
  }
 },
 "nbformat": 4,
 "nbformat_minor": 4
}
