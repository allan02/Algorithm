{
 "cells": [
  {
   "cell_type": "code",
   "execution_count": 19,
   "metadata": {},
   "outputs": [],
   "source": [
    "# 시간 초과\n",
    "def solution(n, k, cmd):\n",
    "    answer = ''\n",
    "    array = [i for i in range(n)]\n",
    "    now_pos = k\n",
    "    r_c = []\n",
    "    for i in cmd:\n",
    "        if len(i) == 1:\n",
    "            if i == \"C\":\n",
    "                if array[now_pos] == array[-1]:\n",
    "                    r_c.append(array.pop())\n",
    "                    now_pos -= 1\n",
    "                else:\n",
    "                    r_c.append(array.pop(now_pos))\n",
    "\n",
    "            else:\n",
    "                temp = r_c.pop()\n",
    "                if temp < array[now_pos]:\n",
    "                    array.append(temp)\n",
    "                    array.sort()\n",
    "                    now_pos += 1\n",
    "                else:\n",
    "                    array.append(temp)\n",
    "                    array.sort()\n",
    "                    \n",
    "        else:\n",
    "            x, y = i.split(\" \")\n",
    "            l = len(array)\n",
    "            if x == \"U\":\n",
    "                now_pos -= int(y)\n",
    "                if now_pos < 0:\n",
    "                    now_pos = l + now_pos + 1\n",
    "            else:\n",
    "                now_pos += int(y)\n",
    "                if now_pos > l - 1:\n",
    "                    now_pos = now_pos - l - 1\n",
    "\n",
    "    for k in range(n):\n",
    "        if k in array:\n",
    "            answer += 'O'\n",
    "        else:\n",
    "            answer += 'X'\n",
    "            \n",
    "    return answer"
   ]
  },
  {
   "cell_type": "code",
   "execution_count": null,
   "metadata": {},
   "outputs": [],
   "source": []
  },
  {
   "cell_type": "code",
   "execution_count": 14,
   "metadata": {},
   "outputs": [
    {
     "name": "stdout",
     "output_type": "stream",
     "text": [
      "1\n"
     ]
    },
    {
     "data": {
      "text/plain": [
       "1"
      ]
     },
     "execution_count": 14,
     "metadata": {},
     "output_type": "execute_result"
    }
   ],
   "source": [
    "from collections import deque\n",
    "\n",
    "q = deque()\n",
    "q.append(1)\n",
    "print(q[0])\n",
    "q.pop()"
   ]
  },
  {
   "cell_type": "code",
   "execution_count": 9,
   "metadata": {},
   "outputs": [
    {
     "name": "stdout",
     "output_type": "stream",
     "text": [
      "2\n",
      "a [2]\n",
      "[0, 1, 3, 4, 5]\n",
      "3\n",
      "[0, 1, 3, 4]\n",
      "qweqd\n"
     ]
    }
   ],
   "source": [
    "a = []\n",
    "array = [0, 1, 2, 3, 4, 5]\n",
    "print(array[2])\n",
    "a.append(array.pop(2))\n",
    "print(\"a\", a)\n",
    "print(array)\n",
    "print(array[2])\n",
    "array.pop()\n",
    "print(array)\n",
    "if '1' in array:\n",
    "    print(\"tes\")\n",
    "else:\n",
    "    print(\"qweqd\")"
   ]
  },
  {
   "cell_type": "code",
   "execution_count": null,
   "metadata": {},
   "outputs": [],
   "source": []
  },
  {
   "cell_type": "code",
   "execution_count": null,
   "metadata": {},
   "outputs": [],
   "source": []
  },
  {
   "cell_type": "code",
   "execution_count": null,
   "metadata": {},
   "outputs": [],
   "source": []
  },
  {
   "cell_type": "code",
   "execution_count": null,
   "metadata": {},
   "outputs": [],
   "source": []
  },
  {
   "cell_type": "code",
   "execution_count": null,
   "metadata": {},
   "outputs": [],
   "source": []
  },
  {
   "cell_type": "code",
   "execution_count": 15,
   "metadata": {},
   "outputs": [],
   "source": [
    "# 풀이 참조\n",
    "from collections import defaultdict\n",
    "\n",
    "\n",
    "def solution(n, k, cmd):\n",
    "    answer = [\"O\" for i in range(n)]\n",
    "    linked_list = defaultdict(list)\n",
    "\n",
    "    for i in range(1, n + 1):\n",
    "        linked_list[i].append(i - 1)\n",
    "        linked_list[i].append(i + 1)\n",
    "\n",
    "    stack = []\n",
    "    k += 1\n",
    "\n",
    "    for instruction in cmd:\n",
    "        if instruction[0] == \"D\":\n",
    "            for _ in range(int(instruction[2:])):\n",
    "                k = linked_list[k][1]\n",
    "\n",
    "        elif instruction[0] == \"U\":\n",
    "            for _ in range(int(instruction[2:])):\n",
    "                k = linked_list[k][0]\n",
    "                \n",
    "        elif instruction[0] == \"C\":\n",
    "            prev, next = linked_list[k]\n",
    "            stack.append([prev, next, k])\n",
    "            answer[k - 1] = \"X\"\n",
    "\n",
    "            if next == n + 1:\n",
    "                k = linked_list[k][0]\n",
    "            else:\n",
    "                k = linked_list[k][1]\n",
    "\n",
    "            if prev == 0:\n",
    "                linked_list[next][0] = prev\n",
    "            elif next == n + 1:\n",
    "                linked_list[prev][1] = next\n",
    "            else:\n",
    "                linked_list[prev][1] = next\n",
    "                linked_list[next][0] = prev\n",
    "\n",
    "        elif instruction[0] == \"Z\":\n",
    "            prev, next, now = stack.pop()\n",
    "            answer[now - 1] = \"O\"\n",
    "\n",
    "            if prev == 0:\n",
    "                linked_list[next][0] = now\n",
    "            elif next == n + 1:\n",
    "                linked_list[prev][1] = now\n",
    "            else:\n",
    "                linked_list[prev][1] = now\n",
    "                linked_list[next][0] = now\n",
    "\n",
    "    return \"\".join(answer)"
   ]
  }
 ],
 "metadata": {
  "kernelspec": {
   "display_name": "Python 3",
   "language": "python",
   "name": "python3"
  },
  "language_info": {
   "codemirror_mode": {
    "name": "ipython",
    "version": 3
   },
   "file_extension": ".py",
   "mimetype": "text/x-python",
   "name": "python",
   "nbconvert_exporter": "python",
   "pygments_lexer": "ipython3",
   "version": "3.8.5"
  }
 },
 "nbformat": 4,
 "nbformat_minor": 4
}
