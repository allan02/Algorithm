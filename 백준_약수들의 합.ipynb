{
 "cells": [
  {
   "cell_type": "code",
   "execution_count": 10,
   "metadata": {},
   "outputs": [
    {
     "name": "stdout",
     "output_type": "stream",
     "text": [
      "6\n",
      "6 = 1 + 2 + 3\n",
      "12\n",
      "12 is NOT perfect.\n",
      "28\n",
      "28 = 1 + 2 + 4 + 7 + 14\n",
      "-1\n"
     ]
    }
   ],
   "source": [
    "while True:\n",
    "    n = int(input())\n",
    "    \n",
    "    if n == -1:\n",
    "        break\n",
    "    \n",
    "    now = 0\n",
    "\n",
    "    array = []\n",
    "    \n",
    "    for i in range(1, n // 2 + 1):\n",
    "        if n % i == 0:\n",
    "            now += i\n",
    "            array.append(i)\n",
    "            \n",
    "    if now == n:\n",
    "        print(n, end = ' = ')\n",
    "\n",
    "        for i in range(len(array) - 1):\n",
    "            print(array[i], end = ' ')\n",
    "            print('+ ', end = '')\n",
    "\n",
    "        print(array[len(array) - 1])\n",
    "        \n",
    "    else:\n",
    "        print(n, end = ' ')\n",
    "        print(\"is NOT perfect.\")\n",
    "        \n",
    "            \n",
    "    \n",
    "            "
   ]
  }
 ],
 "metadata": {
  "kernelspec": {
   "display_name": "Python 3",
   "language": "python",
   "name": "python3"
  },
  "language_info": {
   "codemirror_mode": {
    "name": "ipython",
    "version": 3
   },
   "file_extension": ".py",
   "mimetype": "text/x-python",
   "name": "python",
   "nbconvert_exporter": "python",
   "pygments_lexer": "ipython3",
   "version": "3.8.5"
  }
 },
 "nbformat": 4,
 "nbformat_minor": 4
}
