{
 "cells": [
  {
   "cell_type": "code",
   "execution_count": 22,
   "metadata": {},
   "outputs": [
    {
     "name": "stdout",
     "output_type": "stream",
     "text": [
      "5\n",
      "2 3 1 6 5 4\n",
      "3 1 2 4 6 5\n",
      "5 6 4 1 3 2\n",
      "1 3 6 2 4 5\n",
      "4 1 6 5 2 3\n",
      "29\n"
     ]
    }
   ],
   "source": [
    "n = int(input())\n",
    "array = [[] for _ in range(n)]\n",
    "\n",
    "answer = -1\n",
    "\n",
    "for i in range(n):\n",
    "    a, b, c, d, e, f = map(int, input().split())\n",
    "    array[i].append((a, f))\n",
    "    array[i].append((b, d))\n",
    "    array[i].append((c, e))\n",
    "    \n",
    "# 처음에 6으로 실수\n",
    "\n",
    "for index in range(1, 7):\n",
    "    k = index\n",
    "    temp = []\n",
    "    \n",
    "    temp_answer = 0\n",
    "    \n",
    "    for now in range(n):\n",
    "        # print(\"now\", now)\n",
    "        for now_n in range(3):\n",
    "            now_x, now_y = array[now][now_n]\n",
    "            if now_x == k:\n",
    "                temp.append(now_n)\n",
    "                k = now_y\n",
    "                break\n",
    "            \n",
    "            if now_y == k:\n",
    "                temp.append(now_n)\n",
    "                k = now_x\n",
    "                break\n",
    "    \n",
    "\n",
    "    for now in range(n):\n",
    "        va = 0\n",
    "        \n",
    "        for now_n in range(3):\n",
    "            if now_n == temp[now]:\n",
    "                continue\n",
    "            \n",
    "            va = max(va, array[now][now_n][0], array[now][now_n][1])\n",
    "            \n",
    "        temp_answer += va\n",
    "        \n",
    "    answer = max(answer, temp_answer)\n",
    "        \n",
    "    \n",
    "print(answer)\n",
    "            \n",
    "    "
   ]
  }
 ],
 "metadata": {
  "kernelspec": {
   "display_name": "Python 3",
   "language": "python",
   "name": "python3"
  },
  "language_info": {
   "codemirror_mode": {
    "name": "ipython",
    "version": 3
   },
   "file_extension": ".py",
   "mimetype": "text/x-python",
   "name": "python",
   "nbconvert_exporter": "python",
   "pygments_lexer": "ipython3",
   "version": "3.8.5"
  }
 },
 "nbformat": 4,
 "nbformat_minor": 4
}
