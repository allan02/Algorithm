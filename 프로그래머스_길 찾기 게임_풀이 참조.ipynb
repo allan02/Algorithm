{
 "cells": [
  {
   "cell_type": "code",
   "execution_count": 11,
   "metadata": {},
   "outputs": [
    {
     "data": {
      "text/plain": [
       "2"
      ]
     },
     "execution_count": 11,
     "metadata": {},
     "output_type": "execute_result"
    }
   ],
   "source": [
    "arr = [[1,2],[0,2],3,4,5]\n",
    "arr.index(3)"
   ]
  },
  {
   "cell_type": "code",
   "execution_count": 12,
   "metadata": {},
   "outputs": [],
   "source": [
    "import sys\n",
    "sys.setrecursionlimit(10**6) #이걸 안해주면 횟수제한에 걸려서 재귀가 막혀버림\n",
    "\n",
    "preorder = list()\n",
    "postorder = list()\n",
    "\n",
    "def solution(nodeinfo):\n",
    "    \n",
    "    levels = sorted(list({x[1] for x in nodeinfo}), reverse=True) # 어떤 레벨이 있는지 파악 \n",
    "    nodes = sorted(list(zip(range(1, len(nodeinfo)+1),nodeinfo) ), key= lambda x: (-x[1][1], x[1][0]))    #노드좌표와 인덱스를 서로 연결 해 줌 \n",
    "    order(nodes, levels, 0)\n",
    "\n",
    "    return [preorder, postorder]\n",
    "\n",
    "def order(nodeList, levels, curLevel):\n",
    "    n = nodeList[:]\n",
    "    cur = n.pop(0)\n",
    "    preorder.append(cur[0])\n",
    "    if n:\n",
    "        for i in range(len(n)):\n",
    "            if n[i][1][1] == levels[curLevel+1]:\n",
    "                if n[i][1][0] < cur[1][0]:\n",
    "                    order([x for x in nodeList if x[1][0]< cur[1][0]], levels, curLevel+1)\n",
    "                else:\n",
    "                    order([x for x in nodeList if x[1][0]> cur[1][0]], levels, curLevel+1)\n",
    "    postorder.append(cur[0])"
   ]
  },
  {
   "cell_type": "code",
   "execution_count": null,
   "metadata": {},
   "outputs": [],
   "source": []
  }
 ],
 "metadata": {
  "kernelspec": {
   "display_name": "Python 3",
   "language": "python",
   "name": "python3"
  },
  "language_info": {
   "codemirror_mode": {
    "name": "ipython",
    "version": 3
   },
   "file_extension": ".py",
   "mimetype": "text/x-python",
   "name": "python",
   "nbconvert_exporter": "python",
   "pygments_lexer": "ipython3",
   "version": "3.8.5"
  }
 },
 "nbformat": 4,
 "nbformat_minor": 4
}
