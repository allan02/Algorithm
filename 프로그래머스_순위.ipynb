{
 "cells": [
  {
   "cell_type": "code",
   "execution_count": 1,
   "metadata": {},
   "outputs": [],
   "source": [
    "def solution(n, results):\n",
    "    answer = 0\n",
    "    win, lose = {}, {}\n",
    "    for i in range(1, n + 1):\n",
    "        win[i], lose[i] = set(), set()\n",
    "        \n",
    "    for x, y in results:\n",
    "        win[x].add(y)\n",
    "        lose[y].add(x)\n",
    "        \n",
    "    for i in range(1, n + 1):\n",
    "        for loser in win[i]:\n",
    "            lose[loser].update(lose[i])\n",
    "        for winner in lose[i]:\n",
    "            win[winner].update(win[i])\n",
    "        \n",
    "    for i in range(1, n + 1):\n",
    "        if len(win[i]) + len(lose[i]) == n - 1:\n",
    "            answer += 1\n",
    "    return answer"
   ]
  },
  {
   "cell_type": "code",
   "execution_count": null,
   "metadata": {},
   "outputs": [],
   "source": []
  }
 ],
 "metadata": {
  "kernelspec": {
   "display_name": "Python 3",
   "language": "python",
   "name": "python3"
  },
  "language_info": {
   "codemirror_mode": {
    "name": "ipython",
    "version": 3
   },
   "file_extension": ".py",
   "mimetype": "text/x-python",
   "name": "python",
   "nbconvert_exporter": "python",
   "pygments_lexer": "ipython3",
   "version": "3.8.5"
  }
 },
 "nbformat": 4,
 "nbformat_minor": 4
}
