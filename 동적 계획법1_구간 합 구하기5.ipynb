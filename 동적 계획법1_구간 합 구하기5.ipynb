{
 "cells": [
  {
   "cell_type": "code",
   "execution_count": 6,
   "metadata": {},
   "outputs": [
    {
     "name": "stdout",
     "output_type": "stream",
     "text": [
      "4 3\n",
      "1 2 3 4\n",
      "2 3 4 5\n",
      "3 4 5 6\n",
      "4 5 6 7\n",
      "2 2 3 4\n",
      "27\n",
      "3 4 3 4\n",
      "6\n",
      "1 1 4 4\n",
      "64\n"
     ]
    }
   ],
   "source": [
    "#from sys\n",
    "#input = sys.stdin.readline\n",
    "\n",
    "n, m = map(int, input().split())\n",
    "\n",
    "numbers = [[0] * (n + 1)]\n",
    "\n",
    "for _ in range(n):\n",
    "    nums = [0] + [int(x) for x in input().split()]\n",
    "    numbers.append(nums)\n",
    "\n",
    "# prefix sum 행렬 만들기\n",
    "\n",
    "# 행 별로 더하기\n",
    "for i in range(1, n + 1):\n",
    "    for j in range(1, n):\n",
    "        numbers[i][j + 1] += numbers[i][j]\n",
    "\n",
    "# 열 별로 더하기\n",
    "for j in range(1, n + 1):\n",
    "    for i in range(1, n):\n",
    "        numbers[i + 1][j] += numbers[i][j]\n",
    "\n",
    "for _ in range(m):\n",
    "    x1, y1, x2, y2 = map(int, input().split())\n",
    "    print(numbers[x2][y2] - numbers[x1 - 1][y2] - numbers[x2][y1 - 1] + numbers[x1 - 1][y1 - 1])"
   ]
  },
  {
   "cell_type": "code",
   "execution_count": 1,
   "metadata": {},
   "outputs": [
    {
     "name": "stdout",
     "output_type": "stream",
     "text": [
      "\n"
     ]
    }
   ],
   "source": [
    "print()"
   ]
  }
 ],
 "metadata": {
  "kernelspec": {
   "display_name": "Python 3",
   "language": "python",
   "name": "python3"
  },
  "language_info": {
   "codemirror_mode": {
    "name": "ipython",
    "version": 3
   },
   "file_extension": ".py",
   "mimetype": "text/x-python",
   "name": "python",
   "nbconvert_exporter": "python",
   "pygments_lexer": "ipython3",
   "version": "3.8.5"
  }
 },
 "nbformat": 4,
 "nbformat_minor": 4
}
