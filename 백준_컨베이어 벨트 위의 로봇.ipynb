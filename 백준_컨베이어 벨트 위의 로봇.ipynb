{
 "cells": [
  {
   "cell_type": "code",
   "execution_count": 16,
   "metadata": {},
   "outputs": [
    {
     "name": "stdout",
     "output_type": "stream",
     "text": [
      "5 8\n",
      "100 99 60 80 30 20 10 89 99 100\n",
      "472\n"
     ]
    }
   ],
   "source": [
    "n, k = map(int, input().split())\n",
    "\n",
    "array = list(map(int, input().split()))\n",
    "\n",
    "array_box = [0] * 2 * n\n",
    "\n",
    "now = 1\n",
    "    \n",
    "while True:\n",
    "    \n",
    "    # 1\n",
    "    # box\n",
    "    temp = array_box[2 * n - 1]\n",
    "    \n",
    "    for i in range(2 * n - 2, -1, -1):\n",
    "        array_box[i + 1] = array_box[i]\n",
    "        \n",
    "    array_box[0] = temp\n",
    "    array_box[n - 1] = 0\n",
    "    \n",
    "    # 내구도\n",
    "    temp = array[2 * n - 1]\n",
    "    \n",
    "    for i in range(2 * n - 2, -1, -1):\n",
    "        array[i + 1] = array[i]\n",
    "        \n",
    "    array[0] = temp\n",
    "              \n",
    "    # 2\n",
    "    for i in range(n - 2, 0, -1):\n",
    "        if array[i + 1] > 0 and array_box[i + 1] == 0 and array_box[i] == 1:\n",
    "            array_box[i + 1] = 1\n",
    "            array[i + 1] -= 1\n",
    "            array_box[i] = 0\n",
    "            \n",
    "    array_box[n - 1] = 0\n",
    "            \n",
    "        \n",
    "       \n",
    "    # 3\n",
    "    if array_box[0] == 0 and array[0] > 0:\n",
    "        array_box[0] = 1\n",
    "        array[0] -= 1\n",
    "            \n",
    "    # 4\n",
    "    count = 0\n",
    "    \n",
    "    for i in array:\n",
    "        if i == 0:\n",
    "            count += 1\n",
    "            \n",
    "    if count >= k:\n",
    "        break\n",
    "        \n",
    "    now += 1\n",
    "    \n",
    "    #print(array)\n",
    "    #print(array_box)\n",
    "    #print()\n",
    "           \n",
    "print(now)\n",
    "    \n",
    "    \n",
    "    \n",
    "    \n",
    "    \n",
    "    \n",
    "    \n",
    "    \n",
    "\n"
   ]
  }
 ],
 "metadata": {
  "kernelspec": {
   "display_name": "Python 3",
   "language": "python",
   "name": "python3"
  },
  "language_info": {
   "codemirror_mode": {
    "name": "ipython",
    "version": 3
   },
   "file_extension": ".py",
   "mimetype": "text/x-python",
   "name": "python",
   "nbconvert_exporter": "python",
   "pygments_lexer": "ipython3",
   "version": "3.8.5"
  }
 },
 "nbformat": 4,
 "nbformat_minor": 4
}
