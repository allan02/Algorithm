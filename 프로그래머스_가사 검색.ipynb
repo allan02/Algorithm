{
 "cells": [
  {
   "cell_type": "code",
   "execution_count": null,
   "metadata": {},
   "outputs": [],
   "source": [
    "from bisect import bisect_left, bisect_right\n",
    "\n",
    "def count_by_range(a, left_value, right_value):\n",
    "    right_index = bisect_right(a, right_value)\n",
    "    left_index = bisect_left(a, left_value)\n",
    "    return right_index - left_index\n",
    "\n",
    "\n",
    "array = [[] for _ in range(10001)]\n",
    "reversed_array = [[] for _ in range(10001)]\n",
    "\n",
    "def solution(words, queries):\n",
    "    answer = []\n",
    "    \n",
    "    for word in words: \n",
    "        array[len(word)].append(word) \n",
    "        reversed_array[len(word)].append(word[::-1])\n",
    "\n",
    "    for i in range(10001):\n",
    "        array[i].sort()\n",
    "        reversed_array[i].sort()\n",
    "\n",
    "    for q in queries: \n",
    "        if q[0] != '?':\n",
    "            answer.append(count_by_range(array[len(q)], q.replace('?', 'a'), q.replace('?', 'z')))\n",
    "        else: \n",
    "            answer.append(count_by_range(reversed_array[len(q)], q[::-1].replace('?', 'a'), q[::-1].replace('?', 'z')))\n",
    "       \n",
    "    return answer"
   ]
  },
  {
   "cell_type": "code",
   "execution_count": 4,
   "metadata": {},
   "outputs": [
    {
     "name": "stdout",
     "output_type": "stream",
     "text": [
      "[1, 2, 3]\n"
     ]
    }
   ],
   "source": [
    "array = [1, 2, 2, 2, 2, 2, 3]\n",
    "array = set(array)\n",
    "array = list(array)\n",
    "print(array)"
   ]
  },
  {
   "cell_type": "code",
   "execution_count": 16,
   "metadata": {},
   "outputs": [
    {
     "name": "stdout",
     "output_type": "stream",
     "text": [
      "fogaaa\n"
     ]
    }
   ],
   "source": [
    "q = \"fog???\"\n",
    "\n",
    "q = q.replace('?', 'a')\n",
    "\n",
    "print(q)"
   ]
  },
  {
   "cell_type": "code",
   "execution_count": 7,
   "metadata": {},
   "outputs": [
    {
     "name": "stdout",
     "output_type": "stream",
     "text": [
      "a\n",
      "s\n",
      "d\n",
      "w\n"
     ]
    }
   ],
   "source": [
    "for i in \"asdw\":\n",
    "    print(i)"
   ]
  },
  {
   "cell_type": "code",
   "execution_count": 22,
   "metadata": {},
   "outputs": [
    {
     "name": "stdout",
     "output_type": "stream",
     "text": [
      "[['a', 'allan', 'bclas', 'csac', 'dainsc']]\n",
      "1\n",
      "3\n"
     ]
    }
   ],
   "source": [
    "from bisect import bisect_left, bisect_right\n",
    "\n",
    "def count_by_range(a, left_value, right_value):\n",
    "    \n",
    "    right_index = bisect_right(a, right_value)\n",
    "    left_index = bisect_left(a, left_value)\n",
    "    \n",
    "    return right_index - left_index\n",
    "\n",
    "array = [['a']]\n",
    "\n",
    "array[0].append('allan')\n",
    "array[0].append('bclas')\n",
    "array[0].append('csac')\n",
    "array[0].append('dainsc')\n",
    "print(array)\n",
    "print(bisect_right(array[0], 'a'))\n",
    "print(bisect_left(array[0], 'cqscw'))"
   ]
  }
 ],
 "metadata": {
  "kernelspec": {
   "display_name": "Python 3",
   "language": "python",
   "name": "python3"
  },
  "language_info": {
   "codemirror_mode": {
    "name": "ipython",
    "version": 3
   },
   "file_extension": ".py",
   "mimetype": "text/x-python",
   "name": "python",
   "nbconvert_exporter": "python",
   "pygments_lexer": "ipython3",
   "version": "3.8.5"
  }
 },
 "nbformat": 4,
 "nbformat_minor": 4
}
