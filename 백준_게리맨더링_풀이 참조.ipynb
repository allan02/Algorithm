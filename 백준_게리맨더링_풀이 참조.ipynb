{
 "cells": [
  {
   "cell_type": "code",
   "execution_count": null,
   "metadata": {},
   "outputs": [],
   "source": []
  },
  {
   "cell_type": "markdown",
   "metadata": {},
   "source": [
    "## 17471번, 게리맨더링"
   ]
  },
  {
   "cell_type": "code",
   "execution_count": 11,
   "metadata": {},
   "outputs": [
    {
     "name": "stdout",
     "output_type": "stream",
     "text": [
      "6\n",
      "5 2 3 4 1 2\n",
      "2 2 4\n",
      "4 1 3 6 5\n",
      "2 4 2\n",
      "2 1 3\n",
      "1 2\n",
      "1 2\n",
      "([0],) (1,) (2,) (3,) (4,) (5,) (6,) \n",
      "([0], 1) ([0], 2) ([0], 3) ([0], 4) ([0], 5) ([0], 6) (1, 2) (1, 3) (1, 4) (1, 5) (1, 6) (2, 3) (2, 4) (2, 5) (2, 6) (3, 4) (3, 5) (3, 6) (4, 5) (4, 6) (5, 6) \n",
      "([0], 1, 2) ([0], 1, 3) ([0], 1, 4) ([0], 1, 5) ([0], 1, 6) ([0], 2, 3) ([0], 2, 4) ([0], 2, 5) ([0], 2, 6) ([0], 3, 4) ([0], 3, 5) ([0], 3, 6) ([0], 4, 5) ([0], 4, 6) ([0], 5, 6) (1, 2, 3) (1, 2, 4) (1, 2, 5) (1, 2, 6) (1, 3, 4) (1, 3, 5) (1, 3, 6) (1, 4, 5) (1, 4, 6) (1, 5, 6) (2, 3, 4) (2, 3, 5) (2, 3, 6) (2, 4, 5) (2, 4, 6) (2, 5, 6) (3, 4, 5) (3, 4, 6) (3, 5, 6) (4, 5, 6) \n"
     ]
    }
   ],
   "source": [
    "from collections import deque\n",
    "from itertools import combinations\n",
    "INF = int(1e9)\n",
    "\n",
    "n = int(input())\n",
    "populations = list(map(int, input().split()))\n",
    "populations.insert(0, 0)\n",
    "\n",
    "maps = [[0 for _ in range(n+1)] for _ in range(n+1)]\n",
    "\n",
    "# 주어진 그룹의 모든 원소가 서로 연결되어 있는지 확인하는 함수\n",
    "# start: 그룹의 시작점, candidate : 그룹의 모든 구성원\n",
    "\n",
    "def is_group(start, maps, candidates):\n",
    "    queue = deque()\n",
    "    queue.append(start)\n",
    "    count = 1\n",
    "    visited = set()\n",
    "    while queue:\n",
    "        y = queue.popleft()\n",
    "        visited.add(y)\n",
    "        for x in range(len(maps[y])):\n",
    "            if maps[y][x] == 1 and x in candidates and x not in visited:\n",
    "                queue.append(x)\n",
    "                visited.add(x)\n",
    "                count += 1            \n",
    "    if count == len(candidates):\n",
    "        return True\n",
    "    return False\n",
    "\n",
    "for y in range(1, n+1):\n",
    "    adj_list = list(map(int, sys.stdin.readline().split()))\n",
    "    for x in adj_list[1:]:\n",
    "        maps[y][x] = 1\n",
    "\n",
    "max_value = INF\n",
    "\n",
    "\n",
    "for i in range(1, (n // 2 + 1)):\n",
    "    candidates = combinations(range(1, n+1), i)\n",
    "    # 1. 그룹 그분\n",
    "    for one in candidates:\n",
    "        one = list(one)\n",
    "        other = list(set(range(1,n+1)) - set(one))\n",
    "        # 2. 각 그룹별로 bfs를 시행하며 연결여부를 확인한다.\n",
    "        if is_group(one[0], maps, set(one)) is True and is_group(other[0], maps, set(other)) is True:\n",
    "            # 3. 두 개의 그룹 모두 연결되어 있을 경우, 인구차를 구한다.\n",
    "            one_value = [populations[i] for i in one]\n",
    "            other_value = [populations[i] for i in other]\n",
    "            max_value = min(max_value, abs(sum(one_value) - sum(other_value)))\n",
    "\n",
    "if max_value == INF:\n",
    "    print(-1)\n",
    "else:\n",
    "    print(max_value)"
   ]
  },
  {
   "cell_type": "code",
   "execution_count": 2,
   "metadata": {},
   "outputs": [
    {
     "name": "stdout",
     "output_type": "stream",
     "text": [
      "[1, 2, 3, 4, 5]\n",
      "[1, 2, 333, 4, 5]\n"
     ]
    }
   ],
   "source": [
    "a = [1, 2, 3, 4, 5]\n",
    "\n",
    "def go(a):\n",
    "    a[2] = 333\n",
    "    \n",
    "print(a)\n",
    "\n",
    "go(a)\n",
    "\n",
    "print(a)"
   ]
  },
  {
   "cell_type": "code",
   "execution_count": 21,
   "metadata": {},
   "outputs": [
    {
     "name": "stdout",
     "output_type": "stream",
     "text": [
      "{1, 2, 3, 4, 5}\n",
      "{1, 2, 3, 5}\n",
      "{4}\n",
      "1\n",
      "2\n",
      "3\n",
      "4\n",
      "5\n"
     ]
    }
   ],
   "source": [
    "array1 = set([1,2,2,2,3,4,5])\n",
    "array2 = set([1,2,3,2,2,2,3,5])\n",
    "print(array1)\n",
    "print(array2)\n",
    "print(array1 - array2)\n",
    "\n",
    "for i in array1:\n",
    "    print(i)"
   ]
  },
  {
   "cell_type": "code",
   "execution_count": 16,
   "metadata": {},
   "outputs": [
    {
     "name": "stdout",
     "output_type": "stream",
     "text": [
      "[2, 3, 4, 5, 1, 2, 3, 4, 5]\n"
     ]
    }
   ],
   "source": [
    "array = [1, 2, 3, 4, 5]\n",
    "array2 = [2, 3, 4, 5]\n",
    "\n",
    "array2 += array\n",
    "\n",
    "print(array2)"
   ]
  },
  {
   "cell_type": "code",
   "execution_count": 5,
   "metadata": {},
   "outputs": [
    {
     "name": "stdout",
     "output_type": "stream",
     "text": [
      "(1, (2, 3))\n",
      "(1, (3, 5))\n",
      "(1, 4)\n",
      "(1, 5)\n",
      "((2, 3), (3, 5))\n",
      "((2, 3), 4)\n",
      "((2, 3), 5)\n",
      "((3, 5), 4)\n",
      "((3, 5), 5)\n",
      "(4, 5)\n"
     ]
    }
   ],
   "source": [
    "from itertools import combinations\n",
    "\n",
    "a = combinations([1,(2,3),(3, 5),4,5], 2)\n",
    "for i in a:\n",
    "    print(i)"
   ]
  },
  {
   "cell_type": "code",
   "execution_count": 8,
   "metadata": {},
   "outputs": [
    {
     "name": "stdout",
     "output_type": "stream",
     "text": [
      "{1, 2, 3, 4, 5}\n",
      "{1, 2, 3, 4, 5, 6}\n",
      "{1, 2, 3, 4, 5, 6}\n"
     ]
    }
   ],
   "source": [
    "a = set([1,1,1,1,2,3,4,5])\n",
    "print(a)\n",
    "a.add(6)\n",
    "print(a)\n",
    "a.add(1)\n",
    "print(a)"
   ]
  }
 ],
 "metadata": {
  "kernelspec": {
   "display_name": "Python 3",
   "language": "python",
   "name": "python3"
  },
  "language_info": {
   "codemirror_mode": {
    "name": "ipython",
    "version": 3
   },
   "file_extension": ".py",
   "mimetype": "text/x-python",
   "name": "python",
   "nbconvert_exporter": "python",
   "pygments_lexer": "ipython3",
   "version": "3.8.5"
  }
 },
 "nbformat": 4,
 "nbformat_minor": 4
}
