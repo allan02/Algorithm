{
 "cells": [
  {
   "cell_type": "code",
   "execution_count": 3,
   "metadata": {},
   "outputs": [
    {
     "name": "stdout",
     "output_type": "stream",
     "text": [
      "5 11\n",
      "baekjoononlinejudge\n",
      "startlink\n",
      "codeplus\n",
      "sundaycoding\n",
      "codingsh\n",
      "baekjoon\n",
      "codeplus\n",
      "codeminus\n",
      "startlink\n",
      "starlink\n",
      "sundaycoding\n",
      "codingsh\n",
      "codinghs\n",
      "sondaycoding\n",
      "startrink\n",
      "icerink\n",
      "4\n"
     ]
    }
   ],
   "source": [
    "n, m = map(int, input().split())\n",
    "s = set()\n",
    "answer = 0\n",
    "for _ in range(n):\n",
    "    s.add(input())\n",
    "for _ in range(m):\n",
    "    temp = input()\n",
    "    if temp in s:\n",
    "        answer += 1\n",
    "print(answer)"
   ]
  }
 ],
 "metadata": {
  "kernelspec": {
   "display_name": "Python 3",
   "language": "python",
   "name": "python3"
  },
  "language_info": {
   "codemirror_mode": {
    "name": "ipython",
    "version": 3
   },
   "file_extension": ".py",
   "mimetype": "text/x-python",
   "name": "python",
   "nbconvert_exporter": "python",
   "pygments_lexer": "ipython3",
   "version": "3.8.5"
  }
 },
 "nbformat": 4,
 "nbformat_minor": 4
}
