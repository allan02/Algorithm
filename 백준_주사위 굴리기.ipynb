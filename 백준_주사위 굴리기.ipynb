{
 "cells": [
  {
   "cell_type": "markdown",
   "metadata": {},
   "source": [
    "## 14499번, 주사위 굴리기"
   ]
  },
  {
   "cell_type": "code",
   "execution_count": 3,
   "metadata": {},
   "outputs": [
    {
     "name": "stdout",
     "output_type": "stream",
     "text": [
      "4 2 0 0 8\n",
      "0 2\n",
      "3 4\n",
      "5 6\n",
      "7 8\n",
      "4 4 4 1 4 4 4 2\n",
      "0\n",
      "0\n",
      "3\n",
      "0\n",
      "3\n"
     ]
    }
   ],
   "source": [
    "dx = [0, 0, -1, 1]\n",
    "dy = [1, -1, 0, 0]\n",
    "\n",
    "\n",
    "n, m, x, y, k = map(int, input().split())\n",
    "a = [list(map(int, input().split())) for _ in range(n)]\n",
    "order = list(map(int, input().split()))\n",
    "dice = [0 for _ in range(6)]\n",
    "\n",
    "for i in range(k):\n",
    "    dir = order[i] - 1\n",
    "    nx = x + dx[dir]\n",
    "    ny = y + dy[dir]\n",
    "    if not 0 <= nx < n or not 0 <= ny < m:\n",
    "        continue\n",
    "\n",
    "    if dir == 0:\n",
    "        dice[0], dice[2], dice[3], dice[5] = dice[3], dice[0], dice[5], dice[2]\n",
    "    elif dir == 1:\n",
    "        dice[0], dice[2], dice[3], dice[5] = dice[2], dice[5], dice[0], dice[3]\n",
    "    elif dir == 2:\n",
    "        dice[0], dice[1], dice[4], dice[5] = dice[4], dice[0], dice[5], dice[1]\n",
    "    else:\n",
    "        dice[0], dice[1], dice[4], dice[5] = dice[1], dice[5], dice[0], dice[4]\n",
    "\n",
    "    if a[nx][ny] == 0:\n",
    "        a[nx][ny] = dice[5]\n",
    "    else:\n",
    "        dice[5] = a[nx][ny]\n",
    "        a[nx][ny] = 0\n",
    "\n",
    "    x, y = nx, ny\n",
    "    print(dice[0])"
   ]
  },
  {
   "cell_type": "code",
   "execution_count": 2,
   "metadata": {},
   "outputs": [
    {
     "name": "stdout",
     "output_type": "stream",
     "text": [
      "[0, 0, 0, 0, 0, 0]\n",
      "[0, 0, 0, 0, 0, 0]\n"
     ]
    }
   ],
   "source": [
    "array = [0] * 6\n",
    "print(array)\n",
    "array = [0 for _ in range(6)]\n",
    "print(array)"
   ]
  }
 ],
 "metadata": {
  "kernelspec": {
   "display_name": "Python 3",
   "language": "python",
   "name": "python3"
  },
  "language_info": {
   "codemirror_mode": {
    "name": "ipython",
    "version": 3
   },
   "file_extension": ".py",
   "mimetype": "text/x-python",
   "name": "python",
   "nbconvert_exporter": "python",
   "pygments_lexer": "ipython3",
   "version": "3.8.5"
  }
 },
 "nbformat": 4,
 "nbformat_minor": 4
}
