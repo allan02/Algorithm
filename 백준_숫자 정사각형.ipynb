{
 "cells": [
  {
   "cell_type": "code",
   "execution_count": 14,
   "metadata": {},
   "outputs": [
    {
     "name": "stdout",
     "output_type": "stream",
     "text": [
      "1 1\n",
      "1\n",
      "1\n"
     ]
    }
   ],
   "source": [
    "n, m = map(int, input().split())\n",
    "\n",
    "array = []\n",
    "\n",
    "for _ in range(n):\n",
    "    array.append(list(map(int, input())))\n",
    "    \n",
    "check = min(n, m)\n",
    "    \n",
    "answer = 1\n",
    "\n",
    "for i in range(n):\n",
    "    for j in range(m):\n",
    "        for k in range(check):\n",
    "            if (i + k < n) and (j + k < m) and (array[i][j] == array[i][j + k]) and (array[i][j + k] == array[i + k][j + k]) and (array[i + k][j + k] == array[i + k][j]):\n",
    "                answer = max(answer, (k + 1) ** 2)\n",
    "                \n",
    "print(answer)"
   ]
  }
 ],
 "metadata": {
  "kernelspec": {
   "display_name": "Python 3",
   "language": "python",
   "name": "python3"
  },
  "language_info": {
   "codemirror_mode": {
    "name": "ipython",
    "version": 3
   },
   "file_extension": ".py",
   "mimetype": "text/x-python",
   "name": "python",
   "nbconvert_exporter": "python",
   "pygments_lexer": "ipython3",
   "version": "3.8.5"
  }
 },
 "nbformat": 4,
 "nbformat_minor": 4
}
