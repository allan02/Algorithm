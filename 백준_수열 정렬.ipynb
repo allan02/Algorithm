{
 "cells": [
  {
   "cell_type": "code",
   "execution_count": 6,
   "metadata": {},
   "outputs": [
    {
     "name": "stdout",
     "output_type": "stream",
     "text": [
      "4\n",
      "2 1 3 1\n",
      "2 0 3 1 "
     ]
    }
   ],
   "source": [
    "n = int(input())\n",
    "\n",
    "array = list(map(int, input().split()))\n",
    "\n",
    "array2 = []\n",
    "\n",
    "for i in range(n):\n",
    "    array2.append((array[i], i))\n",
    "    \n",
    "array2 = sorted(array2, key = lambda x : x[0])\n",
    "\n",
    "array3 = []\n",
    "\n",
    "for i in range(n):\n",
    "    array3.append((array2[i][1], i))\n",
    "    \n",
    "array3 = sorted(array3, key = lambda x : x[0])\n",
    "\n",
    "for i in array3:\n",
    "    print(i[1], end = ' ')\n"
   ]
  }
 ],
 "metadata": {
  "kernelspec": {
   "display_name": "Python 3",
   "language": "python",
   "name": "python3"
  },
  "language_info": {
   "codemirror_mode": {
    "name": "ipython",
    "version": 3
   },
   "file_extension": ".py",
   "mimetype": "text/x-python",
   "name": "python",
   "nbconvert_exporter": "python",
   "pygments_lexer": "ipython3",
   "version": "3.8.5"
  }
 },
 "nbformat": 4,
 "nbformat_minor": 4
}
