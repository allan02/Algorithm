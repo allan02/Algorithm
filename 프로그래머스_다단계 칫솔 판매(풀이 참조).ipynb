{
 "cells": [
  {
   "cell_type": "code",
   "execution_count": 3,
   "metadata": {},
   "outputs": [
    {
     "name": "stdout",
     "output_type": "stream",
     "text": [
      "[5, 4, 3, 2, 1]\n"
     ]
    }
   ],
   "source": [
    "arr = [1,2,3,4,5]\n",
    "\n",
    "print(arr[::-1])"
   ]
  },
  {
   "cell_type": "code",
   "execution_count": 5,
   "metadata": {},
   "outputs": [],
   "source": [
    "def cal(name, price):\n",
    "    global name_dic\n",
    "    remain_price = 0 if int(price*0.1) < 1 else int(price*0.1)\n",
    "    self_price = price - remain_price\n",
    "    \n",
    "    name_dic[name][1] += self_price\n",
    "    up_name = name_dic[name][0]\n",
    "    if up_name == '':\n",
    "        return\n",
    "    cal(up_name, remain_price)\n",
    "    \n",
    "def solution(enroll, referral, seller, amount):\n",
    "    global name_dic\n",
    "    \n",
    "    name_dic = {}\n",
    "    \n",
    "    for e, r in zip(enroll, referral):\n",
    "        name_dic[e] = ['', 0]\n",
    "        if r != '-':\n",
    "            name_dic[e][0] = r\n",
    "    \n",
    "    for s, a in zip(seller, amount):\n",
    "        price = a * 100\n",
    "        cal(s, price)\n",
    "\n",
    "    answer = [v[1] for k, v in name_dic.items()]\n",
    "    return answer"
   ]
  },
  {
   "cell_type": "code",
   "execution_count": 8,
   "metadata": {},
   "outputs": [
    {
     "name": "stdout",
     "output_type": "stream",
     "text": [
      "{'2': 2}\n",
      "{'2': 4}\n"
     ]
    }
   ],
   "source": [
    "array = {}\n",
    "array[\"2\"] = 2\n",
    "print(array)\n",
    "array[\"2\"] += 2\n",
    "print(array)"
   ]
  },
  {
   "cell_type": "code",
   "execution_count": 9,
   "metadata": {},
   "outputs": [],
   "source": [
    "def solution(enroll, referral, seller, amount):\n",
    "\n",
    "    money = dict([(e, 0) for e in enroll])\n",
    "    head = dict([(e, r) for e, r in zip(enroll, referral)])\n",
    "    \n",
    "    for name, m in zip(seller, amount):\n",
    "        price = 100 * m\n",
    "        \n",
    "        while True:\n",
    "            if name == \"-\" or price <= 0:\n",
    "                break\n",
    "            next_money = int(price * 0.1)\n",
    "            money[name] += price - next_money\n",
    "            \n",
    "            name = head[name]\n",
    "            price = next_money\n",
    "\n",
    "    \n",
    "    return list(money.values())"
   ]
  }
 ],
 "metadata": {
  "kernelspec": {
   "display_name": "Python 3",
   "language": "python",
   "name": "python3"
  },
  "language_info": {
   "codemirror_mode": {
    "name": "ipython",
    "version": 3
   },
   "file_extension": ".py",
   "mimetype": "text/x-python",
   "name": "python",
   "nbconvert_exporter": "python",
   "pygments_lexer": "ipython3",
   "version": "3.8.5"
  }
 },
 "nbformat": 4,
 "nbformat_minor": 4
}
