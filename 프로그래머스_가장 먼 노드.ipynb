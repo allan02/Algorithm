{
 "cells": [
  {
   "cell_type": "code",
   "execution_count": 1,
   "metadata": {},
   "outputs": [],
   "source": [
    "from collections import deque\n",
    "\n",
    "def solution(n, edge):\n",
    "    def bfs():\n",
    "        q = deque()\n",
    "        q.append(1)\n",
    "        \n",
    "        while q:\n",
    "            now = q.popleft()\n",
    "            for i in array[now]:\n",
    "                if distance[i] == -1:\n",
    "                    distance[i] = distance[now] + 1\n",
    "                    q.append(i)\n",
    "                    \n",
    "    array = [[] for i in range(n + 1)]\n",
    "    distance = [-1] * (n + 1)\n",
    "    \n",
    "    for i, j in edge:\n",
    "        array[i].append(j)\n",
    "        array[j].append(i)\n",
    "    distance[1] = 0\n",
    "    bfs()\n",
    "    return distance.count(max(distance))"
   ]
  }
 ],
 "metadata": {
  "kernelspec": {
   "display_name": "Python 3",
   "language": "python",
   "name": "python3"
  },
  "language_info": {
   "codemirror_mode": {
    "name": "ipython",
    "version": 3
   },
   "file_extension": ".py",
   "mimetype": "text/x-python",
   "name": "python",
   "nbconvert_exporter": "python",
   "pygments_lexer": "ipython3",
   "version": "3.8.5"
  }
 },
 "nbformat": 4,
 "nbformat_minor": 4
}
