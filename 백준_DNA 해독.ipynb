{
 "cells": [
  {
   "cell_type": "code",
   "execution_count": 10,
   "metadata": {},
   "outputs": [
    {
     "name": "stdout",
     "output_type": "stream",
     "text": [
      "6\n",
      "AAGTCG\n",
      "A\n"
     ]
    }
   ],
   "source": [
    "n = int(input())\n",
    "s = list(input())\n",
    "\n",
    "while len(s) > 1:\n",
    "    t1 = s.pop()\n",
    "    t2 = s.pop()\n",
    "    \n",
    "    now = t2 + t1 \n",
    "    \n",
    "    if now == 'AA':\n",
    "        s.append('A')\n",
    "        \n",
    "    elif now == 'AG':\n",
    "        s.append('C')\n",
    "        \n",
    "    elif now == 'AC':\n",
    "        s.append('A')\n",
    "        \n",
    "    elif now == 'AT':\n",
    "        s.append('G')\n",
    "        \n",
    "    elif now == 'GA':\n",
    "        s.append('C')\n",
    "        \n",
    "    elif now == 'GG':\n",
    "        s.append('G')\n",
    "        \n",
    "    elif now == 'GC':\n",
    "        s.append('T')\n",
    "        \n",
    "    elif now == 'GT':\n",
    "        s.append('A')\n",
    "        \n",
    "    elif now == 'CA':\n",
    "        s.append('A')\n",
    "        \n",
    "    elif now == 'CG':\n",
    "        s.append('T')\n",
    "        \n",
    "    elif now == 'CC':\n",
    "        s.append('C')\n",
    "        \n",
    "    elif now == 'CT':\n",
    "        s.append('G')\n",
    "        \n",
    "    elif now == 'TA':\n",
    "        s.append('G')\n",
    "        \n",
    "    elif now == 'TG':\n",
    "        s.append('A')\n",
    "        \n",
    "    elif now == 'TC':\n",
    "        s.append('G')\n",
    "        \n",
    "    elif now == 'TT':\n",
    "        s.append('T')\n",
    "           \n",
    "print(s[0])"
   ]
  }
 ],
 "metadata": {
  "kernelspec": {
   "display_name": "Python 3",
   "language": "python",
   "name": "python3"
  },
  "language_info": {
   "codemirror_mode": {
    "name": "ipython",
    "version": 3
   },
   "file_extension": ".py",
   "mimetype": "text/x-python",
   "name": "python",
   "nbconvert_exporter": "python",
   "pygments_lexer": "ipython3",
   "version": "3.8.5"
  }
 },
 "nbformat": 4,
 "nbformat_minor": 4
}
