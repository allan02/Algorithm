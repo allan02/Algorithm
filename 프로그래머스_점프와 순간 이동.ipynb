{
 "cells": [
  {
   "cell_type": "code",
   "execution_count": 4,
   "metadata": {},
   "outputs": [
    {
     "name": "stdout",
     "output_type": "stream",
     "text": [
      "3\n"
     ]
    }
   ],
   "source": [
    "for i in range(3, 4):\n",
    "    print(i)\n",
    "    \n",
    "for i in range(3, 2):\n",
    "    print(i)"
   ]
  },
  {
   "cell_type": "code",
   "execution_count": 5,
   "metadata": {},
   "outputs": [],
   "source": [
    "def solution(n):\n",
    "    ans = 0\n",
    "    while n != 1:\n",
    "        if n % 2 == 0:\n",
    "            n = n // 2\n",
    "        else:\n",
    "            ans += 1\n",
    "            n -= 1\n",
    "    return ans + 1"
   ]
  },
  {
   "cell_type": "code",
   "execution_count": 6,
   "metadata": {},
   "outputs": [],
   "source": [
    "# 시간 초과\n",
    "def solution(n):\n",
    "    ans = 0\n",
    "    d = [n] * (n + 1)\n",
    "    d[1] = 1\n",
    "    for i in range(2, n + 1):\n",
    "        if i % 2 == 0:\n",
    "            d[i] = d[i // 2]\n",
    "        else:\n",
    "            d[i] = d[i - 1] + 1\n",
    "            \n",
    "    return d[n]"
   ]
  }
 ],
 "metadata": {
  "kernelspec": {
   "display_name": "Python 3",
   "language": "python",
   "name": "python3"
  },
  "language_info": {
   "codemirror_mode": {
    "name": "ipython",
    "version": 3
   },
   "file_extension": ".py",
   "mimetype": "text/x-python",
   "name": "python",
   "nbconvert_exporter": "python",
   "pygments_lexer": "ipython3",
   "version": "3.8.5"
  }
 },
 "nbformat": 4,
 "nbformat_minor": 4
}
