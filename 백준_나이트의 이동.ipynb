{
 "cells": [
  {
   "cell_type": "code",
   "execution_count": 2,
   "metadata": {},
   "outputs": [
    {
     "name": "stdout",
     "output_type": "stream",
     "text": [
      "1\n",
      "8\n",
      "0 0\n",
      "7 0\n",
      "5\n"
     ]
    }
   ],
   "source": [
    "#import sys\n",
    "#input = sys.stdin,readline\n",
    "from collections import deque\n",
    "dx = [2, 2, -2, -2, 1, 1, -1, -1]\n",
    "dy = [1, -1, 1, -1, 2, -2, 2, -2]\n",
    "\n",
    "t = int(input())\n",
    "while t != 0:\n",
    "    l = int(input())\n",
    "    array = [[-1] * l for _ in range(l)]\n",
    "    q = deque()\n",
    "    \n",
    "    now_x, now_y = map(int, input().split())\n",
    "    array[now_x][now_y] = 0\n",
    "    q.append((now_x, now_y))\n",
    "    t_x, t_y = map(int,input().split())\n",
    "    \n",
    "    while q:\n",
    "        x, y = q.popleft()\n",
    "        for i in range(8):\n",
    "            nx = x + dx[i]\n",
    "            ny = y + dy[i]\n",
    "            if nx >= 0 and nx < l and ny >= 0 and ny < l and array[nx][ny] == -1:\n",
    "                array[nx][ny] = array[x][y] + 1\n",
    "                q.append((nx, ny))\n",
    "    print(array[t_x][t_y])\n",
    "    \n",
    "    t -= 1"
   ]
  }
 ],
 "metadata": {
  "kernelspec": {
   "display_name": "Python 3",
   "language": "python",
   "name": "python3"
  },
  "language_info": {
   "codemirror_mode": {
    "name": "ipython",
    "version": 3
   },
   "file_extension": ".py",
   "mimetype": "text/x-python",
   "name": "python",
   "nbconvert_exporter": "python",
   "pygments_lexer": "ipython3",
   "version": "3.8.5"
  }
 },
 "nbformat": 4,
 "nbformat_minor": 4
}
