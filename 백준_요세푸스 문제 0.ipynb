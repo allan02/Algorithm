{
 "cells": [
  {
   "cell_type": "code",
   "execution_count": 15,
   "metadata": {},
   "outputs": [
    {
     "name": "stdout",
     "output_type": "stream",
     "text": [
      "7 3\n",
      "<3, 6, 2, 7, 5, 1, 4>\n"
     ]
    }
   ],
   "source": [
    "from collections import deque\n",
    "n, k = map(int, input().split())\n",
    "q = deque()\n",
    "answer = []\n",
    "for i in range(1, n + 1):\n",
    "    q.append(i)\n",
    "\n",
    "now = 1\n",
    "while q:\n",
    "    if now == k:\n",
    "        answer.append(q.popleft())\n",
    "        now = 1\n",
    "    else: \n",
    "        temp = q.popleft()\n",
    "        q.append(temp)\n",
    "        now += 1\n",
    "\n",
    "        \n",
    "print(\"<\", end = '')\n",
    "for i in range(len(answer) - 1):\n",
    "    print(answer[i], end = '')\n",
    "    print(\",\", end = ' ')\n",
    "print(answer[-1], end = '')\n",
    "print(\">\")\n",
    "    \n",
    "    "
   ]
  }
 ],
 "metadata": {
  "kernelspec": {
   "display_name": "Python 3",
   "language": "python",
   "name": "python3"
  },
  "language_info": {
   "codemirror_mode": {
    "name": "ipython",
    "version": 3
   },
   "file_extension": ".py",
   "mimetype": "text/x-python",
   "name": "python",
   "nbconvert_exporter": "python",
   "pygments_lexer": "ipython3",
   "version": "3.8.5"
  }
 },
 "nbformat": 4,
 "nbformat_minor": 4
}
