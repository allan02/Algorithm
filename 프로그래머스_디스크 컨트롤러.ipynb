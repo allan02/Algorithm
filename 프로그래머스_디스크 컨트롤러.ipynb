{
 "cells": [
  {
   "cell_type": "code",
   "execution_count": 4,
   "metadata": {},
   "outputs": [
    {
     "name": "stdout",
     "output_type": "stream",
     "text": [
      "[2, 2, 2, 3]\n",
      "2\n",
      "[2, 2, 3]\n"
     ]
    }
   ],
   "source": [
    "import heapq\n",
    "\n",
    "h = []\n",
    "\n",
    "heapq.heappush(h, 2)\n",
    "heapq.heappush(h, 2)\n",
    "heapq.heappush(h, 2)\n",
    "heapq.heappush(h, 3)\n",
    "\n",
    "print(h)\n",
    "print(heapq.heappop(h))\n",
    "print(h)"
   ]
  },
  {
   "cell_type": "code",
   "execution_count": 5,
   "metadata": {},
   "outputs": [],
   "source": [
    "def solution(jobs):\n",
    "    answer = 0\n",
    "    start = 0  # 현재까지 진행된 작업 시간\n",
    "    length = len(jobs)\n",
    "\n",
    "    jobs = sorted(jobs, key=lambda x: x[1])  # 소요시간 우선 정렬\n",
    "\n",
    "    while len(jobs) != 0:\n",
    "        for i in range(len(jobs)):\n",
    "            if jobs[i][0] <= start:\n",
    "                start += jobs[i][1]\n",
    "                answer += start - jobs[i][0]\n",
    "                jobs.pop(i)\n",
    "                break\n",
    "            # 해당시점에 아직 작업이 들어오지 않았으면 시간 ++\n",
    "            if i == len(jobs) - 1:\n",
    "                start += 1\n",
    "\n",
    "    return answer // length"
   ]
  },
  {
   "cell_type": "code",
   "execution_count": null,
   "metadata": {},
   "outputs": [],
   "source": []
  }
 ],
 "metadata": {
  "kernelspec": {
   "display_name": "Python 3",
   "language": "python",
   "name": "python3"
  },
  "language_info": {
   "codemirror_mode": {
    "name": "ipython",
    "version": 3
   },
   "file_extension": ".py",
   "mimetype": "text/x-python",
   "name": "python",
   "nbconvert_exporter": "python",
   "pygments_lexer": "ipython3",
   "version": "3.8.5"
  }
 },
 "nbformat": 4,
 "nbformat_minor": 4
}
