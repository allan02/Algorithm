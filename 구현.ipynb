{
 "cells": [
  {
   "cell_type": "markdown",
   "metadata": {},
   "source": [
    "## 1, 왕실의 나이트"
   ]
  },
  {
   "cell_type": "code",
   "execution_count": 8,
   "metadata": {},
   "outputs": [
    {
     "name": "stdout",
     "output_type": "stream",
     "text": [
      "a1\n",
      "2\n"
     ]
    }
   ],
   "source": [
    "st = input()\n",
    "\n",
    "x = int(st[1])\n",
    "y = ord(st[0]) - ord('a') + 1\n",
    "\n",
    "count = 0\n",
    "\n",
    "move = [(-1, 2), (-2, 1), (-2, -1), (-1, -2), (1, -2), (2, -1), (2, 1), (1, 2)]\n",
    "\n",
    "for nx, ny in move:\n",
    "    xx = x + nx\n",
    "    yy = y + ny\n",
    "    \n",
    "    if xx >= 1 and xx <= 8 and yy >= 1 and yy <= 8:\n",
    "        count += 1\n",
    "        \n",
    "print(count)"
   ]
  },
  {
   "cell_type": "markdown",
   "metadata": {},
   "source": [
    "## 2, 게임 개발"
   ]
  },
  {
   "cell_type": "code",
   "execution_count": 4,
   "metadata": {},
   "outputs": [
    {
     "name": "stdout",
     "output_type": "stream",
     "text": [
      "4 4\n",
      "1 1 0\n",
      "1 1 1 1\n",
      "1 0 0 1\n",
      "1 1 0 1\n",
      "1 1 1 1\n",
      "3\n"
     ]
    }
   ],
   "source": [
    "n, m = map(int, input().split())\n",
    "\n",
    "x, y, direction = map(int, input().split())\n",
    "\n",
    "graph = []\n",
    "\n",
    "for _ in range(n):\n",
    "    graph.append(list(map(int, input().split())))\n",
    "\n",
    "check = [[0] * m for _ in range(n)] # n, m 똑바로 확인.\n",
    "check[x][y] = 1\n",
    "\n",
    "count = 1\n",
    "\n",
    "def turn_left():\n",
    "    global direction\n",
    "    direction -= 1\n",
    "    if direction == -1:\n",
    "        direction = 3\n",
    "\n",
    "#북 동 남 서 -> 반시계 방향에 유의.\n",
    "\n",
    "dx = [-1, 0, 1, 0]\n",
    "dy = [0, 1, 0, -1]\n",
    "\n",
    "turn_count = 0\n",
    "\n",
    "while True:\n",
    "  \n",
    "    turn_left()\n",
    "    \n",
    "    nx = x + dx[direction]\n",
    "    ny = y + dy[direction]\n",
    "#    print(nx, ny)\n",
    "\n",
    "    if check[nx][ny] == 0 and graph[nx][ny] == 0:\n",
    "        \n",
    "        check[nx][ny] = 1  # 처음엔 작성 X , 처음에 '=' 한개만 작성.\n",
    "        turn_count = 0\n",
    "        x = nx\n",
    "        y = ny\n",
    "        count += 1\n",
    "        turn_count = 0\n",
    "        continue        \n",
    "    else:\n",
    "        turn_count += 1\n",
    "    \n",
    "    if turn_count == 4:\n",
    "        nx = x - dx[direction]\n",
    "        ny = y - dy[direction]\n",
    "        \n",
    "        if graph[nx][ny] == 0:\n",
    "            x = nx\n",
    "            y = ny\n",
    "            turn_count = 0 # 처음엔 작성 X\n",
    "        else:\n",
    "            break\n",
    "        \n",
    "\n",
    "print(count)\n"
   ]
  },
  {
   "cell_type": "code",
   "execution_count": 10,
   "metadata": {},
   "outputs": [
    {
     "name": "stdout",
     "output_type": "stream",
     "text": [
      "[[0, 0, 0], [0, 0, 0]]\n"
     ]
    }
   ],
   "source": [
    "check = [[0] * 3 for _ in range(2)]\n",
    "print(check)"
   ]
  },
  {
   "cell_type": "code",
   "execution_count": 7,
   "metadata": {},
   "outputs": [
    {
     "name": "stdout",
     "output_type": "stream",
     "text": [
      "3 3 3\n",
      "3 3 3\n",
      "[[3, 3, 3], [3, 3, 3]]\n"
     ]
    }
   ],
   "source": [
    "graph = []\n",
    "\n",
    "for _ in range(2):\n",
    "    graph.append(list(map(int, input().split())))\n",
    "\n",
    "print(graph)"
   ]
  },
  {
   "cell_type": "code",
   "execution_count": null,
   "metadata": {},
   "outputs": [],
   "source": []
  }
 ],
 "metadata": {
  "kernelspec": {
   "display_name": "Python 3",
   "language": "python",
   "name": "python3"
  },
  "language_info": {
   "codemirror_mode": {
    "name": "ipython",
    "version": 3
   },
   "file_extension": ".py",
   "mimetype": "text/x-python",
   "name": "python",
   "nbconvert_exporter": "python",
   "pygments_lexer": "ipython3",
   "version": "3.8.5"
  }
 },
 "nbformat": 4,
 "nbformat_minor": 4
}
