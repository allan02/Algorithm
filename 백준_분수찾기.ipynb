{
 "cells": [
  {
   "cell_type": "code",
   "execution_count": 5,
   "metadata": {},
   "outputs": [
    {
     "name": "stdout",
     "output_type": "stream",
     "text": [
      "14\n",
      "2/4\n"
     ]
    }
   ],
   "source": [
    "x = int(input())\n",
    "num_list = []\n",
    "\n",
    "num = 0\n",
    "num_count = 0\n",
    "\n",
    "while num_count < x:\n",
    "    num += 1\n",
    "    num_count += num\n",
    "\n",
    "num_count -= num\n",
    "\n",
    "if num % 2 == 0:\n",
    "    i = x - num_count\n",
    "    j = num - i + 1\n",
    "else:\n",
    "    i = num - (x - num_count) + 1\n",
    "    j = x - num_count\n",
    "\n",
    "print(f\"{i}/{j}\")"
   ]
  }
 ],
 "metadata": {
  "kernelspec": {
   "display_name": "Python 3",
   "language": "python",
   "name": "python3"
  },
  "language_info": {
   "codemirror_mode": {
    "name": "ipython",
    "version": 3
   },
   "file_extension": ".py",
   "mimetype": "text/x-python",
   "name": "python",
   "nbconvert_exporter": "python",
   "pygments_lexer": "ipython3",
   "version": "3.8.5"
  }
 },
 "nbformat": 4,
 "nbformat_minor": 4
}
