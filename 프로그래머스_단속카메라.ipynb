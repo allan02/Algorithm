{
 "cells": [
  {
   "cell_type": "code",
   "execution_count": 1,
   "metadata": {},
   "outputs": [],
   "source": [
    "def solution(routes):\n",
    "    answer = []\n",
    "    routes = sorted(routes, key = lambda x : x[1])\n",
    "    answer.append(routes[0][1])\n",
    "    for i in routes:\n",
    "        check = False\n",
    "        for k in answer:\n",
    "            if i[0] <= k <= i[1]:\n",
    "                check = True\n",
    "        if not check:\n",
    "            answer.append(i[1])\n",
    "    \n",
    "    return len(answer)"
   ]
  }
 ],
 "metadata": {
  "kernelspec": {
   "display_name": "Python 3",
   "language": "python",
   "name": "python3"
  },
  "language_info": {
   "codemirror_mode": {
    "name": "ipython",
    "version": 3
   },
   "file_extension": ".py",
   "mimetype": "text/x-python",
   "name": "python",
   "nbconvert_exporter": "python",
   "pygments_lexer": "ipython3",
   "version": "3.8.5"
  }
 },
 "nbformat": 4,
 "nbformat_minor": 4
}
