{
 "cells": [
  {
   "cell_type": "code",
   "execution_count": 1,
   "metadata": {},
   "outputs": [
    {
     "name": "stdout",
     "output_type": "stream",
     "text": [
      "5\n",
      "1 6\n",
      "1\n",
      "3 7\n",
      "7\n",
      "6 2\n",
      "6\n",
      "7 100\n",
      "1\n",
      "9 635\n",
      "9\n"
     ]
    }
   ],
   "source": [
    "#시간 초과\n",
    "\n",
    "#import sys\n",
    "#input = sys.stdin.readline\n",
    "\n",
    "t = int(input())\n",
    "\n",
    "for _ in range(t):\n",
    "    a, b = map(int, input().split())\n",
    "    print((a ** b) % 10)"
   ]
  },
  {
   "cell_type": "code",
   "execution_count": null,
   "metadata": {},
   "outputs": [],
   "source": [
    "# 풀이 참조\n",
    "\n",
    "N = int(input())\n",
    "# a의 b 제곱값의 1의 자리 수의 패턴 저장\n",
    "array = [[0], [1], [2, 4, 8, 6], [3, 9, 7, 1], [4, 6, 4, 6], [5], [6], [7, 9, 3, 1], [8, 4, 2, 6], [9, 1, 9, 1]]\n",
    "\n",
    "for _ in range(N):\n",
    "    # a, b값 입력 받음\n",
    "    a, b = map(int, input().split())\n",
    "    # a가 10의 배수일 경우, 10 출력\n",
    "    if a % 10 == 0:\n",
    "        print(10)\n",
    "        continue\n",
    "    # a % 10이 1, 5, 6일 경우, a % 10 값 출력\n",
    "    elif a % 10 == 1 or a % 10 == 5 or a % 10 == 6:\n",
    "        print(a % 10)\n",
    "        continue\n",
    "    # b가 0이면 1 출력\n",
    "    if b == 0:\n",
    "        print(1)\n",
    "    # b % 4가 0이면, array에 저장해둔 패턴값 가져옴\n",
    "    elif b % 4 == 0:\n",
    "        print(array[a % 10][3])\n",
    "    else:\n",
    "        print(array[a % 10][b % 4 - 1])"
   ]
  }
 ],
 "metadata": {
  "kernelspec": {
   "display_name": "Python 3",
   "language": "python",
   "name": "python3"
  },
  "language_info": {
   "codemirror_mode": {
    "name": "ipython",
    "version": 3
   },
   "file_extension": ".py",
   "mimetype": "text/x-python",
   "name": "python",
   "nbconvert_exporter": "python",
   "pygments_lexer": "ipython3",
   "version": "3.8.5"
  }
 },
 "nbformat": 4,
 "nbformat_minor": 4
}
