{
 "cells": [
  {
   "cell_type": "code",
   "execution_count": 18,
   "metadata": {},
   "outputs": [
    {
     "name": "stdout",
     "output_type": "stream",
     "text": [
      "18\n",
      "1\n",
      "-1\n",
      "0\n",
      "-1\n",
      "0\n",
      "1\n",
      "0\n",
      "0\n",
      "1\n",
      "1\n",
      "-1\n",
      "-1\n",
      "2\n",
      "-2\n",
      "0\n",
      "-1\n",
      "0\n",
      "-1\n",
      "0\n",
      "1\n",
      "0\n",
      "1\n",
      "0\n",
      "-2\n",
      "0\n",
      "2\n",
      "0\n",
      "0\n"
     ]
    }
   ],
   "source": [
    "#import sys\n",
    "#input = sys.stdin.readline\n",
    "import heapq\n",
    "\n",
    "n = int(input())\n",
    "h = []\n",
    "\n",
    "for _ in range(n):\n",
    "    temp = int(input())\n",
    "    if temp == 0:\n",
    "        if h:\n",
    "            print(heapq.heappop(h)[1])\n",
    "        else:\n",
    "            print(0)\n",
    "    else:\n",
    "        heapq.heappush(h, (abs(temp), temp))\n",
    "    "
   ]
  },
  {
   "cell_type": "code",
   "execution_count": 13,
   "metadata": {},
   "outputs": [
    {
     "name": "stdout",
     "output_type": "stream",
     "text": [
      "(1, -5)\n",
      "(1, -1)\n",
      "(1, 1)\n",
      "(1, 2)\n",
      "(1, 3)\n",
      "(1, 3)\n"
     ]
    }
   ],
   "source": [
    "import heapq\n",
    "\n",
    "a = []\n",
    "heapq.heappush(a, (1, -1))\n",
    "heapq.heappush(a, (1, 2))\n",
    "heapq.heappush(a, (1, 3))\n",
    "heapq.heappush(a, (1, -5))\n",
    "heapq.heappush(a, (1, 3))\n",
    "heapq.heappush(a, (1, 1))\n",
    "\n",
    "print(heapq.heappop(a))\n",
    "print(heapq.heappop(a))\n",
    "print(heapq.heappop(a))\n",
    "print(heapq.heappop(a))\n",
    "print(heapq.heappop(a))\n",
    "print(heapq.heappop(a))"
   ]
  }
 ],
 "metadata": {
  "kernelspec": {
   "display_name": "Python 3",
   "language": "python",
   "name": "python3"
  },
  "language_info": {
   "codemirror_mode": {
    "name": "ipython",
    "version": 3
   },
   "file_extension": ".py",
   "mimetype": "text/x-python",
   "name": "python",
   "nbconvert_exporter": "python",
   "pygments_lexer": "ipython3",
   "version": "3.8.5"
  }
 },
 "nbformat": 4,
 "nbformat_minor": 4
}
