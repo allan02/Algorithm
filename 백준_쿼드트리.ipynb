{
 "cells": [
  {
   "cell_type": "code",
   "execution_count": 20,
   "metadata": {},
   "outputs": [
    {
     "name": "stdout",
     "output_type": "stream",
     "text": [
      "8\n",
      "11110000\n",
      "11110000\n",
      "00011100\n",
      "00011100\n",
      "11110000\n",
      "11110000\n",
      "11110011\n",
      "11110011\n",
      "((110(0101))(0010)1(0001))\n"
     ]
    }
   ],
   "source": [
    "#import sys\n",
    "#input = sys.stdin.readline\n",
    "n = int(input())\n",
    "graph = []\n",
    "for _ in range(n):\n",
    "    # input().rstrip() 생활화! 안쓰면 오류\n",
    "    graph.append(list(map(int, input())))\n",
    "\n",
    "answer  = ''\n",
    "\n",
    "def sol(x1, y1, x2, y2):\n",
    "    global answer\n",
    "    \n",
    "    temp = graph[x1][y1]\n",
    "    flag = True\n",
    "    \n",
    "    for i in range(x1, x2):\n",
    "        for j in range(y1, y2):\n",
    "            if graph[i][j] != temp:\n",
    "                flag = False\n",
    "                break\n",
    "                \n",
    "    if flag == True:\n",
    "        answer += str(temp)\n",
    "    else:\n",
    "        answer += '('\n",
    "        sol(x1, y1, (x1 + x2) // 2, (y1 + y2) // 2)\n",
    "        sol(x1, (y1 + y2) // 2, (x1 + x2) // 2, y2)\n",
    "        sol((x1 + x2) // 2, y1, x2, (y1 + y2) // 2)\n",
    "        sol((x1 + x2) // 2, (y1 + y2) // 2, x2, y2)\n",
    "        answer += ')'\n",
    "\n",
    "sol(0, 0, n, n)\n",
    "print(answer)"
   ]
  },
  {
   "cell_type": "code",
   "execution_count": 8,
   "metadata": {},
   "outputs": [
    {
     "name": "stdout",
     "output_type": "stream",
     "text": [
      "[[1, 2, 3, 4, 5], [1, 2, 3, 4, 5], [1, 2, 3, 4, 5]]\n",
      "[[1, 2, 3, 4, 5]]\n"
     ]
    }
   ],
   "source": [
    "array = [[1,2,3,4,5], [1,2,3,4,5], [1,2,3,4,5]]\n",
    "print(array)\n",
    "print(array[:1][:1])"
   ]
  },
  {
   "cell_type": "code",
   "execution_count": 12,
   "metadata": {},
   "outputs": [
    {
     "name": "stdout",
     "output_type": "stream",
     "text": [
      "34\n",
      "3(3\n"
     ]
    }
   ],
   "source": [
    "print(str(3) + str(4))\n",
    "a = '3'\n",
    "a += '(' + str(3)\n",
    "print(a)"
   ]
  }
 ],
 "metadata": {
  "kernelspec": {
   "display_name": "Python 3",
   "language": "python",
   "name": "python3"
  },
  "language_info": {
   "codemirror_mode": {
    "name": "ipython",
    "version": 3
   },
   "file_extension": ".py",
   "mimetype": "text/x-python",
   "name": "python",
   "nbconvert_exporter": "python",
   "pygments_lexer": "ipython3",
   "version": "3.8.5"
  }
 },
 "nbformat": 4,
 "nbformat_minor": 4
}
