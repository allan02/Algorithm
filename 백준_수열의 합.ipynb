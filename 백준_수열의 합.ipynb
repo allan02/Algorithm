{
 "cells": [
  {
   "cell_type": "code",
   "execution_count": 16,
   "metadata": {},
   "outputs": [
    {
     "name": "stdout",
     "output_type": "stream",
     "text": [
      "45 10\n",
      "0 1 2 3 4 5 6 7 8 9 "
     ]
    }
   ],
   "source": [
    "# 시간 초과\n",
    "\n",
    "from collections import deque\n",
    "\n",
    "n, l = map(int, input().split())\n",
    "\n",
    "q = deque()\n",
    "\n",
    "end = n // 2\n",
    "now = end - 1\n",
    "\n",
    "q.append(end)\n",
    "q.append(now)\n",
    "\n",
    "check = False\n",
    "\n",
    "while True:\n",
    "    if now < 0:\n",
    "        break\n",
    "        \n",
    "    if sum(q) == n and len(q) >= l:\n",
    "        check = True\n",
    "        break\n",
    "        \n",
    "    if sum(q) > n:\n",
    "        q.popleft()\n",
    "        q.append(now)\n",
    "        now -= 1\n",
    "    \n",
    "    else:\n",
    "        q.append(now)\n",
    "        now -= 1\n",
    "        \n",
    "    if sum(q) == n and len(q) >= l:\n",
    "        check = True\n",
    "        break\n",
    "        \n",
    "if check:\n",
    "    while q:\n",
    "        print(q.pop(), end = ' ')\n",
    "else:\n",
    "    print(-1)\n"
   ]
  },
  {
   "cell_type": "code",
   "execution_count": 17,
   "metadata": {},
   "outputs": [
    {
     "name": "stdout",
     "output_type": "stream",
     "text": [
      "18 2\n",
      "5 6 7 \n"
     ]
    }
   ],
   "source": [
    "n, l = map(int, input().split())\n",
    "\n",
    "for i in range(l, 101):\n",
    "    x = n - (i * (i + 1) / 2)\n",
    "    \n",
    "    if x % i == 0:\n",
    "        x = int(x / i)\n",
    "        \n",
    "        if x >= -1:\n",
    "            for j in range(1, i + 1):\n",
    "                print(x + j, end = ' ')\n",
    "            print()\n",
    "            break\n",
    "else:\n",
    "    print(-1)"
   ]
  }
 ],
 "metadata": {
  "kernelspec": {
   "display_name": "Python 3",
   "language": "python",
   "name": "python3"
  },
  "language_info": {
   "codemirror_mode": {
    "name": "ipython",
    "version": 3
   },
   "file_extension": ".py",
   "mimetype": "text/x-python",
   "name": "python",
   "nbconvert_exporter": "python",
   "pygments_lexer": "ipython3",
   "version": "3.8.5"
  }
 },
 "nbformat": 4,
 "nbformat_minor": 4
}
