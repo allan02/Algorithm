{
 "cells": [
  {
   "cell_type": "code",
   "execution_count": 1,
   "metadata": {},
   "outputs": [],
   "source": [
    "def solution(m, n, board):\n",
    "    answer = 0\n",
    "    b = []\n",
    "    for i in range(m):\n",
    "        temp = []\n",
    "        for j in range(n):\n",
    "            temp.append(board[i][j])\n",
    "        b.append(temp)\n",
    "        \n",
    "    while True:\n",
    "        array = []\n",
    "        check = False\n",
    "        \n",
    "        for i in range(m - 1):\n",
    "            for j in range(n - 1):\n",
    "                if b[i][j] == b[i + 1][j] == b[i][j + 1] == b[i + 1][j + 1] and b[i][j] != 'X':\n",
    "                    array.append((i, j))\n",
    "                    array.append((i + 1, j))\n",
    "                    array.append((i, j + 1))\n",
    "                    array.append((i + 1, j + 1))\n",
    "                    check = True\n",
    "        \n",
    "        array = set(array)\n",
    "        \n",
    "        while array:\n",
    "            x, y = array.pop()\n",
    "            answer += 1\n",
    "            b[x][y] = 'X'\n",
    "        \n",
    "        for i in range(m - 1, 0, -1):\n",
    "            for j in range(n):\n",
    "                if b[i][j] == 'X':\n",
    "                    for k in range(i, -1, -1):\n",
    "                        if b[k][j] != 'X':\n",
    "                            b[i][j] = b[k][j]\n",
    "                            b[k][j] = 'X'\n",
    "                            break\n",
    "        if not check:\n",
    "            break\n",
    "        \n",
    "    return answer"
   ]
  }
 ],
 "metadata": {
  "kernelspec": {
   "display_name": "Python 3",
   "language": "python",
   "name": "python3"
  },
  "language_info": {
   "codemirror_mode": {
    "name": "ipython",
    "version": 3
   },
   "file_extension": ".py",
   "mimetype": "text/x-python",
   "name": "python",
   "nbconvert_exporter": "python",
   "pygments_lexer": "ipython3",
   "version": "3.8.5"
  }
 },
 "nbformat": 4,
 "nbformat_minor": 4
}
