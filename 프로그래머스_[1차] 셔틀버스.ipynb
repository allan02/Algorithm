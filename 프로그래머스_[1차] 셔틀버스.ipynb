{
 "cells": [
  {
   "cell_type": "code",
   "execution_count": 1,
   "metadata": {},
   "outputs": [],
   "source": [
    "from collections import deque\n",
    "\n",
    "def solution(n, t, m, timetable):\n",
    "    answer = ''\n",
    "    time = []\n",
    "    for i in timetable:\n",
    "        hh, mm = map(int, i.split(':'))\n",
    "        time.append(hh * 60 + mm)\n",
    "    time.sort()\n",
    "    time = deque(time)\n",
    "    \n",
    "    bus = []\n",
    "    temp = 9 * 60\n",
    "    for i in range(n):\n",
    "        bus.append(temp)\n",
    "        temp += t\n",
    "    \n",
    "    i = 0\n",
    "    for b in bus:\n",
    "        count = 0\n",
    "        while count < m and i < len(time) and time[i] <= b:\n",
    "            count += 1\n",
    "            i += 1\n",
    "    \n",
    "        if count < m:\n",
    "            answer = b\n",
    "            \n",
    "        else:\n",
    "            answer = time[i - 1] - 1\n",
    "            \n",
    "    answer = str(answer // 60).zfill(2) + \":\" + str(answer % 60).zfill(2)\n",
    "        \n",
    "    return answer"
   ]
  }
 ],
 "metadata": {
  "kernelspec": {
   "display_name": "Python 3",
   "language": "python",
   "name": "python3"
  },
  "language_info": {
   "codemirror_mode": {
    "name": "ipython",
    "version": 3
   },
   "file_extension": ".py",
   "mimetype": "text/x-python",
   "name": "python",
   "nbconvert_exporter": "python",
   "pygments_lexer": "ipython3",
   "version": "3.8.5"
  }
 },
 "nbformat": 4,
 "nbformat_minor": 4
}
