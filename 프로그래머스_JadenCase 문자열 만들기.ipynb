{
 "cells": [
  {
   "cell_type": "code",
   "execution_count": 3,
   "metadata": {},
   "outputs": [
    {
     "name": "stdout",
     "output_type": "stream",
     "text": [
      " \n",
      " \n",
      " \n",
      " \n",
      " \n",
      " \n",
      " \n",
      " \n",
      " \n",
      "a\n",
      "s\n",
      "d\n",
      " \n",
      " \n",
      " \n",
      " \n",
      " \n",
      " \n",
      "a\n",
      "s\n",
      "d\n"
     ]
    }
   ],
   "source": [
    "a = \"         asd      asd\"\n",
    "for i in range(len(a)):\n",
    "    print(a[i])"
   ]
  },
  {
   "cell_type": "code",
   "execution_count": 8,
   "metadata": {},
   "outputs": [
    {
     "data": {
      "text/plain": [
       "'3people Unfollowed Me'"
      ]
     },
     "execution_count": 8,
     "metadata": {},
     "output_type": "execute_result"
    }
   ],
   "source": [
    "def solution(s):\n",
    "    answer = ''\n",
    "    if s[0] == ' ':\n",
    "        answer += ' '\n",
    "        for i in range(1, len(s)):\n",
    "            if s[i].isalpha() and s[i - 1] == ' ':\n",
    "                answer += s[i].upper()\n",
    "            else:\n",
    "                if s[i].isalpha():\n",
    "                    answer += s[i].lower()\n",
    "                else:\n",
    "                    answer += s[i]\n",
    "    else:\n",
    "        if s[0].isalpha():\n",
    "            answer += s[0].upper()\n",
    "        else:\n",
    "            answer += s[0]\n",
    "            \n",
    "        for i in range(1, len(s)):\n",
    "            if s[i].isalpha() and s[i - 1] == ' ':\n",
    "                answer += s[i].upper()\n",
    "            else:\n",
    "                if s[i].isalpha():\n",
    "                    answer += s[i].lower()\n",
    "                else:\n",
    "                    answer += s[i]\n",
    "    \n",
    "    return answer\n",
    "    \n",
    "solution(\"3people unFollowed me\")"
   ]
  },
  {
   "cell_type": "code",
   "execution_count": null,
   "metadata": {},
   "outputs": [],
   "source": []
  }
 ],
 "metadata": {
  "kernelspec": {
   "display_name": "Python 3",
   "language": "python",
   "name": "python3"
  },
  "language_info": {
   "codemirror_mode": {
    "name": "ipython",
    "version": 3
   },
   "file_extension": ".py",
   "mimetype": "text/x-python",
   "name": "python",
   "nbconvert_exporter": "python",
   "pygments_lexer": "ipython3",
   "version": "3.8.5"
  }
 },
 "nbformat": 4,
 "nbformat_minor": 4
}
