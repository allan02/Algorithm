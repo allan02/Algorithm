{
 "cells": [
  {
   "cell_type": "code",
   "execution_count": 13,
   "metadata": {},
   "outputs": [
    {
     "name": "stdout",
     "output_type": "stream",
     "text": [
      "seungjaehwang\n",
      "4\n",
      "a 0 5\n",
      "0\n",
      "a 0 6\n",
      "1\n",
      "a 6 10\n",
      "2\n",
      "a 7 10\n",
      "1\n"
     ]
    }
   ],
   "source": [
    "# 50점\n",
    "\n",
    "#import sys\n",
    "#input = sys.stdin.readline\n",
    "\n",
    "s = input()\n",
    "n = int(input())\n",
    "\n",
    "for _ in range(n):\n",
    "    c, a, b = input().split()\n",
    "    count = 0\n",
    "    for i in range(int(a), int(b) + 1):\n",
    "        if s[i] == c:\n",
    "            count += 1\n",
    "    print(str(count) + '\\n')        \n",
    "    "
   ]
  },
  {
   "cell_type": "code",
   "execution_count": null,
   "metadata": {},
   "outputs": [],
   "source": [
    "# 풀이 참조\n",
    "\n",
    "import sys\n",
    "\n",
    "input = sys.stdin.readline\n",
    "\n",
    "name = input().strip()\n",
    "n = int(input())\n",
    "arr = [[0 for i in range(26)] for i in range(len(name))]\n",
    "arr[0][ord(name[0]) - 97] = 1\n",
    "for i in range(1, len(name)):\n",
    "    arr[i][ord(name[i]) - 97] = 1\n",
    "    for j in range(26):\n",
    "        arr[i][j] += arr[i - 1][j]\n",
    "for i in range(n):\n",
    "    a = input().split()\n",
    "    if int(a[1]) > 0:\n",
    "        res = arr[int(\n",
    "            a[2])][ord(a[0]) - 97] - arr[int(a[1]) - 1][ord(a[0]) - 97]\n",
    "    else:\n",
    "        res = arr[int(a[2])][ord(a[0]) - 97]\n",
    "    print(res)\n",
    "\n",
    "#26개"
   ]
  }
 ],
 "metadata": {
  "kernelspec": {
   "display_name": "Python 3",
   "language": "python",
   "name": "python3"
  },
  "language_info": {
   "codemirror_mode": {
    "name": "ipython",
    "version": 3
   },
   "file_extension": ".py",
   "mimetype": "text/x-python",
   "name": "python",
   "nbconvert_exporter": "python",
   "pygments_lexer": "ipython3",
   "version": "3.8.5"
  }
 },
 "nbformat": 4,
 "nbformat_minor": 4
}
