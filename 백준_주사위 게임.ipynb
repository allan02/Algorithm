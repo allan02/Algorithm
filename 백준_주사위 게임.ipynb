{
 "cells": [
  {
   "cell_type": "code",
   "execution_count": 3,
   "metadata": {},
   "outputs": [
    {
     "name": "stdout",
     "output_type": "stream",
     "text": [
      "3\n",
      "3 3 6\n",
      "2 2 2\n",
      "6 2 5\n",
      "12000\n"
     ]
    }
   ],
   "source": [
    "n = int(input())\n",
    "\n",
    "array = []\n",
    "\n",
    "for _ in range(n):\n",
    "    a, b, c = map(int, input().split())\n",
    "    \n",
    "    if a == b == c:\n",
    "        temp = a * 1000\n",
    "        array.append(10000 + temp)\n",
    "        \n",
    "    elif a != b and a != c and b != c:\n",
    "        temp = max(a, b, c)\n",
    "        array.append(temp * 100)\n",
    "        \n",
    "    else:\n",
    "        if a == b:\n",
    "            array.append(1000 + 100 * a)\n",
    "        elif a == c:\n",
    "            array.append(1000 + 100 * a)\n",
    "        else:\n",
    "            array.append(1000 + 100 * b)\n",
    "            \n",
    "print(max(array))"
   ]
  }
 ],
 "metadata": {
  "kernelspec": {
   "display_name": "Python 3",
   "language": "python",
   "name": "python3"
  },
  "language_info": {
   "codemirror_mode": {
    "name": "ipython",
    "version": 3
   },
   "file_extension": ".py",
   "mimetype": "text/x-python",
   "name": "python",
   "nbconvert_exporter": "python",
   "pygments_lexer": "ipython3",
   "version": "3.8.5"
  }
 },
 "nbformat": 4,
 "nbformat_minor": 4
}
