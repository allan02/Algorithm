{
 "cells": [
  {
   "cell_type": "code",
   "execution_count": 3,
   "metadata": {},
   "outputs": [
    {
     "name": "stdout",
     "output_type": "stream",
     "text": [
      "4\n",
      "5 6\n",
      "6 6\n",
      "4 3\n",
      "5 2\n",
      "94\n",
      "91\n"
     ]
    }
   ],
   "source": [
    "a = 100\n",
    "b = 100\n",
    "n = int(input())\n",
    "\n",
    "for _ in range(n):\n",
    "    x, y = map(int, input().split())\n",
    "    if x < y:\n",
    "        a -= y\n",
    "    elif x > y:\n",
    "        b -= x\n",
    "    else:\n",
    "        continue\n",
    "    \n",
    "print(a)\n",
    "print(b)"
   ]
  }
 ],
 "metadata": {
  "kernelspec": {
   "display_name": "Python 3",
   "language": "python",
   "name": "python3"
  },
  "language_info": {
   "codemirror_mode": {
    "name": "ipython",
    "version": 3
   },
   "file_extension": ".py",
   "mimetype": "text/x-python",
   "name": "python",
   "nbconvert_exporter": "python",
   "pygments_lexer": "ipython3",
   "version": "3.8.5"
  }
 },
 "nbformat": 4,
 "nbformat_minor": 4
}
