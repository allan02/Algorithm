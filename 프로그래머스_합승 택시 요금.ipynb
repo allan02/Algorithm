{
 "cells": [
  {
   "cell_type": "code",
   "execution_count": 1,
   "metadata": {},
   "outputs": [],
   "source": [
    "def solution(n, s, a, b, fares):\n",
    "    INF = int(1e9)\n",
    "    answer = INF\n",
    "    array = [[INF] * n for _ in range(n)]\n",
    "                \n",
    "    for x, y, cost in fares:\n",
    "        array[x - 1][y - 1] = cost\n",
    "        array[y - 1][x - 1] = cost\n",
    "    \n",
    "    for k in range(n):\n",
    "        for i in range(n):\n",
    "            for j in range(n):\n",
    "                if i == j:\n",
    "                    array[i][j] = 0\n",
    "                    continue          \n",
    "                if array[i][j] > array[i][k] + array[k][j]:\n",
    "                    array[i][j] = array[i][k] + array[k][j]\n",
    "        \n",
    "    \n",
    "    for i in range(n):\n",
    "        answer = min(answer, array[s - 1][i] + array[i][a - 1] + array[i][b - 1])\n",
    "    \n",
    "    return answer"
   ]
  },
  {
   "cell_type": "code",
   "execution_count": null,
   "metadata": {},
   "outputs": [],
   "source": []
  }
 ],
 "metadata": {
  "kernelspec": {
   "display_name": "Python 3",
   "language": "python",
   "name": "python3"
  },
  "language_info": {
   "codemirror_mode": {
    "name": "ipython",
    "version": 3
   },
   "file_extension": ".py",
   "mimetype": "text/x-python",
   "name": "python",
   "nbconvert_exporter": "python",
   "pygments_lexer": "ipython3",
   "version": "3.8.5"
  }
 },
 "nbformat": 4,
 "nbformat_minor": 4
}
