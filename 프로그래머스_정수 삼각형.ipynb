{
 "cells": [
  {
   "cell_type": "code",
   "execution_count": null,
   "metadata": {},
   "outputs": [],
   "source": [
    "def solution(triangle):\n",
    "    answer = 0\n",
    "    a = len(triangle)\n",
    "    d = [[] for _ in range(a)]\n",
    "    for i in range(a):\n",
    "        for j in range(i + 1):\n",
    "            d[i].append(0)\n",
    "    \n",
    "    d[0][0] = triangle[0][0]\n",
    "    \n",
    "    for i in range(1, a):\n",
    "        for j in range(i + 1):\n",
    "            if j - 1 >= 0:\n",
    "                d[i][j] = max(d[i][j], d[i - 1][j - 1] + triangle[i][j])\n",
    "            if j <= i - 1:\n",
    "                d[i][j] = max(d[i][j], d[i - 1][j] + triangle[i][j])\n",
    "                \n",
    "    answer = max(d[a - 1])\n",
    "                \n",
    "    \n",
    "    return answer"
   ]
  }
 ],
 "metadata": {
  "kernelspec": {
   "display_name": "Python 3",
   "language": "python",
   "name": "python3"
  },
  "language_info": {
   "codemirror_mode": {
    "name": "ipython",
    "version": 3
   },
   "file_extension": ".py",
   "mimetype": "text/x-python",
   "name": "python",
   "nbconvert_exporter": "python",
   "pygments_lexer": "ipython3",
   "version": "3.8.5"
  }
 },
 "nbformat": 4,
 "nbformat_minor": 4
}
