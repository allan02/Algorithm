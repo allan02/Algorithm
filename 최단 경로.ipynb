{
 "cells": [
  {
   "cell_type": "markdown",
   "metadata": {},
   "source": [
    "## 1, 미래 도시"
   ]
  },
  {
   "cell_type": "code",
   "execution_count": 4,
   "metadata": {},
   "outputs": [
    {
     "name": "stdout",
     "output_type": "stream",
     "text": [
      "5 7\n",
      "1 2\n",
      "1 3\n",
      "1 4\n",
      "2 4\n",
      "3 4\n",
      "3 5\n",
      "4 5\n",
      "4 5\n",
      "3\n"
     ]
    }
   ],
   "source": [
    "INF = int(1e9)\n",
    "\n",
    "n, m = map(int, input().split())\n",
    "\n",
    "graph = [[INF] * (n + 1) for _ in range(n + 1)]\n",
    "\n",
    "for i in range(1, n + 1):\n",
    "    for j in range(1, n + 1):\n",
    "        if i == j:\n",
    "            graph[i][j] = 0\n",
    "\n",
    "for _ in range(m):\n",
    "    a, b = map(int, input().split())\n",
    "    graph[a][b] = 1\n",
    "    graph[b][a] = 1 # 양방향이므로\n",
    "    \n",
    "    \n",
    "for k in range(1, n + 1):\n",
    "    for i in range(1, n + 1):\n",
    "        for j in range(1, n + 1):\n",
    "            graph[i][j] = min(graph[i][j], graph[i][k] + graph[k][j])\n",
    "            \n",
    "x, k = map(int, input().split())\n",
    "\n",
    "if graph[1][k] + graph[k][x] < INF:\n",
    "    print(graph[1][k] + graph[k][x])\n",
    "else:\n",
    "    print('-1')\n",
    "\n"
   ]
  },
  {
   "cell_type": "markdown",
   "metadata": {},
   "source": [
    "## 2, 전보"
   ]
  },
  {
   "cell_type": "code",
   "execution_count": 11,
   "metadata": {},
   "outputs": [
    {
     "name": "stdout",
     "output_type": "stream",
     "text": [
      "3 2 1\n",
      "1 2 4\n",
      "1 3 2\n",
      "2 4\n"
     ]
    }
   ],
   "source": [
    "import heapq\n",
    "\n",
    "INF = int(1e9)\n",
    "\n",
    "n, m, start = map(int, input().split())\n",
    "\n",
    "graph = [[] for _ in range(n + 1)]\n",
    "\n",
    "distance = [INF] * (n + 1)\n",
    "\n",
    "for _ in range(m):\n",
    "    x, y, z = map(int, input().split())\n",
    "    graph[x].append((y, z))\n",
    "    \n",
    "\n",
    "distance[start] = 0\n",
    "\n",
    "queue = []\n",
    "heapq.heappush(queue, (0, start))\n",
    "\n",
    "while queue:\n",
    "    dist, now = heapq.heappop(queue)\n",
    "    \n",
    "    if dist > distance[now]:\n",
    "        continue\n",
    "        \n",
    "    for i in graph[now]:\n",
    "        cost = distance[now] + i[1]\n",
    "        \n",
    "        if distance[i[0]] > cost:\n",
    "            distance[i[0]] = cost\n",
    "            heapq.heappush(queue, (cost, i[0]))\n",
    "            \n",
    "result = 0\n",
    "count = 0\n",
    "\n",
    "for i in distance:\n",
    "    if i < INF:\n",
    "        count += 1\n",
    "        result = max(result, i)\n",
    "        \n",
    "print(count - 1, result)\n",
    "\n",
    "\n"
   ]
  },
  {
   "cell_type": "code",
   "execution_count": null,
   "metadata": {},
   "outputs": [],
   "source": []
  },
  {
   "cell_type": "code",
   "execution_count": null,
   "metadata": {},
   "outputs": [],
   "source": []
  }
 ],
 "metadata": {
  "kernelspec": {
   "display_name": "Python 3",
   "language": "python",
   "name": "python3"
  },
  "language_info": {
   "codemirror_mode": {
    "name": "ipython",
    "version": 3
   },
   "file_extension": ".py",
   "mimetype": "text/x-python",
   "name": "python",
   "nbconvert_exporter": "python",
   "pygments_lexer": "ipython3",
   "version": "3.8.5"
  }
 },
 "nbformat": 4,
 "nbformat_minor": 4
}
