{
 "cells": [
  {
   "cell_type": "code",
   "execution_count": 1,
   "metadata": {},
   "outputs": [
    {
     "name": "stdout",
     "output_type": "stream",
     "text": [
      "[1, 3, 2, 3, 4, 5]\n"
     ]
    }
   ],
   "source": [
    "a = [1,2,3,4,5]\n",
    "a.insert(1, 3)\n",
    "print(a)"
   ]
  },
  {
   "cell_type": "code",
   "execution_count": null,
   "metadata": {},
   "outputs": [],
   "source": [
    "from itertools import permutations\n",
    "import copy\n",
    "\n",
    "def calculator(a, b, opr):\n",
    "    if opr == '*':\n",
    "        return a * b\n",
    "    if opr == '+':\n",
    "        return a + b\n",
    "    return a - b\n",
    "\n",
    "def solution(expression):\n",
    "    answer = 0\n",
    "    basic = ['+', '-', '*']\n",
    "    array = []\n",
    "    index = 0\n",
    "    for i in range(len(expression)):\n",
    "        if expression[i] in basic:\n",
    "            array.append(expression[index : i])\n",
    "            array.append(expression[i])\n",
    "            index = i + 1\n",
    "    array.append(expression[index : ])\n",
    "    basic_arr = permutations(basic, 3)\n",
    "    \n",
    "    for i in basic_arr:\n",
    "        temp = copy.deepcopy(array)\n",
    "        index = 0\n",
    "\n",
    "        while index < len(temp):\n",
    "            if temp[index] == i[0]:\n",
    "                temp.insert(index - 1, calculator(int(temp[index - 1]), int(temp[index + 1]), temp[index]))\n",
    "                temp.pop(index)\n",
    "                temp.pop(index)\n",
    "                temp.pop(index)\n",
    "                index -= 1\n",
    "            index += 1\n",
    "        index = 0\n",
    "        \n",
    "        while index < len(temp):\n",
    "            if temp[index] == i[1]:\n",
    "                temp.insert(index - 1, calculator(int(temp[index - 1]), int(temp[index + 1]), temp[index]))\n",
    "                temp.pop(index)\n",
    "                temp.pop(index)\n",
    "                temp.pop(index)\n",
    "                index -= 1\n",
    "            index += 1\n",
    "        index = 0\n",
    "                \n",
    "        while index < len(temp):\n",
    "            if temp[index] == i[2]:\n",
    "                temp.insert(index - 1, calculator(int(temp[index - 1]), int(temp[index + 1]), temp[index]))\n",
    "                temp.pop(index)\n",
    "                temp.pop(index)\n",
    "                temp.pop(index)\n",
    "                index -= 1\n",
    "            index += 1\n",
    "        \n",
    "        answer = max(answer, abs(temp[0]))\n",
    "    \n",
    "    return answer"
   ]
  }
 ],
 "metadata": {
  "kernelspec": {
   "display_name": "Python 3",
   "language": "python",
   "name": "python3"
  },
  "language_info": {
   "codemirror_mode": {
    "name": "ipython",
    "version": 3
   },
   "file_extension": ".py",
   "mimetype": "text/x-python",
   "name": "python",
   "nbconvert_exporter": "python",
   "pygments_lexer": "ipython3",
   "version": "3.8.5"
  }
 },
 "nbformat": 4,
 "nbformat_minor": 4
}
