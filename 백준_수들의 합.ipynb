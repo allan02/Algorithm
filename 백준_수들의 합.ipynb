{
 "cells": [
  {
   "cell_type": "code",
   "execution_count": 21,
   "metadata": {},
   "outputs": [
    {
     "name": "stdout",
     "output_type": "stream",
     "text": [
      "2\n",
      "1\n"
     ]
    }
   ],
   "source": [
    "s = int(input())\n",
    "now = 0\n",
    "\n",
    "if s == 1:\n",
    "    print(1)\n",
    "    \n",
    "elif s == 2:\n",
    "    print(1)\n",
    "    \n",
    "else:\n",
    "    for i in range(1, s + 1):\n",
    "        now += i\n",
    "        if now > s:\n",
    "            print(i - 1)\n",
    "            break\n"
   ]
  }
 ],
 "metadata": {
  "kernelspec": {
   "display_name": "Python 3",
   "language": "python",
   "name": "python3"
  },
  "language_info": {
   "codemirror_mode": {
    "name": "ipython",
    "version": 3
   },
   "file_extension": ".py",
   "mimetype": "text/x-python",
   "name": "python",
   "nbconvert_exporter": "python",
   "pygments_lexer": "ipython3",
   "version": "3.8.5"
  }
 },
 "nbformat": 4,
 "nbformat_minor": 4
}
