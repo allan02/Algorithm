{
 "cells": [
  {
   "cell_type": "code",
   "execution_count": 18,
   "metadata": {},
   "outputs": [
    {
     "name": "stdout",
     "output_type": "stream",
     "text": [
      "6 4\n",
      "0 -1 0 0 0 0\n",
      "-1 0 0 0 0 0\n",
      "0 0 0 0 0 0\n",
      "0 0 0 0 0 1\n",
      "-1\n"
     ]
    }
   ],
   "source": [
    "#import sys\n",
    "#input = sys.stdin.readline\n",
    "\n",
    "from collections import deque\n",
    "\n",
    "m, n = map(int, input().split())\n",
    "dx = [1, -1, 0, 0]\n",
    "dy = [0, 0, -1, 1]\n",
    "\n",
    "array = []\n",
    "q = deque()\n",
    "\n",
    "for i in range(n):\n",
    "    array.append(list(map(int, input().split())))\n",
    "    for j in range(m):\n",
    "        if array[i][j] == 1:\n",
    "            q.append((i, j))\n",
    "            \n",
    "if len(q) != 0:\n",
    "    answer = 0\n",
    "    while len(q) != 0:\n",
    "        answer += 1\n",
    "        for _ in range(len(q)):\n",
    "            x, y = q.popleft()\n",
    "            for i in range(4):\n",
    "                nx = x + dx[i]\n",
    "                ny = y + dy[i]\n",
    "                if nx >= 0 and nx < n and ny >= 0 and ny < m and array[nx][ny] == 0:\n",
    "                    array[nx][ny] = 1\n",
    "                    q.append((nx, ny))\n",
    "        \n",
    "    \n",
    "    for i in range(n):\n",
    "        for j in range(m):\n",
    "            if array[i][j] == 0:\n",
    "                answer = 0\n",
    "                break\n",
    "    \n",
    "    print(answer - 1)\n",
    "    \n",
    "# -1 연속 출력 되는 문제 발생 -> check 사용        \n",
    "\n",
    "else:\n",
    "    check = True\n",
    "    for i in range(n):\n",
    "        for j in range(m):\n",
    "            if array[i][j] == 0:\n",
    "                check = False\n",
    "                break\n",
    "    if check:\n",
    "        print(0)\n",
    "    else:\n",
    "        print(-1)\n",
    "\n",
    "            "
   ]
  }
 ],
 "metadata": {
  "kernelspec": {
   "display_name": "Python 3",
   "language": "python",
   "name": "python3"
  },
  "language_info": {
   "codemirror_mode": {
    "name": "ipython",
    "version": 3
   },
   "file_extension": ".py",
   "mimetype": "text/x-python",
   "name": "python",
   "nbconvert_exporter": "python",
   "pygments_lexer": "ipython3",
   "version": "3.8.5"
  }
 },
 "nbformat": 4,
 "nbformat_minor": 4
}
