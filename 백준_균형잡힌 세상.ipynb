{
 "cells": [
  {
   "cell_type": "code",
   "execution_count": 1,
   "metadata": {
    "scrolled": true
   },
   "outputs": [
    {
     "name": "stdout",
     "output_type": "stream",
     "text": [
      "So when I die (the [first] I will see in (heaven) is a score list).\n",
      "yes\n",
      "[ first in ] ( first out ).\n",
      "yes\n",
      "Half Moon tonight (At least it is better than no Moon at all].\n",
      "no\n",
      ".\n"
     ]
    }
   ],
   "source": [
    "while True:\n",
    "    n = input()\n",
    "    if n == '.':\n",
    "        break\n",
    "    stack = []\n",
    "    answer = True\n",
    "    for i in n:\n",
    "        #print(stack)\n",
    "        if i == '(':\n",
    "            stack.append('(')\n",
    "\n",
    "        elif i == ')':\n",
    "            if stack:\n",
    "                if stack[-1] == '(':\n",
    "                    stack.pop()\n",
    "                else:\n",
    "                    answer = False\n",
    "                    break\n",
    "            else:\n",
    "                answer = False\n",
    "                break\n",
    "\n",
    "        elif i == '[':\n",
    "            stack.append('[')\n",
    "\n",
    "        elif i == ']':\n",
    "            if stack:\n",
    "                if stack[-1] == '[':\n",
    "                    stack.pop()\n",
    "                else:\n",
    "                    answer = False\n",
    "                    break\n",
    "            else:\n",
    "                answer = False\n",
    "                break\n",
    "\n",
    "    if len(stack) == 0 and answer == True:\n",
    "        print(\"yes\")\n",
    "    else:\n",
    "        print(\"no\")\n"
   ]
  },
  {
   "cell_type": "code",
   "execution_count": 36,
   "metadata": {},
   "outputs": [
    {
     "name": "stdout",
     "output_type": "stream",
     "text": [
      "안녕 . 나는유 . .  재현이야\n",
      "4\n"
     ]
    }
   ],
   "source": [
    "#[(()]\n",
    "n = str(input())\n",
    "answer = True\n",
    "s = n.split('.')\n",
    "print(len(s))\n",
    "#안녕 . 나는유 . .  재현이야"
   ]
  },
  {
   "cell_type": "code",
   "execution_count": 72,
   "metadata": {},
   "outputs": [
    {
     "name": "stdout",
     "output_type": "stream",
     "text": [
      "5\n",
      "[1, 2, 3, 4]\n",
      "[]\n",
      "[1]\n"
     ]
    }
   ],
   "source": [
    "array = [1,2,3,4,5]\n",
    "print(array[-1])\n",
    "print(array[:-1])\n",
    "print(array[:-5])\n",
    "print(array[:-4])"
   ]
  },
  {
   "cell_type": "code",
   "execution_count": 70,
   "metadata": {},
   "outputs": [
    {
     "name": "stdout",
     "output_type": "stream",
     "text": [
      "123\n"
     ]
    }
   ],
   "source": [
    "a = \"1234\"\n",
    "print(a[:-1])"
   ]
  }
 ],
 "metadata": {
  "kernelspec": {
   "display_name": "Python 3",
   "language": "python",
   "name": "python3"
  },
  "language_info": {
   "codemirror_mode": {
    "name": "ipython",
    "version": 3
   },
   "file_extension": ".py",
   "mimetype": "text/x-python",
   "name": "python",
   "nbconvert_exporter": "python",
   "pygments_lexer": "ipython3",
   "version": "3.8.5"
  }
 },
 "nbformat": 4,
 "nbformat_minor": 4
}
