{
 "cells": [
  {
   "cell_type": "code",
   "execution_count": 13,
   "metadata": {},
   "outputs": [
    {
     "name": "stdout",
     "output_type": "stream",
     "text": [
      "koder topcoder\n",
      "1\n"
     ]
    }
   ],
   "source": [
    "a, b = input().split()\n",
    "\n",
    "index = -1\n",
    "count = int(1e9)\n",
    "\n",
    "l = len(b) - len(a)\n",
    "\n",
    "for i in range(len(b) - len(a) + 1):\n",
    "    temp = 0\n",
    "    for j in range(len(a)):\n",
    "        #print(a[j])\n",
    "        #print(b[j + i])\n",
    "        if a[j] != b[j + i]:\n",
    "            temp += 1\n",
    "    if temp < count:\n",
    "        count = temp\n",
    "        \n",
    "print(count)"
   ]
  }
 ],
 "metadata": {
  "kernelspec": {
   "display_name": "Python 3",
   "language": "python",
   "name": "python3"
  },
  "language_info": {
   "codemirror_mode": {
    "name": "ipython",
    "version": 3
   },
   "file_extension": ".py",
   "mimetype": "text/x-python",
   "name": "python",
   "nbconvert_exporter": "python",
   "pygments_lexer": "ipython3",
   "version": "3.8.5"
  }
 },
 "nbformat": 4,
 "nbformat_minor": 4
}
