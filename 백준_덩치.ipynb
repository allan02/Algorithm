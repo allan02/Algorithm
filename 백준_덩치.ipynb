{
 "cells": [
  {
   "cell_type": "code",
   "execution_count": 4,
   "metadata": {},
   "outputs": [
    {
     "name": "stdout",
     "output_type": "stream",
     "text": [
      "5\n",
      "55 185\n",
      "58 183\n",
      "88 186\n",
      "60 175\n",
      "46 155\n",
      "2 2 1 2 5 "
     ]
    }
   ],
   "source": [
    "n = int(input())\n",
    "ans = []\n",
    "array = []\n",
    "for _ in range(n):\n",
    "    x, y = map(int, input().split())\n",
    "    array.append((x, y))\n",
    "\n",
    "for i in range(n):\n",
    "    x, y = array[i]\n",
    "    rank = 0\n",
    "    for j in range(n):\n",
    "        if i == j:\n",
    "            continue\n",
    "        temp_x, temp_y = array[j]\n",
    "        if x < temp_x and y < temp_y:\n",
    "            rank += 1\n",
    "    ans.append(rank + 1)\n",
    "    \n",
    "for i in ans:\n",
    "    print(i, end = ' ')"
   ]
  }
 ],
 "metadata": {
  "kernelspec": {
   "display_name": "Python 3",
   "language": "python",
   "name": "python3"
  },
  "language_info": {
   "codemirror_mode": {
    "name": "ipython",
    "version": 3
   },
   "file_extension": ".py",
   "mimetype": "text/x-python",
   "name": "python",
   "nbconvert_exporter": "python",
   "pygments_lexer": "ipython3",
   "version": "3.8.5"
  }
 },
 "nbformat": 4,
 "nbformat_minor": 4
}
