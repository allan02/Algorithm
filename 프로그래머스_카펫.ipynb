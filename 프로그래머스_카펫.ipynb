{
 "cells": [
  {
   "cell_type": "code",
   "execution_count": 10,
   "metadata": {},
   "outputs": [
    {
     "name": "stdout",
     "output_type": "stream",
     "text": [
      "3\n",
      "4.898979485566356\n"
     ]
    }
   ],
   "source": [
    "import math\n",
    "\n",
    "a = 5\n",
    "\n",
    "b = math.ceil(math.sqrt(a))\n",
    "\n",
    "print(b)\n",
    "\n",
    "c = math.sqrt(24)\n",
    "\n",
    "print(c)"
   ]
  },
  {
   "cell_type": "code",
   "execution_count": null,
   "metadata": {},
   "outputs": [],
   "source": [
    "import math\n",
    "def solution(brown, yellow):\n",
    "    answer = []\n",
    "    total = brown + yellow\n",
    "    \n",
    "    for i in range(2, total):\n",
    "        if total % i == 0:\n",
    "            y = i\n",
    "            x = total // i\n",
    "            if yellow == (x - 2) * (y - 2):\n",
    "                answer.append(x)\n",
    "                answer.append(y)\n",
    "                return answer"
   ]
  },
  {
   "cell_type": "code",
   "execution_count": null,
   "metadata": {},
   "outputs": [],
   "source": []
  }
 ],
 "metadata": {
  "kernelspec": {
   "display_name": "Python 3",
   "language": "python",
   "name": "python3"
  },
  "language_info": {
   "codemirror_mode": {
    "name": "ipython",
    "version": 3
   },
   "file_extension": ".py",
   "mimetype": "text/x-python",
   "name": "python",
   "nbconvert_exporter": "python",
   "pygments_lexer": "ipython3",
   "version": "3.8.5"
  }
 },
 "nbformat": 4,
 "nbformat_minor": 4
}
