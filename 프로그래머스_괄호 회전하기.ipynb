{
 "cells": [
  {
   "cell_type": "code",
   "execution_count": 1,
   "metadata": {},
   "outputs": [],
   "source": [
    "def sol(ss):\n",
    "    stack = []\n",
    "    for i in ss:\n",
    "        if i in ['(', '[', '{']:\n",
    "            stack.append(i)\n",
    "        else:\n",
    "            if not stack:\n",
    "                return False\n",
    "            temp = stack.pop()\n",
    "            if temp == '[' and i != ']':\n",
    "                return False\n",
    "            elif temp == '{' and i != '}':\n",
    "                return False\n",
    "            elif temp == '[' and i != ']':\n",
    "                return False\n",
    "    if stack:\n",
    "        return False\n",
    "    return True\n",
    "        \n",
    "\n",
    "def solution(s):\n",
    "    answer = 0\n",
    "    length = len(s)\n",
    "    for i in range(length):\n",
    "        temp = s[i:] + s[:i]\n",
    "        if sol(temp):\n",
    "            answer += 1\n",
    "            \n",
    "    return answer"
   ]
  },
  {
   "cell_type": "code",
   "execution_count": null,
   "metadata": {},
   "outputs": [],
   "source": []
  }
 ],
 "metadata": {
  "kernelspec": {
   "display_name": "Python 3",
   "language": "python",
   "name": "python3"
  },
  "language_info": {
   "codemirror_mode": {
    "name": "ipython",
    "version": 3
   },
   "file_extension": ".py",
   "mimetype": "text/x-python",
   "name": "python",
   "nbconvert_exporter": "python",
   "pygments_lexer": "ipython3",
   "version": "3.8.5"
  }
 },
 "nbformat": 4,
 "nbformat_minor": 4
}
