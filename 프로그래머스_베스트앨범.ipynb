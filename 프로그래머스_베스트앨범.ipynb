{
 "cells": [
  {
   "cell_type": "code",
   "execution_count": 1,
   "metadata": {},
   "outputs": [],
   "source": [
    "from collections import defaultdict\n",
    "\n",
    "def solution(genres, plays):\n",
    "    answer = []\n",
    "    h_genres = defaultdict(lambda: 0)\n",
    "    h_plays = defaultdict(lambda : [])\n",
    "    \n",
    "    index = 0\n",
    "    for x, y in zip(genres, plays):\n",
    "        h_genres[x] += y\n",
    "        h_plays[x].append((y, index))\n",
    "        index += 1\n",
    "        \n",
    "    h_genres = sorted(h_genres.items(), key = lambda x: x[1], reverse = True)\n",
    "    \n",
    "    for i in h_genres:\n",
    "        temp = sorted(h_plays[i[0]], key = lambda x: x[0], reverse = True)\n",
    "        answer.append(temp[0][1])\n",
    "        if len(temp) > 1:\n",
    "            answer.append(temp[1][1])\n",
    "    \n",
    "    return answer"
   ]
  },
  {
   "cell_type": "code",
   "execution_count": null,
   "metadata": {},
   "outputs": [],
   "source": []
  }
 ],
 "metadata": {
  "kernelspec": {
   "display_name": "Python 3",
   "language": "python",
   "name": "python3"
  },
  "language_info": {
   "codemirror_mode": {
    "name": "ipython",
    "version": 3
   },
   "file_extension": ".py",
   "mimetype": "text/x-python",
   "name": "python",
   "nbconvert_exporter": "python",
   "pygments_lexer": "ipython3",
   "version": "3.8.5"
  }
 },
 "nbformat": 4,
 "nbformat_minor": 4
}
