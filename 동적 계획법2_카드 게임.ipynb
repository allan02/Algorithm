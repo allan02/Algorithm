{
 "cells": [
  {
   "cell_type": "code",
   "execution_count": 3,
   "metadata": {},
   "outputs": [
    {
     "name": "stdout",
     "output_type": "stream",
     "text": [
      "2\n",
      "4\n",
      "1 2 5 2\n",
      "[2, 2]\n",
      "[5, 1]\n",
      "9\n",
      "1 1 1 1 2 2 2 2 2\n",
      "[2, 2, 2, 1, 1]\n",
      "[2, 2, 1, 1]\n"
     ]
    }
   ],
   "source": [
    "def pickCard(turn, i, j):\n",
    "    if i > j: return 0\n",
    "    if dp[i][j]: return dp[i][j] #이미 계산된 적이 있으면 해당 값 리턴\n",
    "    \n",
    "    #근우 차례\n",
    "    if turn:\n",
    "        # i카드 + (i+1~j)범위 카드의 명우 순서 or j카드 + (i~j-1)범위 카드의 명우 순서 중 최대 스코어\n",
    "        score = max(pickCard(False, i+1, j) + cards[i], pickCard(False, i, j-1) + cards[j]) \n",
    "        dp[i][j] = score\n",
    "        return score\n",
    "        \n",
    "    #명우 차례\n",
    "    elif not turn:\n",
    "        # (i+1~j)범위 카드의 근우 순서 or (i~j-1)범위 카드의 근우 순서 중 최소 스코어\n",
    "        # 각각 명우가 i, j 카드를 가져갔다고 가정하지만, 근우 입장의 점수를 계산하는 거기 때문에 카드 점수를 더해주지 않음\n",
    "        score = min(pickCard(True, i+1, j), pickCard(True, i, j-1))\n",
    "        dp[i][j] = score\n",
    "        return score\n",
    "\n",
    "import sys\n",
    "T = int(input()) #테스트케이스\n",
    "\n",
    "for _ in range(T):\n",
    "    N = int(input()) #카드 개수\n",
    "    cards = list(map(int, sys.stdin.readline().split()))\n",
    "    dp = [[0 for _ in range(N)] for _ in range(N)] #DP 배열 초기화\n",
    "    pickCard(True, 0, N-1) #카드가 (0~N-1)범위만큼 있고,  근우 순서일 때 얻는 점수 계산\n",
    "    print(dp[0][N-1])"
   ]
  },
  {
   "cell_type": "code",
   "execution_count": 7,
   "metadata": {},
   "outputs": [
    {
     "name": "stdout",
     "output_type": "stream",
     "text": [
      "5\n",
      "1\n",
      "[2, 3, 4, 5]\n"
     ]
    }
   ],
   "source": [
    "array = [1,2,3,4,5]\n",
    "print(array[-1])\n",
    "print(array.pop(0))\n",
    "print(array)"
   ]
  }
 ],
 "metadata": {
  "kernelspec": {
   "display_name": "Python 3",
   "language": "python",
   "name": "python3"
  },
  "language_info": {
   "codemirror_mode": {
    "name": "ipython",
    "version": 3
   },
   "file_extension": ".py",
   "mimetype": "text/x-python",
   "name": "python",
   "nbconvert_exporter": "python",
   "pygments_lexer": "ipython3",
   "version": "3.8.5"
  }
 },
 "nbformat": 4,
 "nbformat_minor": 4
}
