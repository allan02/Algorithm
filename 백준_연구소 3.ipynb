{
 "cells": [
  {
   "cell_type": "markdown",
   "metadata": {},
   "source": [
    "## 17142번, 연구소 3"
   ]
  },
  {
   "cell_type": "code",
   "execution_count": 10,
   "metadata": {},
   "outputs": [
    {
     "name": "stdout",
     "output_type": "stream",
     "text": [
      "7 3\n",
      "2 0 0 0 1 1 0\n",
      "0 0 1 0 1 2 0\n",
      "0 1 1 0 1 0 0\n",
      "0 1 0 0 0 0 0\n",
      "0 0 0 2 0 1 1\n",
      "0 1 0 0 0 0 0\n",
      "2 1 0 0 0 0 2\n",
      "4\n"
     ]
    }
   ],
   "source": [
    "from collections import deque\n",
    "from itertools import combinations\n",
    "import copy\n",
    "\n",
    "dx = [1, -1, 0, 0]\n",
    "dy = [0, 0, 1, -1]\n",
    "\n",
    "\n",
    "n, m = map(int, input().split())\n",
    "\n",
    "virus = []\n",
    "array1 = []\n",
    "virus_count = 0\n",
    "\n",
    "for i in range(n):\n",
    "    array1.append((list(map(int, input().split()))))\n",
    "    for j in range(n):\n",
    "        if array1[i][j] == 2:\n",
    "            virus.append((i, j))\n",
    "        if array1[i][j] == 0:\n",
    "            virus_count += 1\n",
    "\n",
    "            \n",
    "virus = list(combinations(virus, m))\n",
    "\n",
    "INF = int(1e9)\n",
    "\n",
    "result = INF\n",
    "\n",
    "def bfs(virus):\n",
    "    global result\n",
    "    global virus_count\n",
    "    \n",
    "    temp_virus = 0\n",
    "    \n",
    "    array = copy.deepcopy(array1)\n",
    "    \n",
    "    active = deque(virus)\n",
    "       \n",
    "    count = 0\n",
    "\n",
    "    while active:\n",
    "        \n",
    "        if temp_virus == virus_count: # 처음엔 일일히 다 확인.. 시간 초과\n",
    "            result = min(result, count)\n",
    "            break\n",
    "            \n",
    "        length = len(active)\n",
    "        for _ in range(length):\n",
    "            x, y = active.popleft()\n",
    "            array[x][y] = 3\n",
    "            active.append((x, y))\n",
    "        \n",
    "        for _ in range(length):\n",
    "            x, y = active.popleft()\n",
    "            for i in range(4):\n",
    "                nx = x + dx[i]\n",
    "                ny = y + dy[i]\n",
    "                \n",
    "                if 0 <= nx < n and 0 <= ny < n and array[nx][ny] == 0:\n",
    "                    array[nx][ny] = 3\n",
    "                    temp_virus += 1\n",
    "                    active.append((nx, ny))\n",
    "                \n",
    "                if 0 <= nx < n and 0 <= ny < n and array[nx][ny] == 2:\n",
    "                    array[nx][ny] = 3\n",
    "                    active.append((nx, ny))\n",
    "                    \n",
    "        count += 1\n",
    "       \n",
    "\n",
    "    \n",
    "    \n",
    "for i in virus:\n",
    "    bfs(i)\n",
    "\n",
    "\n",
    "\n",
    "if result == INF:\n",
    "    print(-1)\n",
    "else:\n",
    "    print(result)"
   ]
  },
  {
   "cell_type": "code",
   "execution_count": 21,
   "metadata": {},
   "outputs": [
    {
     "name": "stdout",
     "output_type": "stream",
     "text": [
      "((1, 2), (3, 4))\n",
      "((1, 2), (5, 6))\n",
      "((3, 4), (5, 6))\n"
     ]
    }
   ],
   "source": [
    "from itertools import combinations\n",
    "\n",
    "a = []\n",
    "\n",
    "a.append((1,2))\n",
    "a.append((3,4))\n",
    "a.append((5,6))\n",
    "\n",
    "b = combinations(a, 2)\n",
    "\n",
    "for ii in b:\n",
    "    print(ii)\n",
    "    "
   ]
  },
  {
   "cell_type": "code",
   "execution_count": 13,
   "metadata": {},
   "outputs": [
    {
     "name": "stdout",
     "output_type": "stream",
     "text": [
      "[4, 5]\n",
      "deque([[2, 3]])\n",
      "[2, 3]\n"
     ]
    }
   ],
   "source": [
    "a = [1, [2,3], [4,5]]\n",
    "print(a.pop())\n",
    "\n",
    "b = deque()\n",
    "b.append(a.pop())\n",
    "print(b)\n",
    "print(b.popleft())"
   ]
  },
  {
   "cell_type": "code",
   "execution_count": 29,
   "metadata": {},
   "outputs": [
    {
     "name": "stdout",
     "output_type": "stream",
     "text": [
      "1\n",
      "7 4\n",
      "7 6\n"
     ]
    }
   ],
   "source": [
    "from collections import deque\n",
    "\n",
    "a = deque([((6, 4), (6, 6))])\n",
    "print(len(a))\n",
    "for x, y in a.popleft():\n",
    "    print(x + 1, y)"
   ]
  }
 ],
 "metadata": {
  "kernelspec": {
   "display_name": "Python 3",
   "language": "python",
   "name": "python3"
  },
  "language_info": {
   "codemirror_mode": {
    "name": "ipython",
    "version": 3
   },
   "file_extension": ".py",
   "mimetype": "text/x-python",
   "name": "python",
   "nbconvert_exporter": "python",
   "pygments_lexer": "ipython3",
   "version": "3.8.5"
  }
 },
 "nbformat": 4,
 "nbformat_minor": 4
}
