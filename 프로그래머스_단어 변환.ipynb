{
 "cells": [
  {
   "cell_type": "code",
   "execution_count": 2,
   "metadata": {},
   "outputs": [
    {
     "name": "stdout",
     "output_type": "stream",
     "text": [
      "a\n",
      "s\n",
      "d\n"
     ]
    }
   ],
   "source": [
    "for i in \"asd\":\n",
    "    print(i)"
   ]
  },
  {
   "cell_type": "code",
   "execution_count": 3,
   "metadata": {},
   "outputs": [],
   "source": [
    "def solution(begin, target, words):\n",
    "    answer = [begin]\n",
    "    if target not in words:\n",
    "        return 0\n",
    "    \n",
    "    answer_count = 0\n",
    "    while(len(words) != 0):\n",
    "        for i in answer:\n",
    "            temp = []\n",
    "            for word in words:\n",
    "                count = 0\n",
    "                for j in range(len(i)):\n",
    "                    if i[j] != word[j]:\n",
    "                        count += 1\n",
    "                    if count == 2:\n",
    "                        break\n",
    "                if count == 1:\n",
    "                    temp.append(word)\n",
    "                    words.remove(word)\n",
    "                    \n",
    "        answer_count += 1\n",
    "        if target in temp:\n",
    "            return answer_count\n",
    "        else:\n",
    "            answer = temp\n",
    "    return answer_count"
   ]
  },
  {
   "cell_type": "code",
   "execution_count": null,
   "metadata": {},
   "outputs": [],
   "source": []
  }
 ],
 "metadata": {
  "kernelspec": {
   "display_name": "Python 3",
   "language": "python",
   "name": "python3"
  },
  "language_info": {
   "codemirror_mode": {
    "name": "ipython",
    "version": 3
   },
   "file_extension": ".py",
   "mimetype": "text/x-python",
   "name": "python",
   "nbconvert_exporter": "python",
   "pygments_lexer": "ipython3",
   "version": "3.8.5"
  }
 },
 "nbformat": 4,
 "nbformat_minor": 4
}
