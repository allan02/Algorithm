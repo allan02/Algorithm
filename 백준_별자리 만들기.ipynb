{
 "cells": [
  {
   "cell_type": "code",
   "execution_count": 21,
   "metadata": {},
   "outputs": [
    {
     "name": "stdout",
     "output_type": "stream",
     "text": [
      "3\n",
      "1 1\n",
      "2 2\n",
      "2 4\n",
      "3.41\n"
     ]
    }
   ],
   "source": [
    "#import sys\n",
    "#input = sys.stdin.readline\n",
    "\n",
    "import heapq\n",
    "\n",
    "def calculate(x1, y1, x2, y2):\n",
    "    return ((x1 - x2) ** 2 + (y1 - y2) ** 2) ** (0.5)\n",
    "\n",
    "def find_parent(a):\n",
    "    if parent[a] != a:\n",
    "        parent[a] = find_parent(parent[a])\n",
    "    return parent[a]\n",
    "\n",
    "def union(a, b):\n",
    "    a = find_parent(a)\n",
    "    b = find_parent(b)\n",
    "    \n",
    "    if a < b:\n",
    "        parent[b] = a\n",
    "    else:\n",
    "        parent[a] = b\n",
    "        \n",
    "n = int(input())\n",
    "answer = 0\n",
    "parent = [i for i in range(n + 1)]\n",
    "stars = []\n",
    "h = []\n",
    "\n",
    "for k in range(1, n + 1):\n",
    "    x, y = map(float, input().split())\n",
    "    stars.append((k, x, y))\n",
    "    \n",
    "for i in range(n - 1):\n",
    "    for j in range(i + 1, n):\n",
    "        x = stars[i]\n",
    "        y = stars[j]\n",
    "        #print(x, y)\n",
    "        #print(calculate(x[1], y[1], x[2], y[2]))\n",
    "        heapq.heappush(h, (calculate(x[1], x[2], y[1], y[2]), x[0], y[0]))\n",
    "                       \n",
    "while h:\n",
    "    cost, x, y = heapq.heappop(h)\n",
    "    if find_parent(x) != find_parent(y):\n",
    "        union(x, y)\n",
    "        answer += cost\n",
    "    #print(answer)\n",
    "    #print(h)\n",
    "        \n",
    "print(format(answer, \".2f\"))\n"
   ]
  },
  {
   "cell_type": "code",
   "execution_count": 2,
   "metadata": {},
   "outputs": [
    {
     "name": "stdout",
     "output_type": "stream",
     "text": [
      "123.12\n"
     ]
    }
   ],
   "source": [
    "print(format(123.123124, '.2f'))"
   ]
  },
  {
   "cell_type": "code",
   "execution_count": 12,
   "metadata": {},
   "outputs": [
    {
     "name": "stdout",
     "output_type": "stream",
     "text": [
      "2.0\n",
      "1\n",
      "-1\n"
     ]
    }
   ],
   "source": [
    "import math\n",
    "print(math.sqrt(4))\n",
    "\n",
    "print(abs(-1) ** 2)\n",
    "print(-1 ** 2)"
   ]
  },
  {
   "cell_type": "code",
   "execution_count": 3,
   "metadata": {},
   "outputs": [
    {
     "name": "stdout",
     "output_type": "stream",
     "text": [
      "[1, 2, 13, 4, 5]\n"
     ]
    }
   ],
   "source": [
    "def sol():\n",
    "    array[2] = 13\n",
    "    print(array)\n",
    "    \n",
    "array = [1,2,3,4,5]\n",
    "sol()"
   ]
  }
 ],
 "metadata": {
  "kernelspec": {
   "display_name": "Python 3",
   "language": "python",
   "name": "python3"
  },
  "language_info": {
   "codemirror_mode": {
    "name": "ipython",
    "version": 3
   },
   "file_extension": ".py",
   "mimetype": "text/x-python",
   "name": "python",
   "nbconvert_exporter": "python",
   "pygments_lexer": "ipython3",
   "version": "3.8.5"
  }
 },
 "nbformat": 4,
 "nbformat_minor": 4
}
