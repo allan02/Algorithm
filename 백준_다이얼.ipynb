{
 "cells": [
  {
   "cell_type": "code",
   "execution_count": 12,
   "metadata": {},
   "outputs": [
    {
     "name": "stdout",
     "output_type": "stream",
     "text": [
      "unucic\n",
      "36\n"
     ]
    }
   ],
   "source": [
    "from collections import defaultdict\n",
    "\n",
    "d = defaultdict(int)\n",
    "d['ABC'] = 2\n",
    "d['DEF'] = 3\n",
    "d['GHI'] = 4\n",
    "d['JKL'] = 5\n",
    "d['MNO'] = 6\n",
    "d['PQRS'] = 7\n",
    "d['TUV'] = 8\n",
    "d['WXYZ'] = 9\n",
    "\n",
    "temp = input()\n",
    "answer = 0\n",
    "\n",
    "for i in temp:\n",
    "    for j in d.keys():\n",
    "        if i in j:\n",
    "            answer += d[j] + 1\n",
    "            break\n",
    "            \n",
    "print(answer)\n",
    "\n"
   ]
  }
 ],
 "metadata": {
  "kernelspec": {
   "display_name": "Python 3",
   "language": "python",
   "name": "python3"
  },
  "language_info": {
   "codemirror_mode": {
    "name": "ipython",
    "version": 3
   },
   "file_extension": ".py",
   "mimetype": "text/x-python",
   "name": "python",
   "nbconvert_exporter": "python",
   "pygments_lexer": "ipython3",
   "version": "3.8.5"
  }
 },
 "nbformat": 4,
 "nbformat_minor": 4
}
