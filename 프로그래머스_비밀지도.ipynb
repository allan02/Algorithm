{
 "cells": [
  {
   "cell_type": "code",
   "execution_count": 2,
   "metadata": {},
   "outputs": [],
   "source": [
    "def sol(nn, n):\n",
    "    temp = ''\n",
    "    while n != 0:\n",
    "        temp += str(n % 2)\n",
    "        n = n // 2\n",
    "    if len(temp) == nn:\n",
    "        return list(temp[::-1])\n",
    "    else:\n",
    "        return ['0'] * (nn - len(temp)) + list(temp[::-1])\n",
    "\n",
    "def solution(n, arr1, arr2):\n",
    "    print(sol(n, 0))\n",
    "    answer = []\n",
    "    last = []\n",
    "    for a, b in zip(arr1, arr2):\n",
    "        aa = sol(n, a)\n",
    "        bb = sol(n, b)\n",
    "        temp = []\n",
    "        for x, y in zip(aa, bb):\n",
    "            temp.append(int(x) + int(y))\n",
    "        answer.append(temp)\n",
    "    \n",
    "    for i in answer:\n",
    "        temp = ''\n",
    "        for x in i:\n",
    "            if x == 0:\n",
    "                temp += ' '\n",
    "            else:\n",
    "                temp += '#'\n",
    "        last.append(temp)\n",
    "    return last"
   ]
  },
  {
   "cell_type": "code",
   "execution_count": null,
   "metadata": {},
   "outputs": [],
   "source": []
  }
 ],
 "metadata": {
  "kernelspec": {
   "display_name": "Python 3",
   "language": "python",
   "name": "python3"
  },
  "language_info": {
   "codemirror_mode": {
    "name": "ipython",
    "version": 3
   },
   "file_extension": ".py",
   "mimetype": "text/x-python",
   "name": "python",
   "nbconvert_exporter": "python",
   "pygments_lexer": "ipython3",
   "version": "3.8.5"
  }
 },
 "nbformat": 4,
 "nbformat_minor": 4
}
