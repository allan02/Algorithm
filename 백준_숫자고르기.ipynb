{
 "cells": [
  {
   "cell_type": "code",
   "execution_count": 17,
   "metadata": {},
   "outputs": [
    {
     "name": "stdout",
     "output_type": "stream",
     "text": [
      "7\n",
      "3\n",
      "1\n",
      "1\n",
      "5\n",
      "5\n",
      "4\n",
      "6\n",
      "3\n",
      "1\n",
      "3\n",
      "5\n"
     ]
    }
   ],
   "source": [
    "# 시간 초과\n",
    "\n",
    "#import sys\n",
    "#input = sys.stdin.readline\n",
    "\n",
    "from itertools import combinations\n",
    "\n",
    "n = int(input())\n",
    "array_index = [i for i in range(1, n + 1)]\n",
    "array = []\n",
    "for _ in range(n):\n",
    "    array.append(int(input()))\n",
    "\n",
    "answer = set()\n",
    "answer_count = 0\n",
    "\n",
    "for i in range(1, n + 1):\n",
    "    temp = combinations(array_index, i)\n",
    "    for j in temp:\n",
    "        now = set(j)\n",
    "        rel = set()\n",
    "        for k in j:\n",
    "            rel.add(array[k - 1])\n",
    "        if now == rel and len(now) > answer_count:\n",
    "            answer_count = len(now)\n",
    "            answer = now\n",
    "            \n",
    "print(answer_count)\n",
    "for i in answer:\n",
    "    print(i)\n",
    "        \n",
    "        "
   ]
  },
  {
   "cell_type": "code",
   "execution_count": null,
   "metadata": {},
   "outputs": [],
   "source": [
    "# 풀이 참조\n",
    "\n",
    "N = int(input())\n",
    "arr = [0]\n",
    "for _ in range(N):\n",
    "    arr.append(int(input()))\n",
    "answer = set()\n",
    "\n",
    "# dfs 정의\n",
    "def dfs(first, second, num):\n",
    "    first.add(num)\n",
    "    second.add(arr[num])\n",
    "    if arr[num] in first:\n",
    "        if first == second:\n",
    "            answer.update(first)\n",
    "            return True\n",
    "        return False\n",
    "    return dfs(first, second, arr[num])\n",
    "\n",
    "# dfs 실행\n",
    "for i in range(1, N+1):\n",
    "    if i not in answer: \n",
    "        dfs(set(), set(), i)\n",
    "\n",
    "print(len(answer))\n",
    "print(*sorted(list(answer)), sep='\\n')"
   ]
  },
  {
   "cell_type": "code",
   "execution_count": 9,
   "metadata": {},
   "outputs": [
    {
     "name": "stdout",
     "output_type": "stream",
     "text": [
      "s\n",
      "dz2\n"
     ]
    }
   ],
   "source": [
    "a = [1,2,3]\n",
    "b = [3,2,1]\n",
    "\n",
    "x = {1,2,3}\n",
    "y = {3,2,1}\n",
    "\n",
    "if x == y:\n",
    "    print(\"s\")\n",
    "    \n",
    "if a == b:\n",
    "    print(\"dz\")\n",
    "    \n",
    "b.sort()\n",
    "\n",
    "if a == b:\n",
    "    print(\"dz2\")"
   ]
  }
 ],
 "metadata": {
  "kernelspec": {
   "display_name": "Python 3",
   "language": "python",
   "name": "python3"
  },
  "language_info": {
   "codemirror_mode": {
    "name": "ipython",
    "version": 3
   },
   "file_extension": ".py",
   "mimetype": "text/x-python",
   "name": "python",
   "nbconvert_exporter": "python",
   "pygments_lexer": "ipython3",
   "version": "3.8.5"
  }
 },
 "nbformat": 4,
 "nbformat_minor": 4
}
