{
 "cells": [
  {
   "cell_type": "code",
   "execution_count": 3,
   "metadata": {},
   "outputs": [
    {
     "name": "stdout",
     "output_type": "stream",
     "text": [
      "4\n",
      "3 3 4\n",
      "1 1 1 1\n",
      "10\n"
     ]
    }
   ],
   "source": [
    "n = int(input())\n",
    "road = list(map(int, input().split()))\n",
    "road = [0] + road\n",
    "cost = list(map(int, input().split()))\n",
    "\n",
    "#print(road, cost)\n",
    "\n",
    "temp = cost[0]\n",
    "answer = 0\n",
    "for i in range(1, n):\n",
    "    if temp > cost[i]:\n",
    "        answer += road[i] * temp\n",
    "        temp = cost[i]\n",
    "    else:\n",
    "        answer += road[i] * temp\n",
    "print(answer)\n",
    "        \n",
    "\n",
    "    "
   ]
  }
 ],
 "metadata": {
  "kernelspec": {
   "display_name": "Python 3",
   "language": "python",
   "name": "python3"
  },
  "language_info": {
   "codemirror_mode": {
    "name": "ipython",
    "version": 3
   },
   "file_extension": ".py",
   "mimetype": "text/x-python",
   "name": "python",
   "nbconvert_exporter": "python",
   "pygments_lexer": "ipython3",
   "version": "3.8.5"
  }
 },
 "nbformat": 4,
 "nbformat_minor": 4
}
