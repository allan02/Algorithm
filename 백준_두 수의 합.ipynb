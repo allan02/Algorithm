{
 "cells": [
  {
   "cell_type": "code",
   "execution_count": 2,
   "metadata": {},
   "outputs": [
    {
     "name": "stdout",
     "output_type": "stream",
     "text": [
      "9\n",
      "5 12 7 10 9 1 2 3 11\n",
      "13\n",
      "3\n"
     ]
    }
   ],
   "source": [
    "n = int(input())\n",
    "array = list(map(int, input().split()))\n",
    "x = int(input())\n",
    "array.sort()\n",
    "\n",
    "\n",
    "a = 0\n",
    "b = n - 1\n",
    "\n",
    "answer = 0\n",
    "\n",
    "#print(array)\n",
    "\n",
    "while a != b:\n",
    "    if array[a] + array[b] == x:\n",
    "        answer += 1\n",
    "        a += 1\n",
    "    \n",
    "    elif array[a] + array[b] > x:\n",
    "        b -= 1\n",
    "    \n",
    "    else:\n",
    "        a += 1\n",
    "        \n",
    "    #print(a, b)  \n",
    "    \n",
    "print(answer)"
   ]
  }
 ],
 "metadata": {
  "kernelspec": {
   "display_name": "Python 3",
   "language": "python",
   "name": "python3"
  },
  "language_info": {
   "codemirror_mode": {
    "name": "ipython",
    "version": 3
   },
   "file_extension": ".py",
   "mimetype": "text/x-python",
   "name": "python",
   "nbconvert_exporter": "python",
   "pygments_lexer": "ipython3",
   "version": "3.8.5"
  }
 },
 "nbformat": 4,
 "nbformat_minor": 4
}
