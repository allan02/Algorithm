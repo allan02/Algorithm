{
 "cells": [
  {
   "cell_type": "code",
   "execution_count": 1,
   "metadata": {},
   "outputs": [],
   "source": [
    "# 시간 초과\n",
    "def solution(n, works):\n",
    "    answer = 0\n",
    "    while n > 0:\n",
    "        temp = works.index(max(works))\n",
    "        if works[temp] > 0:\n",
    "            works[temp] -= 1\n",
    "        else:\n",
    "            break\n",
    "        n -= 1\n",
    "    for i in works:\n",
    "        answer += i * i\n",
    "    return answer"
   ]
  },
  {
   "cell_type": "code",
   "execution_count": null,
   "metadata": {},
   "outputs": [],
   "source": []
  },
  {
   "cell_type": "code",
   "execution_count": 2,
   "metadata": {},
   "outputs": [],
   "source": [
    "import heapq\n",
    "\n",
    "def solution(n, works):\n",
    "    answer = 0\n",
    "    h = []\n",
    "    for i in works:\n",
    "        heapq.heappush(h, i * -1)\n",
    "        \n",
    "    while n > 0:\n",
    "        temp = heapq.heappop(h)\n",
    "        if temp < 0:\n",
    "            temp += 1\n",
    "            heapq.heappush(h, temp)\n",
    "        else:\n",
    "            break\n",
    "        n -= 1\n",
    "    for i in h:\n",
    "        answer += i * i\n",
    "    return answer"
   ]
  },
  {
   "cell_type": "code",
   "execution_count": null,
   "metadata": {},
   "outputs": [],
   "source": []
  }
 ],
 "metadata": {
  "kernelspec": {
   "display_name": "Python 3",
   "language": "python",
   "name": "python3"
  },
  "language_info": {
   "codemirror_mode": {
    "name": "ipython",
    "version": 3
   },
   "file_extension": ".py",
   "mimetype": "text/x-python",
   "name": "python",
   "nbconvert_exporter": "python",
   "pygments_lexer": "ipython3",
   "version": "3.8.5"
  }
 },
 "nbformat": 4,
 "nbformat_minor": 4
}
