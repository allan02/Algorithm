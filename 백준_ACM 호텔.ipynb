{
 "cells": [
  {
   "cell_type": "code",
   "execution_count": 28,
   "metadata": {},
   "outputs": [
    {
     "name": "stdout",
     "output_type": "stream",
     "text": [
      "1\n",
      "10 10 91\n",
      "110\n"
     ]
    }
   ],
   "source": [
    "t = int(input())\n",
    "\n",
    "while t != 0:\n",
    "    h, w, n = map(int, input().split())\n",
    "    num = n // h + 1\n",
    "    floor = n % h\n",
    "    if n % h == 0:\n",
    "        num = n // h\n",
    "        floor = h\n",
    "    print(f'{floor * 100 + num}')\n",
    "        \n",
    "    t-= 1"
   ]
  },
  {
   "cell_type": "code",
   "execution_count": 9,
   "metadata": {},
   "outputs": [
    {
     "name": "stdout",
     "output_type": "stream",
     "text": [
      "숫자 두 개를 입력하세요: 1 2 3\n",
      "6\n"
     ]
    }
   ],
   "source": [
    "a, b, c= map(int, input('숫자 두 개를 입력하세요: ').split())\n",
    " \n",
    "print(a + b + c)"
   ]
  },
  {
   "cell_type": "code",
   "execution_count": 13,
   "metadata": {},
   "outputs": [
    {
     "name": "stdout",
     "output_type": "stream",
     "text": [
      "1 2 3\n",
      "1 2 3\n"
     ]
    }
   ],
   "source": [
    "h, w, n = map(int, input().split())\n",
    "print(h, w, n)"
   ]
  }
 ],
 "metadata": {
  "kernelspec": {
   "display_name": "Python 3",
   "language": "python",
   "name": "python3"
  },
  "language_info": {
   "codemirror_mode": {
    "name": "ipython",
    "version": 3
   },
   "file_extension": ".py",
   "mimetype": "text/x-python",
   "name": "python",
   "nbconvert_exporter": "python",
   "pygments_lexer": "ipython3",
   "version": "3.8.5"
  }
 },
 "nbformat": 4,
 "nbformat_minor": 4
}
