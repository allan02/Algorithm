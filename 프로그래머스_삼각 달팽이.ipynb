{
 "cells": [
  {
   "cell_type": "code",
   "execution_count": null,
   "metadata": {},
   "outputs": [],
   "source": [
    "def solution(n):\n",
    "    array = [[0] * n for _ in range(n)]\n",
    "    answer = []\n",
    "    \n",
    "    x = -1\n",
    "    y = 0\n",
    "    index = 1\n",
    "    for i in range(n):\n",
    "        for j in range(i, n):\n",
    "            if i % 3 == 0:\n",
    "                x += 1\n",
    "            elif i % 3 == 1:\n",
    "                y += 1\n",
    "            else:\n",
    "                x -= 1\n",
    "                y -= 1\n",
    "                \n",
    "            array[x][y] = index\n",
    "            index += 1\n",
    "    for i in range(n):\n",
    "        for j in range(i + 1):\n",
    "            answer.append(array[i][j])\n",
    "    return answer"
   ]
  }
 ],
 "metadata": {
  "kernelspec": {
   "display_name": "Python 3",
   "language": "python",
   "name": "python3"
  },
  "language_info": {
   "codemirror_mode": {
    "name": "ipython",
    "version": 3
   },
   "file_extension": ".py",
   "mimetype": "text/x-python",
   "name": "python",
   "nbconvert_exporter": "python",
   "pygments_lexer": "ipython3",
   "version": "3.8.5"
  }
 },
 "nbformat": 4,
 "nbformat_minor": 4
}
