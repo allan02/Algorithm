{
 "cells": [
  {
   "cell_type": "code",
   "execution_count": 1,
   "metadata": {},
   "outputs": [],
   "source": [
    "from collections import defaultdict\n",
    "def dfs(start, visit):\n",
    "    global count\n",
    "    visit.append(start)\n",
    "    count += 1\n",
    "    for i in tree[start]:\n",
    "        if i not in visit:\n",
    "            dfs(i, visit)\n",
    "    \n",
    "\n",
    "def solution(n, wires):\n",
    "    global tree, count\n",
    "    result = []\n",
    "    tree = defaultdict(list)\n",
    "    for a, b in wires:\n",
    "        tree[a].append(b)\n",
    "        tree[b].append(a)\n",
    "    \n",
    "    for a, b in wires:\n",
    "        tree[a].remove(b)\n",
    "        tree[b].remove(a) \n",
    "        count = 0\n",
    "        dfs(1, [])\n",
    "        result.append(abs(n - (count * 2)))\n",
    "        tree[a].append(b)\n",
    "        tree[b].append(a)\n",
    "        \n",
    "    return min(result)"
   ]
  }
 ],
 "metadata": {
  "kernelspec": {
   "display_name": "Python 3",
   "language": "python",
   "name": "python3"
  },
  "language_info": {
   "codemirror_mode": {
    "name": "ipython",
    "version": 3
   },
   "file_extension": ".py",
   "mimetype": "text/x-python",
   "name": "python",
   "nbconvert_exporter": "python",
   "pygments_lexer": "ipython3",
   "version": "3.8.5"
  }
 },
 "nbformat": 4,
 "nbformat_minor": 4
}
