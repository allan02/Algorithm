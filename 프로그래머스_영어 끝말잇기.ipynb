{
 "cells": [
  {
   "cell_type": "code",
   "execution_count": 1,
   "metadata": {},
   "outputs": [],
   "source": [
    "from collections import deque\n",
    "\n",
    "def solution(n, words):\n",
    "    answer = []\n",
    "    words = deque(words)\n",
    "    check = False\n",
    "    array = []\n",
    "    count = 0\n",
    "    \n",
    "    while words:\n",
    "        temp = words.popleft()\n",
    "        if temp in array:\n",
    "            check = True\n",
    "            break\n",
    "        elif array:\n",
    "            if array[-1][-1] != temp[0]:\n",
    "                check = True\n",
    "                break\n",
    "            array.append(temp)\n",
    "        else:\n",
    "            array.append(temp)\n",
    "        count += 1\n",
    "    \n",
    "    if check == False:\n",
    "        return [0, 0]\n",
    "    \n",
    "    if (count + 1) % n == 0:\n",
    "        answer.append(n)\n",
    "        answer.append(count // n + 1)\n",
    "    else:\n",
    "        answer.append((count + 1) % n)\n",
    "        answer.append(count // n + 1)\n",
    "        \n",
    "\n",
    "    return answer"
   ]
  },
  {
   "cell_type": "code",
   "execution_count": null,
   "metadata": {},
   "outputs": [],
   "source": []
  }
 ],
 "metadata": {
  "kernelspec": {
   "display_name": "Python 3",
   "language": "python",
   "name": "python3"
  },
  "language_info": {
   "codemirror_mode": {
    "name": "ipython",
    "version": 3
   },
   "file_extension": ".py",
   "mimetype": "text/x-python",
   "name": "python",
   "nbconvert_exporter": "python",
   "pygments_lexer": "ipython3",
   "version": "3.8.5"
  }
 },
 "nbformat": 4,
 "nbformat_minor": 4
}
