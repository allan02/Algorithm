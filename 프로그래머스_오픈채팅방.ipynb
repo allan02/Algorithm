{
 "cells": [
  {
   "cell_type": "code",
   "execution_count": 1,
   "metadata": {},
   "outputs": [],
   "source": [
    "def solution(record):\n",
    "    answer = []\n",
    "    userlist = {}\n",
    "    \n",
    "    for i in record:\n",
    "        r = i.split()\n",
    "        if r[0] == 'Enter' or r[0] == 'Change':\n",
    "            userlist[r[1]] = r[2]\n",
    "    \n",
    "    for i in record:\n",
    "        r = i.split()\n",
    "        if r[0] == 'Enter':\n",
    "            answer.append(userlist[r[1]] + \"님이 들어왔습니다.\")\n",
    "        elif r[0] == \"Leave\":\n",
    "            answer.append(userlist[r[1]] + \"님이 나갔습니다.\")\n",
    "            \n",
    "    return answer"
   ]
  },
  {
   "cell_type": "code",
   "execution_count": null,
   "metadata": {},
   "outputs": [],
   "source": []
  }
 ],
 "metadata": {
  "kernelspec": {
   "display_name": "Python 3",
   "language": "python",
   "name": "python3"
  },
  "language_info": {
   "codemirror_mode": {
    "name": "ipython",
    "version": 3
   },
   "file_extension": ".py",
   "mimetype": "text/x-python",
   "name": "python",
   "nbconvert_exporter": "python",
   "pygments_lexer": "ipython3",
   "version": "3.8.5"
  }
 },
 "nbformat": 4,
 "nbformat_minor": 4
}
