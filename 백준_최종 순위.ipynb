{
 "cells": [
  {
   "cell_type": "markdown",
   "metadata": {},
   "source": [
    "## 3665번, 최종 순위"
   ]
  },
  {
   "cell_type": "code",
   "execution_count": 2,
   "metadata": {},
   "outputs": [
    {
     "name": "stdout",
     "output_type": "stream",
     "text": [
      "3\n",
      "5\n",
      "5 4 3 2 1\n",
      "2\n",
      "2 4\n",
      "3 4\n",
      "5 3 2 4 1 \n",
      "3\n",
      "2 3 1\n",
      "0\n",
      "2 3 1 \n",
      "4\n",
      "1 2 3 4\n",
      "3\n",
      "1 2\n",
      "3 4\n",
      "2 3\n",
      "IMPOSSIBLE\n"
     ]
    }
   ],
   "source": [
    "\n",
    "from collections import deque\n",
    "\n",
    "\n",
    "for tc in range(int(input())):\n",
    "   \n",
    "    n = int(input())\n",
    "\n",
    "    indegree = [0] * (n + 1)\n",
    "\n",
    "    graph = [[False] * (n + 1) for i in range(n + 1)]\n",
    "\n",
    "\n",
    "    data = list(map(int, input().split()))\n",
    "\n",
    "    for i in range(n):\n",
    "        for j in range(i + 1, n):\n",
    "            graph[data[i]][data[j]] = True\n",
    "            indegree[data[j]] += 1\n",
    "\n",
    "    m = int(input())\n",
    "    for i in range(m):\n",
    "        a, b = map(int, input().split())\n",
    "\n",
    "        if graph[a][b]:\n",
    "            graph[a][b] = False\n",
    "            graph[b][a] = True\n",
    "            indegree[a] += 1\n",
    "            indegree[b] -= 1\n",
    "        else:\n",
    "            graph[a][b] = True\n",
    "            graph[b][a] = False\n",
    "            indegree[a] -= 1\n",
    "            indegree[b] += 1\n",
    "\n",
    "    result = [] \n",
    "    q = deque() \n",
    "\n",
    "  \n",
    "    for i in range(1, n + 1):\n",
    "        if indegree[i] == 0:\n",
    "            q.append(i)\n",
    "\n",
    "    certain = True \n",
    "    cycle = False\n",
    "\n",
    "    \n",
    "    for i in range(n):\n",
    "     \n",
    "        if len(q) == 0:\n",
    "            cycle = True\n",
    "            break\n",
    "       \n",
    "        if len(q) >= 2:\n",
    "            certain = False\n",
    "            break\n",
    "       \n",
    "        now = q.popleft()\n",
    "        result.append(now)\n",
    "      \n",
    "        for j in range(1, n + 1):\n",
    "            if graph[now][j]:\n",
    "                indegree[j] -= 1\n",
    "             \n",
    "                if indegree[j] == 0:\n",
    "                    q.append(j)\n",
    "\n",
    " \n",
    "    if cycle:\n",
    "        print(\"IMPOSSIBLE\")\n",
    "\n",
    "    elif not certain:\n",
    "        print(\"?\")\n",
    "\n",
    "    else:\n",
    "        for i in result:\n",
    "            print(i, end=' ')\n",
    "        print()\n"
   ]
  },
  {
   "cell_type": "code",
   "execution_count": null,
   "metadata": {},
   "outputs": [],
   "source": []
  },
  {
   "cell_type": "code",
   "execution_count": null,
   "metadata": {},
   "outputs": [],
   "source": []
  }
 ],
 "metadata": {
  "kernelspec": {
   "display_name": "Python 3",
   "language": "python",
   "name": "python3"
  },
  "language_info": {
   "codemirror_mode": {
    "name": "ipython",
    "version": 3
   },
   "file_extension": ".py",
   "mimetype": "text/x-python",
   "name": "python",
   "nbconvert_exporter": "python",
   "pygments_lexer": "ipython3",
   "version": "3.8.5"
  }
 },
 "nbformat": 4,
 "nbformat_minor": 4
}
