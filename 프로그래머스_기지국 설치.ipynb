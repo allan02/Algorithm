{
 "cells": [
  {
   "cell_type": "code",
   "execution_count": 7,
   "metadata": {},
   "outputs": [
    {
     "name": "stdout",
     "output_type": "stream",
     "text": [
      "-3\n",
      "-4\n",
      "-3.3333333333333335\n"
     ]
    }
   ],
   "source": [
    "import math\n",
    "print(math.ceil(-10 / 3))\n",
    "print(-10 // 3)\n",
    "print(-10 / 3)"
   ]
  },
  {
   "cell_type": "code",
   "execution_count": 8,
   "metadata": {},
   "outputs": [],
   "source": [
    "import math\n",
    "\n",
    "def solution(n, stations, w):\n",
    "    answer = 0\n",
    "    start = 1\n",
    "    \n",
    "    for i in stations:        \n",
    "        answer += max(0, math.ceil( (i - w - start) / (2 * w + 1) ))\n",
    "        start = i + w + 1\n",
    "        \n",
    "    if start <= n:\n",
    "        answer += math.ceil( (n - start + 1) / (2 * w + 1) )\n",
    "\n",
    "\n",
    "    return answer"
   ]
  }
 ],
 "metadata": {
  "kernelspec": {
   "display_name": "Python 3",
   "language": "python",
   "name": "python3"
  },
  "language_info": {
   "codemirror_mode": {
    "name": "ipython",
    "version": 3
   },
   "file_extension": ".py",
   "mimetype": "text/x-python",
   "name": "python",
   "nbconvert_exporter": "python",
   "pygments_lexer": "ipython3",
   "version": "3.8.5"
  }
 },
 "nbformat": 4,
 "nbformat_minor": 4
}
