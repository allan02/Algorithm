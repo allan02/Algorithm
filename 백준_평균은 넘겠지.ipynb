{
 "cells": [
  {
   "cell_type": "code",
   "execution_count": 31,
   "metadata": {},
   "outputs": [
    {
     "name": "stdout",
     "output_type": "stream",
     "text": [
      "5\n",
      "5 50 50 70 80 100\n",
      "40.000%\n",
      "7 100 95 90 80 70 60 50\n",
      "57.143%\n",
      "3 70 90 80\n",
      "33.333%\n",
      "3 70 90 81\n",
      "66.667%\n",
      "9 100 99 98 97 96 95 94 93 91\n",
      "55.556%\n"
     ]
    }
   ],
   "source": [
    "c = int(input())\n",
    "while c != 0:\n",
    "    array = list(map(int, input().split()))\n",
    "    \n",
    "    n = array.pop(0)\n",
    "    \n",
    "    avg = sum(array) / n\n",
    "    \n",
    "    count = 0\n",
    "    for i in array:\n",
    "        if i > avg:\n",
    "            count += 1\n",
    "            \n",
    "    print(format(count / n * 100, \".3f\"), end = '')\n",
    "    print(\"%\")\n",
    "    c -= 1"
   ]
  },
  {
   "cell_type": "code",
   "execution_count": null,
   "metadata": {},
   "outputs": [],
   "source": []
  },
  {
   "cell_type": "code",
   "execution_count": 26,
   "metadata": {},
   "outputs": [
    {
     "name": "stdout",
     "output_type": "stream",
     "text": [
      "3\n",
      "1.2000\n"
     ]
    }
   ],
   "source": [
    "print(round(3.1235))\n",
    "print(format(1.200000000, \".4f\"))"
   ]
  }
 ],
 "metadata": {
  "kernelspec": {
   "display_name": "Python 3",
   "language": "python",
   "name": "python3"
  },
  "language_info": {
   "codemirror_mode": {
    "name": "ipython",
    "version": 3
   },
   "file_extension": ".py",
   "mimetype": "text/x-python",
   "name": "python",
   "nbconvert_exporter": "python",
   "pygments_lexer": "ipython3",
   "version": "3.8.5"
  }
 },
 "nbformat": 4,
 "nbformat_minor": 4
}
