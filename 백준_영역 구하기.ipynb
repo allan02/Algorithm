{
 "cells": [
  {
   "cell_type": "code",
   "execution_count": 13,
   "metadata": {},
   "outputs": [
    {
     "name": "stdout",
     "output_type": "stream",
     "text": [
      "5 7 3\n",
      "0 2 4 4\n",
      "1 1 2 5\n",
      "4 0 6 2\n",
      "3\n",
      "1 7 13 "
     ]
    }
   ],
   "source": [
    "# 재귀 깊이 설정 꼭!\n",
    "import sys\n",
    "sys.setrecursionlimit(100001)\n",
    "\n",
    "\n",
    "dx = [1, -1, 0, 0]\n",
    "dy = [0, 0, 1, -1]\n",
    "\n",
    "answer = []\n",
    "temp = 1\n",
    "\n",
    "m, n, k = map(int, input().split())\n",
    "\n",
    "array = [[0] * n for _ in range(m)]\n",
    "\n",
    "def sol(x, y):\n",
    "    global temp\n",
    "    for i in range(4):\n",
    "        nx = x + dx[i]\n",
    "        ny = y + dy[i]\n",
    "        \n",
    "        if 0 <= nx < m and 0 <= ny < n and array[nx][ny] == 0:\n",
    "            array[nx][ny] = 1\n",
    "            temp += 1\n",
    "            sol(nx, ny)\n",
    "            \n",
    "\n",
    "for _ in range(k):\n",
    "    y1, x1, y2, x2 = map(int, input().split())\n",
    "    for i in range(x1, x2):\n",
    "        for j in range(y1, y2):\n",
    "            array[i][j] = 1\n",
    "            \n",
    "for i in range(m):\n",
    "    for j in range(n):\n",
    "        if array[i][j] == 0:\n",
    "            array[i][j] = 1\n",
    "            sol(i, j)\n",
    "            answer.append(temp)\n",
    "            temp = 1\n",
    "            \n",
    "answer.sort()\n",
    "\n",
    "print(len(answer))\n",
    "\n",
    "for i in answer:\n",
    "    print(i, end = ' ')\n",
    "        "
   ]
  }
 ],
 "metadata": {
  "kernelspec": {
   "display_name": "Python 3",
   "language": "python",
   "name": "python3"
  },
  "language_info": {
   "codemirror_mode": {
    "name": "ipython",
    "version": 3
   },
   "file_extension": ".py",
   "mimetype": "text/x-python",
   "name": "python",
   "nbconvert_exporter": "python",
   "pygments_lexer": "ipython3",
   "version": "3.8.3"
  }
 },
 "nbformat": 4,
 "nbformat_minor": 4
}
