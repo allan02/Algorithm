{
 "cells": [
  {
   "cell_type": "code",
   "execution_count": 1,
   "metadata": {},
   "outputs": [],
   "source": [
    "def solution(sticker):\n",
    "    answer = 0\n",
    "    length = len(sticker)\n",
    "    \n",
    "    if length == 1:\n",
    "        return sticker[0]\n",
    "    \n",
    "    dp1 = [0] * length\n",
    "    dp2 = [0] * length\n",
    "    \n",
    "    dp1[0] = sticker[0]\n",
    "    dp1[1] = dp1[0]\n",
    "    \n",
    "    for i in range(2, length - 1):\n",
    "        dp1[i] = max(dp1[i - 1], dp1[i - 2] + sticker[i])\n",
    "    \n",
    "    dp2[0] = 0\n",
    "    dp2[1] = sticker[1]\n",
    "    \n",
    "    for j in range(2, length):\n",
    "        dp2[j] = max(dp2[j - 1], dp2[j - 2] + sticker[j])\n",
    "        \n",
    "    return max(max(dp1), max(dp2))"
   ]
  }
 ],
 "metadata": {
  "kernelspec": {
   "display_name": "Python 3",
   "language": "python",
   "name": "python3"
  },
  "language_info": {
   "codemirror_mode": {
    "name": "ipython",
    "version": 3
   },
   "file_extension": ".py",
   "mimetype": "text/x-python",
   "name": "python",
   "nbconvert_exporter": "python",
   "pygments_lexer": "ipython3",
   "version": "3.8.5"
  }
 },
 "nbformat": 4,
 "nbformat_minor": 4
}
