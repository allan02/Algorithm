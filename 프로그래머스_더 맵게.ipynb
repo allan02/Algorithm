{
 "cells": [
  {
   "cell_type": "code",
   "execution_count": 1,
   "metadata": {},
   "outputs": [
    {
     "name": "stdout",
     "output_type": "stream",
     "text": [
      "deque([1, 2, 3])\n",
      "deque([2, 3])\n"
     ]
    }
   ],
   "source": [
    "from collections import deque\n",
    "\n",
    "a = deque([1,2,3,4])\n",
    "\n",
    "a.pop()\n",
    "print(a)\n",
    "a.popleft()\n",
    "print(a)"
   ]
  },
  {
   "cell_type": "code",
   "execution_count": 8,
   "metadata": {},
   "outputs": [
    {
     "name": "stdout",
     "output_type": "stream",
     "text": [
      "False\n"
     ]
    }
   ],
   "source": [
    "print('2#'.isalnum())"
   ]
  },
  {
   "cell_type": "code",
   "execution_count": 20,
   "metadata": {},
   "outputs": [
    {
     "name": "stdout",
     "output_type": "stream",
     "text": [
      "12345\n",
      "97\n",
      "65\n",
      "122\n",
      "90\n",
      "False\n"
     ]
    }
   ],
   "source": [
    "array = ['1','2','3','4','5']\n",
    "\n",
    "a = ''.join(array)\n",
    "\n",
    "print(a)\n",
    "\n",
    "print(ord('a'))\n",
    "print(ord('A'))\n",
    "print(ord('z'))\n",
    "print(ord('Z'))\n",
    "print('2a%'.isalnum())"
   ]
  },
  {
   "cell_type": "code",
   "execution_count": 21,
   "metadata": {},
   "outputs": [
    {
     "name": "stdout",
     "output_type": "stream",
     "text": [
      "1\n"
     ]
    }
   ],
   "source": [
    "array = [1,2,3,4,5]\n",
    "\n",
    "print(min(array))"
   ]
  },
  {
   "cell_type": "code",
   "execution_count": 28,
   "metadata": {},
   "outputs": [
    {
     "name": "stdout",
     "output_type": "stream",
     "text": [
      "None\n",
      "[3, 5, 4, 12, 6]\n",
      "12\n",
      "3\n",
      "5\n"
     ]
    }
   ],
   "source": [
    "import heapq\n",
    "\n",
    "a = [1,2,3,4,5]\n",
    "a = heapq.heapify(a)\n",
    "print(a)\n",
    "\n",
    "b = [12,3,4,5,6]\n",
    "heapq.heapify(b)\n",
    "print(b)\n",
    "print(max(b))\n",
    "print(min(b))\n",
    "print(len(b))"
   ]
  },
  {
   "cell_type": "code",
   "execution_count": 31,
   "metadata": {},
   "outputs": [],
   "source": [
    "import heapq\n",
    "\n",
    "def solution(scoville, K):\n",
    "    answer = 0\n",
    "    \n",
    "    heapq.heapify(scoville)\n",
    "    \n",
    "    while scoville:\n",
    "        temp1 = heapq.heappop(scoville)\n",
    "        \n",
    "        if temp1 >= K:\n",
    "            return answer\n",
    "        \n",
    "        elif len(scoville) == 0:\n",
    "            return -1\n",
    "    \n",
    "        temp2 = heapq.heappop(scoville)\n",
    "        heapq.heappush(scoville, temp1 + temp2 * 2)\n",
    "        answer += 1"
   ]
  },
  {
   "cell_type": "code",
   "execution_count": null,
   "metadata": {},
   "outputs": [],
   "source": []
  }
 ],
 "metadata": {
  "kernelspec": {
   "display_name": "Python 3",
   "language": "python",
   "name": "python3"
  },
  "language_info": {
   "codemirror_mode": {
    "name": "ipython",
    "version": 3
   },
   "file_extension": ".py",
   "mimetype": "text/x-python",
   "name": "python",
   "nbconvert_exporter": "python",
   "pygments_lexer": "ipython3",
   "version": "3.8.5"
  }
 },
 "nbformat": 4,
 "nbformat_minor": 4
}
