{
 "cells": [
  {
   "cell_type": "code",
   "execution_count": 3,
   "metadata": {},
   "outputs": [
    {
     "name": "stdout",
     "output_type": "stream",
     "text": [
      "5 3 2\n",
      "0 0 0 0 0\n",
      "0 0 0 0 0\n",
      "0 0 0 0 0\n",
      "0 0 0 0 0\n",
      "0 0 1 0 0\n",
      "0 0 0 0 0\n",
      "4\n"
     ]
    }
   ],
   "source": [
    "#import sys\n",
    "#input = sys.stdin.readline\n",
    "from collections import deque\n",
    "\n",
    "dx = [1, -1, 0, 0, 0, 0]\n",
    "dy = [0, 0, 1, -1, 0, 0]\n",
    "dz = [0, 0, 0, 0, 1, -1]\n",
    "\n",
    "m, n, h = map(int, input().split())\n",
    "array = [[] for _ in range(h)]\n",
    "q = deque()\n",
    "\n",
    "for k in range(h):\n",
    "    for i in range(n):\n",
    "        array[k].append(list(map(int, input().split())))\n",
    "        for j in range(m):\n",
    "            if array[k][i][j] == 1:\n",
    "                q.append((k, i, j))\n",
    "\n",
    "while q:\n",
    "    x, y, z = q.popleft()\n",
    "    for i in range(6):\n",
    "        nx = x + dx[i]\n",
    "        ny = y + dy[i]\n",
    "        nz = z + dz[i]\n",
    "        if 0 <= nx < h and 0 <= ny < n and 0 <= nz < m and array[nx][ny][nz] == 0:\n",
    "            array[nx][ny][nz] = array[x][y][z] + 1\n",
    "            q.append((nx, ny, nz))\n",
    "            \n",
    "check = True\n",
    "answer = 0\n",
    "\n",
    "for x in range(h):\n",
    "    for i in range(n):\n",
    "        for j in range(m):\n",
    "            if array[x][i][j] == 0:\n",
    "                check = False\n",
    "                break\n",
    "            else:\n",
    "                answer = max(answer, array[x][i][j])\n",
    "\n",
    "#print(array)\n",
    "if check:\n",
    "    print(answer - 1)\n",
    "else:\n",
    "    print(-1)\n",
    "    \n",
    "                \n"
   ]
  },
  {
   "cell_type": "code",
   "execution_count": 13,
   "metadata": {},
   "outputs": [
    {
     "name": "stdout",
     "output_type": "stream",
     "text": [
      "[4, 5, 6]\n"
     ]
    }
   ],
   "source": [
    "array = [[1,2,3], [4,5,6]]\n",
    "print(max(array))"
   ]
  },
  {
   "cell_type": "code",
   "execution_count": 19,
   "metadata": {},
   "outputs": [
    {
     "name": "stdout",
     "output_type": "stream",
     "text": [
      "[[[1, 2, 3, 4, 5], [6, 7, 8, 9, 10]], [[11, 22, 33, 44, 55]]]\n",
      "8\n"
     ]
    }
   ],
   "source": [
    "array = [[] for _ in range(2)]\n",
    "array[0].append([1,2,3,4,5])\n",
    "array[0].append([6,7,8,9,10])\n",
    "array[1].append([11,22,33,44,55])\n",
    "print(array)\n",
    "print(array[0][1][2])"
   ]
  }
 ],
 "metadata": {
  "kernelspec": {
   "display_name": "Python 3",
   "language": "python",
   "name": "python3"
  },
  "language_info": {
   "codemirror_mode": {
    "name": "ipython",
    "version": 3
   },
   "file_extension": ".py",
   "mimetype": "text/x-python",
   "name": "python",
   "nbconvert_exporter": "python",
   "pygments_lexer": "ipython3",
   "version": "3.8.5"
  }
 },
 "nbformat": 4,
 "nbformat_minor": 4
}
