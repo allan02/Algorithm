{
 "cells": [
  {
   "cell_type": "code",
   "execution_count": 1,
   "metadata": {},
   "outputs": [],
   "source": [
    "from collections import defaultdict\n",
    "import math\n",
    "\n",
    "def return_minute(num):\n",
    "    h, m = num.split(':')\n",
    "    return (int(h) * 60 + int(m)) \n",
    "\n",
    "def solution(fees, records):\n",
    "    answer = defaultdict(int)\n",
    "    parking = defaultdict(list)\n",
    "    \n",
    "    for i in records:\n",
    "        now_t, now_n, now_s = i.split(' ')\n",
    "        \n",
    "        if len(parking[now_n]) > 0:\n",
    "            if now_s == 'OUT':\n",
    "                temp = return_minute(now_t) - return_minute(parking[now_n][0])\n",
    "                answer[now_n] += temp\n",
    "                parking[now_n][1] = 'OUT'\n",
    "                    \n",
    "            else:\n",
    "                parking[now_n][0] = now_t\n",
    "                parking[now_n][1] = now_s\n",
    "                \n",
    "            \n",
    "        else:\n",
    "            parking[now_n].append(now_t)\n",
    "            parking[now_n].append(now_s)\n",
    "    \n",
    "    for k in parking.items():\n",
    "        if k[1][1] == 'IN':\n",
    "            temp = return_minute('23:59') - return_minute(k[1][0])\n",
    "            answer[k[0]] += temp\n",
    "            \n",
    "    ans = []\n",
    "    answer = sorted(answer.items(), key = lambda x : x[0])\n",
    "    \n",
    "    for i in answer:\n",
    "        if i[1] <= fees[0]:\n",
    "            ans.append(fees[1])\n",
    "        else:\n",
    "            ans.append(fees[1] + math.ceil( (i[1] - fees[0]) / fees[2] ) * fees[3] )\n",
    "            \n",
    "      \n",
    "    return ans"
   ]
  }
 ],
 "metadata": {
  "kernelspec": {
   "display_name": "Python 3",
   "language": "python",
   "name": "python3"
  },
  "language_info": {
   "codemirror_mode": {
    "name": "ipython",
    "version": 3
   },
   "file_extension": ".py",
   "mimetype": "text/x-python",
   "name": "python",
   "nbconvert_exporter": "python",
   "pygments_lexer": "ipython3",
   "version": "3.8.5"
  }
 },
 "nbformat": 4,
 "nbformat_minor": 4
}
