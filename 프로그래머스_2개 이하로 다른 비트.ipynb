{
 "cells": [
  {
   "cell_type": "code",
   "execution_count": 1,
   "metadata": {},
   "outputs": [],
   "source": [
    "def solution(numbers):\n",
    "    answer = []\n",
    "\n",
    "    for number in numbers:\n",
    "        bin_number = list('0' + bin(number)[2 : ])\n",
    "        idx = ''.join(bin_number).rfind('0')\n",
    "        bin_number[idx] = '1'\n",
    "        \n",
    "        if number % 2 == 1:\n",
    "            bin_number[idx+1] = '0'\n",
    "        \n",
    "        answer.append(int(''.join(bin_number), 2))\n",
    "\n",
    "    return answer"
   ]
  }
 ],
 "metadata": {
  "kernelspec": {
   "display_name": "Python 3",
   "language": "python",
   "name": "python3"
  },
  "language_info": {
   "codemirror_mode": {
    "name": "ipython",
    "version": 3
   },
   "file_extension": ".py",
   "mimetype": "text/x-python",
   "name": "python",
   "nbconvert_exporter": "python",
   "pygments_lexer": "ipython3",
   "version": "3.8.5"
  }
 },
 "nbformat": 4,
 "nbformat_minor": 4
}
