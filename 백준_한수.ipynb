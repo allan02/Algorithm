{
 "cells": [
  {
   "cell_type": "code",
   "execution_count": 15,
   "metadata": {},
   "outputs": [
    {
     "name": "stdout",
     "output_type": "stream",
     "text": [
      "210\n",
      "105\n"
     ]
    }
   ],
   "source": [
    "n = int(input())\n",
    "if n <= 99:\n",
    "    print(n)\n",
    "else:\n",
    "    answer = 99\n",
    "    for i in range(100, n + 1):\n",
    "        i = str(i)\n",
    "        temp = int(i[1]) - int(i[0])\n",
    "        check = True\n",
    "        for j in range(len(i) - 1):\n",
    "            if int(i[j + 1]) - int(i[j]) != temp:\n",
    "                check = False\n",
    "                break\n",
    "        if check:\n",
    "            answer += 1\n",
    "        \n",
    "    print(answer)"
   ]
  }
 ],
 "metadata": {
  "kernelspec": {
   "display_name": "Python 3",
   "language": "python",
   "name": "python3"
  },
  "language_info": {
   "codemirror_mode": {
    "name": "ipython",
    "version": 3
   },
   "file_extension": ".py",
   "mimetype": "text/x-python",
   "name": "python",
   "nbconvert_exporter": "python",
   "pygments_lexer": "ipython3",
   "version": "3.8.5"
  }
 },
 "nbformat": 4,
 "nbformat_minor": 4
}
