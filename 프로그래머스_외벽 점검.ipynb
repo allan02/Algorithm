{
 "cells": [
  {
   "cell_type": "code",
   "execution_count": 3,
   "metadata": {},
   "outputs": [
    {
     "name": "stdout",
     "output_type": "stream",
     "text": [
      "2\n"
     ]
    }
   ],
   "source": [
    "from itertools import permutations\n",
    "\n",
    "weak = [1, 5, 6, 10]\n",
    "dist = [1, 2, 3, 4]\n",
    "n = 12\n",
    "\n",
    "\n",
    "def solution(n, weak, dist):\n",
    "    \n",
    "    length = len(weak)\n",
    "    \n",
    "    for i in range(length):       \n",
    "        weak.append(weak[i] + n)\n",
    "    \n",
    "    \n",
    "    answer = len(dist) + 1\n",
    "    \n",
    "    \n",
    "    for start in range(length):       \n",
    "        for friends in list(permutations(dist, len(dist))):    \n",
    "            \n",
    "            count = 1\n",
    "            position = weak[start] + friends[count - 1]\n",
    "            \n",
    "            for index in range(start, start + length):\n",
    "                if position < weak[index]:\n",
    "                    count += 1\n",
    "                    if count > len(dist):\n",
    "                        break\n",
    "                    position = weak[index] + friends[count - 1]\n",
    "                    \n",
    "            answer = min(answer, count)\n",
    "    \n",
    "    \n",
    "    if answer > len(dist):\n",
    "        return -1\n",
    "    return answer\n",
    "\n",
    "\n",
    "print(solution(n, weak, dist))\n",
    "\n",
    "\n"
   ]
  },
  {
   "cell_type": "code",
   "execution_count": 3,
   "metadata": {},
   "outputs": [
    {
     "name": "stdout",
     "output_type": "stream",
     "text": [
      "[(1, 2), (1, 3), (1, 4), (1, 5), (2, 3), (2, 4), (2, 5), (3, 4), (3, 5), (4, 5)]\n"
     ]
    }
   ],
   "source": [
    "from itertools import combinations\n",
    "\n",
    "a = [1, 2, 3, 4, 5]\n",
    "\n",
    "b = list(combinations(a, 2))\n",
    "\n",
    "print(b)"
   ]
  },
  {
   "cell_type": "code",
   "execution_count": null,
   "metadata": {},
   "outputs": [],
   "source": []
  }
 ],
 "metadata": {
  "kernelspec": {
   "display_name": "Python 3",
   "language": "python",
   "name": "python3"
  }
 },
 "nbformat": 4,
 "nbformat_minor": 4
}
