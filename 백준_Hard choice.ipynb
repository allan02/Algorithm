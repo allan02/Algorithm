{
 "cells": [
  {
   "cell_type": "code",
   "execution_count": 2,
   "metadata": {},
   "outputs": [
    {
     "name": "stdout",
     "output_type": "stream",
     "text": [
      "80 20 40\n",
      "45 23 48\n",
      "11\n"
     ]
    }
   ],
   "source": [
    "c1, b1, p1 = map(int, input().split())\n",
    "c2, b2, p2 = map(int, input().split())\n",
    "\n",
    "answer = 0\n",
    "\n",
    "if c2 - c1 > 0:\n",
    "    answer += c2 - c1\n",
    "    \n",
    "if b2 - b1 > 0:\n",
    "    answer += b2 - b1\n",
    "    \n",
    "if p2 - p1 > 0:\n",
    "    answer += p2 - p1\n",
    "    \n",
    "print(answer)"
   ]
  }
 ],
 "metadata": {
  "kernelspec": {
   "display_name": "Python 3",
   "language": "python",
   "name": "python3"
  },
  "language_info": {
   "codemirror_mode": {
    "name": "ipython",
    "version": 3
   },
   "file_extension": ".py",
   "mimetype": "text/x-python",
   "name": "python",
   "nbconvert_exporter": "python",
   "pygments_lexer": "ipython3",
   "version": "3.8.5"
  }
 },
 "nbformat": 4,
 "nbformat_minor": 4
}
