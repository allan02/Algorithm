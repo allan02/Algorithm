{
 "cells": [
  {
   "cell_type": "code",
   "execution_count": 19,
   "metadata": {},
   "outputs": [
    {
     "name": "stdout",
     "output_type": "stream",
     "text": [
      "41\n"
     ]
    }
   ],
   "source": [
    "def solution(n):\n",
    "    answer = \"\"\n",
    "    \n",
    "    while n > 0:\n",
    "        if n % 3 == 0:\n",
    "            n = n // 3 - 1 \n",
    "            answer = \"4\" + answer\n",
    "        elif n % 3 == 1:\n",
    "            n = n // 3 \n",
    "            answer = \"1\" + answer\n",
    "        else:\n",
    "            n = n // 3\n",
    "            answer = \"2\" + answer\n",
    "    \n",
    "    return answer\n",
    "\n",
    "print(solution(10))"
   ]
  },
  {
   "cell_type": "code",
   "execution_count": 4,
   "metadata": {},
   "outputs": [
    {
     "name": "stdout",
     "output_type": "stream",
     "text": [
      "sdawasd\n"
     ]
    }
   ],
   "source": [
    "print(\"sdaw\" + \"asd\")"
   ]
  },
  {
   "cell_type": "code",
   "execution_count": null,
   "metadata": {},
   "outputs": [],
   "source": []
  }
 ],
 "metadata": {
  "kernelspec": {
   "display_name": "Python 3",
   "language": "python",
   "name": "python3"
  },
  "language_info": {
   "codemirror_mode": {
    "name": "ipython",
    "version": 3
   },
   "file_extension": ".py",
   "mimetype": "text/x-python",
   "name": "python",
   "nbconvert_exporter": "python",
   "pygments_lexer": "ipython3",
   "version": "3.8.5"
  }
 },
 "nbformat": 4,
 "nbformat_minor": 4
}
