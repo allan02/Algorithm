{
 "cells": [
  {
   "cell_type": "code",
   "execution_count": 5,
   "metadata": {},
   "outputs": [
    {
     "name": "stdout",
     "output_type": "stream",
     "text": [
      "3 4\n",
      "3 7 5\n",
      "4\n"
     ]
    }
   ],
   "source": [
    "from itertools import permutations\n",
    "\n",
    "n, k = map(int, input().split())\n",
    "array = list(map(int, input().split()))\n",
    "\n",
    "answer = 0\n",
    "\n",
    "temp = permutations(array, n)\n",
    "\n",
    "for i in temp:\n",
    "    now = 0\n",
    "    for j in i:\n",
    "        now -= k\n",
    "        now += j\n",
    "        if now < 0:\n",
    "            break\n",
    "    else:\n",
    "        answer += 1\n",
    "        \n",
    "print(answer)\n",
    "        "
   ]
  }
 ],
 "metadata": {
  "kernelspec": {
   "display_name": "Python 3",
   "language": "python",
   "name": "python3"
  },
  "language_info": {
   "codemirror_mode": {
    "name": "ipython",
    "version": 3
   },
   "file_extension": ".py",
   "mimetype": "text/x-python",
   "name": "python",
   "nbconvert_exporter": "python",
   "pygments_lexer": "ipython3",
   "version": "3.8.5"
  }
 },
 "nbformat": 4,
 "nbformat_minor": 4
}
