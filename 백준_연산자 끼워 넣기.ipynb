{
 "cells": [
  {
   "cell_type": "markdown",
   "metadata": {},
   "source": [
    "## 14888번, 연산자 끼워 넣기"
   ]
  },
  {
   "cell_type": "code",
   "execution_count": 11,
   "metadata": {},
   "outputs": [
    {
     "name": "stdout",
     "output_type": "stream",
     "text": [
      "3\n",
      "3 4 5\n",
      "1 0 1 0\n",
      "35\n",
      "17\n"
     ]
    }
   ],
   "source": [
    "n = int(input())\n",
    "\n",
    "array = list(map(int, input().split()))\n",
    "\n",
    "a, b, c, d = map(int, input().split())\n",
    "\n",
    "max_result = -int(1e9)\n",
    "min_result = int(1e9)\n",
    "\n",
    "\n",
    "def solution(count, now):\n",
    "    \n",
    "    global a, b, c, d, max_result, min_result\n",
    "    \n",
    "    if count == n:\n",
    "        max_result = max(max_result, now)\n",
    "        min_result = min(min_result, now)\n",
    "    \n",
    "        \n",
    "    else:\n",
    "        if a > 0:\n",
    "            a -= 1\n",
    "            solution(count + 1, now + array[count])\n",
    "            a += 1\n",
    "            \n",
    "        if b > 0:\n",
    "            b -= 1\n",
    "            solution(count + 1, now - array[count])\n",
    "            b += 1\n",
    "            \n",
    "        if c > 0:\n",
    "            c -= 1\n",
    "            solution(count + 1, now * array[count])\n",
    "            c += 1\n",
    "            \n",
    "        if d > 0:\n",
    "            d -= 1  \n",
    "            solution(count + 1, int(now / array[count]))      \n",
    "            d += 1\n",
    "     \n",
    "    \n",
    "solution(1, array[0])\n",
    "\n",
    "\n",
    "print(max_result)\n",
    "print(min_result)\n",
    "\n"
   ]
  },
  {
   "cell_type": "code",
   "execution_count": 10,
   "metadata": {},
   "outputs": [
    {
     "data": {
      "text/plain": [
       "-1.6666666666666667"
      ]
     },
     "execution_count": 10,
     "metadata": {},
     "output_type": "execute_result"
    }
   ],
   "source": [
    "-5 / 3"
   ]
  },
  {
   "cell_type": "code",
   "execution_count": null,
   "metadata": {},
   "outputs": [],
   "source": []
  },
  {
   "cell_type": "code",
   "execution_count": null,
   "metadata": {},
   "outputs": [],
   "source": []
  }
 ],
 "metadata": {
  "kernelspec": {
   "display_name": "Python 3",
   "language": "python",
   "name": "python3"
  },
  "language_info": {
   "codemirror_mode": {
    "name": "ipython",
    "version": 3
   },
   "file_extension": ".py",
   "mimetype": "text/x-python",
   "name": "python",
   "nbconvert_exporter": "python",
   "pygments_lexer": "ipython3",
   "version": "3.8.5"
  }
 },
 "nbformat": 4,
 "nbformat_minor": 4
}
