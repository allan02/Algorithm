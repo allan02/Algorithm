{
 "cells": [
  {
   "cell_type": "code",
   "execution_count": 1,
   "metadata": {},
   "outputs": [],
   "source": [
    "from itertools import product\n",
    "def solution(word):\n",
    "    answer = 0\n",
    "    \n",
    "    array = []\n",
    "    temp = ['A', 'E', 'I', 'O', 'U']\n",
    "    \n",
    "    temp1 = list(product(temp, repeat = 1))\n",
    "    for i in temp1:\n",
    "        array.append(i)\n",
    "        \n",
    "    temp2 = list(product(temp, repeat = 2))\n",
    "    for i in temp2:\n",
    "        array.append(i)\n",
    "        \n",
    "    temp3 = list(product(temp, repeat = 3))\n",
    "    for i in temp3:\n",
    "        array.append(i)\n",
    "        \n",
    "    temp4 = list(product(temp, repeat = 4))\n",
    "    for i in temp4:\n",
    "        array.append(i)\n",
    "        \n",
    "    temp5 = list(product(temp, repeat = 5))\n",
    "    for i in temp5:\n",
    "        array.append(i)\n",
    "\n",
    "    count = 1\n",
    "    array.sort()\n",
    "    \n",
    "    for i in array:\n",
    "        if word == ''.join(i):\n",
    "            answer = count\n",
    "            break\n",
    "        count += 1\n",
    "        \n",
    "    return answer"
   ]
  }
 ],
 "metadata": {
  "kernelspec": {
   "display_name": "Python 3",
   "language": "python",
   "name": "python3"
  },
  "language_info": {
   "codemirror_mode": {
    "name": "ipython",
    "version": 3
   },
   "file_extension": ".py",
   "mimetype": "text/x-python",
   "name": "python",
   "nbconvert_exporter": "python",
   "pygments_lexer": "ipython3",
   "version": "3.8.5"
  }
 },
 "nbformat": 4,
 "nbformat_minor": 4
}
