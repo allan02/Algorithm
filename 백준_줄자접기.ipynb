{
 "cells": [
  {
   "cell_type": "code",
   "execution_count": 3,
   "metadata": {},
   "outputs": [
    {
     "name": "stdout",
     "output_type": "stream",
     "text": [
      "10\n",
      "2 7\n",
      "5 4\n",
      "10 3\n",
      "-3.5\n"
     ]
    }
   ],
   "source": [
    "n = int(input())\n",
    "s = 0\n",
    "e = n\n",
    "\n",
    "r1, r2 = map(int, input().split())\n",
    "b1, b2 = map(int, input().split())\n",
    "y1, y2 = map(int, input().split())\n",
    "\n",
    "\n",
    "if r1 != r2:\n",
    "    now = (r1 + r2) / 2\n",
    "    if (s + e) / 2 >= now:\n",
    "        s = now\n",
    "        \n",
    "        if b1 < now:\n",
    "            b1 = now + now - b1\n",
    "        else:\n",
    "            b1 = now + b1 - now\n",
    "            \n",
    "        if b2 < now:\n",
    "            b2 = now + now - b2\n",
    "        else:\n",
    "            b2 = now + b2 - now\n",
    "            \n",
    "        if y1 < now:\n",
    "            y1 = now + now - y1\n",
    "        else:\n",
    "            y1 = now + y1 - now\n",
    "            \n",
    "        if y2 < now:\n",
    "            y2 = now + now - y2\n",
    "        else:\n",
    "            y2 = now + y2 - now\n",
    "            \n",
    "    else:\n",
    "        e = now\n",
    "        \n",
    "        if b1 > now:\n",
    "            b1 = now - (b1 - now)\n",
    "            \n",
    "        if b2 > now:\n",
    "            b2 = now - (b2 - now)\n",
    "            \n",
    "        if y1 > now:\n",
    "            y1 = now - (y1 - now)\n",
    "            \n",
    "        if y2 > now:\n",
    "            y2 = now - (y2 - now)\n",
    "        \n",
    "if b1 != b2:\n",
    "    now = (b1 + b2) / 2\n",
    "    if (s + e) / 2 >= now:\n",
    "        s = now\n",
    "            \n",
    "        if y1 < now:\n",
    "            y1 = now + now - y1\n",
    "        else:\n",
    "            y1 = now + y1 - now\n",
    "            \n",
    "        if y2 < now:\n",
    "            y2 = now + now - y2\n",
    "        else:\n",
    "            y2 = now + y2 - now\n",
    "            \n",
    "    else:\n",
    "        e = now\n",
    "            \n",
    "        if y1 > now:\n",
    "            y1 = now - (y1 - now)\n",
    "            \n",
    "        if y2 > now:\n",
    "            y2 = now - (y2 - now)\n",
    "            \n",
    "if y1 != y2:\n",
    "    now = (y1 + y2) / 2\n",
    "    if (s + e) / 2 >= now:\n",
    "        s = now\n",
    "            \n",
    "    else:\n",
    "        e = now\n",
    "\n",
    "print(format(e - s, '.1f'))\n",
    "\n",
    "\n"
   ]
  },
  {
   "cell_type": "code",
   "execution_count": 6,
   "metadata": {},
   "outputs": [
    {
     "name": "stdout",
     "output_type": "stream",
     "text": [
      "OK\n"
     ]
    }
   ],
   "source": [
    "if 5 == 5.00:\n",
    "    print(\"OK\")"
   ]
  }
 ],
 "metadata": {
  "kernelspec": {
   "display_name": "Python 3",
   "language": "python",
   "name": "python3"
  },
  "language_info": {
   "codemirror_mode": {
    "name": "ipython",
    "version": 3
   },
   "file_extension": ".py",
   "mimetype": "text/x-python",
   "name": "python",
   "nbconvert_exporter": "python",
   "pygments_lexer": "ipython3",
   "version": "3.8.5"
  }
 },
 "nbformat": 4,
 "nbformat_minor": 4
}
