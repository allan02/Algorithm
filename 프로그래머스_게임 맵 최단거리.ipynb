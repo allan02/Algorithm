{
 "cells": [
  {
   "cell_type": "code",
   "execution_count": 1,
   "metadata": {},
   "outputs": [],
   "source": [
    "from collections import deque\n",
    "\n",
    "def solution(maps):\n",
    "    dx = [0, 0, 1, -1]\n",
    "    dy = [1, -1, 0, 0]\n",
    "    answer = 0\n",
    "    x = len(maps)\n",
    "    y = len(maps[0])\n",
    "    distance = [[0] * y for _ in range(x)]\n",
    "    q = deque()\n",
    "    q.append((0, 0))\n",
    "    \n",
    "    while q:\n",
    "        xx, yy = q.popleft()\n",
    "        for i in range(4):\n",
    "            nx = xx + dx[i]\n",
    "            ny = yy + dy[i]\n",
    "            \n",
    "            if nx >= 0 and nx < x and ny >= 0 and ny < y and distance[nx][ny] == 0 and maps[nx][ny] == 1:\n",
    "                distance[nx][ny] = distance[xx][yy] + 1\n",
    "                q.append((nx, ny))\n",
    "    \n",
    "    if distance[x - 1][y - 1] == 0:\n",
    "        return -1\n",
    "    else:\n",
    "        return distance[x - 1][y - 1] + 1\n",
    "    "
   ]
  }
 ],
 "metadata": {
  "kernelspec": {
   "display_name": "Python 3",
   "language": "python",
   "name": "python3"
  },
  "language_info": {
   "codemirror_mode": {
    "name": "ipython",
    "version": 3
   },
   "file_extension": ".py",
   "mimetype": "text/x-python",
   "name": "python",
   "nbconvert_exporter": "python",
   "pygments_lexer": "ipython3",
   "version": "3.8.5"
  }
 },
 "nbformat": 4,
 "nbformat_minor": 4
}
