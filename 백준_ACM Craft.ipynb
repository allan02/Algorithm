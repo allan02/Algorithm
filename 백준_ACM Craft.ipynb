{
 "cells": [
  {
   "cell_type": "code",
   "execution_count": 13,
   "metadata": {},
   "outputs": [
    {
     "name": "stdout",
     "output_type": "stream",
     "text": [
      "1\n",
      "4 4\n",
      "10 1 100 10\n",
      "1 2\n",
      "1 3\n",
      "2 4\n",
      "3 4\n",
      "4\n",
      "120\n"
     ]
    }
   ],
   "source": [
    "# 풀이 참조\n",
    "# import sys\n",
    "# input = sys.stdin.readline\n",
    "\n",
    "from collections import deque\n",
    "t = int(input())\n",
    "\n",
    "for _ in range(t): \n",
    "    n, k = map(int, input().split())\n",
    "    cost = [0] + list(map(int, input().split())) \n",
    "    tree = [[] for __ in range(n + 1)] \n",
    "    in_degree = [0] * (n + 1) \n",
    "    dp = [0] * (n + 1)\n",
    "    \n",
    "    for _ in range(k): \n",
    "        a, b = map(int, input().split()) \n",
    "        in_degree[b] += 1 \n",
    "        tree[a].append(b)\n",
    "    q = deque()\n",
    "    \n",
    "    for i in range(1, n + 1): \n",
    "        if in_degree[i] == 0: \n",
    "            q.append(i) \n",
    "            dp[i] = cost[i]\n",
    "            \n",
    "    while q: \n",
    "        now = q.popleft() \n",
    "        for i in tree[now]: \n",
    "            in_degree[i] -= 1 \n",
    "            dp[i] = max(dp[now] + cost[i], dp[i]) \n",
    "            if in_degree[i] == 0: \n",
    "                q.append(i)\n",
    "\n",
    "    ans = int(input()) \n",
    "    print(dp[ans])\n",
    "\n",
    "                      \n"
   ]
  }
 ],
 "metadata": {
  "kernelspec": {
   "display_name": "Python 3",
   "language": "python",
   "name": "python3"
  }
 },
 "nbformat": 4,
 "nbformat_minor": 4
}
