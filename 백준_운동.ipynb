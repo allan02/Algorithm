{
 "cells": [
  {
   "cell_type": "code",
   "execution_count": 10,
   "metadata": {},
   "outputs": [
    {
     "name": "stdout",
     "output_type": "stream",
     "text": [
      "3 4\n",
      "1 2 1\n",
      "3 2 1\n",
      "1 3 5\n",
      "2 3 2\n",
      "3\n"
     ]
    }
   ],
   "source": [
    "#import sys\n",
    "#input = sys.stdin.readline\n",
    "INF = int(1e9)\n",
    "v, e = map(int, input().split())\n",
    "array = [[INF] * (v + 1) for _ in range(v + 1)]\n",
    "for _ in range(e):\n",
    "    a, b, cost = map(int, input().split())\n",
    "    array[a][b] = cost\n",
    "    \n",
    "for k in range(1, v + 1):\n",
    "    for i in range(1, v + 1):\n",
    "        for j in range(1, v + 1):\n",
    "            array[i][j] = min(array[i][j], array[i][k] + array[k][j])\n",
    "            \n",
    "answer = INF\n",
    "\n",
    "for i in range(1, v + 1):\n",
    "    answer = min(answer, array[i][i])\n",
    "    \n",
    "if answer != INF:\n",
    "    print(answer)\n",
    "else:\n",
    "    print(-1)"
   ]
  }
 ],
 "metadata": {
  "kernelspec": {
   "display_name": "Python 3",
   "language": "python",
   "name": "python3"
  },
  "language_info": {
   "codemirror_mode": {
    "name": "ipython",
    "version": 3
   },
   "file_extension": ".py",
   "mimetype": "text/x-python",
   "name": "python",
   "nbconvert_exporter": "python",
   "pygments_lexer": "ipython3",
   "version": "3.8.5"
  }
 },
 "nbformat": 4,
 "nbformat_minor": 4
}
