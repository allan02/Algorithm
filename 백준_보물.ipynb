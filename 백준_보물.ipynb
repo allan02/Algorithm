{
 "cells": [
  {
   "cell_type": "code",
   "execution_count": 7,
   "metadata": {},
   "outputs": [
    {
     "name": "stdout",
     "output_type": "stream",
     "text": [
      "9\n",
      "5 15 100 31 39 0 0 3 26\n",
      "11 12 13 2 3 4 5 9 1\n",
      "528\n"
     ]
    }
   ],
   "source": [
    "n = int(input())\n",
    "array = list(map(int, input().split()))\n",
    "array2 = list(map(int, input().split()))\n",
    "\n",
    "array = sorted(array, key = lambda x : -x)\n",
    "array2 = sorted(array2)\n",
    "\n",
    "answer = 0\n",
    "\n",
    "for i in range(n):\n",
    "    answer += array[i] * array2[i]\n",
    "\n",
    "print(answer)"
   ]
  }
 ],
 "metadata": {
  "kernelspec": {
   "display_name": "Python 3",
   "language": "python",
   "name": "python3"
  },
  "language_info": {
   "codemirror_mode": {
    "name": "ipython",
    "version": 3
   },
   "file_extension": ".py",
   "mimetype": "text/x-python",
   "name": "python",
   "nbconvert_exporter": "python",
   "pygments_lexer": "ipython3",
   "version": "3.8.5"
  }
 },
 "nbformat": 4,
 "nbformat_minor": 4
}
