{
 "cells": [
  {
   "cell_type": "code",
   "execution_count": 14,
   "metadata": {},
   "outputs": [
    {
     "name": "stdout",
     "output_type": "stream",
     "text": [
      "6 9 20\n",
      "40\n"
     ]
    }
   ],
   "source": [
    "n, l, d = map(int, input().split())\n",
    "\n",
    "array = []\n",
    "\n",
    "for _ in range(n):\n",
    "    for _ in range(l):\n",
    "        array.append(1)\n",
    "    \n",
    "    for _ in range(5):\n",
    "        array.append(0)\n",
    "        \n",
    "now = 0\n",
    "\n",
    "while True:\n",
    "    if now >= len(array):\n",
    "        break\n",
    "        \n",
    "    if array[now] == 0:\n",
    "        break\n",
    "    \n",
    "    now += d\n",
    "    \n",
    "print(now)\n",
    "            \n",
    "            \n",
    "    \n",
    "    "
   ]
  },
  {
   "cell_type": "code",
   "execution_count": null,
   "metadata": {},
   "outputs": [],
   "source": []
  }
 ],
 "metadata": {
  "kernelspec": {
   "display_name": "Python 3",
   "language": "python",
   "name": "python3"
  },
  "language_info": {
   "codemirror_mode": {
    "name": "ipython",
    "version": 3
   },
   "file_extension": ".py",
   "mimetype": "text/x-python",
   "name": "python",
   "nbconvert_exporter": "python",
   "pygments_lexer": "ipython3",
   "version": "3.8.5"
  }
 },
 "nbformat": 4,
 "nbformat_minor": 4
}
