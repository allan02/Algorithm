{
 "cells": [
  {
   "cell_type": "code",
   "execution_count": 9,
   "metadata": {},
   "outputs": [
    {
     "name": "stdout",
     "output_type": "stream",
     "text": [
      "1 1\n",
      "1\n",
      "0\n",
      "-1\n"
     ]
    }
   ],
   "source": [
    "n, m = map(int, input().split())\n",
    "\n",
    "array1 = []\n",
    "for _ in range(n):\n",
    "    array1.append(list(map(int, input())))\n",
    "    \n",
    "array2 = []\n",
    "for _ in range(n):\n",
    "    array2.append(list(map(int, input())))\n",
    "\n",
    "answer = 0\n",
    "\n",
    "check = False\n",
    "                  \n",
    "for i in range(n - 2):\n",
    "    for j in range(m - 2):\n",
    "        if array1[i][j] != array2[i][j]:\n",
    "            for x in range(i, i + 3):\n",
    "                for y in range(j, j + 3):\n",
    "                    array1[x][y] = 1 - array1[x][y]\n",
    "            answer += 1\n",
    "                \n",
    "        if array1 == array2:\n",
    "            check = True\n",
    "            break\n",
    "            \n",
    "    if array1 == array2:\n",
    "        check = True\n",
    "        break\n",
    "                        \n",
    "if check:\n",
    "    print(answer)\n",
    "else:\n",
    "    print(-1)"
   ]
  }
 ],
 "metadata": {
  "kernelspec": {
   "display_name": "Python 3",
   "language": "python",
   "name": "python3"
  },
  "language_info": {
   "codemirror_mode": {
    "name": "ipython",
    "version": 3
   },
   "file_extension": ".py",
   "mimetype": "text/x-python",
   "name": "python",
   "nbconvert_exporter": "python",
   "pygments_lexer": "ipython3",
   "version": "3.8.5"
  }
 },
 "nbformat": 4,
 "nbformat_minor": 4
}
