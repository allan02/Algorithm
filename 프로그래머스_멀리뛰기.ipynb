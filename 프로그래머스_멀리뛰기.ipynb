{
 "cells": [
  {
   "cell_type": "code",
   "execution_count": 7,
   "metadata": {},
   "outputs": [
    {
     "name": "stdout",
     "output_type": "stream",
     "text": [
      "5\n"
     ]
    },
    {
     "data": {
      "text/plain": [
       "5"
      ]
     },
     "execution_count": 7,
     "metadata": {},
     "output_type": "execute_result"
    }
   ],
   "source": [
    "# 시간 초과\n",
    "answer = 0\n",
    "\n",
    "def solution(n):\n",
    "    global answer\n",
    "    dfs(n, 0)\n",
    "    print(answer)\n",
    "    return answer\n",
    "\n",
    "def dfs(n, temp):\n",
    "    global answer\n",
    "    \n",
    "    if n == temp:\n",
    "        answer += 1\n",
    "        return\n",
    "    \n",
    "    if n < temp:\n",
    "        return\n",
    "    dfs(n, temp + 1)\n",
    "    dfs(n, temp + 2)\n",
    "\n",
    "solution(4)"
   ]
  },
  {
   "cell_type": "code",
   "execution_count": null,
   "metadata": {},
   "outputs": [],
   "source": [
    "def solution(n):\n",
    "    answer = 0\n",
    "    d = [0] * 2001\n",
    "    d[1] = 1\n",
    "    d[2] = 2\n",
    "    \n",
    "    for i in range(3, n + 1):\n",
    "        d[i] = d[i - 1] + d[i - 2]\n",
    "    \n",
    "    \n",
    "    return d[n] % 1234567"
   ]
  }
 ],
 "metadata": {
  "kernelspec": {
   "display_name": "Python 3",
   "language": "python",
   "name": "python3"
  },
  "language_info": {
   "codemirror_mode": {
    "name": "ipython",
    "version": 3
   },
   "file_extension": ".py",
   "mimetype": "text/x-python",
   "name": "python",
   "nbconvert_exporter": "python",
   "pygments_lexer": "ipython3",
   "version": "3.8.5"
  }
 },
 "nbformat": 4,
 "nbformat_minor": 4
}
