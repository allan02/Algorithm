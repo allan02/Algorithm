{
 "cells": [
  {
   "cell_type": "code",
   "execution_count": 2,
   "metadata": {},
   "outputs": [
    {
     "name": "stdout",
     "output_type": "stream",
     "text": [
      "6 8 10\n",
      "right\n",
      "25 52 60\n",
      "wrong\n",
      "5 12 13\n",
      "right\n",
      "0 0 0\n"
     ]
    }
   ],
   "source": [
    "while True:\n",
    "    a, b, c = map(int, input().split())\n",
    "    if a == 0 and b == 0 and c == 0:\n",
    "        break\n",
    "    if a >= b and a >= c:\n",
    "        if a ** 2 == b ** 2 + c ** 2:\n",
    "            print(\"right\")\n",
    "        else:\n",
    "            print(\"wrong\")\n",
    "    elif b >= a and b >= c:\n",
    "        if b ** 2 == a ** 2 + c ** 2:\n",
    "            print(\"right\")\n",
    "        else:\n",
    "            print(\"wrong\")\n",
    "    else:\n",
    "        if c ** 2 == a ** 2 + b ** 2:\n",
    "            print(\"right\")\n",
    "        else:\n",
    "            print(\"wrong\")\n",
    "        "
   ]
  }
 ],
 "metadata": {
  "kernelspec": {
   "display_name": "Python 3",
   "language": "python",
   "name": "python3"
  },
  "language_info": {
   "codemirror_mode": {
    "name": "ipython",
    "version": 3
   },
   "file_extension": ".py",
   "mimetype": "text/x-python",
   "name": "python",
   "nbconvert_exporter": "python",
   "pygments_lexer": "ipython3",
   "version": "3.8.5"
  }
 },
 "nbformat": 4,
 "nbformat_minor": 4
}
