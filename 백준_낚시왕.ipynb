{
 "cells": [
  {
   "cell_type": "markdown",
   "metadata": {},
   "source": [
    "## 17143번, 백준_낚시왕"
   ]
  },
  {
   "cell_type": "code",
   "execution_count": 32,
   "metadata": {},
   "outputs": [
    {
     "name": "stdout",
     "output_type": "stream",
     "text": [
      "2 2 4\n",
      "1 1 1 1 1\n",
      "2 2 2 2 2\n",
      "1 2 1 2 3\n",
      "2 1 2 1 4\n",
      "[(2, 2, 2, 2, 2), (1, 1, 1, 1, 1), (3, 2, 2, 1, 2)]\n",
      "[(1, 1, 1, 1, 1), (3, 2, 2, 1, 2)]\n",
      "[(3, 2, 2, 1, 2), (1, 2, 1, 1, 2)]\n",
      "[(1, 1, 1, 1, 1)]\n",
      "7\n"
     ]
    }
   ],
   "source": [
    "from copy import deepcopy\n",
    "\n",
    "R, C, M = map(int,input().split())\n",
    "board = [[0]*C for _ in range(R)]\n",
    "\n",
    "for _ in range(M):\n",
    "    r,c,s,d,z = map(int,input().split())\n",
    "    board[r-1][c-1] = [s,d,z] #속력, 이동방향, 크기\n",
    "\n",
    "dir = [[-1,0],[1,0],[0,1],[0,-1]]\n",
    "# 낚시왕이 오른쪽으로 한 칸 이동한다.\n",
    "# 낚시왕이 있는 열에 있는 상어 중에서 땅과 제일 가까운 상어를 잡는다. 상어를 잡으면 격자판에서 잡은 상어가 사라진다.\n",
    "# 상어가 이동한다.\n",
    "ans = 0\n",
    "\n",
    "def outrange(i,j,fast,d):\n",
    "\n",
    "    dx, dy = dir[d-1]\n",
    "    if d == 1 or d == 2:\n",
    "        fast = fast % ((R-1)*2)\n",
    "    elif d == 3 or d == 4:\n",
    "        fast = fast % ((C-1)*2)\n",
    "    while True:\n",
    "        if -1 < i+dx*fast < R and -1 < j+dy*fast < C:\n",
    "            return (i+dx*fast, j+dy*fast, d)\n",
    "\n",
    "        if d == 1:\n",
    "            fast -= i # 가장 위로 만들어주고\n",
    "            dx, dy = 1, 0 # 방향 바꿔버리기\n",
    "            i = 0\n",
    "            d = 2\n",
    "\n",
    "        elif d == 2: # 가장 아래로 만들어주고\n",
    "            fast -= (R-1-i) \n",
    "            dx, dy = -1, 0\n",
    "            i = R-1\n",
    "            d = 1\n",
    "        elif d == 3: # 가장 오른쪽으로 만들고\n",
    "            fast -= (C-1-j)\n",
    "            dx, dy = 0, -1\n",
    "            j = C -1\n",
    "            d = 4\n",
    "        elif d == 4: # 가장 왼쪽\n",
    "            fast -= j\n",
    "            dx, dy = 0, 1\n",
    "            j = 0\n",
    "            d = 3\n",
    "# 상어를 잡는 낚시꾼\n",
    "for j in range(C):\n",
    "    for i in range(R):\n",
    "        if board[i][j] != 0:\n",
    "            ans += board[i][j][2]\n",
    "            board[i][j] = 0\n",
    "            break\n",
    "\n",
    "    # 상어의 이동\n",
    "    new_board= [[0]*C for _ in range(R)]\n",
    "    for i in range(R):\n",
    "        for j in range(C):\n",
    "            if board[i][j] != 0: # 상어가 있다면\n",
    "                fast = board[i][j][0]\n",
    "                nx, ny, d = outrange(i,j,fast,board[i][j][1])\n",
    "                if new_board[nx][ny] == 0: # 아무도 없을때\n",
    "                    new_board[nx][ny] = [board[i][j][0],d,board[i][j][2]]\n",
    "\n",
    "                else: # 있다면 잡아먹으렴...\n",
    "                    if new_board[nx][ny][2] < board[i][j][2]:\n",
    "                        new_board[nx][ny] = [board[i][j][0],d,board[i][j][2]]\n",
    "                            \n",
    "    board = deepcopy(new_board)\n",
    "\n",
    "                                        \n",
    "\n",
    "print(ans)"
   ]
  },
  {
   "cell_type": "code",
   "execution_count": 4,
   "metadata": {},
   "outputs": [
    {
     "name": "stdout",
     "output_type": "stream",
     "text": [
      "1\n",
      "[2, 3, 4, 5]\n"
     ]
    }
   ],
   "source": [
    "a = [1, 2, 3, 4, 5]\n",
    "print(a.pop(0))\n",
    "print(a)"
   ]
  },
  {
   "cell_type": "code",
   "execution_count": 33,
   "metadata": {},
   "outputs": [
    {
     "name": "stdout",
     "output_type": "stream",
     "text": [
      "0\n"
     ]
    }
   ],
   "source": [
    "for i in range(3):\n",
    "    if i == 1:\n",
    "        break\n",
    "    print(i)"
   ]
  },
  {
   "cell_type": "code",
   "execution_count": null,
   "metadata": {},
   "outputs": [],
   "source": []
  }
 ],
 "metadata": {
  "kernelspec": {
   "display_name": "Python 3",
   "language": "python",
   "name": "python3"
  },
  "language_info": {
   "codemirror_mode": {
    "name": "ipython",
    "version": 3
   },
   "file_extension": ".py",
   "mimetype": "text/x-python",
   "name": "python",
   "nbconvert_exporter": "python",
   "pygments_lexer": "ipython3",
   "version": "3.8.5"
  }
 },
 "nbformat": 4,
 "nbformat_minor": 4
}
