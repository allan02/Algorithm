{
 "cells": [
  {
   "cell_type": "code",
   "execution_count": 5,
   "metadata": {},
   "outputs": [
    {
     "name": "stdout",
     "output_type": "stream",
     "text": [
      "9 1 7 2 6 3 0 4 8 5\n",
      "6 3 9 2 1 0 7 4 8 5\n",
      "13 13\n",
      "B\n"
     ]
    }
   ],
   "source": [
    "array1 = list(map(int, input().split()))\n",
    "array2 = list(map(int, input().split()))\n",
    "\n",
    "point1 = 0\n",
    "point2 = 0\n",
    "\n",
    "check = 0\n",
    "\n",
    "for i in range(10):\n",
    "    if array1[i] > array2[i]:\n",
    "        check = 1\n",
    "        point1 += 3\n",
    "        \n",
    "    elif array1[i] < array2[i]:\n",
    "        check = 2\n",
    "        point2 += 3\n",
    "        \n",
    "    else:\n",
    "        point1 += 1\n",
    "        point2 += 1\n",
    "\n",
    "print(point1, point2)\n",
    "\n",
    "if point1 > point2:\n",
    "    print(\"A\")\n",
    "    \n",
    "elif point1 < point2:\n",
    "    print(\"B\")\n",
    "    \n",
    "else:\n",
    "    if check == 1:\n",
    "        print(\"A\")\n",
    "        \n",
    "    elif check == 2:\n",
    "        print(\"B\")\n",
    "\n",
    "    else:\n",
    "        print(\"D\")"
   ]
  }
 ],
 "metadata": {
  "kernelspec": {
   "display_name": "Python 3",
   "language": "python",
   "name": "python3"
  },
  "language_info": {
   "codemirror_mode": {
    "name": "ipython",
    "version": 3
   },
   "file_extension": ".py",
   "mimetype": "text/x-python",
   "name": "python",
   "nbconvert_exporter": "python",
   "pygments_lexer": "ipython3",
   "version": "3.8.5"
  }
 },
 "nbformat": 4,
 "nbformat_minor": 4
}
