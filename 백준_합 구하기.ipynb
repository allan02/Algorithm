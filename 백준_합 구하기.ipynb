{
 "cells": [
  {
   "cell_type": "code",
   "execution_count": 2,
   "metadata": {},
   "outputs": [
    {
     "name": "stdout",
     "output_type": "stream",
     "text": [
      "5\n",
      "10 20 30 40 50\n",
      "5\n",
      "1 3\n",
      "60\n",
      "2 4\n",
      "90\n",
      "3 5\n",
      "120\n",
      "1 5\n",
      "150\n",
      "4 4\n",
      "40\n"
     ]
    }
   ],
   "source": [
    "#import sys\n",
    "#input = sys.stdin.readline\n",
    "n = int(input())\n",
    "array = list(map(int ,input().split()))\n",
    "for i in range(1, n):\n",
    "    array[i] += array[i - 1]\n",
    "\n",
    "m = int(input())\n",
    "for i in range(m):\n",
    "    a, b = map(int, input().split())\n",
    "    if a - 2 < 0:\n",
    "        print(array[b - 1])\n",
    "    else:\n",
    "        print(array[b - 1] - array[a - 2])"
   ]
  }
 ],
 "metadata": {
  "kernelspec": {
   "display_name": "Python 3",
   "language": "python",
   "name": "python3"
  },
  "language_info": {
   "codemirror_mode": {
    "name": "ipython",
    "version": 3
   },
   "file_extension": ".py",
   "mimetype": "text/x-python",
   "name": "python",
   "nbconvert_exporter": "python",
   "pygments_lexer": "ipython3",
   "version": "3.8.5"
  }
 },
 "nbformat": 4,
 "nbformat_minor": 4
}
