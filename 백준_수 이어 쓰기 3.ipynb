{
 "cells": [
  {
   "cell_type": "code",
   "execution_count": 25,
   "metadata": {},
   "outputs": [
    {
     "name": "stdout",
     "output_type": "stream",
     "text": [
      "142\n",
      "73\n"
     ]
    }
   ],
   "source": [
    "#시간 초과\n",
    "\n",
    "s = ''\n",
    "now = 1\n",
    "\n",
    "n = int(input())\n",
    "answer = 1\n",
    "\n",
    "while True:\n",
    "    s += str(now)\n",
    "    if str(n) in s:\n",
    "        print(len(s) - len(str(n)) + 1)\n",
    "        break\n",
    "    now += 1\n",
    "    "
   ]
  },
  {
   "cell_type": "code",
   "execution_count": 1,
   "metadata": {},
   "outputs": [
    {
     "name": "stdout",
     "output_type": "stream",
     "text": [
      "13\n"
     ]
    }
   ],
   "source": [
    "print(str(13))"
   ]
  },
  {
   "cell_type": "code",
   "execution_count": 29,
   "metadata": {},
   "outputs": [
    {
     "name": "stdout",
     "output_type": "stream",
     "text": [
      "34\n",
      "3\n"
     ]
    }
   ],
   "source": [
    "s = ''\n",
    "n = input()\n",
    "\n",
    "for i in range(1, int(n) + 1):\n",
    "    s += str(i)\n",
    "    \n",
    "print(s.index(n) + 1)"
   ]
  }
 ],
 "metadata": {
  "kernelspec": {
   "display_name": "Python 3",
   "language": "python",
   "name": "python3"
  },
  "language_info": {
   "codemirror_mode": {
    "name": "ipython",
    "version": 3
   },
   "file_extension": ".py",
   "mimetype": "text/x-python",
   "name": "python",
   "nbconvert_exporter": "python",
   "pygments_lexer": "ipython3",
   "version": "3.8.5"
  }
 },
 "nbformat": 4,
 "nbformat_minor": 4
}
