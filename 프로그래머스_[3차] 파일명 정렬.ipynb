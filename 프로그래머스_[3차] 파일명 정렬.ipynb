{
 "cells": [
  {
   "cell_type": "code",
   "execution_count": 6,
   "metadata": {},
   "outputs": [
    {
     "name": "stdout",
     "output_type": "stream",
     "text": [
      "\n",
      "123\n",
      "10101\n"
     ]
    }
   ],
   "source": [
    "a = '0'\n",
    "if a < '1':\n",
    "    print()\n",
    "else:\n",
    "    print()\n",
    "    print()\n",
    "print(int('00123'))\n",
    "print(int(\"010101\"))"
   ]
  },
  {
   "cell_type": "code",
   "execution_count": 7,
   "metadata": {},
   "outputs": [],
   "source": [
    "def solution(files):\n",
    "    answer = []\n",
    "    array = []\n",
    "    for i in range(len(files)):\n",
    "        check1 = True\n",
    "        check2 = True\n",
    "        head = ''\n",
    "        number = ''\n",
    "        for j in files[i]:\n",
    "            if '0' <= j <= '9' and len(number) < 5 and check2:\n",
    "                number += j\n",
    "                check1 = False\n",
    "            else:\n",
    "                if check1:\n",
    "                    head += j\n",
    "                else:\n",
    "                    check2 = False\n",
    "                \n",
    "        array.append((files[i], head.lower(), int(number), i))\n",
    "    \n",
    "    array = sorted(array, key = lambda x : (x[1], x[2], x[3]))\n",
    "    \n",
    "    for i in array:\n",
    "        answer.append(i[0])\n",
    "        \n",
    "    return answer"
   ]
  }
 ],
 "metadata": {
  "kernelspec": {
   "display_name": "Python 3",
   "language": "python",
   "name": "python3"
  },
  "language_info": {
   "codemirror_mode": {
    "name": "ipython",
    "version": 3
   },
   "file_extension": ".py",
   "mimetype": "text/x-python",
   "name": "python",
   "nbconvert_exporter": "python",
   "pygments_lexer": "ipython3",
   "version": "3.8.5"
  }
 },
 "nbformat": 4,
 "nbformat_minor": 4
}
