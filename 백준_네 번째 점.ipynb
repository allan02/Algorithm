{
 "cells": [
  {
   "cell_type": "code",
   "execution_count": 3,
   "metadata": {},
   "outputs": [
    {
     "name": "stdout",
     "output_type": "stream",
     "text": [
      "30 20\n",
      "10 10\n",
      "10 20\n",
      "30 10\n"
     ]
    }
   ],
   "source": [
    "array1 = []\n",
    "array2 = []\n",
    "\n",
    "answer_x = 0\n",
    "answer_y = 0\n",
    "\n",
    "for i in range(3):\n",
    "    x, y = map(int, input().split())\n",
    "    array1.append(x)\n",
    "    array2.append(y)\n",
    "    \n",
    "for i in array1:\n",
    "    if array1.count(i) == 1:\n",
    "        answer_x = i\n",
    "for j in array2:\n",
    "    if array2.count(j) == 1:\n",
    "        answer_y = j\n",
    "        \n",
    "print(answer_x, answer_y)\n",
    "        \n",
    "        \n",
    "    "
   ]
  },
  {
   "cell_type": "code",
   "execution_count": 1,
   "metadata": {},
   "outputs": [
    {
     "name": "stdout",
     "output_type": "stream",
     "text": [
      "1\n",
      "2\n"
     ]
    }
   ],
   "source": [
    "array = [1,2,3,4,5,6,6,7]\n",
    "print(array.count(1))\n",
    "print(array.count(6))"
   ]
  }
 ],
 "metadata": {
  "kernelspec": {
   "display_name": "Python 3",
   "language": "python",
   "name": "python3"
  },
  "language_info": {
   "codemirror_mode": {
    "name": "ipython",
    "version": 3
   },
   "file_extension": ".py",
   "mimetype": "text/x-python",
   "name": "python",
   "nbconvert_exporter": "python",
   "pygments_lexer": "ipython3",
   "version": "3.8.5"
  }
 },
 "nbformat": 4,
 "nbformat_minor": 4
}
