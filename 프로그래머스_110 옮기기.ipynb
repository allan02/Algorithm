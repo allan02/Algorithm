{
 "cells": [
  {
   "cell_type": "code",
   "execution_count": 11,
   "metadata": {},
   "outputs": [
    {
     "name": "stdout",
     "output_type": "stream",
     "text": [
      "123141511116\n",
      "523141511116\n",
      "523545511116\n",
      "1\n",
      "6\n",
      "2\n",
      "6\n",
      "3\n",
      "6\n",
      "4\n",
      "6\n",
      "5\n",
      "6\n",
      "\n",
      "5\n",
      "[1, 2, 3, 4]\n"
     ]
    }
   ],
   "source": [
    "a = \"123141511116\"\n",
    "a = a.replace(\"1\", \"5\", 0)\n",
    "print(a)\n",
    "a = a.replace(\"1\", \"5\", 1)\n",
    "print(a)\n",
    "a = a.replace(\"1\", \"5\", 2)\n",
    "print(a)\n",
    "\n",
    "\n",
    "array = [1,2,3,4,5]\n",
    "for i in array:\n",
    "    print(i)\n",
    "    i = 6\n",
    "    print(i)\n",
    "\n",
    "print()   \n",
    "print(array[-1])\n",
    "print(array[:-1])"
   ]
  },
  {
   "cell_type": "code",
   "execution_count": null,
   "metadata": {},
   "outputs": [],
   "source": [
    "# 시간 초과\n",
    "def solution(s):\n",
    "    answer = []\n",
    "    temp = \"\"\n",
    "    for i in s:\n",
    "        count = 0\n",
    "        while True:\n",
    "            temp = i.replace(\"110\", \"\", 1)\n",
    "            if len(i) == len(temp):\n",
    "                break\n",
    "            else:\n",
    "                count += 1\n",
    "                i = temp        \n",
    "        p = 0\n",
    "        for k in i[::-1]:\n",
    "            if k == '0':\n",
    "                break\n",
    "            else:\n",
    "                p += 1\n",
    "                \n",
    "        answer.append(i[:len(temp) - p] + \"110\" * count + i[len(temp) - p:])\n",
    "    return answer"
   ]
  },
  {
   "cell_type": "code",
   "execution_count": 12,
   "metadata": {},
   "outputs": [],
   "source": [
    "def solution(s):\n",
    "    answer = []\n",
    "    for i in s:\n",
    "        count = 0\n",
    "        stack = []\n",
    "        \n",
    "        for c in i:\n",
    "            if len(stack) >= 2 and stack[-1] == '1' and stack[-2] == '1' and c == '0':\n",
    "                stack.pop()\n",
    "                stack.pop()\n",
    "                count += 1\n",
    "            else:\n",
    "                stack.append(c)\n",
    "        \n",
    "        temp = ''.join(stack)\n",
    "        \n",
    "        p = 0\n",
    "        for k in temp[::-1]:\n",
    "            if k == '0':\n",
    "                break\n",
    "            else:\n",
    "                p += 1\n",
    "\n",
    "        answer.append(temp[:len(temp) - p] + \"110\" * count + temp[len(temp) - p:])\n",
    "    return answer"
   ]
  },
  {
   "cell_type": "code",
   "execution_count": null,
   "metadata": {},
   "outputs": [],
   "source": []
  },
  {
   "cell_type": "code",
   "execution_count": null,
   "metadata": {},
   "outputs": [],
   "source": []
  }
 ],
 "metadata": {
  "kernelspec": {
   "display_name": "Python 3",
   "language": "python",
   "name": "python3"
  },
  "language_info": {
   "codemirror_mode": {
    "name": "ipython",
    "version": 3
   },
   "file_extension": ".py",
   "mimetype": "text/x-python",
   "name": "python",
   "nbconvert_exporter": "python",
   "pygments_lexer": "ipython3",
   "version": "3.8.5"
  }
 },
 "nbformat": 4,
 "nbformat_minor": 4
}
