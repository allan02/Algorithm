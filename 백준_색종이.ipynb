{
 "cells": [
  {
   "cell_type": "code",
   "execution_count": 13,
   "metadata": {},
   "outputs": [
    {
     "name": "stdout",
     "output_type": "stream",
     "text": [
      "3\n",
      "0 2 10 10\n",
      "7 9 8 4\n",
      "8 4 10 6\n",
      "81\n",
      "25\n",
      "60\n"
     ]
    }
   ],
   "source": [
    "n = int(input())\n",
    "\n",
    "array = [[-1] * (1001) for _ in range(1001)]\n",
    "\n",
    "answer = []\n",
    "\n",
    "for i in range(1, n + 1):\n",
    "    x, y, w, h = map(int, input().split())\n",
    "    temp = 0\n",
    "    for xx in range(x, x + w):\n",
    "        for yy in range(y, y + h):\n",
    "            array[xx][yy] = i\n",
    "                \n",
    "for i in range(1, n + 1):\n",
    "    temp = 0\n",
    "    for x in range(1001):\n",
    "        for y in range(1001):\n",
    "            if array[x][y] == i:\n",
    "                temp += 1\n",
    "                \n",
    "    print(temp)\n",
    "\n",
    "    "
   ]
  }
 ],
 "metadata": {
  "kernelspec": {
   "display_name": "Python 3",
   "language": "python",
   "name": "python3"
  },
  "language_info": {
   "codemirror_mode": {
    "name": "ipython",
    "version": 3
   },
   "file_extension": ".py",
   "mimetype": "text/x-python",
   "name": "python",
   "nbconvert_exporter": "python",
   "pygments_lexer": "ipython3",
   "version": "3.8.5"
  }
 },
 "nbformat": 4,
 "nbformat_minor": 4
}
