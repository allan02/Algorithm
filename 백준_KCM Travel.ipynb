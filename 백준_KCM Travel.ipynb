{
 "cells": [
  {
   "cell_type": "code",
   "execution_count": 14,
   "metadata": {},
   "outputs": [
    {
     "name": "stdout",
     "output_type": "stream",
     "text": [
      "1\n",
      "4 10 4\n",
      "1 2 5 3\n",
      "2 3 5 4\n",
      "3 4 1 5\n",
      "1 3 10 6\n",
      "Poor KCM\n"
     ]
    }
   ],
   "source": [
    "import sys\n",
    "#input = sys.stdin.readline\n",
    "INF = int(1e9)\n",
    "\n",
    "t = int(input())\n",
    "for _ in range(t):\n",
    "    n, m, k = map(int, input().split())\n",
    "    array = [[] for _ in range(n + 1)]\n",
    "    for _ in range(k):\n",
    "        u, v, c, d = map(int, input().split())\n",
    "        array[u].append((v, c, d))\n",
    "        \n",
    "    dp = [[INF] * (m + 1) for _ in range(n + 1)]\n",
    "    dp[1][0] = 0\n",
    "    \n",
    "    for c in range(m + 1):\n",
    "        for d in range(1, n + 1):\n",
    "            if dp[d][c] == INF:\n",
    "                continue\n",
    "            t = dp[d][c]\n",
    "            for aa, bb, cc in array[d]:\n",
    "                if bb + c > m:\n",
    "                    continue\n",
    "                dp[aa][bb + c] = min(dp[aa][bb + c], t + cc)\n",
    "                \n",
    "    result = min(dp[n])\n",
    "    if result == INF:\n",
    "        print(\"Poor KCM\")\n",
    "    else:\n",
    "        print(result)"
   ]
  }
 ],
 "metadata": {
  "kernelspec": {
   "display_name": "Python 3",
   "language": "python",
   "name": "python3"
  },
  "language_info": {
   "codemirror_mode": {
    "name": "ipython",
    "version": 3
   },
   "file_extension": ".py",
   "mimetype": "text/x-python",
   "name": "python",
   "nbconvert_exporter": "python",
   "pygments_lexer": "ipython3",
   "version": "3.8.5"
  }
 },
 "nbformat": 4,
 "nbformat_minor": 4
}
