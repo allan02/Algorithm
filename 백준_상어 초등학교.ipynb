{
 "cells": [
  {
   "cell_type": "code",
   "execution_count": 6,
   "metadata": {},
   "outputs": [
    {
     "name": "stdout",
     "output_type": "stream",
     "text": [
      "3\n",
      "4 2 5 1 7\n",
      "2 1 9 4 5\n",
      "5 8 1 4 3\n",
      "1 2 9 3 4\n",
      "7 2 3 4 8\n",
      "9 8 4 5 7\n",
      "6 5 2 3 4\n",
      "8 4 9 2 1\n",
      "3 9 2 1 4\n",
      "[[6, 2, 8], [5, 4, 1], [9, 7, 3]]\n",
      "1053\n"
     ]
    }
   ],
   "source": [
    "dx = [1, -1, 0, 0]\n",
    "dy = [0, 0, 1, -1]\n",
    "\n",
    "n = int(input())\n",
    "\n",
    "like = [[] for _ in range(n * n + 1)]\n",
    "\n",
    "array = [[0] * n for _ in range(n)]\n",
    "\n",
    "for _ in range(n * n):\n",
    "    now, a, b, c, d = map(int, input().split())\n",
    "    like[now].append(a)\n",
    "    like[now].append(b)\n",
    "    like[now].append(c)\n",
    "    like[now].append(d)\n",
    "    \n",
    "    temp = []\n",
    "    \n",
    "    for i in range(n):\n",
    "        for j in range(n):\n",
    "            # 인접 학생, 빈칸 개수\n",
    "            like_student = 0\n",
    "            blank = 0\n",
    "            \n",
    "            if array[i][j] != 0:\n",
    "                continue\n",
    "            \n",
    "            for k in range(4):\n",
    "                nx = i + dx[k]\n",
    "                ny = j + dy[k]\n",
    "                if 0 <= nx < n and 0 <= ny < n:\n",
    "                    if array[nx][ny] == 0:\n",
    "                        blank += 1\n",
    "                    if array[nx][ny] in like[now]:\n",
    "                        like_student += 1\n",
    "                        \n",
    "            temp.append((like_student, blank, i, j))\n",
    "    \n",
    "    temp = sorted(temp, key = lambda x : (-x[0], -x[1], x[2], x[3]))\n",
    "    \n",
    "    array[temp[0][2]][temp[0][3]] = now\n",
    "    \n",
    "\n",
    "answer = 0\n",
    "\n",
    "# print(array)\n",
    "\n",
    "for i in range(n):\n",
    "    for j in range(n):\n",
    "        now = 0\n",
    "        for k in range(4):\n",
    "            nx = i + dx[k]\n",
    "            ny = j + dy[k]\n",
    "            \n",
    "            if 0 <= nx < n and 0 <= ny < n:\n",
    "                if array[nx][ny] in like[array[i][j]]:\n",
    "                    now += 1\n",
    "                    \n",
    "        if now == 1:\n",
    "            answer += 1\n",
    "        elif now > 1:\n",
    "            answer += 10 ** (now - 1)\n",
    "            \n",
    "            \n",
    "        \n",
    "print(answer)"
   ]
  }
 ],
 "metadata": {
  "kernelspec": {
   "display_name": "Python 3",
   "language": "python",
   "name": "python3"
  },
  "language_info": {
   "codemirror_mode": {
    "name": "ipython",
    "version": 3
   },
   "file_extension": ".py",
   "mimetype": "text/x-python",
   "name": "python",
   "nbconvert_exporter": "python",
   "pygments_lexer": "ipython3",
   "version": "3.8.5"
  }
 },
 "nbformat": 4,
 "nbformat_minor": 4
}
