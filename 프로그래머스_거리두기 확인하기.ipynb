{
 "cells": [
  {
   "cell_type": "code",
   "execution_count": 2,
   "metadata": {},
   "outputs": [
    {
     "data": {
      "text/plain": [
       "[1, 0, 1, 1, 1]"
      ]
     },
     "execution_count": 2,
     "metadata": {},
     "output_type": "execute_result"
    }
   ],
   "source": [
    "def solution(places):\n",
    "    answer = []\n",
    "    for k in places:\n",
    "        check = []\n",
    "        for i in range(5):\n",
    "            for j in range(5):\n",
    "                if k[i][j] == 'P':\n",
    "                    check.append((i, j))\n",
    "        \n",
    "        length = len(check)\n",
    "        ans = 1\n",
    "        for i in range(length):\n",
    "            for j in range(i + 1, length):\n",
    "                x1, y1 = check[i]\n",
    "                x2, y2 = check[j]\n",
    "                if abs(x2 - x1) + abs(y2 - y1) <= 1:\n",
    "                    ans = 0\n",
    "                    break\n",
    "                elif abs(x2 - x1) + abs(y2 - y1) == 2:\n",
    "                    if abs(x2 - x1) == 2:\n",
    "                        if k[(x2 + x1) // 2][y1] == 'O':\n",
    "                            ans = 0\n",
    "                            break\n",
    "                    elif abs(y2 - y1) == 2:\n",
    "                        if k[x1][(y1 + y2) // 2] == 'O':\n",
    "                            ans = 0\n",
    "                            break\n",
    "                    else:\n",
    "                        if k[x2][y1] == 'O' or k[x1][y2] == 'O':\n",
    "                            ans = 0\n",
    "                            break\n",
    "\n",
    "        answer.append(ans)\n",
    "    return answer\n",
    "\n",
    "solution([[\"POOOP\", \"OXXOX\", \"OPXPX\", \"OOXOX\", \"POXXP\"], [\"POOPX\", \"OXPXP\", \"PXXXO\", \"OXXXO\", \"OOOPP\"], [\"PXOPX\", \"OXOXP\", \"OXPOX\", \"OXXOP\", \"PXPOX\"], [\"OOOXX\", \"XOOOX\", \"OOOXX\", \"OXOOX\", \"OOOOO\"], [\"PXPXP\", \"XPXPX\", \"PXPXP\", \"XPXPX\", \"PXPXP\"]])"
   ]
  }
 ],
 "metadata": {
  "kernelspec": {
   "display_name": "Python 3",
   "language": "python",
   "name": "python3"
  },
  "language_info": {
   "codemirror_mode": {
    "name": "ipython",
    "version": 3
   },
   "file_extension": ".py",
   "mimetype": "text/x-python",
   "name": "python",
   "nbconvert_exporter": "python",
   "pygments_lexer": "ipython3",
   "version": "3.8.5"
  }
 },
 "nbformat": 4,
 "nbformat_minor": 4
}
