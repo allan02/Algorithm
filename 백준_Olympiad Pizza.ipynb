{
 "cells": [
  {
   "cell_type": "code",
   "execution_count": 3,
   "metadata": {},
   "outputs": [
    {
     "name": "stdout",
     "output_type": "stream",
     "text": [
      "4\n",
      "1 3 1 4\n",
      "1 7 3 9 "
     ]
    }
   ],
   "source": [
    "from collections import deque\n",
    "\n",
    "n = int(input())\n",
    "array = list(map(int, input().split()))\n",
    "\n",
    "q = deque()\n",
    "\n",
    "for i in range(n):\n",
    "    q.append((i, array[i]))\n",
    "    \n",
    "answer = []\n",
    "temp = 1\n",
    "\n",
    "while q:\n",
    "    now, cost = q.popleft()\n",
    "    cost -= 1\n",
    "    \n",
    "    if cost == 0:\n",
    "        answer.append((now, temp))\n",
    "        \n",
    "    else:\n",
    "        q.append((now, cost))\n",
    "        \n",
    "    temp += 1\n",
    "\n",
    "answer.sort()\n",
    "\n",
    "for i in answer:\n",
    "    print(i[1], end = ' ')"
   ]
  },
  {
   "cell_type": "code",
   "execution_count": null,
   "metadata": {},
   "outputs": [],
   "source": []
  }
 ],
 "metadata": {
  "kernelspec": {
   "display_name": "Python 3",
   "language": "python",
   "name": "python3"
  },
  "language_info": {
   "codemirror_mode": {
    "name": "ipython",
    "version": 3
   },
   "file_extension": ".py",
   "mimetype": "text/x-python",
   "name": "python",
   "nbconvert_exporter": "python",
   "pygments_lexer": "ipython3",
   "version": "3.8.5"
  }
 },
 "nbformat": 4,
 "nbformat_minor": 4
}
