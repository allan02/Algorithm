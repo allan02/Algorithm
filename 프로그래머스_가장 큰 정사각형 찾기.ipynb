{
 "cells": [
  {
   "cell_type": "code",
   "execution_count": 1,
   "metadata": {},
   "outputs": [],
   "source": [
    "def solution(board):\n",
    "    answer = -1\n",
    "    for i in range(1, len(board)):\n",
    "        for j in range(1, len(board[0])):\n",
    "            if board[i - 1][j - 1] != 0 and board[i][j - 1] != 0 and board[i - 1][j] != 0 and board[i][j] != 0:\n",
    "                board[i][j] = min(board[i - 1][j - 1], board[i][j - 1], board[i - 1][j]) + 1\n",
    "    \n",
    "    for i in range(len(board)):\n",
    "        for j in range(len(board[0])):\n",
    "            answer = max(answer, board[i][j])\n",
    "\n",
    "    return answer * answer"
   ]
  }
 ],
 "metadata": {
  "kernelspec": {
   "display_name": "Python 3",
   "language": "python",
   "name": "python3"
  },
  "language_info": {
   "codemirror_mode": {
    "name": "ipython",
    "version": 3
   },
   "file_extension": ".py",
   "mimetype": "text/x-python",
   "name": "python",
   "nbconvert_exporter": "python",
   "pygments_lexer": "ipython3",
   "version": "3.8.5"
  }
 },
 "nbformat": 4,
 "nbformat_minor": 4
}
