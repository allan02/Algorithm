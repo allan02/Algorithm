{
 "cells": [
  {
   "cell_type": "code",
   "execution_count": 19,
   "metadata": {},
   "outputs": [
    {
     "name": "stdout",
     "output_type": "stream",
     "text": [
      "5\n",
      "2 500 500 2 2\n",
      "2\n",
      "[502, 1000, 502, 4]\n",
      "1004\n"
     ]
    }
   ],
   "source": [
    "# 메모리 초과 & m = 홀수일 때 적용 X\n",
    "\n",
    "import sys\n",
    "sys.setrecursionlimit(10 ** 6)\n",
    "\n",
    "def sol(array, index, val, l):\n",
    "    global answer\n",
    "    if index >= l:\n",
    "        answer = max(answer, val)\n",
    "        return\n",
    "        \n",
    "    sol(array, index + 2, val + array[index], l)\n",
    "    sol(array, index + 1, val, l)\n",
    "        \n",
    "    \n",
    "answer = -1\n",
    "    \n",
    "n = int(input())\n",
    "\n",
    "array = list(map(int, input().split()))\n",
    "\n",
    "m = int(input())\n",
    "\n",
    "temp = []\n",
    "\n",
    "for i in range(n - m + 1):\n",
    "    now = 0\n",
    "    for j in range(m):\n",
    "        now += array[i + j]\n",
    "    temp.append(now)\n",
    "\n",
    "print(temp)    \n",
    "\n",
    "sol(temp, 0, 0, len(temp))\n",
    "\n",
    "print(answer)\n",
    "\n",
    "\n",
    "\n",
    "\n",
    "    "
   ]
  },
  {
   "cell_type": "code",
   "execution_count": 1,
   "metadata": {},
   "outputs": [
    {
     "name": "stdout",
     "output_type": "stream",
     "text": [
      "7\n",
      "35 40 50 10 30 45 60\n",
      "2\n",
      "240\n"
     ]
    }
   ],
   "source": [
    "# 풀이 참조\n",
    "\n",
    "#import sys\n",
    "\n",
    "#input = sys.stdin.readline\n",
    "\n",
    "N = int(input())\n",
    "train = list(map(int, input().split()))\n",
    "limit = int(input())\n",
    "\n",
    "# 구간합 계산\n",
    "S = [0]\n",
    "value = 0\n",
    "for t in train:\n",
    "    value += t\n",
    "    S.append(value)\n",
    "\n",
    "dp = [[0] * (N + 1) for _ in range(4)]\n",
    "\n",
    "# 점화식을 이용해 최댓값 탐색\n",
    "for n in range(1, 4):\n",
    "    for m in range(n * limit, N + 1):\n",
    "        # n = 1일 때 선택한 객차가 없으므로\n",
    "        # 전에 계산한 구간합과 현재 계산하는 구간합 중 최댓값을 계산해 갱신해준다.\n",
    "        if n == 1:\n",
    "            dp[n][m] = max(dp[n][m - 1], S[m] - S[m - limit])\n",
    "\n",
    "        # 점화식\n",
    "        else:\n",
    "            dp[n][m] = max(dp[n][m - 1], dp[n - 1][m - limit] + S[m] - S[m - limit])\n",
    "        # print_dp(dp)\n",
    "\n",
    "print(dp[3][N])"
   ]
  }
 ],
 "metadata": {
  "kernelspec": {
   "display_name": "Python 3",
   "language": "python",
   "name": "python3"
  },
  "language_info": {
   "codemirror_mode": {
    "name": "ipython",
    "version": 3
   },
   "file_extension": ".py",
   "mimetype": "text/x-python",
   "name": "python",
   "nbconvert_exporter": "python",
   "pygments_lexer": "ipython3",
   "version": "3.8.5"
  }
 },
 "nbformat": 4,
 "nbformat_minor": 4
}
