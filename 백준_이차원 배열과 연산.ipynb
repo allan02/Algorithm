{
 "cells": [
  {
   "cell_type": "markdown",
   "metadata": {},
   "source": [
    "## 17140번, 이차원 배열과 연산"
   ]
  },
  {
   "cell_type": "code",
   "execution_count": 43,
   "metadata": {},
   "outputs": [
    {
     "name": "stdout",
     "output_type": "stream",
     "text": [
      "3 3 3\n",
      "1 1 1\n",
      "1 1 1\n",
      "1 1 1\n",
      "2\n"
     ]
    }
   ],
   "source": [
    "import sys\n",
    "from collections import Counter\n",
    "r, c, k = map(int, sys.stdin.readline().split())\n",
    "maps = []\n",
    "for _ in range(3):\n",
    "    temp = list(map(int, sys.stdin.readline().split()))\n",
    "    maps.append(temp)\n",
    "\n",
    "time = 0\n",
    "find = False\n",
    "while time <= 100:\n",
    "    if r <= len(maps) and c <= len(maps[0]) and maps[r-1][c-1] == k:\n",
    "        print(time)\n",
    "        find = True\n",
    "        break\n",
    "    time += 1\n",
    "    max_col = 0\n",
    "    next_maps = []\n",
    "    # R연산    \n",
    "    if len(maps) >= len(maps[0]):\n",
    "        for rows in maps:\n",
    "            next_row = []\n",
    "            count_table = sorted(list(Counter(rows).items()), key = lambda x: (x[1], x[0]))\n",
    "            for num, cnt in count_table:\n",
    "                if num == 0:\n",
    "                    continue\n",
    "                next_row.append(num)\n",
    "                next_row.append(cnt)\n",
    "            max_col = max(max_col, len(next_row))\n",
    "            next_maps.append(next_row)\n",
    "\n",
    "        # 가장 긴 row 길이에 맞게 0 개수 채우기\n",
    "        for rows in next_maps:\n",
    "            if len(rows) < max_col:\n",
    "                for _ in range(max_col - len(rows)):\n",
    "                    rows.append(0)\n",
    "        maps = next_maps\n",
    "        continue\n",
    "    # c연산\n",
    "    elif len(maps) < len(maps[0]):\n",
    "        # 2차원 list transpose\n",
    "        maps = list(map(list, zip(*maps)))\n",
    "        for rows in maps:\n",
    "            next_row = []\n",
    "            count_table = sorted(list(Counter(rows).items()), key = lambda x: (x[1], x[0]))\n",
    "            for num, cnt in count_table:\n",
    "                if num == 0:\n",
    "                    continue\n",
    "                next_row.append(num)\n",
    "                next_row.append(cnt)\n",
    "            max_col = max(max_col, len(next_row))\n",
    "            next_maps.append(next_row)\n",
    "\n",
    "        # 가장 긴 row 길이에 맞게 0 개수 채우기\n",
    "        for rows in next_maps:\n",
    "            if len(rows) < max_col:\n",
    "                for _ in range(max_col - len(rows)):\n",
    "                    rows.append(0)\n",
    "\n",
    "        # c연산 결과에 맞게 다시 transpose\n",
    "        maps = list(map(list, zip(*next_maps)))\n",
    "        continue\n",
    "    \n",
    "if not find:\n",
    "    print(-1)"
   ]
  },
  {
   "cell_type": "code",
   "execution_count": 3,
   "metadata": {},
   "outputs": [
    {
     "name": "stdout",
     "output_type": "stream",
     "text": [
      "1 2 3 4 5\n",
      "1 2 3 4 5\n",
      "1 2 3 4 5\n",
      "1 2 3 4 5\n",
      "[[1, 2, 3, 4, 5], [1, 2, 3, 4, 5], [1, 2, 3, 4, 5], [1, 2, 3, 4, 5]]\n",
      "5\n",
      "4\n"
     ]
    }
   ],
   "source": [
    "array = [list(map(int, input().split())) for _ in range(4)]\n",
    "\n",
    "print(array)\n",
    "print(len(array[0])) # 열\n",
    "\n",
    "print(len(array)) # 행"
   ]
  },
  {
   "cell_type": "code",
   "execution_count": 5,
   "metadata": {},
   "outputs": [
    {
     "name": "stdout",
     "output_type": "stream",
     "text": [
      "[2, 1, 4, 3]\n"
     ]
    }
   ],
   "source": [
    "a = [1, 2]\n",
    "b = [3 ,4]\n",
    "\n",
    "c = a[::-1] + b[::-1]\n",
    "print(c)"
   ]
  },
  {
   "cell_type": "code",
   "execution_count": 13,
   "metadata": {},
   "outputs": [
    {
     "name": "stdout",
     "output_type": "stream",
     "text": [
      "[(1, 2, 3), (6, 3, 4), (6, 4, 5)]\n",
      "[(1, 6, 6), (2, 3, 4), (3, 4, 5)]\n"
     ]
    }
   ],
   "source": [
    "import pandas as pd\n",
    "a = []\n",
    "a.append((1, 2, 3))\n",
    "a.append((6, 3, 4))\n",
    "a.append((6, 4, 5))\n",
    "\n",
    "print(a)\n",
    "a = list(zip(*a))\n",
    "print(a)"
   ]
  },
  {
   "cell_type": "code",
   "execution_count": 50,
   "metadata": {},
   "outputs": [
    {
     "name": "stdout",
     "output_type": "stream",
     "text": [
      "dict_items([(1, 4), (2, 1)])\n"
     ]
    }
   ],
   "source": [
    "from collections import Counter\n",
    "\n",
    "a = [1,1,1,1,2,3,4,5,6,4,3,3,1]\n",
    "\n",
    "a = a[:5]\n",
    "\n",
    "a = Counter(a)\n",
    "\n",
    "print(a.items())"
   ]
  },
  {
   "cell_type": "code",
   "execution_count": null,
   "metadata": {},
   "outputs": [],
   "source": []
  }
 ],
 "metadata": {
  "kernelspec": {
   "display_name": "Python 3",
   "language": "python",
   "name": "python3"
  },
  "language_info": {
   "codemirror_mode": {
    "name": "ipython",
    "version": 3
   },
   "file_extension": ".py",
   "mimetype": "text/x-python",
   "name": "python",
   "nbconvert_exporter": "python",
   "pygments_lexer": "ipython3",
   "version": "3.8.5"
  }
 },
 "nbformat": 4,
 "nbformat_minor": 4
}
