{
 "cells": [
  {
   "cell_type": "code",
   "execution_count": 7,
   "metadata": {},
   "outputs": [
    {
     "name": "stdout",
     "output_type": "stream",
     "text": [
      "4 1 0 3 0 2 4 1 0 1 1 3 0 0 5 1 1 3\n",
      "deque([[4, 1, 0], [3, 0, 2], [4, 1, 0], [1, 1, 3], [0, 0, 5], [1, 1, 3]])\n",
      "deque([[3, 0, 0], [4, 0, 0], [1, 1, 1], [0, 0, 5], [1, 1, 3]])\n",
      "deque([[3, 0, 0], [4, 0, 0], [1, 1, 1], [0, 0, 5], [1, 1, 3], [0, 0, 0]])\n",
      "deque([[4, 0, 0], [1, 1, 0], [0, 0, 3], [1, 1, 3], [0, 0, 0]])\n",
      "deque([[4, 0, 0], [1, 1, 0], [0, 0, 3], [1, 1, 3], [0, 0, 0], [0, 0, 0]])\n",
      "deque([[1, 1, 0], [0, 0, 0], [1, 1, 2], [0, 0, 0], [0, 0, 0]])\n",
      "deque([[1, 1, 0], [0, 0, 0], [1, 1, 2], [0, 0, 0], [0, 0, 0], [0, 0, 0]])\n",
      "deque([[0, 0, 0], [1, 0, 1], [0, 0, 0], [0, 0, 0], [0, 0, 0]])\n",
      "deque([[0, 0, 0], [1, 0, 1], [0, 0, 0], [0, 0, 0], [0, 0, 0], [0, 0, 0]])\n",
      "deque([[1, 0, 1], [0, 0, 0], [0, 0, 0], [0, 0, 0], [0, 0, 0]])\n",
      "deque([[1, 0, 1], [0, 0, 0], [0, 0, 0], [0, 0, 0], [0, 0, 0], [0, 0, 0]])\n",
      "deque([[0, 0, 0], [0, 0, 0], [0, 0, 0], [0, 0, 0], [0, 0, 0]])\n",
      "deque([[0, 0, 0], [0, 0, 0], [0, 0, 0], [0, 0, 0], [0, 0, 0], [1, 0, 1]])\n",
      "\n",
      "deque([[0, 0, 0], [0, 0, 0], [0, 0, 0], [0, 0, 0], [0, 0, 0], [1, 0, 1]])\n"
     ]
    }
   ],
   "source": [
    "# 모든 경우 고려X\n",
    "\n",
    "from collections import deque\n",
    "\n",
    "for _ in range(1):\n",
    "    w1, d1, l1, w2, d2, l2, w3, d3, l3, w4, d4, l4, w5, d5, l5, w6, d6, l6 = map(int, input().split())\n",
    "    q = deque()\n",
    "    q.append([w1, d1, l1])\n",
    "    q.append([w2, d2, l2])\n",
    "    q.append([w3, d3, l3])\n",
    "    q.append([w4, d4, l4])\n",
    "    q.append([w5, d5, l5])\n",
    "    q.append([w6, d6, l6])\n",
    "    \n",
    "    print(q)\n",
    "\n",
    "    for _ in range(6):\n",
    "        now_w, now_d, now_l = q.popleft()\n",
    "        for i in range(5):\n",
    "            while q[i][2] != 0 and now_w != 0:\n",
    "                q[i][2] -= 1\n",
    "                now_w -= 1\n",
    "\n",
    "            while q[i][1] != 0 and now_d != 0:\n",
    "                q[i][1] -= 1\n",
    "                now_d -= 1\n",
    "\n",
    "            while q[i][0] != 0 and now_l != 0:\n",
    "                q[i][0] -= 1\n",
    "                now_l -= 1\n",
    "\n",
    "        print(q)\n",
    "        q.append([now_w, now_d, now_l])\n",
    "        print(q)\n",
    "        \n",
    "    print()\n",
    "    print(q)\n",
    "            "
   ]
  },
  {
   "cell_type": "code",
   "execution_count": 1,
   "metadata": {},
   "outputs": [
    {
     "name": "stdout",
     "output_type": "stream",
     "text": [
      "6\n"
     ]
    }
   ],
   "source": [
    "array = [1, 2, 3]\n",
    "\n",
    "print(sum(array))"
   ]
  },
  {
   "cell_type": "code",
   "execution_count": 5,
   "metadata": {},
   "outputs": [
    {
     "name": "stdout",
     "output_type": "stream",
     "text": [
      "deque([[1, 2, 3]])\n",
      "deque([[1, -1, 3]])\n"
     ]
    }
   ],
   "source": [
    "from collections import deque\n",
    "\n",
    "q = deque()\n",
    "q.append([1, 2, 3])\n",
    "print(q)\n",
    "q[0][1] -= 3\n",
    "print(q)"
   ]
  },
  {
   "cell_type": "code",
   "execution_count": 1,
   "metadata": {},
   "outputs": [
    {
     "name": "stdout",
     "output_type": "stream",
     "text": [
      "5 0 0 3 0 2 2 0 3 0 0 5 4 0 1 1 0 4\n",
      "4 1 0 3 0 2 4 1 0 1 1 3 0 0 5 1 1 3\n",
      "5 0 0 4 0 1 2 2 1 2 0 3 1 0 4 0 0 5\n",
      "5 0 0 3 1 1 2 1 2 2 0 3 0 0 5 1 0 4\n",
      "1 1 0 0\n"
     ]
    }
   ],
   "source": [
    "# 풀이 참조\n",
    "# 백트래킹\n",
    "\n",
    "from itertools import combinations\n",
    "#import sys\n",
    "#input = sys.stdin.readline\n",
    "\n",
    "def solve(round):\n",
    "    global ans\n",
    "    if round == 15:\n",
    "        ans = 1\n",
    "        for sub in res:\n",
    "            if sub.count(0) != 3:\n",
    "                ans = 0\n",
    "                break\n",
    "        return\n",
    "        \n",
    "    t1,t2 = game[round]\n",
    "    for x,y in ((0,2), (1,1), (2,0)):\n",
    "        if res[t1][x] > 0  and res[t2][y] > 0:\n",
    "            res[t1][x]-=1; res[t2][y]-=1\n",
    "            solve(round+1)\n",
    "            res[t1][x]+=1; res[t2][y]+=1\n",
    "\n",
    "\n",
    "answer = []\n",
    "game = list(combinations(range(6),2))\n",
    "for tc in range(4):\n",
    "    tmp = list(map(int, input().split()))\n",
    "    res = [tmp[i:i+3] for i in range(0,16,3)]\n",
    "    ans = 0\n",
    "    solve(0)\n",
    "    answer.append(ans)\n",
    "\n",
    "print(*answer)"
   ]
  }
 ],
 "metadata": {
  "kernelspec": {
   "display_name": "Python 3",
   "language": "python",
   "name": "python3"
  },
  "language_info": {
   "codemirror_mode": {
    "name": "ipython",
    "version": 3
   },
   "file_extension": ".py",
   "mimetype": "text/x-python",
   "name": "python",
   "nbconvert_exporter": "python",
   "pygments_lexer": "ipython3",
   "version": "3.8.5"
  }
 },
 "nbformat": 4,
 "nbformat_minor": 4
}
