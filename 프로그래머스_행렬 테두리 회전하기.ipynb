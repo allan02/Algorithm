{
 "cells": [
  {
   "cell_type": "code",
   "execution_count": 1,
   "metadata": {},
   "outputs": [],
   "source": [
    "def solution(rows, columns, queries):\n",
    "    answer = []\n",
    "    array = [[0] * columns for _ in range(rows)]\n",
    "    index = 1\n",
    "    for i in range(rows):\n",
    "        for j in range(columns):\n",
    "            array[i][j] = index\n",
    "            index += 1\n",
    "            \n",
    "    for query in queries:\n",
    "        x1, y1, x2, y2 = query\n",
    "        x1 -= 1\n",
    "        y1 -= 1\n",
    "        x2 -= 1\n",
    "        y2 -= 1\n",
    "        temp = array[x1][y1]\n",
    "        ans = temp\n",
    "        for i in range(x1, x2):\n",
    "            array[i][y1] = array[i + 1][y1]\n",
    "            ans = min(ans, array[i][y1])\n",
    "            \n",
    "        for i in range(y1, y2):\n",
    "            array[x2][i] = array[x2][i + 1]\n",
    "            ans = min(ans, array[x2][i])\n",
    "        for i in range(x2, x1, -1):\n",
    "            array[i][y2] = array[i - 1][y2]\n",
    "            ans = min(ans, array[i][y2])\n",
    "        \n",
    "        for i in range(y2, y1 + 1, - 1):\n",
    "            array[x1][i] = array[x1][i - 1]\n",
    "            ans = min(ans, array[x1][i])\n",
    "        \n",
    "        array[x1][y1 + 1] = temp\n",
    "        answer.append(ans)\n",
    "    return answer"
   ]
  },
  {
   "cell_type": "code",
   "execution_count": null,
   "metadata": {},
   "outputs": [],
   "source": []
  }
 ],
 "metadata": {
  "kernelspec": {
   "display_name": "Python 3",
   "language": "python",
   "name": "python3"
  },
  "language_info": {
   "codemirror_mode": {
    "name": "ipython",
    "version": 3
   },
   "file_extension": ".py",
   "mimetype": "text/x-python",
   "name": "python",
   "nbconvert_exporter": "python",
   "pygments_lexer": "ipython3",
   "version": "3.8.5"
  }
 },
 "nbformat": 4,
 "nbformat_minor": 4
}
