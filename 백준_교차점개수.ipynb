{
 "cells": [
  {
   "cell_type": "code",
   "execution_count": 17,
   "metadata": {},
   "outputs": [
    {
     "name": "stdout",
     "output_type": "stream",
     "text": [
      "10\n",
      "1 4 1 1 4 3 3 3 2 2\n",
      "3\n",
      "3 2 2 1 4 1 1 4 3 3\n",
      "1 4 4 3 3 3 2 1 1 2\n",
      "4 4 1 1 1 2 3 3 2 3\n",
      "2\n",
      "3 2 2 1 4 1 1 4 3 3 \n",
      "4 4 1 1 1 2 3 3 2 3 \n"
     ]
    }
   ],
   "source": [
    "from collections import deque\n",
    "\n",
    "dx = [1,0,-1,0]\n",
    "dy = [0,1,0,-1]\n",
    "\n",
    "n = int(input())\n",
    "\n",
    "standard = list(map(int,input().split()))\n",
    "standard = deque(standard)\n",
    "\n",
    "reversed_s = []\n",
    "\n",
    "for s in standard:\n",
    "    if s==1:\n",
    "        r = 3\n",
    "    elif s==2:\n",
    "        r = 4\n",
    "    elif s==3:\n",
    "        r = 1\n",
    "    elif s==4:\n",
    "        r = 2\n",
    "    reversed_s.append(r)\n",
    " \n",
    "reversed_s.reverse()\n",
    "reversed_s = deque(reversed_s)\n",
    "\n",
    "candidate = []\n",
    "\n",
    "while n:\n",
    "    standard.rotate(1)\n",
    "    reversed_s.rotate(1)\n",
    "    n-=1\n",
    "    candidate.append(list(standard))\n",
    "    candidate.append(list(reversed_s))\n",
    " \n",
    "answer = []\n",
    "\n",
    "m = int(input())\n",
    "for _ in range(m):\n",
    "    s = list(map(int,input().split()))\n",
    "    if s in candidate:\n",
    "        answer.append(s)\n",
    "print(len(answer))\n",
    "for a in answer:\n",
    "    for i in a:\n",
    "        print(i, end = ' ')\n",
    "    print()"
   ]
  }
 ],
 "metadata": {
  "kernelspec": {
   "display_name": "Python 3",
   "language": "python",
   "name": "python3"
  }
 },
 "nbformat": 4,
 "nbformat_minor": 4
}
