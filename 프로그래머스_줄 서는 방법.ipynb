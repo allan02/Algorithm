{
 "cells": [
  {
   "cell_type": "code",
   "execution_count": 1,
   "metadata": {},
   "outputs": [],
   "source": [
    "# 시간 초과\n",
    "from itertools import permutations\n",
    "\n",
    "def solution(n, k):\n",
    "    array = [i for i in range(1, n + 1)]\n",
    "    array = list(permutations(array, n))\n",
    "    return array[k - 1]"
   ]
  },
  {
   "cell_type": "code",
   "execution_count": 6,
   "metadata": {},
   "outputs": [
    {
     "name": "stdout",
     "output_type": "stream",
     "text": [
      "[1, 2, 3, 5, 6]\n"
     ]
    }
   ],
   "source": [
    "array = [1,2,3,4,5,6]\n",
    "array.remove(4)\n",
    "print(array)"
   ]
  },
  {
   "cell_type": "code",
   "execution_count": 7,
   "metadata": {},
   "outputs": [],
   "source": [
    "import math\n",
    "\n",
    "def solution(n, k):\n",
    "    answer = []\n",
    "    array = [i for i in range(1, n + 1)]\n",
    "    k = k - 1\n",
    "    \n",
    "    while array:\n",
    "        now = k // math.factorial(n - 1)\n",
    "        answer.append(array[now])\n",
    "        \n",
    "        #del array[now]\n",
    "        array.pop(now) #del이 더 빠르다.\n",
    "        \n",
    "        k = k % math.factorial(n - 1)\n",
    "        n -= 1\n",
    "    \n",
    "    return answer\n",
    "        "
   ]
  },
  {
   "cell_type": "code",
   "execution_count": null,
   "metadata": {},
   "outputs": [],
   "source": []
  }
 ],
 "metadata": {
  "kernelspec": {
   "display_name": "Python 3",
   "language": "python",
   "name": "python3"
  },
  "language_info": {
   "codemirror_mode": {
    "name": "ipython",
    "version": 3
   },
   "file_extension": ".py",
   "mimetype": "text/x-python",
   "name": "python",
   "nbconvert_exporter": "python",
   "pygments_lexer": "ipython3",
   "version": "3.8.5"
  }
 },
 "nbformat": 4,
 "nbformat_minor": 4
}
