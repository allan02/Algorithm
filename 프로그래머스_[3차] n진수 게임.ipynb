{
 "cells": [
  {
   "cell_type": "code",
   "execution_count": 1,
   "metadata": {},
   "outputs": [],
   "source": [
    "def sol(num, n):\n",
    "    temp = \"\"\n",
    "    \n",
    "    if num == 0:\n",
    "        return '0'\n",
    "    \n",
    "    while num != 0:\n",
    "        \n",
    "        if num % n == 10:\n",
    "            temp += 'A'\n",
    "            \n",
    "        elif num % n == 11:\n",
    "            temp += 'B'\n",
    "            \n",
    "        elif num % n == 12:\n",
    "            temp += 'C'\n",
    "            \n",
    "        elif num % n == 13:\n",
    "            temp += 'D'\n",
    "            \n",
    "        elif num % n == 14:\n",
    "            temp += 'E'\n",
    "            \n",
    "        elif num % n == 15:\n",
    "            temp += 'F'\n",
    "        \n",
    "        else:\n",
    "            temp += str(num % n)\n",
    "        \n",
    "        num = num // n\n",
    "    \n",
    "    return temp[::-1]\n",
    "\n",
    "def solution(n, t, m, p):\n",
    "    answer = ''\n",
    "    s = ''\n",
    "\n",
    "    while len(s) < m * t:\n",
    "        for i in range(m * t):\n",
    "            s += sol(i, n)\n",
    "\n",
    "    for i in range(p - 1, len(s), m):\n",
    "        answer += s[i]\n",
    "    \n",
    "    return answer[:t]"
   ]
  }
 ],
 "metadata": {
  "kernelspec": {
   "display_name": "Python 3",
   "language": "python",
   "name": "python3"
  },
  "language_info": {
   "codemirror_mode": {
    "name": "ipython",
    "version": 3
   },
   "file_extension": ".py",
   "mimetype": "text/x-python",
   "name": "python",
   "nbconvert_exporter": "python",
   "pygments_lexer": "ipython3",
   "version": "3.8.5"
  }
 },
 "nbformat": 4,
 "nbformat_minor": 4
}
