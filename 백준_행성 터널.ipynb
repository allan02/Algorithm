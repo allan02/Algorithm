{
 "cells": [
  {
   "cell_type": "markdown",
   "metadata": {},
   "source": [
    "## 2887번, 행성 터널"
   ]
  },
  {
   "cell_type": "code",
   "execution_count": 18,
   "metadata": {},
   "outputs": [
    {
     "name": "stdout",
     "output_type": "stream",
     "text": [
      "5\n",
      "11 -15 -15\n",
      "14 -5 -15\n",
      "-1 -1 -5\n",
      "10 -4 -1\n",
      "19 -4 19\n",
      "4\n"
     ]
    }
   ],
   "source": [
    "##### from collections import deque\n",
    "\n",
    "\n",
    "def find_parent(parent, x):\n",
    "    if parent[x] != x:\n",
    "        parent[x] = find_parent(parent, parent[x])\n",
    "        \n",
    "    return parent[x]\n",
    "    \n",
    "def union(parent, x, y):\n",
    "    x = find_parent(parent, x)\n",
    "    y = find_parent(parent, y)\n",
    "    \n",
    "    if x < y:\n",
    "        parent[y] = x\n",
    "    else:\n",
    "        parent[x] = y\n",
    "\n",
    "        \n",
    "n = int(input())\n",
    "\n",
    "parent = [0] * n\n",
    "\n",
    "for i in range(n):\n",
    "    parent[i] = i\n",
    "    \n",
    "\n",
    "# graph = [] \n",
    "\n",
    "# 배열을 하나만 선언하면 메모리 초과가 발생한다.\n",
    "\n",
    "x_value = []\n",
    "y_value = []\n",
    "z_value = []\n",
    "\n",
    "q = []\n",
    "\n",
    "for i in range(n):\n",
    "    x, y, z = map(int, input().split())\n",
    "    x_value.append((x, i))\n",
    "    y_value.append((y, i))\n",
    "    z_value.append((z, i))\n",
    "    \n",
    "\n",
    "x_value.sort()\n",
    "y_value.sort()\n",
    "z_value.sort()\n",
    "        \n",
    "#        x1, y1, z1 = graph[i]\n",
    "#        x2, y2, z2 = graph[j]\n",
    "#        cost = min(abs(x1 - x2), abs(y1 - y2), abs(z1 - z2))\n",
    "#        q.append((cost, i, j))\n",
    "\n",
    "for i in range(n - 1):\n",
    "    q.append((x_value[i + 1][0] - x_value[i][0], x_value[i][1], x_value[i + 1][1]))\n",
    "    q.append((y_value[i + 1][0] - y_value[i][0], y_value[i][1], y_value[i + 1][1]))\n",
    "    q.append((z_value[i + 1][0] - z_value[i][0], z_value[i][1], z_value[i + 1][1]))\n",
    "\n",
    "\n",
    "q.sort()\n",
    "\n",
    "\n",
    "result = 0\n",
    "\n",
    "\n",
    "for cost, i, j in q:\n",
    "    if find_parent(parent, i) != find_parent(parent, j):\n",
    "        union(parent, i, j)\n",
    "        result += cost\n",
    "        \n",
    "print(result)\n",
    "    "
   ]
  },
  {
   "cell_type": "code",
   "execution_count": 7,
   "metadata": {},
   "outputs": [
    {
     "name": "stdout",
     "output_type": "stream",
     "text": [
      "deque([1, 6, 2, 4])\n",
      "deque([1, 6, 2, 4])\n"
     ]
    }
   ],
   "source": [
    "from collections import deque\n",
    "\n",
    "queue = deque()\n",
    "\n",
    "queue.append(1)\n",
    "queue.append(6)\n",
    "queue.append(2)\n",
    "queue.append(4)\n",
    "\n",
    "print(queue)\n",
    "\n",
    "sorted(queue)\n",
    "\n",
    "print(queue)"
   ]
  },
  {
   "cell_type": "code",
   "execution_count": null,
   "metadata": {},
   "outputs": [],
   "source": []
  },
  {
   "cell_type": "code",
   "execution_count": null,
   "metadata": {},
   "outputs": [],
   "source": []
  },
  {
   "cell_type": "code",
   "execution_count": null,
   "metadata": {},
   "outputs": [],
   "source": []
  },
  {
   "cell_type": "code",
   "execution_count": null,
   "metadata": {},
   "outputs": [],
   "source": []
  }
 ],
 "metadata": {
  "kernelspec": {
   "display_name": "Python 3",
   "language": "python",
   "name": "python3"
  },
  "language_info": {
   "codemirror_mode": {
    "name": "ipython",
    "version": 3
   },
   "file_extension": ".py",
   "mimetype": "text/x-python",
   "name": "python",
   "nbconvert_exporter": "python",
   "pygments_lexer": "ipython3",
   "version": "3.8.5"
  }
 },
 "nbformat": 4,
 "nbformat_minor": 4
}
