{
 "cells": [
  {
   "cell_type": "code",
   "execution_count": 1,
   "metadata": {},
   "outputs": [
    {
     "name": "stdout",
     "output_type": "stream",
     "text": [
      "2\n",
      "3 4\n",
      "YES\n",
      "3 5\n",
      "YES\n"
     ]
    }
   ],
   "source": [
    "# 시간 초과\n",
    "t = int(input())\n",
    "for _ in range(t):\n",
    "    a, b = map(int, input().split())\n",
    "    temp = a + b\n",
    "    array = []\n",
    "    \n",
    "    for i in range(2, temp):\n",
    "        check = True\n",
    "        \n",
    "        for j in range(2, i // 2 + 1):\n",
    "            if i % j == 0:\n",
    "                check = False\n",
    "                break\n",
    "                \n",
    "        if check:\n",
    "            array.append(i)\n",
    "            \n",
    "    answer = False\n",
    "    \n",
    "    for i in array:\n",
    "        for j in array:\n",
    "            if i + j == temp:\n",
    "                answer = True\n",
    "                break\n",
    "                \n",
    "    #print(array)\n",
    "    \n",
    "    if answer:\n",
    "        print(\"YES\")\n",
    "        \n",
    "    else:\n",
    "        print(\"NO\")\n",
    "    "
   ]
  },
  {
   "cell_type": "code",
   "execution_count": 2,
   "metadata": {},
   "outputs": [
    {
     "name": "stdout",
     "output_type": "stream",
     "text": [
      "2\n",
      "3 4\n",
      "YES\n",
      "3 5\n",
      "YES\n"
     ]
    }
   ],
   "source": [
    "# 풀이 참고\n",
    "\n",
    "from math import sqrt\n",
    "#import sys\n",
    "#input = sys.stdin.readline\n",
    "\n",
    "p = [1, 1] + [0] * 1999999\n",
    "for i in range(2, int(sqrt(2000000))+1):\n",
    "    j = 2\n",
    "    while i*j <= 2000000:\n",
    "        p[i*j] = 1\n",
    "        j += 1\n",
    "prime = set()\n",
    "for i in range(2, 2000001):\n",
    "    if p[i] == 0:\n",
    "        prime.add(i)\n",
    "for _ in range(int(input())):\n",
    "    s = sum(map(int, input().split()))\n",
    "    possi = True\n",
    "    if s <= 3:\n",
    "        print('NO')\n",
    "    else:\n",
    "        if s%2==0:\n",
    "            print('YES')\n",
    "        else:\n",
    "            if s-2 > 2000000:\n",
    "                for i in prime:\n",
    "                    if (s-2)%i==0:\n",
    "                        print('NO')\n",
    "                        possi = False\n",
    "                        break\n",
    "                if possi:\n",
    "                    print('YES')\n",
    "            else:\n",
    "                if s-2 in prime:\n",
    "                    print('YES')\n",
    "                else:\n",
    "                    print('NO')"
   ]
  }
 ],
 "metadata": {
  "kernelspec": {
   "display_name": "Python 3",
   "language": "python",
   "name": "python3"
  }
 },
 "nbformat": 4,
 "nbformat_minor": 4
}
