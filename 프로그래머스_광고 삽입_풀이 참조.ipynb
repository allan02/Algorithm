{
 "cells": [
  {
   "cell_type": "code",
   "execution_count": 4,
   "metadata": {},
   "outputs": [
    {
     "name": "stdout",
     "output_type": "stream",
     "text": [
      "0000000123\n",
      "123\n"
     ]
    }
   ],
   "source": [
    "a = \"123\"\n",
    "print(a.zfill(10))\n",
    "print(a)"
   ]
  },
  {
   "cell_type": "code",
   "execution_count": 5,
   "metadata": {},
   "outputs": [],
   "source": [
    "# 광고 삽입\n",
    "\n",
    "def strtoint(time):\n",
    "    answer = int(time[0:2])*60*60\n",
    "    answer += int(time[3:5])*60\n",
    "    answer += int(time[6:])\n",
    "    return answer\n",
    "def inttostr(time):\n",
    "    hour = time//3600\n",
    "    minute = (time%3600)//60\n",
    "    second = (time-hour*3600-minute*60)\n",
    "    answer = str(hour).zfill(2) + ':'\n",
    "    answer += str(minute).zfill(2) + ':'\n",
    "    answer += str(second).zfill(2)\n",
    "    return answer\n",
    "\n",
    "def solution(play_time, adv_time, logs):\n",
    "    play_time = strtoint(play_time)\n",
    "    adv_time = strtoint(adv_time)\n",
    "    dp = [0]*(play_time+1)\n",
    "    for x in logs:\n",
    "        start = strtoint(x[:8])\n",
    "        end = strtoint(x[9:])\n",
    "        dp[start] += 1\n",
    "        dp[end] -= 1\n",
    "    for i in range(1, play_time+1):\n",
    "        dp[i] = dp[i]+dp[i-1]\n",
    "    for i in range(1, play_time+1):\n",
    "        dp[i] = dp[i]+dp[i-1]\n",
    "    answer = 0\n",
    "    max_cnt = dp[adv_time]\n",
    "    for start in range(1, play_time):\n",
    "        if start+adv_time >= play_time:\n",
    "            end = play_time\n",
    "        else:\n",
    "            end = start+adv_time\n",
    "        if max_cnt < dp[end]-dp[start]:\n",
    "            max_cnt = dp[end]-dp[start]\n",
    "            answer = start+1\n",
    "    return inttostr(answer)\n"
   ]
  },
  {
   "cell_type": "code",
   "execution_count": null,
   "metadata": {},
   "outputs": [],
   "source": []
  },
  {
   "cell_type": "code",
   "execution_count": null,
   "metadata": {},
   "outputs": [],
   "source": []
  }
 ],
 "metadata": {
  "kernelspec": {
   "display_name": "Python 3",
   "language": "python",
   "name": "python3"
  },
  "language_info": {
   "codemirror_mode": {
    "name": "ipython",
    "version": 3
   },
   "file_extension": ".py",
   "mimetype": "text/x-python",
   "name": "python",
   "nbconvert_exporter": "python",
   "pygments_lexer": "ipython3",
   "version": "3.8.5"
  }
 },
 "nbformat": 4,
 "nbformat_minor": 4
}
