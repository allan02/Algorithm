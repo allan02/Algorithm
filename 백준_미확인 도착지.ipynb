{
 "cells": [
  {
   "cell_type": "code",
   "execution_count": 21,
   "metadata": {},
   "outputs": [
    {
     "name": "stdout",
     "output_type": "stream",
     "text": [
      "2\n",
      "5 4 2\n",
      "1 2 3\n",
      "1 2 6\n",
      "2 3 2\n",
      "3 4 4\n",
      "3 5 3\n",
      "5\n",
      "4\n",
      "4 5 \n",
      "6 9 2\n",
      "2 3 1\n",
      "1 2 1\n",
      "1 3 3\n",
      "2 4 4\n",
      "2 5 5\n",
      "3 4 3\n",
      "3 6 2\n",
      "4 5 4\n",
      "4 6 3\n",
      "5 6 7\n",
      "5\n",
      "6\n",
      "6 \n"
     ]
    }
   ],
   "source": [
    "from heapq import heappush, heappop\n",
    "#import sys\n",
    "#input = sys.stdin.readline\n",
    "INF = int(1e9)\n",
    "\n",
    "def sol(start):\n",
    "    # 처음에 실수로 0으로 설정..\n",
    "    distance = [INF] * (n + 1)\n",
    "    q = []\n",
    "    distance[start] = 0\n",
    "    heappush(q, (0, start))\n",
    "        \n",
    "    while q:\n",
    "        dist, now = heappop(q)\n",
    "        if dist > distance[now]:\n",
    "            continue\n",
    "        for i in s[now]:\n",
    "            cost = distance[now] + i[1]\n",
    "            if cost < distance[i[0]]:\n",
    "                distance[i[0]] = cost\n",
    "                heappush(q, (cost, i[0]))\n",
    "                    \n",
    "    return distance\n",
    "\n",
    "t = int(input())\n",
    "for _ in range(t):\n",
    "    n, m, c = map(int, input().split())\n",
    "    start, g, h = map(int, input().split())\n",
    "    s = [[] for i in range(n + 1)]\n",
    "    de = []\n",
    "    for j in range(m):\n",
    "        a, b, d = map(int, input().split())\n",
    "        s[a].append([b, d])\n",
    "        s[b].append([a, d])\n",
    "    for k in range(c):\n",
    "        de.append(int(input()))\n",
    "    start_ = sol(start)\n",
    "    g_ = sol(g)\n",
    "    h_ = sol(h)\n",
    "    an = []\n",
    "    for l in de:\n",
    "        if start_[g] + g_[h] + h_[l] == start_[l] or start_[h] + h_[g] + g_[l] == start_[l]:\n",
    "            an.append(l)\n",
    "    an.sort()\n",
    "    for f in an:\n",
    "        print(f, end=' ')\n",
    "    print()"
   ]
  },
  {
   "cell_type": "code",
   "execution_count": 5,
   "metadata": {},
   "outputs": [
    {
     "name": "stdout",
     "output_type": "stream",
     "text": [
      "n 153\n",
      "n 153\n",
      "n 153\n"
     ]
    }
   ],
   "source": [
    "for i in range(3):\n",
    "    n = 3\n",
    "    def s():\n",
    "        print(\"n\", n + 150)\n",
    "    s()"
   ]
  },
  {
   "cell_type": "code",
   "execution_count": 19,
   "metadata": {},
   "outputs": [
    {
     "name": "stdout",
     "output_type": "stream",
     "text": [
      "4\n",
      "1\n",
      "540\n"
     ]
    }
   ],
   "source": [
    "a = 3\n",
    "def so():\n",
    "    print(a + 1)\n",
    "    print(array[0])\n",
    "    print(n + 500)\n",
    "array = [1]\n",
    "n = 40\n",
    "so()"
   ]
  }
 ],
 "metadata": {
  "kernelspec": {
   "display_name": "Python 3",
   "language": "python",
   "name": "python3"
  },
  "language_info": {
   "codemirror_mode": {
    "name": "ipython",
    "version": 3
   },
   "file_extension": ".py",
   "mimetype": "text/x-python",
   "name": "python",
   "nbconvert_exporter": "python",
   "pygments_lexer": "ipython3",
   "version": "3.8.5"
  }
 },
 "nbformat": 4,
 "nbformat_minor": 4
}
