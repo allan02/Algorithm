{
 "cells": [
  {
   "cell_type": "code",
   "execution_count": null,
   "metadata": {},
   "outputs": [],
   "source": [
    "from collections import deque\n",
    "\n",
    "board = [[0, 0, 0, 1, 1],[0, 0, 0, 1, 0],[0, 1, 0, 1, 1],[1, 1, 0, 0, 1],[0, 0, 0, 0, 0]]\n",
    "\n",
    "\n",
    "# 오른쪽 이동, 아래로 이동 \n",
    "# 왼쪽 회전(y좌표가 작은 점, x좌표가 작은 점), 오른쪽 회전(y좌표가 큰점, x좌표가 큰점)\n",
    "\n",
    "dx = [0, 1, 1, -1]\n",
    "dy = [1, 0, 1, -1]\n",
    "\n",
    "present = deque()\n",
    "\n",
    "present.append((0, 0))\n",
    "present.append((0, 1))\n",
    "\n",
    "\n",
    "def go_right():\n",
    "    \n",
    "    \n",
    "    \n",
    "\n",
    "\n",
    "def solution(board):\n",
    "    answer = 0\n",
    "    return answer"
   ]
  },
  {
   "cell_type": "code",
   "execution_count": null,
   "metadata": {},
   "outputs": [],
   "source": []
  },
  {
   "cell_type": "code",
   "execution_count": null,
   "metadata": {},
   "outputs": [],
   "source": []
  },
  {
   "cell_type": "code",
   "execution_count": null,
   "metadata": {},
   "outputs": [],
   "source": []
  },
  {
   "cell_type": "code",
   "execution_count": null,
   "metadata": {},
   "outputs": [],
   "source": []
  }
 ],
 "metadata": {
  "kernelspec": {
   "display_name": "Python 3",
   "language": "python",
   "name": "python3"
  },
  "language_info": {
   "codemirror_mode": {
    "name": "ipython",
    "version": 3
   },
   "file_extension": ".py",
   "mimetype": "text/x-python",
   "name": "python",
   "nbconvert_exporter": "python",
   "pygments_lexer": "ipython3",
   "version": "3.8.5"
  }
 },
 "nbformat": 4,
 "nbformat_minor": 4
}
