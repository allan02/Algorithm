{
 "cells": [
  {
   "cell_type": "code",
   "execution_count": null,
   "metadata": {},
   "outputs": [
    {
     "name": "stdout",
     "output_type": "stream",
     "text": [
      "4 2\n",
      "2 4\n"
     ]
    }
   ],
   "source": [
    "from itertools import combinations\n",
    "\n",
    "n, s = map(int, input().split())\n",
    "array = list(map(int, input().split()))\n",
    "\n",
    "check = [False] * 1002\n",
    "\n",
    "for i in array:\n",
    "    check[i] = True\n",
    "\n",
    "answer = int(1e9)\n",
    "\n",
    "for x in range(1, 1002):\n",
    "    if check[x]:\n",
    "        continue\n",
    "    for y in range(1, 1002):\n",
    "        if check[y]:\n",
    "            continue\n",
    "        for z in range(1, 1002):\n",
    "            if check[z]:\n",
    "                continue\n",
    "                \n",
    "            if abs(n - x * y * z) < answer:\n",
    "                answer = abs(n - x * y * z)\n",
    "                #print(x, y, z)\n",
    "                \n",
    "print(answer)\n"
   ]
  },
  {
   "cell_type": "code",
   "execution_count": 1,
   "metadata": {},
   "outputs": [
    {
     "name": "stdout",
     "output_type": "stream",
     "text": [
      "\n"
     ]
    }
   ],
   "source": [
    "print()"
   ]
  },
  {
   "cell_type": "code",
   "execution_count": 2,
   "metadata": {},
   "outputs": [
    {
     "name": "stdout",
     "output_type": "stream",
     "text": [
      "1\n"
     ]
    }
   ],
   "source": [
    "print(1)"
   ]
  }
 ],
 "metadata": {
  "kernelspec": {
   "display_name": "Python 3",
   "language": "python",
   "name": "python3"
  },
  "language_info": {
   "codemirror_mode": {
    "name": "ipython",
    "version": 3
   },
   "file_extension": ".py",
   "mimetype": "text/x-python",
   "name": "python",
   "nbconvert_exporter": "python",
   "pygments_lexer": "ipython3",
   "version": "3.8.5"
  }
 },
 "nbformat": 4,
 "nbformat_minor": 4
}
