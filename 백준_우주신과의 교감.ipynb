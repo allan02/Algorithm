{
 "cells": [
  {
   "cell_type": "code",
   "execution_count": 11,
   "metadata": {},
   "outputs": [
    {
     "name": "stdout",
     "output_type": "stream",
     "text": [
      "4 1\n",
      "1 1\n",
      "3 1\n",
      "2 3\n",
      "4 3\n",
      "1 4\n",
      "4.00\n"
     ]
    }
   ],
   "source": [
    "from itertools import combinations\n",
    "import heapq\n",
    "#import sys\n",
    "#input = sys.stdin.readline\n",
    "\n",
    "def dis(x1, y1, x2, y2):\n",
    "    return ((x2 - x1) ** 2 + (y2 - y1) ** 2) ** 0.5\n",
    "\n",
    "def find_parent(parent, x):\n",
    "    if parent[x] != x:\n",
    "        parent[x] = find_parent(parent, parent[x])\n",
    "    return parent[x]\n",
    "\n",
    "def union(parent, x, y):\n",
    "    x = find_parent(parent, x)\n",
    "    y = find_parent(parent, y)\n",
    "    \n",
    "    if x < y:\n",
    "        parent[y] = x\n",
    "    else:\n",
    "        parent[x] = y\n",
    "\n",
    "n, m = map(int, input().split())\n",
    "parent = [i for i in range(n + 1)]\n",
    "array = []\n",
    "h = []\n",
    "\n",
    "answer = 0\n",
    "\n",
    "for k in range(n):\n",
    "    x, y = map(int, input().split())\n",
    "    array.append((k + 1, x, y))\n",
    "    \n",
    "for _ in range(m):\n",
    "    a, b = map(int, input().split())\n",
    "    union(parent, a, b)\n",
    "    \n",
    "temp = combinations(array, 2)\n",
    "\n",
    "for i in temp:\n",
    "    heapq.heappush(h, ((dis(i[0][1], i[0][2], i[1][1], i[1][2])), i[0][0], i[1][0]))\n",
    "    \n",
    "while h:\n",
    "    check = True\n",
    "    for i in range(n - 1):\n",
    "        if parent[i] != parent[i + 1]:\n",
    "            check = False\n",
    "            \n",
    "    if check:\n",
    "        break\n",
    "        \n",
    "    cost, a, b = heapq.heappop(h)\n",
    "    \n",
    "    if find_parent(parent, a) != find_parent(parent, b):\n",
    "        union(parent, a, b)\n",
    "        answer += cost\n",
    "        \n",
    "print(format(answer, \".2f\"))"
   ]
  },
  {
   "cell_type": "code",
   "execution_count": 4,
   "metadata": {},
   "outputs": [
    {
     "name": "stdout",
     "output_type": "stream",
     "text": [
      "1\n"
     ]
    }
   ],
   "source": [
    "import heapq\n",
    "t = []\n",
    "heapq.heappush(t, 2)\n",
    "heapq.heappush(t, 3)\n",
    "heapq.heappush(t, 1)\n",
    "\n",
    "print(heapq.heappop(t))"
   ]
  }
 ],
 "metadata": {
  "kernelspec": {
   "display_name": "Python 3",
   "language": "python",
   "name": "python3"
  },
  "language_info": {
   "codemirror_mode": {
    "name": "ipython",
    "version": 3
   },
   "file_extension": ".py",
   "mimetype": "text/x-python",
   "name": "python",
   "nbconvert_exporter": "python",
   "pygments_lexer": "ipython3",
   "version": "3.8.5"
  }
 },
 "nbformat": 4,
 "nbformat_minor": 4
}
