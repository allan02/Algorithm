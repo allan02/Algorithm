{
 "cells": [
  {
   "cell_type": "markdown",
   "metadata": {},
   "source": [
    "## 31, 금광"
   ]
  },
  {
   "cell_type": "code",
   "execution_count": 1,
   "metadata": {},
   "outputs": [
    {
     "name": "stdout",
     "output_type": "stream",
     "text": [
      "2\n",
      "3 4\n",
      "1 3 3 2 2 1 4 1 0 6 4 7\n",
      "19\n",
      "4 4\n",
      "1 3 1 5 2 2 4 1 5 0 2 3 0 6 1 2\n",
      "16\n"
     ]
    }
   ],
   "source": [
    "count = int(input())\n",
    "\n",
    "while count != 0:\n",
    "    \n",
    "    n, m = map(int, input().split())\n",
    "    \n",
    "    graph = [[0] * m for _ in range(n)] # 행과 열 착각하지 말 것.\n",
    "    \n",
    "    result = [[0] * m for _ in range(n)]\n",
    "        \n",
    "    array = list(map(int, input().split()))\n",
    "    \n",
    "    index = 0\n",
    "    \n",
    "    for i in range(n):\n",
    "        for j in range(m):\n",
    "            graph[i][j] = array[index]\n",
    "            index += 1\n",
    "        \n",
    "    \n",
    "    for i in range(n):\n",
    "        result[i][0] = graph[i][0]\n",
    "        \n",
    "    \n",
    "    for i in range(1, m):\n",
    "        for j in range(1, n): # range 잘 적었나 확인.\n",
    "            \n",
    "            if j - 1 >= 0:\n",
    "                # print(\"loop1\", i, j)\n",
    "                result[j][i] = max(result[j][i], result[j - 1][i - 1] + graph[j][i])\n",
    "                \n",
    "            if j + 1 < n: # <=.. 등호 잘 확인. \n",
    "                # print(\"loop2\", i, j)\n",
    "                result[j][i] = max(result[j][i], result[j + 1][i - 1] + graph[j][i])\n",
    "                \n",
    "            result[j][i] = max(result[j][i], result[j][i - 1] + graph[j][i])\n",
    "            \n",
    "    final_result = 0\n",
    "\n",
    "    for i in range(n):\n",
    "        final_result = max(final_result, result[i][m - 1])\n",
    "    \n",
    "    print(final_result)\n",
    "    \n",
    "    count -= 1\n"
   ]
  },
  {
   "cell_type": "code",
   "execution_count": 8,
   "metadata": {},
   "outputs": [
    {
     "name": "stdout",
     "output_type": "stream",
     "text": [
      "1 2 3 4 65 1 2 3\n",
      "1\n"
     ]
    }
   ],
   "source": [
    "array = list(map(int, input().split()))\n",
    "\n",
    "print(array[5])"
   ]
  },
  {
   "cell_type": "code",
   "execution_count": 16,
   "metadata": {},
   "outputs": [
    {
     "name": "stdout",
     "output_type": "stream",
     "text": [
      "3 4\n",
      "[[0, 0, 0, 0], [0, 0, 0, 0], [0, 0, 0, 0]]\n"
     ]
    }
   ],
   "source": [
    "n, m = map(int, input().split())\n",
    "    \n",
    "graph = [[0] * m for _ in range(n)]\n",
    "\n",
    "#array = list(map(int, input().split()))\n",
    "    \n",
    "index = 0\n",
    "    \n",
    "print(graph)"
   ]
  },
  {
   "cell_type": "code",
   "execution_count": 2,
   "metadata": {},
   "outputs": [
    {
     "name": "stdout",
     "output_type": "stream",
     "text": [
      "[0, 0, 0, 0, 0]\n",
      "[[0], [0], [0], [0], [0]]\n"
     ]
    }
   ],
   "source": [
    "graph1 = [0] * 5\n",
    "graph2 = [[0] for _ in range(5)]\n",
    "\n",
    "print(graph1)\n",
    "print(graph2)"
   ]
  },
  {
   "cell_type": "code",
   "execution_count": 8,
   "metadata": {},
   "outputs": [
    {
     "name": "stdout",
     "output_type": "stream",
     "text": [
      "3 4\n",
      "1 3 3 2 2 1 4 1 0 6 4 7\n",
      "0\n"
     ]
    }
   ],
   "source": [
    "n, m = map(int, input().split())\n",
    "    \n",
    "graph = [[0] * m for _ in range(n)] # 행과 열 착각하지 말 것.\n",
    "    \n",
    "result = [[0] * m for _ in range(n)]\n",
    "        \n",
    "array = list(map(int, input().split()))\n",
    "    \n",
    "index = 0\n",
    "    \n",
    "for i in range(n):\n",
    "     for j in range(m):\n",
    "            graph[i][j] = array[index]\n",
    "            index += 1\n",
    "\n",
    "print(graph[2][0])"
   ]
  },
  {
   "cell_type": "markdown",
   "metadata": {},
   "source": [
    "## 35, 못생긴 수"
   ]
  },
  {
   "cell_type": "code",
   "execution_count": 8,
   "metadata": {},
   "outputs": [
    {
     "name": "stdout",
     "output_type": "stream",
     "text": [
      "10\n",
      "12\n"
     ]
    }
   ],
   "source": [
    "n = int(input())\n",
    "\n",
    "ugly = [1]\n",
    "\n",
    "i2 = i3 = i5 = 1\n",
    "\n",
    "next2, next3, next5 = 2, 3, 5\n",
    "\n",
    "for i in range(1, n):\n",
    "        temp = min(next2, next3, next5) \n",
    "        \n",
    "        if temp == next2:\n",
    "            ugly.append(next2)\n",
    "            i2 += 1\n",
    "            next2 = 2 * i2\n",
    "            \n",
    "        if temp == next3:\n",
    "            ugly.append(next3)\n",
    "            i3 += 1\n",
    "            next3 = 3 * i3\n",
    "           \n",
    "        if temp == next5:\n",
    "            ugly.append(next5)\n",
    "            i5 += 1\n",
    "            next5 = 5 * i5\n",
    "            \n",
    "ugly = set(ugly)\n",
    "ugly = list(ugly)\n",
    "            \n",
    "print(ugly[n - 1])\n",
    "    "
   ]
  },
  {
   "cell_type": "code",
   "execution_count": null,
   "metadata": {},
   "outputs": [],
   "source": [
    "for i in range(3):\n",
    "    i = i + 1\n",
    "    print(i)"
   ]
  },
  {
   "cell_type": "markdown",
   "metadata": {},
   "source": [
    "## 36, 편집 거리"
   ]
  },
  {
   "cell_type": "code",
   "execution_count": 17,
   "metadata": {},
   "outputs": [
    {
     "name": "stdout",
     "output_type": "stream",
     "text": [
      "sunday\n",
      "saturday\n",
      "3\n"
     ]
    }
   ],
   "source": [
    "a = list(input())\n",
    "b = list(input())\n",
    "\n",
    "row = len(a)\n",
    "column = len(b)\n",
    "\n",
    "array = [[0] * (column + 1) for _ in range(row + 1)]\n",
    "\n",
    "for i in range(1, row + 1):\n",
    "    array[i][0] = i\n",
    "    \n",
    "for j in range(1, column + 1):\n",
    "    array[0][j] = j\n",
    "    \n",
    "for i in range(1, row + 1):\n",
    "    for j in range(1, column + 1):\n",
    "        if a[i - 1] == b[j - 1]:\n",
    "            array[i][j] = array[i - 1][j - 1]\n",
    "        else:\n",
    "            array[i][j] = 1 + min(array[i][j - 1], array[i - 1][j], array[i - 1][j - 1])\n",
    "            \n",
    "\n",
    "print(array[row][column])\n"
   ]
  },
  {
   "cell_type": "code",
   "execution_count": null,
   "metadata": {},
   "outputs": [],
   "source": []
  },
  {
   "cell_type": "code",
   "execution_count": null,
   "metadata": {},
   "outputs": [],
   "source": []
  }
 ],
 "metadata": {
  "kernelspec": {
   "display_name": "Python 3",
   "language": "python",
   "name": "python3"
  },
  "language_info": {
   "codemirror_mode": {
    "name": "ipython",
    "version": 3
   },
   "file_extension": ".py",
   "mimetype": "text/x-python",
   "name": "python",
   "nbconvert_exporter": "python",
   "pygments_lexer": "ipython3",
   "version": "3.8.5"
  }
 },
 "nbformat": 4,
 "nbformat_minor": 4
}
