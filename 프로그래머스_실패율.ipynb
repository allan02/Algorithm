{
 "cells": [
  {
   "cell_type": "code",
   "execution_count": 6,
   "metadata": {},
   "outputs": [],
   "source": [
    "def solution(N, stages):\n",
    "    \n",
    "    length = len(stages)\n",
    "    answer = []\n",
    "    \n",
    "    for i in range(1, N + 1):\n",
    "        count = stages.count(i)\n",
    "        \n",
    "        if length == 0:\n",
    "            fail = 0\n",
    "        else:\n",
    "            fail = count / length\n",
    "            \n",
    "        length -= count\n",
    "        answer.append((i, fail))\n",
    "        \n",
    "    answer = sorted(answer, key = lambda x : -x[1])\n",
    "    \n",
    "    answer = [i[0] for i in answer]\n",
    "    \n",
    "    \n",
    "    return answer"
   ]
  },
  {
   "cell_type": "code",
   "execution_count": 5,
   "metadata": {},
   "outputs": [
    {
     "name": "stdout",
     "output_type": "stream",
     "text": [
      "2\n",
      "3\n",
      "1\n",
      "8\n"
     ]
    }
   ],
   "source": [
    "graph = [1, 1, 2, 2, 3, 3, 3, 4]\n",
    "\n",
    "print(graph.count(1))\n",
    "print(graph.count(3))\n",
    "print(graph.count(4))\n",
    "print(len(graph))"
   ]
  }
 ],
 "metadata": {
  "kernelspec": {
   "display_name": "Python 3",
   "language": "python",
   "name": "python3"
  },
  "language_info": {
   "codemirror_mode": {
    "name": "ipython",
    "version": 3
   },
   "file_extension": ".py",
   "mimetype": "text/x-python",
   "name": "python",
   "nbconvert_exporter": "python",
   "pygments_lexer": "ipython3",
   "version": "3.8.5"
  }
 },
 "nbformat": 4,
 "nbformat_minor": 4
}
