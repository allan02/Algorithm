{
 "cells": [
  {
   "cell_type": "markdown",
   "metadata": {},
   "source": [
    "## 14891번, 톱니바퀴"
   ]
  },
  {
   "cell_type": "code",
   "execution_count": 32,
   "metadata": {},
   "outputs": [
    {
     "name": "stdout",
     "output_type": "stream",
     "text": [
      "11001110\n",
      "10000101\n",
      "01111110\n",
      "01101111\n",
      "4\n",
      "2 -1\n",
      "2 -1\n",
      "2 1\n",
      "2 1\n",
      "2\n"
     ]
    }
   ],
   "source": [
    "from collections import deque\n",
    "\n",
    "def rotate_right(number, direction, Gears) :\n",
    "    if number == 4 :\n",
    "        return\n",
    "\n",
    "    if Gears[number-1][2] != Gears[number][6] :\n",
    "        rotate_right(number + 1, -direction, Gears)\n",
    "        Gears[number].rotate(direction)\n",
    "    else :\n",
    "        return\n",
    "\n",
    "def rotate_left(number,direction, Gears) :\n",
    "    if number == -1 :\n",
    "        return\n",
    "\n",
    "    if Gears[number + 1][6] != Gears[number][2] :\n",
    "        rotate_left(number - 1, -direction, Gears)\n",
    "        Gears[number].rotate(direction)\n",
    "    else :\n",
    "        return\n",
    "    \n",
    "    \n",
    "Gears=[]\n",
    "answer = 0\n",
    "for _ in range(4) :\n",
    "    gear = input()\n",
    "    li = []\n",
    "    for a in gear :\n",
    "        li.append(int(a))\n",
    "    Gears.append(deque(li))\n",
    "\n",
    "\n",
    "N = int(input())\n",
    "for _ in range(N) :\n",
    "    number, direction = map(int,input().split())\n",
    "    rotate_right(number, -direction, Gears)\n",
    "    rotate_left(number-2, -direction, Gears)\n",
    "    Gears[number-1].rotate(direction)\n",
    "\n",
    "for i in range(4) :\n",
    "    answer += (2**i)*Gears[i][0]\n",
    "\n",
    "print(answer)"
   ]
  },
  {
   "cell_type": "code",
   "execution_count": 6,
   "metadata": {},
   "outputs": [
    {
     "name": "stdout",
     "output_type": "stream",
     "text": [
      "[3, 4]\n",
      "[1, 2]\n"
     ]
    }
   ],
   "source": [
    "array = [[1, 2], [3 ,4]]\n",
    "\n",
    "print(array[1])\n",
    "\n",
    "array[1] = [1, 2]\n",
    "\n",
    "print(array[1])"
   ]
  },
  {
   "cell_type": "code",
   "execution_count": 38,
   "metadata": {},
   "outputs": [
    {
     "name": "stdout",
     "output_type": "stream",
     "text": [
      "deque([7, 1, 2, 3, 4, 5, 6])\n",
      "deque([1, 2, 3, 4, 5, 6, 7])\n",
      "deque([2, 3, 4, 5, 6, 7, 1])\n"
     ]
    }
   ],
   "source": [
    "from collections import deque\n",
    "\n",
    "q = deque([1,2,3,4,5,6,7])\n",
    "\n",
    "q.rotate(1)\n",
    "\n",
    "print(q)\n",
    "\n",
    "q.rotate(-1)\n",
    "\n",
    "print(q)\n",
    "\n",
    "q.rotate(-1)\n",
    "\n",
    "print(q)"
   ]
  }
 ],
 "metadata": {
  "kernelspec": {
   "display_name": "Python 3",
   "language": "python",
   "name": "python3"
  },
  "language_info": {
   "codemirror_mode": {
    "name": "ipython",
    "version": 3
   },
   "file_extension": ".py",
   "mimetype": "text/x-python",
   "name": "python",
   "nbconvert_exporter": "python",
   "pygments_lexer": "ipython3",
   "version": "3.8.5"
  }
 },
 "nbformat": 4,
 "nbformat_minor": 4
}
