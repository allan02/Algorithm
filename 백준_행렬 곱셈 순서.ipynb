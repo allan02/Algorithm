{
 "cells": [
  {
   "cell_type": "code",
   "execution_count": 3,
   "metadata": {},
   "outputs": [
    {
     "name": "stdout",
     "output_type": "stream",
     "text": [
      "3\n",
      "5 3\n",
      "3 2\n",
      "2 6\n",
      "90\n"
     ]
    }
   ],
   "source": [
    "n = int(input())\n",
    "m = list(list(map(int,input().split())) for _ in range(n))\n",
    "\n",
    "d = list(list(0 for _ in range(n)) for _ in range(n))\n",
    "\n",
    "for i in range(1, n):\n",
    "    for j in range(n - i):\n",
    "        d[j][j + i] = int(1e9)\n",
    "        for k in range(i):\n",
    "            if d[j][j + i] < d[j][j + k] + d[j + k + 1][i + j]: \n",
    "                continue\n",
    "            tmp = d[j][j + k]+d[j + k + 1][i + j] + m[j][0] * m[j + k][1] * m[i + j][1]\n",
    "            if tmp < d[j][j + i]:\n",
    "                d[j][j + i] = tmp\n",
    "                \n",
    "print(d[0][-1])"
   ]
  }
 ],
 "metadata": {
  "kernelspec": {
   "display_name": "Python 3",
   "language": "python",
   "name": "python3"
  },
  "language_info": {
   "codemirror_mode": {
    "name": "ipython",
    "version": 3
   },
   "file_extension": ".py",
   "mimetype": "text/x-python",
   "name": "python",
   "nbconvert_exporter": "python",
   "pygments_lexer": "ipython3",
   "version": "3.8.5"
  }
 },
 "nbformat": 4,
 "nbformat_minor": 4
}
