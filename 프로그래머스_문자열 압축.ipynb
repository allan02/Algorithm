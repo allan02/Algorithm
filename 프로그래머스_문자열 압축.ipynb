{
 "cells": [
  {
   "cell_type": "code",
   "execution_count": 2,
   "metadata": {},
   "outputs": [
    {
     "name": "stdout",
     "output_type": "stream",
     "text": [
      "[1]\n"
     ]
    }
   ],
   "source": [
    "array = [1, 3, 4, 5]\n",
    "b = array[0:1]\n",
    "print(b)"
   ]
  },
  {
   "cell_type": "code",
   "execution_count": 8,
   "metadata": {},
   "outputs": [
    {
     "name": "stdout",
     "output_type": "stream",
     "text": [
      "True\n",
      "5\n"
     ]
    }
   ],
   "source": [
    "a = \"asudb\"\n",
    "print(a[1 : 3] == \"su\")\n",
    "print(len(a))"
   ]
  },
  {
   "cell_type": "code",
   "execution_count": 31,
   "metadata": {},
   "outputs": [],
   "source": [
    "def solution(s):\n",
    "    answer = 0\n",
    "    length = len(s)\n",
    "    \n",
    "    if length == 1:\n",
    "        return 1\n",
    "    \n",
    "    for i in range(1, length // 2 + 1):\n",
    "        temp_answer = \"\"\n",
    "        prev = \"\"\n",
    "        now = \"\"\n",
    "        index = 0\n",
    "        count = 1\n",
    "        while index + i <= length:\n",
    "            if index == 0:\n",
    "                prev = s[index: index + i]\n",
    "                index += i\n",
    "                continue\n",
    "                \n",
    "            now = s[index: index + i]\n",
    "            if prev == now:\n",
    "                count += 1\n",
    "            else:\n",
    "                if count == 1:\n",
    "                    temp_answer += prev\n",
    "                    \n",
    "                else:\n",
    "                    temp_answer += (str(count) + prev)\n",
    "                    count = 1\n",
    "                    \n",
    "                prev = now\n",
    "            index += i\n",
    "            \n",
    "        if count == 1:\n",
    "            temp_answer += now\n",
    "        else:\n",
    "            temp_answer += (str(count) + now)\n",
    "        temp_answer += s[index:]\n",
    "        \n",
    "        \n",
    "        if answer == 0:\n",
    "            answer = len(temp_answer)\n",
    "        else:\n",
    "            answer = min(answer, len(temp_answer))\n",
    "\n",
    "    \n",
    "    return answer"
   ]
  },
  {
   "cell_type": "code",
   "execution_count": 14,
   "metadata": {},
   "outputs": [
    {
     "name": "stdout",
     "output_type": "stream",
     "text": [
      "aabbaccc\n",
      "aabbaccc\n",
      "aabbaccc\n",
      "aabbaccc\n",
      "aabbaccc\n",
      "aabbaccc\n",
      "aabbaccc\n"
     ]
    },
    {
     "data": {
      "text/plain": [
       "0"
      ]
     },
     "execution_count": 14,
     "metadata": {},
     "output_type": "execute_result"
    }
   ],
   "source": [
    "def solution(s):\n",
    "    answer = 0\n",
    "    length = len(s)\n",
    "    \n",
    "    for i in range(1, length):\n",
    "        temp_answer = \"\"\n",
    "        index = 0\n",
    "        prev = \"\"\n",
    "        count = 1\n",
    "        while index + i <= length:\n",
    "            now = s[index: index + i]\n",
    "            temp_answer += now\n",
    "            index += i\n",
    "        temp_answer += s[index:]\n",
    "        print(temp_answer)\n",
    "    return answer\n",
    "\n",
    "solution(\"aabbaccc\")"
   ]
  }
 ],
 "metadata": {
  "kernelspec": {
   "display_name": "Python 3",
   "language": "python",
   "name": "python3"
  }
 },
 "nbformat": 4,
 "nbformat_minor": 4
}
