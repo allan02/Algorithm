{
 "cells": [
  {
   "cell_type": "code",
   "execution_count": 13,
   "metadata": {},
   "outputs": [
    {
     "name": "stdout",
     "output_type": "stream",
     "text": [
      "5 3\n",
      "5\n"
     ]
    }
   ],
   "source": [
    "dx = [0, 1, 0, -1]\n",
    "dy = [1, 0, -1, 0]\n",
    "\n",
    "m, n = map(int, input().split())\n",
    "\n",
    "array = [[0] * n for _ in range(m)]\n",
    "\n",
    "answer = 0\n",
    "d = 0\n",
    "\n",
    "now_x = 0\n",
    "now_y = 0\n",
    "\n",
    "while True:       \n",
    "    array[now_x][now_y] = 1\n",
    "    # print(now_x, now_y, d)\n",
    "    if now_x + dx[d] >= m or now_y + dy[d] >= n:\n",
    "        d += 1\n",
    "        if d > 3:\n",
    "            d = 0\n",
    "        answer += 1\n",
    "        \n",
    "    elif array[now_x + dx[d]][now_y + dy[d]] == 1:\n",
    "        d += 1\n",
    "        if d > 3:\n",
    "            d = 0\n",
    "        answer += 1\n",
    "        \n",
    "    else:\n",
    "        now_x += dx[d]\n",
    "        now_y += dy[d]\n",
    "        \n",
    "        \n",
    "    check = True\n",
    "    # print(array)\n",
    "    for i in range(m):\n",
    "        for j in range(n):\n",
    "            if array[i][j] == 0:\n",
    "                check = False\n",
    "    \n",
    "    if check:\n",
    "        break\n",
    "print(answer - 1)\n",
    "        \n",
    "    \n",
    "    \n",
    "    "
   ]
  }
 ],
 "metadata": {
  "kernelspec": {
   "display_name": "Python 3",
   "language": "python",
   "name": "python3"
  },
  "language_info": {
   "codemirror_mode": {
    "name": "ipython",
    "version": 3
   },
   "file_extension": ".py",
   "mimetype": "text/x-python",
   "name": "python",
   "nbconvert_exporter": "python",
   "pygments_lexer": "ipython3",
   "version": "3.8.5"
  }
 },
 "nbformat": 4,
 "nbformat_minor": 4
}
