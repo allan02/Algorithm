{
 "cells": [
  {
   "cell_type": "markdown",
   "metadata": {},
   "source": [
    "## 15685번, 드래곤 커브"
   ]
  },
  {
   "cell_type": "code",
   "execution_count": 17,
   "metadata": {},
   "outputs": [
    {
     "name": "stdout",
     "output_type": "stream",
     "text": [
      "3\n",
      "3 3 0 1\n",
      "4 2 1 3\n",
      "4 2 2 1\n",
      "4\n"
     ]
    }
   ],
   "source": [
    "dx = [1, 0, -1, 0]\n",
    "dy = [0, -1, 0, 1]\n",
    "\n",
    "n = int(input())\n",
    "\n",
    "graph = [[0] * 101 for _ in range(101)]\n",
    "\n",
    "data = [list(map(int, input().split())) for _ in range(n)]\n",
    "\n",
    "dragon_dir = [[] for _ in range(n)]\n",
    "\n",
    "\n",
    "\n",
    "for i in range(n):\n",
    "    x, y, direction, generation = data[i]\n",
    "    dragon_dir[i].append(direction)\n",
    "    \n",
    "    for _ in range(generation):\n",
    "        reverse = list(reversed(dragon_dir[i]))\n",
    "        for j in reverse:\n",
    "            if j + 1 == 4:\n",
    "                dragon_dir[i].append(0)\n",
    "            else:\n",
    "                dragon_dir[i].append(j + 1)\n",
    "                \n",
    "                \n",
    "for i in range(n):\n",
    "    x, y, direction, generation = data[i]\n",
    "    graph[y][x] = 1\n",
    "    \n",
    "    for j in dragon_dir[i]:\n",
    "        x, y = x + dx[j], y + dy[j]\n",
    "        if 0 <= x <= 100 and 0 <= y <= 100:\n",
    "            graph[y][x] = 1\n",
    "        \n",
    "                \n",
    "answer = 0\n",
    "\n",
    "for i in range(100):\n",
    "    for j in range(100):\n",
    "        if graph[i][j] == 1 and graph[i][j + 1] == 1 and graph[i + 1][j] == 1 and graph[i + 1][j + 1] == 1:\n",
    "            answer += 1\n",
    "\n",
    "print(answer)    \n",
    "    "
   ]
  },
  {
   "cell_type": "code",
   "execution_count": 10,
   "metadata": {},
   "outputs": [
    {
     "name": "stdout",
     "output_type": "stream",
     "text": [
      "deque([[2, 3], [1, 2]])\n"
     ]
    }
   ],
   "source": [
    "from collections import deque\n",
    "a = deque([[1, 2], [2, 3]])\n",
    "a.rotate()\n",
    "print(a)"
   ]
  },
  {
   "cell_type": "code",
   "execution_count": 13,
   "metadata": {},
   "outputs": [
    {
     "name": "stdout",
     "output_type": "stream",
     "text": [
      "27\n",
      "8\n"
     ]
    }
   ],
   "source": [
    "print(3**3)\n",
    "print(2**3)"
   ]
  },
  {
   "cell_type": "code",
   "execution_count": 7,
   "metadata": {},
   "outputs": [
    {
     "name": "stdout",
     "output_type": "stream",
     "text": [
      "1 2 3 4\n"
     ]
    }
   ],
   "source": [
    "data = [(1, 2, 3, 4)]\n",
    "x, y, z, w = data[0]\n",
    "\n",
    "print(x, y, z, w)"
   ]
  },
  {
   "cell_type": "code",
   "execution_count": null,
   "metadata": {},
   "outputs": [],
   "source": []
  }
 ],
 "metadata": {
  "kernelspec": {
   "display_name": "Python 3",
   "language": "python",
   "name": "python3"
  },
  "language_info": {
   "codemirror_mode": {
    "name": "ipython",
    "version": 3
   },
   "file_extension": ".py",
   "mimetype": "text/x-python",
   "name": "python",
   "nbconvert_exporter": "python",
   "pygments_lexer": "ipython3",
   "version": "3.8.5"
  }
 },
 "nbformat": 4,
 "nbformat_minor": 4
}
