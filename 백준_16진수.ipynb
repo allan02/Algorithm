{
 "cells": [
  {
   "cell_type": "code",
   "execution_count": 5,
   "metadata": {},
   "outputs": [
    {
     "name": "stdout",
     "output_type": "stream",
     "text": [
      "A\n",
      "10\n"
     ]
    }
   ],
   "source": [
    "n = input()\n",
    "\n",
    "answer = 0\n",
    "now = 1\n",
    "\n",
    "for i in range(-1, (len(n) + 1) * -1, -1):\n",
    "    if n[i] == '1':\n",
    "        answer += (1 * now)\n",
    "    \n",
    "    elif n[i] == '2':\n",
    "        answer += (2 * now)\n",
    "        \n",
    "    elif n[i] == '3':\n",
    "        answer += (3 * now)\n",
    "        \n",
    "    elif n[i] == '4':\n",
    "        answer += (4 * now)\n",
    "        \n",
    "    elif n[i] == '5':\n",
    "        answer += (5 * now)\n",
    "        \n",
    "    elif n[i] == '6':\n",
    "        answer += (6 * now)\n",
    "        \n",
    "    elif n[i] == '7':\n",
    "        answer += (7 * now)\n",
    "    \n",
    "    elif n[i] == '8':\n",
    "        answer += (8 * now)\n",
    "        \n",
    "    elif n[i] == '9':\n",
    "        answer += (9 * now)\n",
    "        \n",
    "    elif n[i] == 'A':\n",
    "        answer += (10 * now)\n",
    "        \n",
    "    elif n[i] == 'B':\n",
    "        answer += (11 * now)\n",
    "        \n",
    "    elif n[i] == 'C':\n",
    "        answer += (12 * now)\n",
    "        \n",
    "    elif n[i] == 'D':\n",
    "        answer += (13 * now)\n",
    "        \n",
    "    elif n[i] == 'E':\n",
    "        answer += (14 * now)\n",
    "        \n",
    "    elif n[i] == 'F':\n",
    "        answer += (15 * now)\n",
    "        \n",
    "    now *= 16\n",
    "\n",
    "print(answer)"
   ]
  },
  {
   "cell_type": "code",
   "execution_count": 6,
   "metadata": {},
   "outputs": [
    {
     "name": "stdout",
     "output_type": "stream",
     "text": [
      "A\n",
      "10\n"
     ]
    }
   ],
   "source": [
    "print(int(input(), 16))"
   ]
  }
 ],
 "metadata": {
  "kernelspec": {
   "display_name": "Python 3",
   "language": "python",
   "name": "python3"
  },
  "language_info": {
   "codemirror_mode": {
    "name": "ipython",
    "version": 3
   },
   "file_extension": ".py",
   "mimetype": "text/x-python",
   "name": "python",
   "nbconvert_exporter": "python",
   "pygments_lexer": "ipython3",
   "version": "3.8.5"
  }
 },
 "nbformat": 4,
 "nbformat_minor": 4
}
