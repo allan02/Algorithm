{
 "cells": [
  {
   "cell_type": "code",
   "execution_count": 15,
   "metadata": {},
   "outputs": [
    {
     "name": "stdout",
     "output_type": "stream",
     "text": [
      "6\n",
      "NYYNYN\n",
      "YNYNNN\n",
      "YYNYNN\n",
      "NNYNNN\n",
      "YNNNNY\n",
      "NNNNYN\n",
      "5\n"
     ]
    }
   ],
   "source": [
    "# 건너 건너는 2-친구가 아님!\n",
    "\n",
    "def find_parent(array, x):\n",
    "    if array[x] != x:\n",
    "        array[x] = find_parent(array, array[x])\n",
    "    return array[x]\n",
    "\n",
    "def union(array, x, y):\n",
    "    x = find_parent(array, x)\n",
    "    y = find_parent(array, y)\n",
    "    \n",
    "    if x < y:\n",
    "        array[y] = x\n",
    "        \n",
    "    else:\n",
    "        array[x] = y\n",
    "\n",
    "n = int(input())\n",
    "\n",
    "array = array = [i for i in range(n + 1)]\n",
    "\n",
    "# print(array)\n",
    "\n",
    "for i in range(n):\n",
    "    s = input()\n",
    "    count = 0\n",
    "    for j in s:\n",
    "        count += 1\n",
    "        if j == 'Y':\n",
    "            union(array, i + 1, count)\n",
    "    \n",
    "answer = [0] * (n + 1)    \n",
    "\n",
    "for i in range(1, n + 1):\n",
    "    answer[array[i]] += 1\n",
    "            \n",
    "print(max(answer) - 1)\n",
    "    "
   ]
  },
  {
   "cell_type": "code",
   "execution_count": 25,
   "metadata": {},
   "outputs": [
    {
     "name": "stdout",
     "output_type": "stream",
     "text": [
      "5\n",
      "NYNNN\n",
      "YNYNN\n",
      "NYNYN\n",
      "NNYNY\n",
      "NNNYN\n",
      "4\n"
     ]
    }
   ],
   "source": [
    "n = int(input())\n",
    "\n",
    "array = [[0] * n for _ in range(n)]\n",
    "\n",
    "answer = 0\n",
    "\n",
    "for i in range(n):\n",
    "    temp = input()\n",
    "    for j in range(n):\n",
    "        if temp[j] == 'Y':\n",
    "            array[i][j] = 1\n",
    "            \n",
    "for i in range(n):\n",
    "    temp = set()\n",
    "    \n",
    "    for j in range(n):\n",
    "        if i == j:\n",
    "            continue\n",
    "        \n",
    "        if array[i][j] == 1:\n",
    "            temp.add(j)\n",
    "            \n",
    "            for k in range(n):\n",
    "                if array[j][k] == 1 and k != i:\n",
    "                    temp.add(k)\n",
    "                    \n",
    "    answer = max(answer, len(temp))\n",
    "    \n",
    "print(answer)\n",
    "    "
   ]
  }
 ],
 "metadata": {
  "kernelspec": {
   "display_name": "Python 3",
   "language": "python",
   "name": "python3"
  },
  "language_info": {
   "codemirror_mode": {
    "name": "ipython",
    "version": 3
   },
   "file_extension": ".py",
   "mimetype": "text/x-python",
   "name": "python",
   "nbconvert_exporter": "python",
   "pygments_lexer": "ipython3",
   "version": "3.8.5"
  }
 },
 "nbformat": 4,
 "nbformat_minor": 4
}
