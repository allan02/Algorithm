{
 "cells": [
  {
   "cell_type": "code",
   "execution_count": 4,
   "metadata": {},
   "outputs": [
    {
     "name": "stdout",
     "output_type": "stream",
     "text": [
      "10 3\n",
      "20 8\n",
      "40 7\n",
      "60 4\n",
      "36\n"
     ]
    }
   ],
   "source": [
    "n, m = map(int, input().split())\n",
    "\n",
    "array = []\n",
    "\n",
    "for _ in range(m):\n",
    "    a, b = map(int, input().split())\n",
    "    array.append((a, b))\n",
    "    \n",
    "answer = 0\n",
    "    \n",
    "array1 = sorted(array, key = lambda x : x[0])\n",
    "array2 = sorted(array, key = lambda x : x[1])\n",
    "\n",
    "if n <= 6:\n",
    "    answer = min(array1[0][0], array2[0][1] * n)\n",
    "    \n",
    "else:\n",
    "    if n % 6 == 0:\n",
    "        answer = min(array1[0][0] * (n // 6), array2[0][1] * n)\n",
    "    else:\n",
    "        answer = min(array1[0][0] * (n // 6 + 1), array1[0][0] * (n // 6) + array2[0][1] * (n % 6), array2[0][1] * n)\n",
    "print(answer)\n",
    "\n"
   ]
  }
 ],
 "metadata": {
  "kernelspec": {
   "display_name": "Python 3",
   "language": "python",
   "name": "python3"
  },
  "language_info": {
   "codemirror_mode": {
    "name": "ipython",
    "version": 3
   },
   "file_extension": ".py",
   "mimetype": "text/x-python",
   "name": "python",
   "nbconvert_exporter": "python",
   "pygments_lexer": "ipython3",
   "version": "3.8.5"
  }
 },
 "nbformat": 4,
 "nbformat_minor": 4
}
