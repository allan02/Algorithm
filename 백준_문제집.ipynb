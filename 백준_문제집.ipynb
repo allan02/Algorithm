{
 "cells": [
  {
   "cell_type": "code",
   "execution_count": 4,
   "metadata": {},
   "outputs": [
    {
     "name": "stdout",
     "output_type": "stream",
     "text": [
      "4 2\n",
      "4 2\n",
      "3 1\n",
      "3 1 4 2 "
     ]
    }
   ],
   "source": [
    "#import sys\n",
    "#input = sys.stdin.readline\n",
    "import heapq\n",
    "\n",
    "n, m = map(int, input().split())\n",
    "\n",
    "count = [0] * (n + 1)\n",
    "array = [[] for _ in range(n + 1)]\n",
    "\n",
    "for _ in range(m):\n",
    "    a, b = map(int, input().split())\n",
    "    array[a].append(b)\n",
    "    count[b] += 1\n",
    "\n",
    "h = []\n",
    "\n",
    "for i in range(1, n + 1):\n",
    "    if count[i] == 0:\n",
    "        heapq.heappush(h, i)\n",
    "\n",
    "\n",
    "while h:\n",
    "    now = heapq.heappop(h)\n",
    "    print(now, end = ' ')\n",
    "    for k in array[now]:\n",
    "        count[k] -= 1\n",
    "        if count[k] == 0:\n",
    "            heapq.heappush(h, k)\n",
    "        \n",
    "\n",
    "        \n",
    "\n",
    "        \n",
    "    \n",
    "    "
   ]
  }
 ],
 "metadata": {
  "kernelspec": {
   "display_name": "Python 3",
   "language": "python",
   "name": "python3"
  },
  "language_info": {
   "codemirror_mode": {
    "name": "ipython",
    "version": 3
   },
   "file_extension": ".py",
   "mimetype": "text/x-python",
   "name": "python",
   "nbconvert_exporter": "python",
   "pygments_lexer": "ipython3",
   "version": "3.8.5"
  }
 },
 "nbformat": 4,
 "nbformat_minor": 4
}
