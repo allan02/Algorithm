{
 "cells": [
  {
   "cell_type": "code",
   "execution_count": 18,
   "metadata": {},
   "outputs": [
    {
     "name": "stdout",
     "output_type": "stream",
     "text": [
      "10 2\n",
      "3 -2 -4 -9 0 3 7 13 8 -3\n",
      "[1, -6, -13, -9, 3, 10, 20, 21, 5]\n",
      "21\n"
     ]
    }
   ],
   "source": [
    "n, k = map(int, input().split())\n",
    "\n",
    "array = list(map(int, input().split()))\n",
    "\n",
    "answer = []\n",
    "\n",
    "now = sum(array[:k])\n",
    "\n",
    "answer.append(now)\n",
    "\n",
    "for i in range(k, n):\n",
    "    now = now - array[i - k] + array[i]\n",
    "    answer.append(now)\n",
    "    \n",
    "# print(answer)\n",
    "print(max(answer))\n",
    "    "
   ]
  },
  {
   "cell_type": "code",
   "execution_count": 16,
   "metadata": {},
   "outputs": [
    {
     "name": "stdout",
     "output_type": "stream",
     "text": [
      "3\n"
     ]
    }
   ],
   "source": [
    "arr = [1,2,3,4,5]\n",
    "\n",
    "temp = sum(arr[:2])\n",
    "\n",
    "print(temp)"
   ]
  }
 ],
 "metadata": {
  "kernelspec": {
   "display_name": "Python 3",
   "language": "python",
   "name": "python3"
  },
  "language_info": {
   "codemirror_mode": {
    "name": "ipython",
    "version": 3
   },
   "file_extension": ".py",
   "mimetype": "text/x-python",
   "name": "python",
   "nbconvert_exporter": "python",
   "pygments_lexer": "ipython3",
   "version": "3.8.5"
  }
 },
 "nbformat": 4,
 "nbformat_minor": 4
}
