{
 "cells": [
  {
   "cell_type": "code",
   "execution_count": 2,
   "metadata": {},
   "outputs": [
    {
     "name": "stdout",
     "output_type": "stream",
     "text": [
      "5\n"
     ]
    }
   ],
   "source": [
    "arr = [1,2,3,4,5]\n",
    "print(arr[-1])"
   ]
  },
  {
   "cell_type": "code",
   "execution_count": 9,
   "metadata": {},
   "outputs": [],
   "source": [
    "for _ in range(4):\n",
    "    continue\n",
    "    print(\"a\")"
   ]
  },
  {
   "cell_type": "code",
   "execution_count": 10,
   "metadata": {},
   "outputs": [
    {
     "ename": "IndexError",
     "evalue": "list index out of range",
     "output_type": "error",
     "traceback": [
      "\u001b[1;31m---------------------------------------------------------------------------\u001b[0m",
      "\u001b[1;31mIndexError\u001b[0m                                Traceback (most recent call last)",
      "\u001b[1;32m<ipython-input-10-d881c8784b09>\u001b[0m in \u001b[0;36m<module>\u001b[1;34m\u001b[0m\n\u001b[0;32m      1\u001b[0m \u001b[0mar\u001b[0m \u001b[1;33m=\u001b[0m \u001b[1;33m[\u001b[0m\u001b[1;33m]\u001b[0m\u001b[1;33m\u001b[0m\u001b[1;33m\u001b[0m\u001b[0m\n\u001b[1;32m----> 2\u001b[1;33m \u001b[0mprint\u001b[0m\u001b[1;33m(\u001b[0m\u001b[0mar\u001b[0m\u001b[1;33m[\u001b[0m\u001b[1;33m-\u001b[0m\u001b[1;36m1\u001b[0m\u001b[1;33m]\u001b[0m\u001b[1;33m)\u001b[0m\u001b[1;33m\u001b[0m\u001b[1;33m\u001b[0m\u001b[0m\n\u001b[0m",
      "\u001b[1;31mIndexError\u001b[0m: list index out of range"
     ]
    }
   ],
   "source": [
    "ar = []\n",
    "print(ar[-1])"
   ]
  },
  {
   "cell_type": "code",
   "execution_count": 12,
   "metadata": {},
   "outputs": [
    {
     "name": "stdout",
     "output_type": "stream",
     "text": [
      "0\n",
      "1\n",
      "0\n",
      "1\n"
     ]
    }
   ],
   "source": [
    "print(0 % 2)\n",
    "print(1 % 2)\n",
    "print(2 % 2)\n",
    "print(3 % 2)"
   ]
  },
  {
   "cell_type": "code",
   "execution_count": null,
   "metadata": {},
   "outputs": [],
   "source": [
    "def sol():\n",
    "    answer = 1\n",
    "    temp = []\n",
    "    def bfs(temp):\n",
    "        temp.append(2)\n",
    "        print(temp)\n",
    "        \n",
    "    print(temp)\n",
    "    bfs(temp)\n",
    "        \n",
    "sol()"
   ]
  },
  {
   "cell_type": "code",
   "execution_count": 13,
   "metadata": {},
   "outputs": [],
   "source": [
    "import sys\n",
    "from collections import deque\n",
    "# 좌, 하, 상, 우\n",
    "dx = [0, 1, -1, 0]\n",
    "dy = [-1, 0, 0, 1]\n",
    " \n",
    " \n",
    "def solution(board):\n",
    "    N = len(board)\n",
    "    arr = [[[sys.maxsize]*4 for _ in range(N)] for _ in range(N)]\n",
    "    queue = deque()\n",
    " \n",
    "    queue.append([0, 0, -1])\n",
    "    arr[0][0] = [0, 0, 0, 0]\n",
    " \n",
    "    while queue:\n",
    "        x, y, direction = queue.popleft()  \n",
    "        for i in range(4):\n",
    "            if i + direction == 3:\n",
    "                continue\n",
    "            nx = x+dx[i]\n",
    "            ny = y+dy[i]\n",
    "            cost = 100\n",
    "            if i != direction and direction != -1:\n",
    "                cost += 500\n",
    "            if 0 <= nx < N and 0 <= ny < N and board[nx][ny] != 1 and arr[nx][ny][i] > cost+arr[x][y][direction]:\n",
    "                arr[nx][ny][i] = cost+arr[x][y][direction]\n",
    "                queue.append([nx, ny, i])\n",
    "                \n",
    "    return min(arr[N-1][N-1])"
   ]
  }
 ],
 "metadata": {
  "kernelspec": {
   "display_name": "Python 3",
   "language": "python",
   "name": "python3"
  },
  "language_info": {
   "codemirror_mode": {
    "name": "ipython",
    "version": 3
   },
   "file_extension": ".py",
   "mimetype": "text/x-python",
   "name": "python",
   "nbconvert_exporter": "python",
   "pygments_lexer": "ipython3",
   "version": "3.8.5"
  }
 },
 "nbformat": 4,
 "nbformat_minor": 4
}
