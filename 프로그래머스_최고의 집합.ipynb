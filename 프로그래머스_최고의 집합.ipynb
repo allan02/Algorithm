{
 "cells": [
  {
   "cell_type": "code",
   "execution_count": 1,
   "metadata": {},
   "outputs": [],
   "source": [
    "# 시간 초과\n",
    "from itertools import product\n",
    "\n",
    "def solution(n, s):\n",
    "    answer = []\n",
    "    \n",
    "    array = [i for i in range(1, s)]\n",
    "    array = list(product(array, repeat = n))\n",
    "    \n",
    "    for i in array:\n",
    "        if i[0] + i[1] == s:\n",
    "            if answer:\n",
    "                if answer[0][2] < i[0] * i[1]:\n",
    "                    answer.pop()\n",
    "                    answer.append((i[0], i[1], i[0] * i[1]))\n",
    "            else:\n",
    "                answer.append((i[0], i[1], i[0] * i[1]))\n",
    "    if answer:\n",
    "        return [answer[0][0], answer[0][1]]\n",
    "    \n",
    "    else:\n",
    "        return [-1]"
   ]
  },
  {
   "cell_type": "code",
   "execution_count": 2,
   "metadata": {},
   "outputs": [],
   "source": [
    "def solution(n, s):\n",
    "    answer = []\n",
    "    \n",
    "    if n > s:\n",
    "        return [-1]\n",
    "    \n",
    "    start = s // n\n",
    "    answer = [start] * n\n",
    "    \n",
    "    index = n - 1\n",
    "    for _ in range(s % n):\n",
    "        answer[index] += 1\n",
    "        index -= 1\n",
    "    \n",
    "    return answer"
   ]
  }
 ],
 "metadata": {
  "kernelspec": {
   "display_name": "Python 3",
   "language": "python",
   "name": "python3"
  },
  "language_info": {
   "codemirror_mode": {
    "name": "ipython",
    "version": 3
   },
   "file_extension": ".py",
   "mimetype": "text/x-python",
   "name": "python",
   "nbconvert_exporter": "python",
   "pygments_lexer": "ipython3",
   "version": "3.8.5"
  }
 },
 "nbformat": 4,
 "nbformat_minor": 4
}
