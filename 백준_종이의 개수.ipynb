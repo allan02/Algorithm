{
 "cells": [
  {
   "cell_type": "code",
   "execution_count": 11,
   "metadata": {},
   "outputs": [
    {
     "name": "stdout",
     "output_type": "stream",
     "text": [
      "9\n",
      "0 0 0 1 1 1 -1 -1 -1\n",
      "0 0 0 1 1 1 -1 -1 -1\n",
      "0 0 0 1 1 1 -1 -1 -1\n",
      "1 1 1 0 0 0 0 0 0\n",
      "1 1 1 0 0 0 0 0 0\n",
      "1 1 1 0 0 0 0 0 0\n",
      "0 1 -1 0 1 -1 0 1 -1\n",
      "0 -1 1 0 1 -1 0 1 -1\n",
      "0 1 -1 1 0 -1 0 1 -1\n",
      "10\n",
      "12\n",
      "11\n"
     ]
    }
   ],
   "source": [
    "#import sys\n",
    "#input = sys.stdin.readline\n",
    "\n",
    "n = int(input().rstrip())\n",
    "array = []\n",
    "answer = [0] * 3\n",
    "\n",
    "for _ in range(n):\n",
    "    array.append(list(map(int, input().split())))\n",
    "\n",
    "def sol(x1, y1, x2, y2):\n",
    "    temp = array[x1][y1]\n",
    "    flag = True\n",
    "    \n",
    "    for i in range(x1, x2):\n",
    "        for j in range(y1, y2):\n",
    "            if temp != array[i][j]:\n",
    "                flag = False\n",
    "                break\n",
    "    \n",
    "    if flag:\n",
    "        answer[temp] += 1\n",
    "    \n",
    "    else:\n",
    "        sol(x1, y1, x1 + (x2 - x1) // 3, y1 + (y2 - y1) // 3)\n",
    "        sol(x1, y1 + (y2 - y1) // 3, x1 + (x2 - x1) // 3, y1 + 2 * (y2 - y1) // 3)\n",
    "        sol(x1, y1 + 2 * (y2 - y1) // 3, x1 + (x2 - x1) // 3, y2)\n",
    "        \n",
    "        sol(x1 + (x2 - x1) // 3, y1, x1 + 2 * (x2 - x1) // 3, y1 + (y2 - y1) // 3)\n",
    "        sol(x1 + (x2 - x1) // 3, y1 + (y2 - y1) // 3, x1 + 2 * (x2 - x1) // 3, y1 + 2 * (y2 - y1) // 3)\n",
    "        sol(x1 + (x2 - x1) // 3, y1 + 2 * (y2 - y1) // 3, x1 + 2 * (x2 - x1) // 3, y2)\n",
    "        \n",
    "        sol(x1 + 2 * (x2 - x1) // 3, y1, x2, y1 + (y2 - y1) // 3)\n",
    "        sol(x1 + 2 * (x2 - x1) // 3, y1 + (y2 - y1) // 3, x2, y1 + 2 * (y2 - y1) // 3)\n",
    "        sol(x1 + 2 * (x2 - x1) // 3, y1 + 2 * (y2 - y1) // 3, x2, y2)\n",
    "\n",
    "        \n",
    "sol(0, 0, n, n)\n",
    "\n",
    "print(answer[-1])\n",
    "print(answer[0])\n",
    "print(answer[1])"
   ]
  },
  {
   "cell_type": "code",
   "execution_count": 1,
   "metadata": {},
   "outputs": [
    {
     "name": "stdout",
     "output_type": "stream",
     "text": [
      "1\n",
      "2\n",
      "3\n"
     ]
    }
   ],
   "source": [
    "answer = [1, 2, 3]\n",
    "print(answer[0])\n",
    "print(answer[1])\n",
    "print(answer[-1])"
   ]
  },
  {
   "cell_type": "code",
   "execution_count": 6,
   "metadata": {},
   "outputs": [
    {
     "name": "stdout",
     "output_type": "stream",
     "text": [
      "8\n"
     ]
    }
   ],
   "source": [
    "print(2 * (3 + 10) // 3)"
   ]
  }
 ],
 "metadata": {
  "kernelspec": {
   "display_name": "Python 3",
   "language": "python",
   "name": "python3"
  },
  "language_info": {
   "codemirror_mode": {
    "name": "ipython",
    "version": 3
   },
   "file_extension": ".py",
   "mimetype": "text/x-python",
   "name": "python",
   "nbconvert_exporter": "python",
   "pygments_lexer": "ipython3",
   "version": "3.8.5"
  }
 },
 "nbformat": 4,
 "nbformat_minor": 4
}
