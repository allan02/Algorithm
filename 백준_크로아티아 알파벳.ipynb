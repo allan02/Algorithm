{
 "cells": [
  {
   "cell_type": "code",
   "execution_count": 14,
   "metadata": {},
   "outputs": [
    {
     "name": "stdout",
     "output_type": "stream",
     "text": [
      "ddz=z=\n",
      "3\n",
      "d**\n"
     ]
    }
   ],
   "source": [
    "from collections import defaultdict\n",
    "\n",
    "a = defaultdict(int)\n",
    "a['c='] = 1\n",
    "a['c-'] = 1\n",
    "a['dz='] = 1\n",
    "a['d-'] = 1\n",
    "a['lj'] = 1\n",
    "a['nj'] = 1\n",
    "a['s='] = 1\n",
    "a['z='] = 1\n",
    "\n",
    "n = input()\n",
    "answer = 0\n",
    "temp = ''\n",
    "\n",
    "for i in a.keys():\n",
    "    #print(i)\n",
    "    if i in n:\n",
    "        n = n.replace(i, '*')\n",
    "        \n",
    "print(len(n))\n",
    "#print(n)\n",
    "    \n",
    "        \n"
   ]
  }
 ],
 "metadata": {
  "kernelspec": {
   "display_name": "Python 3",
   "language": "python",
   "name": "python3"
  },
  "language_info": {
   "codemirror_mode": {
    "name": "ipython",
    "version": 3
   },
   "file_extension": ".py",
   "mimetype": "text/x-python",
   "name": "python",
   "nbconvert_exporter": "python",
   "pygments_lexer": "ipython3",
   "version": "3.8.5"
  }
 },
 "nbformat": 4,
 "nbformat_minor": 4
}
