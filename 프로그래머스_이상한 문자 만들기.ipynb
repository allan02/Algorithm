{
 "cells": [
  {
   "cell_type": "code",
   "execution_count": 1,
   "metadata": {},
   "outputs": [],
   "source": [
    "def solution(s):\n",
    "    words_list = s.split(\" \") \n",
    "    new_list = []\n",
    "    for word in words_list:\n",
    "        if word == \" \":\n",
    "            new_list.append(\" \")\n",
    "            continue\n",
    "        new_words = \"\"\n",
    "        for i in range(len(word)):\n",
    "            new_words += word[i].upper() if i%2 == 0 else word[i].lower() \n",
    "        new_list.append(new_words)\n",
    "    return \" \".join(new_list)"
   ]
  },
  {
   "cell_type": "code",
   "execution_count": null,
   "metadata": {},
   "outputs": [],
   "source": []
  }
 ],
 "metadata": {
  "kernelspec": {
   "display_name": "Python 3",
   "language": "python",
   "name": "python3"
  },
  "language_info": {
   "codemirror_mode": {
    "name": "ipython",
    "version": 3
   },
   "file_extension": ".py",
   "mimetype": "text/x-python",
   "name": "python",
   "nbconvert_exporter": "python",
   "pygments_lexer": "ipython3",
   "version": "3.8.5"
  }
 },
 "nbformat": 4,
 "nbformat_minor": 4
}
