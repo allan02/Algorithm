{
 "cells": [
  {
   "cell_type": "code",
   "execution_count": 22,
   "metadata": {},
   "outputs": [
    {
     "name": "stdout",
     "output_type": "stream",
     "text": [
      "3\n",
      "001111000000011100\n",
      "BAD\n"
     ]
    }
   ],
   "source": [
    "n = int(input())\n",
    "s = input()\n",
    "s_li = []\n",
    "for i in range(0, n * 6, 6):\n",
    "    s_li.append(s[i: i + 6])\n",
    "promise = ['000000', '001111', '010011', '011100', '100110', '101001', '110101', '111010']\n",
    "\n",
    "correct = ''\n",
    "incorrect = 0\n",
    "for i in s_li:\n",
    "    incorrect = 0\n",
    "    for j in promise:\n",
    "        cnt = 0  # 맞은 개수\n",
    "        for k in range(6):\n",
    "            if i[k] == j[k]:\n",
    "                cnt += 1\n",
    "        if cnt >= 5:  # 똑같거나 한 자만 다른 경우\n",
    "            correct += chr(promise.index(j) + 65)\n",
    "            break\n",
    "        else:  # 두 자 이상 다른 경우\n",
    "            incorrect += 1\n",
    "    if incorrect == len(promise):\n",
    "        print(s_li.index(i) + 1)\n",
    "        quit()\n",
    "print(correct)"
   ]
  }
 ],
 "metadata": {
  "kernelspec": {
   "display_name": "Python 3",
   "language": "python",
   "name": "python3"
  },
  "language_info": {
   "codemirror_mode": {
    "name": "ipython",
    "version": 3
   },
   "file_extension": ".py",
   "mimetype": "text/x-python",
   "name": "python",
   "nbconvert_exporter": "python",
   "pygments_lexer": "ipython3",
   "version": "3.8.5"
  }
 },
 "nbformat": 4,
 "nbformat_minor": 4
}
