{
 "cells": [
  {
   "cell_type": "code",
   "execution_count": 54,
   "metadata": {},
   "outputs": [
    {
     "name": "stdout",
     "output_type": "stream",
     "text": [
      "5\n",
      "011111000000111111000000111111\n",
      "3\n"
     ]
    }
   ],
   "source": [
    "arr = ['000000',\n",
    "       '001111',\n",
    "       '010011',\n",
    "       '011100',\n",
    "       '100110',\n",
    "       '101001',\n",
    "       '110101',\n",
    "       '111010'   \n",
    "]\n",
    "\n",
    "n = int(input())\n",
    "s = input()\n",
    "\n",
    "ans = []\n",
    "answer = -1\n",
    "\n",
    "for i in range(0, 6 * n, 6):\n",
    "    temp = s[i : i + 6]\n",
    "    \n",
    "    now = -1\n",
    "    now_c = -1\n",
    "    \n",
    "    for j in range(8):\n",
    "        if temp == arr[j]:\n",
    "            now = j\n",
    "            break\n",
    "            \n",
    "        else:\n",
    "            count = 0\n",
    "            for k in range(6):\n",
    "                if temp[k] != arr[j][k]:\n",
    "                    count += 1\n",
    "            if count == 1:\n",
    "                if now_c == -1:\n",
    "                    now_c = j\n",
    "                    \n",
    "                else:\n",
    "                    answer = i // 6 + 1\n",
    "                    \n",
    "    if answer != -1:\n",
    "        break\n",
    "                \n",
    "    if now != -1:\n",
    "        ans.append(now)\n",
    "        \n",
    "    else:\n",
    "        if now_c != -1:\n",
    "            ans.append(now_c)\n",
    "        else:\n",
    "            answer = i // 6 + 1\n",
    "            break\n",
    "            \n",
    "if answer != -1:\n",
    "    print(answer)\n",
    "    \n",
    "else:\n",
    "    for i in ans:\n",
    "        if i == 0:\n",
    "            print('A', end = '')\n",
    "        elif i == 1:\n",
    "            print('B', end = '')\n",
    "        elif i == 2:\n",
    "            print('C', end = '')\n",
    "        elif i == 3:\n",
    "            print('D', end = '')\n",
    "        elif i == 4:\n",
    "            print('E', end = '')\n",
    "        elif i == 5:\n",
    "            print('F', end = '')\n",
    "        elif i == 6:\n",
    "            print('G', end = '')\n",
    "        elif i == 7:\n",
    "            print('H', end = '')\n",
    "        \n"
   ]
  }
 ],
 "metadata": {
  "kernelspec": {
   "display_name": "Python 3",
   "language": "python",
   "name": "python3"
  },
  "language_info": {
   "codemirror_mode": {
    "name": "ipython",
    "version": 3
   },
   "file_extension": ".py",
   "mimetype": "text/x-python",
   "name": "python",
   "nbconvert_exporter": "python",
   "pygments_lexer": "ipython3",
   "version": "3.8.5"
  }
 },
 "nbformat": 4,
 "nbformat_minor": 4
}
