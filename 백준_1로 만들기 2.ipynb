{
 "cells": [
  {
   "cell_type": "code",
   "execution_count": 17,
   "metadata": {},
   "outputs": [
    {
     "name": "stdout",
     "output_type": "stream",
     "text": [
      "2\n",
      "1\n",
      "2 1 "
     ]
    }
   ],
   "source": [
    "n = int(input())\n",
    "\n",
    "d = [0] * (n + 1)\n",
    "path = [1] * (n + 1)\n",
    "\n",
    "d[1] = 0\n",
    "for i in range(2, n + 1):\n",
    "    if d[i] == 0:\n",
    "        d[i] = d[i - 1] + 1\n",
    "        path[i] = i - 1\n",
    "        \n",
    "        if i % 2 == 0 and d[i] > d[i // 2] + 1:\n",
    "            d[i] = d[i // 2] + 1\n",
    "            path[i] = i // 2\n",
    "        \n",
    "        if i % 3 == 0 and d[i] > d[i // 3] + 1:\n",
    "            d[i] = d[i // 3] + 1\n",
    "            path[i] = i // 3\n",
    "            \n",
    "print(d[n])\n",
    "print(n, end = ' ')\n",
    "while n != 1:\n",
    "    print(path[n], end = ' ')\n",
    "    n = path[n]"
   ]
  }
 ],
 "metadata": {
  "kernelspec": {
   "display_name": "Python 3",
   "language": "python",
   "name": "python3"
  },
  "language_info": {
   "codemirror_mode": {
    "name": "ipython",
    "version": 3
   },
   "file_extension": ".py",
   "mimetype": "text/x-python",
   "name": "python",
   "nbconvert_exporter": "python",
   "pygments_lexer": "ipython3",
   "version": "3.8.5"
  }
 },
 "nbformat": 4,
 "nbformat_minor": 4
}
