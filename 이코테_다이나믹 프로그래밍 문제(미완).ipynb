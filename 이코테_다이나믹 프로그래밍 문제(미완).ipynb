{
 "cells": [
  {
   "cell_type": "markdown",
   "metadata": {},
   "source": [
    "## 31, 금광"
   ]
  },
  {
   "cell_type": "code",
   "execution_count": 1,
   "metadata": {},
   "outputs": [
    {
     "name": "stdout",
     "output_type": "stream",
     "text": [
      "2\n",
      "3 4\n",
      "1 3 3 2 2 1 4 1 0 6 4 7\n",
      "19\n",
      "4 4\n",
      "1 3 1 5 2 2 4 1 5 0 2 3 0 6 1 2\n",
      "16\n"
     ]
    }
   ],
   "source": [
    "count = int(input())\n",
    "\n",
    "while count != 0:\n",
    "    \n",
    "    n, m = map(int, input().split())\n",
    "    \n",
    "    graph = [[0] * m for _ in range(n)] # 행과 열 착각하지 말 것.\n",
    "    \n",
    "    result = [[0] * m for _ in range(n)]\n",
    "        \n",
    "    array = list(map(int, input().split()))\n",
    "    \n",
    "    index = 0\n",
    "    \n",
    "    for i in range(n):\n",
    "        for j in range(m):\n",
    "            graph[i][j] = array[index]\n",
    "            index += 1\n",
    "        \n",
    "    \n",
    "    for i in range(n):\n",
    "        result[i][0] = graph[i][0]\n",
    "        \n",
    "    \n",
    "    for i in range(1, m):\n",
    "        for j in range(1, n): # range 잘 적었나 확인.\n",
    "            \n",
    "            if j - 1 >= 0:\n",
    "                # print(\"loop1\", i, j)\n",
    "                result[j][i] = max(result[j][i], result[j - 1][i - 1] + graph[j][i])\n",
    "                \n",
    "            if j + 1 < n: # <=.. 등호 잘 확인. \n",
    "                # print(\"loop2\", i, j)\n",
    "                result[j][i] = max(result[j][i], result[j + 1][i - 1] + graph[j][i])\n",
    "                \n",
    "            result[j][i] = max(result[j][i], result[j][i - 1] + graph[j][i])\n",
    "            \n",
    "    final_result = 0\n",
    "\n",
    "    for i in range(n):\n",
    "        final_result = max(final_result, result[i][m - 1])\n",
    "    \n",
    "    print(final_result)\n",
    "    \n",
    "    count -= 1\n"
   ]
  },
  {
   "cell_type": "code",
   "execution_count": 8,
   "metadata": {},
   "outputs": [
    {
     "name": "stdout",
     "output_type": "stream",
     "text": [
      "1 2 3 4 65 1 2 3\n",
      "1\n"
     ]
    }
   ],
   "source": [
    "array = list(map(int, input().split()))\n",
    "\n",
    "print(array[5])"
   ]
  },
  {
   "cell_type": "code",
   "execution_count": 16,
   "metadata": {},
   "outputs": [
    {
     "name": "stdout",
     "output_type": "stream",
     "text": [
      "3 4\n",
      "[[0, 0, 0, 0], [0, 0, 0, 0], [0, 0, 0, 0]]\n"
     ]
    }
   ],
   "source": [
    "n, m = map(int, input().split())\n",
    "    \n",
    "graph = [[0] * m for _ in range(n)]\n",
    "\n",
    "#array = list(map(int, input().split()))\n",
    "    \n",
    "index = 0\n",
    "    \n",
    "print(graph)"
   ]
  },
  {
   "cell_type": "code",
   "execution_count": 2,
   "metadata": {},
   "outputs": [
    {
     "name": "stdout",
     "output_type": "stream",
     "text": [
      "[0, 0, 0, 0, 0]\n",
      "[[0], [0], [0], [0], [0]]\n"
     ]
    }
   ],
   "source": [
    "graph1 = [0] * 5\n",
    "graph2 = [[0] for _ in range(5)]\n",
    "\n",
    "print(graph1)\n",
    "print(graph2)"
   ]
  },
  {
   "cell_type": "code",
   "execution_count": 8,
   "metadata": {},
   "outputs": [
    {
     "name": "stdout",
     "output_type": "stream",
     "text": [
      "3 4\n",
      "1 3 3 2 2 1 4 1 0 6 4 7\n",
      "0\n"
     ]
    }
   ],
   "source": [
    "n, m = map(int, input().split())\n",
    "    \n",
    "graph = [[0] * m for _ in range(n)] # 행과 열 착각하지 말 것.\n",
    "    \n",
    "result = [[0] * m for _ in range(n)]\n",
    "        \n",
    "array = list(map(int, input().split()))\n",
    "    \n",
    "index = 0\n",
    "    \n",
    "for i in range(n):\n",
    "     for j in range(m):\n",
    "            graph[i][j] = array[index]\n",
    "            index += 1\n",
    "\n",
    "print(graph[2][0])"
   ]
  },
  {
   "cell_type": "markdown",
   "metadata": {},
   "source": [
    "## 35, 못생긴 수"
   ]
  },
  {
   "cell_type": "code",
   "execution_count": null,
   "metadata": {},
   "outputs": [],
   "source": [
    "n = int(input())\n",
    "\n",
    "ugly = [0]\n",
    "ugly[0] = 1\n",
    "\n",
    "i2 = i3 = i5 = 0\n",
    "\n",
    "next2, next3, next5 = 2, 3, 5\n",
    "\n",
    "for l in range(1, n):\n",
    "    "
   ]
  },
  {
   "cell_type": "code",
   "execution_count": null,
   "metadata": {},
   "outputs": [],
   "source": []
  },
  {
   "cell_type": "code",
   "execution_count": null,
   "metadata": {},
   "outputs": [],
   "source": []
  },
  {
   "cell_type": "markdown",
   "metadata": {},
   "source": [
    "## 36, 편집 거리"
   ]
  },
  {
   "cell_type": "code",
   "execution_count": 8,
   "metadata": {},
   "outputs": [
    {
     "name": "stdout",
     "output_type": "stream",
     "text": [
      "sunday\n",
      "saturday\n",
      "[[0, 1, 1, 1, 1, 1, 1, 1], [1, 1, 2, 1, 2, 2, 2, 2], [1, 2, 2, 2, 2, 3, 3, 3], [1, 2, 3, 3, 3, 2, 3, 4], [1, 1, 2, 3, 4, 3, 2, 3], [1, 2, 2, 3, 4, 4, 3, 2]]\n",
      "2\n"
     ]
    }
   ],
   "source": [
    "a = list(input())\n",
    "b = list(input())\n",
    "\n",
    "row = len(a)\n",
    "column = len(b)\n",
    "\n",
    "array = [[0] * column for _ in range(row)]\n",
    "\n",
    "for i in range(row):\n",
    "    if a[i] == b[0]:\n",
    "        array[i][0] = 0\n",
    "    else:\n",
    "        array[i][0] = 1\n",
    "        \n",
    "for i in range(column):\n",
    "    if a[0] == b[i]:\n",
    "        array[0][i] = 0\n",
    "    else:\n",
    "        array[0][i] = 1\n",
    "        \n",
    "for i in range(1, row):\n",
    "    for j in range(1, column):\n",
    "        if a[i] == b[j]:\n",
    "            array[i][j] = min(array[i - 1][j], array[i - 1][j - 1], array[i][j - 1])\n",
    "        else:\n",
    "            array[i][j] = min(array[i - 1][j], array[i - 1][j - 1], array[i][j - 1]) + 1\n",
    "    \n",
    "print(array)    \n",
    "print(array[row - 1][column - 1])"
   ]
  },
  {
   "cell_type": "code",
   "execution_count": null,
   "metadata": {},
   "outputs": [],
   "source": []
  },
  {
   "cell_type": "code",
   "execution_count": null,
   "metadata": {},
   "outputs": [],
   "source": []
  }
 ],
 "metadata": {
  "kernelspec": {
   "display_name": "Python 3",
   "language": "python",
   "name": "python3"
  }
 },
 "nbformat": 4,
 "nbformat_minor": 4
}
