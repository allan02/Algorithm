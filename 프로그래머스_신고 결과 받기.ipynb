{
 "cells": [
  {
   "cell_type": "code",
   "execution_count": 1,
   "metadata": {},
   "outputs": [],
   "source": [
    "from collections import defaultdict\n",
    "\n",
    "def solution(id_list, report, k):\n",
    "    answer = []\n",
    "    array = defaultdict(list)\n",
    "    array2 = defaultdict(int)\n",
    "    \n",
    "    for i in report:\n",
    "        a, b = i.split(' ')\n",
    "        if b not in array[a]:\n",
    "            array[a].append(b)\n",
    "            array2[b] += 1\n",
    "            \n",
    "    for now in id_list:\n",
    "        temp = 0\n",
    "        for i in array[now]:\n",
    "            if array2[i] >= k:\n",
    "                temp += 1\n",
    "        answer.append(temp)\n",
    "        \n",
    "    return answer"
   ]
  }
 ],
 "metadata": {
  "kernelspec": {
   "display_name": "Python 3",
   "language": "python",
   "name": "python3"
  },
  "language_info": {
   "codemirror_mode": {
    "name": "ipython",
    "version": 3
   },
   "file_extension": ".py",
   "mimetype": "text/x-python",
   "name": "python",
   "nbconvert_exporter": "python",
   "pygments_lexer": "ipython3",
   "version": "3.8.5"
  }
 },
 "nbformat": 4,
 "nbformat_minor": 4
}
