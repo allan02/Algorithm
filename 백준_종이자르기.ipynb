{
 "cells": [
  {
   "cell_type": "code",
   "execution_count": 15,
   "metadata": {},
   "outputs": [
    {
     "name": "stdout",
     "output_type": "stream",
     "text": [
      "10 10\n",
      "1\n",
      "0 1\n",
      "90\n"
     ]
    }
   ],
   "source": [
    "w, h = map(int, input().split())\n",
    "\n",
    "n = int(input())\n",
    "\n",
    "ww = []\n",
    "hh = []\n",
    "\n",
    "for _ in range(n):\n",
    "    a, b = map(int, input().split())\n",
    "    if a == 0:\n",
    "        hh.append(b)\n",
    "    else:\n",
    "        ww.append(b)\n",
    "        \n",
    "ww.sort()\n",
    "hh.sort()\n",
    "\n",
    "w_ans = -1\n",
    "h_ans = -1\n",
    "\n",
    "now = 0\n",
    "\n",
    "if len(ww) != 0:\n",
    "    for i in ww:\n",
    "        temp = i - now\n",
    "        w_ans = max(temp, w_ans)\n",
    "        now = i\n",
    "    w_ans = max(w_ans, w - ww[-1])\n",
    "    \n",
    "else:\n",
    "    w_ans = w\n",
    "\n",
    "now = 0\n",
    "\n",
    "if len(hh) != 0:\n",
    "    for i in hh:\n",
    "        temp = i - now\n",
    "        h_ans = max(temp, h_ans)\n",
    "        now = i\n",
    "    h_ans = max(h_ans, h - hh[-1])\n",
    "    \n",
    "else:\n",
    "    h_ans = h\n",
    "    \n",
    "print(w_ans * h_ans)\n",
    "        \n",
    "    "
   ]
  },
  {
   "cell_type": "code",
   "execution_count": null,
   "metadata": {},
   "outputs": [],
   "source": []
  }
 ],
 "metadata": {
  "kernelspec": {
   "display_name": "Python 3",
   "language": "python",
   "name": "python3"
  },
  "language_info": {
   "codemirror_mode": {
    "name": "ipython",
    "version": 3
   },
   "file_extension": ".py",
   "mimetype": "text/x-python",
   "name": "python",
   "nbconvert_exporter": "python",
   "pygments_lexer": "ipython3",
   "version": "3.8.5"
  }
 },
 "nbformat": 4,
 "nbformat_minor": 4
}
