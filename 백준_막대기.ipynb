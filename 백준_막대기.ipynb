{
 "cells": [
  {
   "cell_type": "code",
   "execution_count": 5,
   "metadata": {},
   "outputs": [
    {
     "name": "stdout",
     "output_type": "stream",
     "text": [
      "48\n",
      "2\n"
     ]
    }
   ],
   "source": [
    "array = []\n",
    "array.append(64)\n",
    "\n",
    "x = int(input())\n",
    "\n",
    "while True:\n",
    "    temp = sum(array)\n",
    "    if temp > x:\n",
    "        array = sorted(array, reverse = True)\n",
    "        now = array.pop()\n",
    "        \n",
    "        temp1 = now // 2\n",
    "        temp2 = now // 2\n",
    "        \n",
    "        if temp1 > 0:\n",
    "            if sum(array) + temp1 > x:\n",
    "                array.append(temp1)\n",
    "            \n",
    "            else:\n",
    "                array.append(temp1)\n",
    "                array.append(temp2)\n",
    "            \n",
    "    if sum(array) == x:\n",
    "        print(len(array))\n",
    "        break"
   ]
  }
 ],
 "metadata": {
  "kernelspec": {
   "display_name": "Python 3",
   "language": "python",
   "name": "python3"
  },
  "language_info": {
   "codemirror_mode": {
    "name": "ipython",
    "version": 3
   },
   "file_extension": ".py",
   "mimetype": "text/x-python",
   "name": "python",
   "nbconvert_exporter": "python",
   "pygments_lexer": "ipython3",
   "version": "3.8.5"
  }
 },
 "nbformat": 4,
 "nbformat_minor": 4
}
