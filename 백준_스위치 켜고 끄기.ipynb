{
 "cells": [
  {
   "cell_type": "code",
   "execution_count": 13,
   "metadata": {},
   "outputs": [
    {
     "name": "stdout",
     "output_type": "stream",
     "text": [
      "8\n",
      "0 1 0 1 0 0 0 1\n",
      "2\n",
      "1 3\n",
      "2 3\n",
      "1 0 0 0 1 1 0 1 "
     ]
    }
   ],
   "source": [
    "n = int(input())\n",
    "\n",
    "array = list(map(int, input().split()))\n",
    "\n",
    "m = int(input())\n",
    "\n",
    "for _ in range(m):\n",
    "    s, num = map(int, input().split())\n",
    "    num -= 1\n",
    "    \n",
    "    if s == 1: # 남학생\n",
    "        for i in range(num, n, num + 1):\n",
    "            if array[i] == 1:\n",
    "                array[i] = 0\n",
    "            else:\n",
    "                array[i] = 1\n",
    "\n",
    "    else: # 여학생\n",
    "        if array[num] == 0:\n",
    "            array[num] = 1\n",
    "        else:\n",
    "            array[num] = 0\n",
    "            \n",
    "        l = num - 1\n",
    "        r = num + 1\n",
    "        \n",
    "        while 0 <= l and r < n:\n",
    "            \n",
    "            if array[l] != array[r]:\n",
    "                break\n",
    "            \n",
    "            if array[l] == 0:\n",
    "                array[l] = 1\n",
    "            else:\n",
    "                array[l] = 0\n",
    "                \n",
    "            if array[r] == 0:\n",
    "                array[r] = 1\n",
    "            else:\n",
    "                array[r] = 0\n",
    "                \n",
    "            l -= 1\n",
    "            r += 1\n",
    "        \n",
    "temp = 0\n",
    "        \n",
    "for i in range(len(array)):\n",
    "    print(array[i], end = ' ')\n",
    "    temp += 1\n",
    "    \n",
    "    if temp == 20:\n",
    "        print()\n",
    "        temp = 0"
   ]
  },
  {
   "cell_type": "code",
   "execution_count": 12,
   "metadata": {},
   "outputs": [
    {
     "data": {
      "text/plain": [
       "'12345'"
      ]
     },
     "execution_count": 12,
     "metadata": {},
     "output_type": "execute_result"
    }
   ],
   "source": [
    "array = ['1', '2', '3', '4', '5']\n",
    "\n",
    "''.join(array)"
   ]
  }
 ],
 "metadata": {
  "kernelspec": {
   "display_name": "Python 3",
   "language": "python",
   "name": "python3"
  },
  "language_info": {
   "codemirror_mode": {
    "name": "ipython",
    "version": 3
   },
   "file_extension": ".py",
   "mimetype": "text/x-python",
   "name": "python",
   "nbconvert_exporter": "python",
   "pygments_lexer": "ipython3",
   "version": "3.8.5"
  }
 },
 "nbformat": 4,
 "nbformat_minor": 4
}
