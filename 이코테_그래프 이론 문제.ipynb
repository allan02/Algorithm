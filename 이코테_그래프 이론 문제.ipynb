{
 "cells": [
  {
   "cell_type": "markdown",
   "metadata": {},
   "source": [
    "## 43, 어두운 길"
   ]
  },
  {
   "cell_type": "code",
   "execution_count": 6,
   "metadata": {},
   "outputs": [
    {
     "name": "stdout",
     "output_type": "stream",
     "text": [
      "7 11\n",
      "0 1 7\n",
      "0 3 5\n",
      "1 2 8\n",
      "1 3 9\n",
      "1 4 7\n",
      "2 4 5\n",
      "3 4 15\n",
      "3 5 6\n",
      "4 5 8\n",
      "4 6 9\n",
      "5 6 11\n",
      "51\n"
     ]
    }
   ],
   "source": [
    "def find_parent(parent, x):\n",
    "    if parent[x] != x:\n",
    "        parent[x] = find_parent(parent, parent[x])\n",
    "    \n",
    "    return parent[x]\n",
    "\n",
    "\n",
    "def union(parent, x, y):\n",
    "    x = find_parent(parent, x)\n",
    "    y = find_parent(parent, y)\n",
    "    \n",
    "    if x < y:\n",
    "        parent[y] = x\n",
    "    else:\n",
    "        parent[x] = y\n",
    "        \n",
    "n, m = map(int, input().split())\n",
    "\n",
    "parent = [0] * n\n",
    "\n",
    "for i in range(n):\n",
    "    parent[i] = i\n",
    "    \n",
    "graph = []\n",
    "\n",
    "for _ in range(m):\n",
    "    x, y, cost = map(int, input().split())\n",
    "    graph.append((cost, x, y))\n",
    "\n",
    "    \n",
    "graph.sort()\n",
    "\n",
    "result = 0\n",
    "\n",
    "\n",
    "for cost, x, y in graph:\n",
    "    if find_parent(parent, x) != find_parent(parent, y):\n",
    "        union(parent, x, y)\n",
    "    else:\n",
    "        result += cost\n",
    "        \n",
    "print(result)\n",
    "        "
   ]
  },
  {
   "cell_type": "code",
   "execution_count": null,
   "metadata": {},
   "outputs": [],
   "source": []
  },
  {
   "cell_type": "code",
   "execution_count": null,
   "metadata": {},
   "outputs": [],
   "source": []
  },
  {
   "cell_type": "code",
   "execution_count": null,
   "metadata": {},
   "outputs": [],
   "source": []
  }
 ],
 "metadata": {
  "kernelspec": {
   "display_name": "Python 3",
   "language": "python",
   "name": "python3"
  },
  "language_info": {
   "codemirror_mode": {
    "name": "ipython",
    "version": 3
   },
   "file_extension": ".py",
   "mimetype": "text/x-python",
   "name": "python",
   "nbconvert_exporter": "python",
   "pygments_lexer": "ipython3",
   "version": "3.8.5"
  }
 },
 "nbformat": 4,
 "nbformat_minor": 4
}
