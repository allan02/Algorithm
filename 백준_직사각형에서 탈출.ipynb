{
 "cells": [
  {
   "cell_type": "code",
   "execution_count": 8,
   "metadata": {},
   "outputs": [
    {
     "name": "stdout",
     "output_type": "stream",
     "text": [
      "6 2 10 3\n",
      "1\n"
     ]
    }
   ],
   "source": [
    "x, y, w, h = map(int, input().split())\n",
    "\n",
    "if x >= w and y >= h:\n",
    "    print(x - w + y - h)\n",
    "elif w >= x and y >= h:\n",
    "    print(y - w)\n",
    "elif w <= x and y <= h:\n",
    "    print(x - w)\n",
    "else:\n",
    "    print(min(x, y, w - x, h - y))"
   ]
  },
  {
   "cell_type": "code",
   "execution_count": 2,
   "metadata": {},
   "outputs": [
    {
     "name": "stdout",
     "output_type": "stream",
     "text": [
      "0.5\n"
     ]
    }
   ],
   "source": [
    "print(min(1,2,3,4,0.5))"
   ]
  }
 ],
 "metadata": {
  "kernelspec": {
   "display_name": "Python 3",
   "language": "python",
   "name": "python3"
  },
  "language_info": {
   "codemirror_mode": {
    "name": "ipython",
    "version": 3
   },
   "file_extension": ".py",
   "mimetype": "text/x-python",
   "name": "python",
   "nbconvert_exporter": "python",
   "pygments_lexer": "ipython3",
   "version": "3.8.5"
  }
 },
 "nbformat": 4,
 "nbformat_minor": 4
}
