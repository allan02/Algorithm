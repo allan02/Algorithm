{
 "cells": [
  {
   "cell_type": "code",
   "execution_count": 1,
   "metadata": {},
   "outputs": [],
   "source": [
    "import heapq\n",
    "\n",
    "def solution(operations):\n",
    "    answer = []\n",
    "    \n",
    "    for i in operations:\n",
    "        if i[0] == 'I':\n",
    "            heapq.heappush(answer, int(i[2:]))\n",
    "\n",
    "        \n",
    "        elif i == 'D -1' and answer:\n",
    "            heapq.heappop(answer)\n",
    "            print(answer)\n",
    "        \n",
    "        elif answer:\n",
    "            temp = []\n",
    "            temp2 = []\n",
    "            for i in answer:\n",
    "                heapq.heappush(temp, -i)\n",
    "            heapq.heappop(temp)\n",
    "            \n",
    "            for i in temp:\n",
    "                heapq.heappush(temp2, -i)\n",
    "            \n",
    "            answer = temp2\n",
    "        \n",
    "    if answer:\n",
    "        return [max(answer), min(answer)]\n",
    "    else:\n",
    "        return [0, 0]"
   ]
  },
  {
   "cell_type": "code",
   "execution_count": null,
   "metadata": {},
   "outputs": [],
   "source": []
  }
 ],
 "metadata": {
  "kernelspec": {
   "display_name": "Python 3",
   "language": "python",
   "name": "python3"
  },
  "language_info": {
   "codemirror_mode": {
    "name": "ipython",
    "version": 3
   },
   "file_extension": ".py",
   "mimetype": "text/x-python",
   "name": "python",
   "nbconvert_exporter": "python",
   "pygments_lexer": "ipython3",
   "version": "3.8.5"
  }
 },
 "nbformat": 4,
 "nbformat_minor": 4
}
