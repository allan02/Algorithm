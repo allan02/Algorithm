{
 "cells": [
  {
   "cell_type": "code",
   "execution_count": 41,
   "metadata": {},
   "outputs": [
    {
     "name": "stdout",
     "output_type": "stream",
     "text": [
      "1 0 0 0 0 0 0 0 0 0 0 0 0 0 0 0 0 0 1\n",
      "1 0 0 0 0 0 0 0 0 0 0 0 0 0 0 0 0 0 1\n",
      "1 1 2 0 0 2 2 2 1 0 0 0 0 0 0 0 0 0 1\n",
      "1 0 1 2 0 0 0 0 1 0 0 0 0 0 0 0 0 0 2\n",
      "1 0 0 1 2 0 0 0 0 0 0 0 0 0 0 0 0 0 1\n",
      "1 0 0 0 0 2 2 0 0 0 0 0 0 0 0 0 0 0 0\n",
      "1 0 1 1 0 1 1 2 1 1 0 1 1 1 1 0 0 0 0\n",
      "1 0 0 0 0 0 1 1 0 0 0 0 0 0 0 0 0 0 0\n",
      "1 0 0 0 0 0 0 1 0 0 0 0 2 0 0 0 0 0 0\n",
      "0 0 0 0 0 0 0 0 0 0 0 0 2 0 0 0 0 0 0\n",
      "0 0 0 0 0 0 0 0 0 0 0 0 1 0 0 0 0 0 0\n",
      "0 0 0 0 0 0 0 0 0 0 0 0 2 0 0 0 0 0 0\n",
      "0 0 0 0 0 0 0 0 0 0 0 0 2 0 0 0 0 0 0\n",
      "0 0 0 0 0 0 0 0 0 0 0 0 0 0 0 0 0 0 0\n",
      "0 0 0 0 0 0 0 0 0 0 0 0 0 0 2 0 0 0 2\n",
      "0 0 0 0 0 0 0 0 0 0 0 0 0 0 0 2 0 0 1\n",
      "0 0 0 0 0 0 0 0 0 0 0 0 0 0 0 0 1 0 2\n",
      "0 0 0 0 0 0 0 0 0 0 0 0 0 1 2 2 2 2 2\n",
      "0 0 0 0 0 0 0 0 0 0 0 0 0 0 2 1 2 2 2\n",
      "17 18\n",
      "2\n",
      "18 15\n"
     ]
    }
   ],
   "source": [
    "ans = []\n",
    "array = []\n",
    "for _ in range(19):\n",
    "    array.append(list(map(int, input().split())))\n",
    "\n",
    "dx = [1, 1, 0, -1]\n",
    "dy = [0, 1, 1, 1]\n",
    "\n",
    "answer_x = 0\n",
    "answer_y = 0\n",
    "win = 0\n",
    "\n",
    "for i in range(19):\n",
    "    for j in range(19):\n",
    "        if array[i][j] != 0:\n",
    "            now = array[i][j]\n",
    "            for k in range(4):\n",
    "                count = 1\n",
    "                nx = i + dx[k]\n",
    "                ny = j + dy[k]\n",
    "\n",
    "                while True:\n",
    "                    if 0 <= nx < 19 and 0 <= ny < 19 and array[nx][ny] == now:\n",
    "                        count += 1\n",
    "                \n",
    "                        if count == 5:\n",
    "                            if 0 <= (nx + dx[k]) < 19 and 0 <= (ny + dy[k]) < 19 and array[nx + dx[k]][ny + dy[k]] == now:\n",
    "                                break\n",
    "                            \n",
    "                            elif 0 <= (i - dx[k]) < 19 and 0 <= (j - dy[k]) < 19 and array[i - dx[k]][j - dy[k]] == now:\n",
    "                                break\n",
    "                                \n",
    "                            else:\n",
    "                                ans.append((now, i + 1, j + 1))\n",
    "                            \n",
    "                        nx = nx + dx[k]\n",
    "                        ny = ny + dy[k]\n",
    "\n",
    "                    else:\n",
    "                        break\n",
    "\n",
    "if ans:\n",
    "    ans = sorted(ans, key = lambda x : (x[2], x[1]))\n",
    "    print(ans[0][0])\n",
    "    print(ans[0][1], ans[0][2])\n",
    "else:\n",
    "    print(0)\n",
    "\n"
   ]
  },
  {
   "cell_type": "code",
   "execution_count": 11,
   "metadata": {},
   "outputs": [
    {
     "name": "stdout",
     "output_type": "stream",
     "text": [
      "[(0, 1, 2), (0, 2, 2), (0, 3, 2), (0, 4, 2), (0, 6, 1)]\n"
     ]
    }
   ],
   "source": [
    "print(ans)\n",
    "ans = sorted(ans, key = lambda x : x[1])"
   ]
  },
  {
   "cell_type": "code",
   "execution_count": 22,
   "metadata": {},
   "outputs": [],
   "source": [
    "ans = sorted(ans, key = lambda x : -x[1])\n",
    "ans = sorted(ans, key = lambda x : (x[2] , x[1]))"
   ]
  },
  {
   "cell_type": "code",
   "execution_count": 23,
   "metadata": {},
   "outputs": [
    {
     "name": "stdout",
     "output_type": "stream",
     "text": [
      "[(2, 6, 1), (1, 4, 2), (1, 3, 2), (1, 2, 2), (1, 1, 2)]\n"
     ]
    }
   ],
   "source": [
    "print(ans)"
   ]
  }
 ],
 "metadata": {
  "kernelspec": {
   "display_name": "Python 3",
   "language": "python",
   "name": "python3"
  },
  "language_info": {
   "codemirror_mode": {
    "name": "ipython",
    "version": 3
   },
   "file_extension": ".py",
   "mimetype": "text/x-python",
   "name": "python",
   "nbconvert_exporter": "python",
   "pygments_lexer": "ipython3",
   "version": "3.8.5"
  }
 },
 "nbformat": 4,
 "nbformat_minor": 4
}
