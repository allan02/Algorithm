{
 "cells": [
  {
   "cell_type": "code",
   "execution_count": 22,
   "metadata": {},
   "outputs": [
    {
     "name": "stdout",
     "output_type": "stream",
     "text": [
      "Counter({1: 5, 2: 1, 3: 1, 4: 1, 5: 1})\n",
      "Counter({1: 3, 2: 3, 3: 1, 4: 1, 5: 1, 6: 1})\n",
      "dict_values([2])\n",
      "1 1\n",
      "1 1\n",
      "1 1\n",
      "1 2\n",
      "1 2\n",
      "2 2\n",
      "3 3\n",
      "4 4\n",
      "5 5\n"
     ]
    }
   ],
   "source": [
    "from collections import Counter\n",
    "\n",
    "a = [1,1,1,1,1,2,3,4,5]\n",
    "b = [1,1,1,2,2,2,3,4,5,6]\n",
    "\n",
    "print(Counter(a))\n",
    "print(Counter(b))\n",
    "print((Counter(a) - Counter(b)).values())\n",
    "\n",
    "for i, j in zip(a, b):\n",
    "    print(i, j)"
   ]
  },
  {
   "cell_type": "code",
   "execution_count": null,
   "metadata": {},
   "outputs": [],
   "source": [
    "def solution(participant, completion):\n",
    "\n",
    "    participant.sort()\n",
    "    completion.sort()\n",
    "    \n",
    "    for i, j in zip(participant, completion):\n",
    "        if i != j:\n",
    "            return i\n",
    "        \n",
    "    return participant.pop()\n",
    "    "
   ]
  },
  {
   "cell_type": "code",
   "execution_count": null,
   "metadata": {},
   "outputs": [],
   "source": []
  }
 ],
 "metadata": {
  "kernelspec": {
   "display_name": "Python 3",
   "language": "python",
   "name": "python3"
  },
  "language_info": {
   "codemirror_mode": {
    "name": "ipython",
    "version": 3
   },
   "file_extension": ".py",
   "mimetype": "text/x-python",
   "name": "python",
   "nbconvert_exporter": "python",
   "pygments_lexer": "ipython3",
   "version": "3.8.5"
  }
 },
 "nbformat": 4,
 "nbformat_minor": 4
}
