{
 "cells": [
  {
   "cell_type": "markdown",
   "metadata": {},
   "source": [
    "## 15683번, 감시"
   ]
  },
  {
   "cell_type": "code",
   "execution_count": 3,
   "metadata": {},
   "outputs": [
    {
     "name": "stdout",
     "output_type": "stream",
     "text": [
      "4 6\n",
      "0 0 0 0 0 0\n",
      "0 0 0 0 5 0\n",
      "0 0 0 0 0 0\n",
      "0 0 0 0 0 0\n",
      "2 4\n",
      "0 4\n",
      "1 5\n",
      "1 3\n",
      "[[0, 0, 0, 0, '#', 0], ['#', '#', '#', '#', 5, '#'], [0, 0, 0, 0, '#', 0], [0, 0, 0, 0, '#', 0]]\n"
     ]
    }
   ],
   "source": [
    "import copy\n",
    "\n",
    "dx = [1, -1 ,0, 0] # 아래 위 오른쪽 왼쪽 \n",
    "dy = [0, 0, 1, -1]\n",
    "\n",
    "n, m = map(int, input().split())\n",
    "\n",
    "cctv = [[] for _ in range(6)]\n",
    "\n",
    "graph = []\n",
    "\n",
    "for i in range(n):\n",
    "    graph.append(list(map(int, input().split())))\n",
    "    for j in range(m):\n",
    "        if graph[i][j] == 1:\n",
    "            cctv[1].append((i, j))\n",
    "        if graph[i][j] == 2:\n",
    "            cctv[2].append((i, j))\n",
    "        if graph[i][j] == 3:\n",
    "            cctv[3].append((i, j))\n",
    "        if graph[i][j] == 4:\n",
    "            cctv[4].append((i, j))\n",
    "        if graph[i][j] == 5:\n",
    "            cctv[5].append((i, j))\n",
    "            \n",
    "    \n",
    "for i in range(len(cctv[5])):\n",
    "    x, y = cctv[5][i]\n",
    "    \n",
    "    for i in range(4):\n",
    "        nx = x + dx[i]\n",
    "        ny = y + dy[i]\n",
    "        print(nx, ny)\n",
    "        \n",
    "        while nx < n and ny < m and nx >= 0 and ny >= 0 and graph[nx][ny] != 6:\n",
    "            graph[nx][ny] = '#'\n",
    "            nx += dx[i]\n",
    "            ny += dy[i]\n",
    "            \n",
    "\n",
    "def sol(temp, index, count, x, y):\n",
    "    if index == 1:\n",
    "        if count == 1:\n",
    "            nx = x + dx[1]\n",
    "            ny = y + dy[1]\n",
    "            \n",
    "            while nx < n and ny < m and nx >= 0 and ny >= 0 and temp[nx][ny] != 6:\n",
    "                temp[nx][ny] = '#'\n",
    "                nx += dx[1]\n",
    "                ny += dy[1]\n",
    "                \n",
    "        if count == 2:\n",
    "            nx = x + dx[2]\n",
    "            ny = y + dy[2]\n",
    "            \n",
    "            while nx < n and ny < m and nx >= 0 and ny >= 0 and temp[nx][ny] != 6:\n",
    "                temp[nx][ny] = '#'\n",
    "                nx += dx[2]\n",
    "                ny += dy[2]\n",
    "                \n",
    "        if count == 3:\n",
    "            nx = x + dx[3]\n",
    "            ny = y + dy[3]\n",
    "            \n",
    "            while nx < n and ny < m and nx >= 0 and ny >= 0 and temp[nx][ny] != 6:\n",
    "                temp[nx][ny] = '#'\n",
    "                nx += dx[3]\n",
    "                ny += dy[3]\n",
    "                \n",
    "        if count == 4:\n",
    "            nx = x + dx[4]\n",
    "            ny = y + dy[4]\n",
    "            \n",
    "            while nx < n and ny < m and nx >= 0 and ny >= 0 and temp[nx][ny] != 6:\n",
    "                temp[nx][ny] = '#'\n",
    "                nx += dx[1]\n",
    "                ny += dy[1]\n",
    "        \n",
    "\n",
    "\n"
   ]
  },
  {
   "cell_type": "code",
   "execution_count": null,
   "metadata": {},
   "outputs": [],
   "source": []
  },
  {
   "cell_type": "code",
   "execution_count": null,
   "metadata": {},
   "outputs": [],
   "source": []
  }
 ],
 "metadata": {
  "kernelspec": {
   "display_name": "Python 3",
   "language": "python",
   "name": "python3"
  },
  "language_info": {
   "codemirror_mode": {
    "name": "ipython",
    "version": 3
   },
   "file_extension": ".py",
   "mimetype": "text/x-python",
   "name": "python",
   "nbconvert_exporter": "python",
   "pygments_lexer": "ipython3",
   "version": "3.8.5"
  }
 },
 "nbformat": 4,
 "nbformat_minor": 4
}
