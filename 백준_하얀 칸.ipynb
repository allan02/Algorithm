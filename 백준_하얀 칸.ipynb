{
 "cells": [
  {
   "cell_type": "code",
   "execution_count": 1,
   "metadata": {},
   "outputs": [
    {
     "name": "stdout",
     "output_type": "stream",
     "text": [
      ".F.F...F\n",
      "0\n",
      "F...F.F.\n",
      "0\n",
      "...F.F.F\n",
      "0\n",
      "F.F...F.\n",
      "0\n",
      ".F...F..\n",
      "0\n",
      "F...F.F.\n",
      "0\n",
      ".F.F.F.F\n",
      "0\n",
      "..FF..F.\n",
      "1\n",
      "1\n"
     ]
    }
   ],
   "source": [
    "array = []\n",
    "answer = 0\n",
    "\n",
    "for i in range(8):\n",
    "    array.append(list(input()))\n",
    "    if i % 2 == 0:\n",
    "        for j in range(8):\n",
    "            if j % 2 == 0:\n",
    "                if array[i][j] == 'F':\n",
    "                    answer += 1\n",
    "                    \n",
    "    else:\n",
    "        for j in range(8):\n",
    "            if j % 2 == 1:\n",
    "                if array[i][j] == 'F':\n",
    "                    answer += 1\n",
    "                    \n",
    "    #print(answer)\n",
    "\n",
    "print(answer)"
   ]
  }
 ],
 "metadata": {
  "kernelspec": {
   "display_name": "Python 3",
   "language": "python",
   "name": "python3"
  },
  "language_info": {
   "codemirror_mode": {
    "name": "ipython",
    "version": 3
   },
   "file_extension": ".py",
   "mimetype": "text/x-python",
   "name": "python",
   "nbconvert_exporter": "python",
   "pygments_lexer": "ipython3",
   "version": "3.8.5"
  }
 },
 "nbformat": 4,
 "nbformat_minor": 4
}
