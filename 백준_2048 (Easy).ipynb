{
 "cells": [
  {
   "cell_type": "markdown",
   "metadata": {},
   "source": [
    "## 12100번, 2048 (Easy)"
   ]
  },
  {
   "cell_type": "code",
   "execution_count": 25,
   "metadata": {},
   "outputs": [
    {
     "name": "stdout",
     "output_type": "stream",
     "text": [
      "3\n",
      "3 3 3\n",
      "3 3 3\n",
      "3 3 3\n",
      "12\n"
     ]
    }
   ],
   "source": [
    "from collections import deque\n",
    "import copy\n",
    "\n",
    "n = int(input())\n",
    "\n",
    "board = [list(map(int, input().split())) for _ in range(n)]\n",
    "\n",
    "answer = 0\n",
    "q = deque()\n",
    "\n",
    "def solve(count):\n",
    "    global board, answer\n",
    "    \n",
    "    if count == 5:\n",
    "        for i in range(n):\n",
    "            answer = max(answer, max(board[i]))\n",
    "        return \n",
    "    \n",
    "    b = copy.deepcopy(board)\n",
    "    \n",
    "    for k in range(4):\n",
    "        move(k)\n",
    "        solve(count + 1)\n",
    "        board = copy.deepcopy(b)\n",
    "        \n",
    "\n",
    "def get(i, j):\n",
    "    if board[i][j]: \n",
    "        q.append(board[i][j]) \n",
    "        board[i][j] = 0 \n",
    "\n",
    "            \n",
    "def move(k):\n",
    "    \n",
    "    if k == 0: # 위로 이동\n",
    "        for j in range(n):\n",
    "            for i in range(n):\n",
    "                get(i, j)\n",
    "            merge(0, j, 1, 0) \n",
    "    elif k == 1: # 아래로 이동\n",
    "        for j in range(n):\n",
    "            for i in range(n-1, -1, -1):\n",
    "                get(i, j)\n",
    "            merge(n-1, j, -1, 0) \n",
    "    elif k == 2: # 오른쪽으로 이동\n",
    "        for i in range(n):\n",
    "            for j in range(n):\n",
    "                get(i, j)\n",
    "            merge(i, 0, 0, 1) \n",
    "    else: # 왼쪽으로 이동\n",
    "        for i in range(n):\n",
    "            for j in range(n-1, -1, -1):\n",
    "                get(i, j)\n",
    "            merge(i, n-1, 0, -1) \n",
    "\n",
    "def merge(i, j, di, dj): \n",
    "    while q:\n",
    "        x = q.popleft() \n",
    "        if not board[i][j]: \n",
    "            board[i][j] = x\n",
    "        elif board[i][j] == x: \n",
    "            board[i][j] = x*2 \n",
    "            i, j = i+di, j+dj \n",
    "        else: \n",
    "            i, j = i+di, j+dj\n",
    "            board[i][j] = x \n",
    "\n",
    "solve(0)\n",
    "print(answer)"
   ]
  },
  {
   "cell_type": "code",
   "execution_count": 23,
   "metadata": {},
   "outputs": [
    {
     "name": "stdout",
     "output_type": "stream",
     "text": [
      "[3, 4]\n"
     ]
    }
   ],
   "source": [
    "array = [[1, 2], [3, 4]]\n",
    "print(max(array))"
   ]
  },
  {
   "cell_type": "code",
   "execution_count": null,
   "metadata": {},
   "outputs": [],
   "source": []
  }
 ],
 "metadata": {
  "kernelspec": {
   "display_name": "Python 3",
   "language": "python",
   "name": "python3"
  },
  "language_info": {
   "codemirror_mode": {
    "name": "ipython",
    "version": 3
   },
   "file_extension": ".py",
   "mimetype": "text/x-python",
   "name": "python",
   "nbconvert_exporter": "python",
   "pygments_lexer": "ipython3",
   "version": "3.8.5"
  }
 },
 "nbformat": 4,
 "nbformat_minor": 4
}
