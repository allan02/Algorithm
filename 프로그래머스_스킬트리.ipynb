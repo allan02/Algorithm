{
 "cells": [
  {
   "cell_type": "code",
   "execution_count": null,
   "metadata": {},
   "outputs": [],
   "source": [
    "def solution(skill, skill_trees):\n",
    "    \n",
    "    answer = 0\n",
    "    \n",
    "    for check in skill_trees:\n",
    "        \n",
    "        skill_list = list(skill)\n",
    "        \n",
    "        check = list(check)\n",
    "        \n",
    "        for s in check:\n",
    "            if s in skill_list:\n",
    "                if s != skill_list.pop(0):\n",
    "                    break\n",
    "                \n",
    "        else:\n",
    "            answer += 1\n",
    "                                                                                                                                                                     \n",
    "    return answer"
   ]
  }
 ],
 "metadata": {
  "kernelspec": {
   "display_name": "Python 3",
   "language": "python",
   "name": "python3"
  },
  "language_info": {
   "codemirror_mode": {
    "name": "ipython",
    "version": 3
   },
   "file_extension": ".py",
   "mimetype": "text/x-python",
   "name": "python",
   "nbconvert_exporter": "python",
   "pygments_lexer": "ipython3",
   "version": "3.8.5"
  }
 },
 "nbformat": 4,
 "nbformat_minor": 4
}
