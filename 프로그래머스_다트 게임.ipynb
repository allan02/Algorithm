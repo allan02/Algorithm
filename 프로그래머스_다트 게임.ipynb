{
 "cells": [
  {
   "cell_type": "code",
   "execution_count": 1,
   "metadata": {},
   "outputs": [],
   "source": [
    "def solution(dartResult):\n",
    "    stack = []\n",
    "    for i in dartResult:\n",
    "        \n",
    "        if i == 'S':\n",
    "            continue\n",
    "            \n",
    "        elif i == 'D':\n",
    "            temp = stack.pop()\n",
    "            stack.append(temp * temp)\n",
    "        \n",
    "        elif i == 'T':\n",
    "            temp = stack.pop()\n",
    "            stack.append(temp * temp * temp)\n",
    "        \n",
    "        elif i == '*':\n",
    "            if len(stack) >= 2:\n",
    "                temp1 = stack.pop()\n",
    "                temp2 = stack.pop()\n",
    "                stack.append(temp2 * 2)\n",
    "                stack.append(temp1 * 2)\n",
    "            else:\n",
    "                temp = stack.pop()\n",
    "                stack.append(temp * 2)\n",
    "        elif i == '#':\n",
    "            temp = stack.pop()\n",
    "            stack.append(-temp)\n",
    "        \n",
    "        elif i == '0':\n",
    "            if stack:\n",
    "                temp = stack.pop()\n",
    "                if temp == 1:\n",
    "                    stack.append(10)\n",
    "                else:\n",
    "                    stack.append(temp)\n",
    "                    stack.append(0)\n",
    "            else:\n",
    "                stack.append(0)\n",
    "        \n",
    "        else:\n",
    "            stack.append(int(i))\n",
    "    if stack:\n",
    "        return sum(stack)\n",
    "    else:\n",
    "        return 0"
   ]
  },
  {
   "cell_type": "code",
   "execution_count": null,
   "metadata": {},
   "outputs": [],
   "source": []
  }
 ],
 "metadata": {
  "kernelspec": {
   "display_name": "Python 3",
   "language": "python",
   "name": "python3"
  },
  "language_info": {
   "codemirror_mode": {
    "name": "ipython",
    "version": 3
   },
   "file_extension": ".py",
   "mimetype": "text/x-python",
   "name": "python",
   "nbconvert_exporter": "python",
   "pygments_lexer": "ipython3",
   "version": "3.8.5"
  }
 },
 "nbformat": 4,
 "nbformat_minor": 4
}
