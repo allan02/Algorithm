{
 "cells": [
  {
   "cell_type": "code",
   "execution_count": 15,
   "metadata": {
    "scrolled": false
   },
   "outputs": [
    {
     "name": "stdout",
     "output_type": "stream",
     "text": [
      "2 1 1 2\n",
      "10\n"
     ]
    }
   ],
   "source": [
    "def rotate(l, n):\n",
    "    return l[n:] + l[:n]\n",
    "\n",
    "array = list(input().split())\n",
    "s = ''.join(array)\n",
    "a = int(rotate(s, 1))\n",
    "b = int(rotate(s, 2))\n",
    "c = int(rotate(s, 3))\n",
    "d = int(rotate(s, 4))\n",
    "\n",
    "s = min(a, b, c, d)\n",
    "\n",
    "ans = 1\n",
    "\n",
    "for i in range(1111, 9999):\n",
    "    now = i\n",
    "    a = int(rotate(str(i), 1))\n",
    "    b = int(rotate(str(i), 2))\n",
    "    c = int(rotate(str(i), 3))\n",
    "    d = int(rotate(str(i), 4))\n",
    "    \n",
    "    if a < now or b < now  or c < now or d < now:\n",
    "        continue\n",
    "    else:\n",
    "        if s == now:\n",
    "            break\n",
    "        else:\n",
    "            ans += 1\n",
    "            \n",
    "print(ans)"
   ]
  },
  {
   "cell_type": "code",
   "execution_count": 23,
   "metadata": {},
   "outputs": [
    {
     "name": "stdout",
     "output_type": "stream",
     "text": [
      "1 3 1 3\n",
      "['3', '1', '3', '1']\n",
      "['1', '3', '1', '3']\n",
      "['3', '1', '3', '1']\n",
      "['1', '3', '1', '3']\n"
     ]
    }
   ],
   "source": [
    "def rotate(l, n):\n",
    "    return l[n:] + l[:n]\n",
    "array = list(input().split())\n",
    "print(rotate(array, 1))\n",
    "print(rotate(array, 2))\n",
    "print(rotate(array, 3))\n",
    "print(rotate(array, 4))"
   ]
  },
  {
   "cell_type": "code",
   "execution_count": 6,
   "metadata": {},
   "outputs": [
    {
     "name": "stdout",
     "output_type": "stream",
     "text": [
      "1\n"
     ]
    }
   ],
   "source": [
    "a = min(1, 6, 2, 3)\n",
    "print(a)"
   ]
  }
 ],
 "metadata": {
  "kernelspec": {
   "display_name": "Python 3",
   "language": "python",
   "name": "python3"
  },
  "language_info": {
   "codemirror_mode": {
    "name": "ipython",
    "version": 3
   },
   "file_extension": ".py",
   "mimetype": "text/x-python",
   "name": "python",
   "nbconvert_exporter": "python",
   "pygments_lexer": "ipython3",
   "version": "3.8.5"
  }
 },
 "nbformat": 4,
 "nbformat_minor": 4
}
