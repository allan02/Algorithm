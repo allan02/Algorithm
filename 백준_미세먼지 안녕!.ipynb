{
 "cells": [
  {
   "cell_type": "markdown",
   "metadata": {},
   "source": [
    "## 17144번, 미세먼지 안녕!"
   ]
  },
  {
   "cell_type": "code",
   "execution_count": 29,
   "metadata": {},
   "outputs": [
    {
     "name": "stdout",
     "output_type": "stream",
     "text": [
      "7 8 2\n",
      "0 0 0 0 0 0 0 9\n",
      "0 0 0 0 3 0 0 8\n",
      "-1 0 5 0 0 0 22 0\n",
      "-1 8 0 0 0 0 0 0\n",
      "0 0 0 0 0 10 43 0\n",
      "0 0 5 0 15 0 0 0\n",
      "0 0 40 0 0 0 20 0\n",
      "[[0, 0, 0, 0, 0, 0, 1, 8], [0, 0, 1, 0, 3, 0, 5, 6], [-1, 2, 1, 1, 0, 4, 6, 5], [-1, 5, 2, 0, 0, 2, 12, 0], [0, 1, 1, 0, 5, 10, 13, 8], [0, 1, 9, 4, 3, 5, 12, 0], [0, 8, 17, 8, 3, 4, 8, 4]]\n",
      "[[0, 0, 0, 0, 0, 2, 7, 6], [0, 0, 1, 0, 3, 1, 3, 5], [-1, 0, 3, 1, 1, 0, 6, 6], [-1, 1, 1, 3, 1, 2, 6, 7], [0, 1, 3, 1, 3, 6, 9, 5], [1, 5, 6, 5, 5, 6, 8, 7], [9, 10, 9, 4, 5, 6, 7, 1]]\n",
      "188\n"
     ]
    }
   ],
   "source": [
    "dx = [0, 0, 1, -1]\n",
    "dy = [1, -1, 0, 0]\n",
    "\n",
    "r, c, t = map(int, input().split())\n",
    "\n",
    "array = []\n",
    "clean = []\n",
    "\n",
    "spread = []\n",
    "\n",
    "for i in range(r):\n",
    "    array.append(list(map(int, input().split())))\n",
    "    for j in range(c):\n",
    "        if array[i][j] == -1:\n",
    "            clean.append((i, j))\n",
    "        elif array[i][j] != 0:\n",
    "            spread.append((array[i][j], i, j))\n",
    "        \n",
    "    \n",
    "for _ in range(t):\n",
    "    \n",
    "    while spread: # 1, 미세먼지 확산\n",
    "        value, x, y = spread.pop()\n",
    "        count = 0\n",
    "        temp_value = value // 5 \n",
    "        for i in range(4):\n",
    "            nx = x + dx[i]\n",
    "            ny = y + dy[i]\n",
    "            \n",
    "            if 0 <= nx < r and 0 <= ny < c and array[nx][ny] != -1:\n",
    "                array[nx][ny] += temp_value\n",
    "                count += 1\n",
    "                \n",
    "        array[x][y] = array[x][y] - temp_value * count\n",
    "        \n",
    "    # print(array)\n",
    "      \n",
    "    # 2, 공기 청정기 작동\n",
    "    clean_x, clean_y = clean[0]\n",
    "\n",
    "    for i in range(clean_x - 1, 0, -1):\n",
    "        array[i][0] = array[i - 1][0]\n",
    "        \n",
    "    for i in range(c - 1):\n",
    "        array[0][i] = array[0][i + 1]\n",
    "        \n",
    "    for i in range(clean_x):\n",
    "        array[i][c - 1] = array[i + 1][c - 1]\n",
    "            \n",
    "    for i in range(c - 1, 1, -1):\n",
    "        array[clean_x][i] = array[clean_x][i - 1]\n",
    "            \n",
    "            \n",
    "    array[clean_x][1] = 0\n",
    "    \n",
    "    \n",
    "    clean_x, clean_y = clean[1]\n",
    "    \n",
    "    for i in range(clean_x + 1, r - 1):\n",
    "        array[i][0] = array[i + 1][0]\n",
    "        \n",
    "    for i in range(c - 1):\n",
    "        array[r - 1][i] = array[r - 1][i + 1]\n",
    "        \n",
    "    for i in range(r - 1, clean_x, -1):\n",
    "        array[i][c - 1] = array[i - 1][c - 1]\n",
    "        \n",
    "    for i in range(c - 1, 1, -1):\n",
    "        array[clean_x][i] = array[clean_x][i - 1]\n",
    "        \n",
    "    array[clean_x][1] = 0\n",
    "    \n",
    "    \n",
    "    \n",
    "    for i in range(r):\n",
    "        for j in range(c):\n",
    "            if array[i][j] != 0 and array[i][j] != -1:\n",
    "                spread.append((array[i][j], i, j))\n",
    "        \n",
    "        \n",
    "        \n",
    "result = 0\n",
    "\n",
    "for i in range(r):\n",
    "    result += sum(array[i])\n",
    "    \n",
    "print(result + 2)\n",
    "    "
   ]
  },
  {
   "cell_type": "markdown",
   "metadata": {},
   "source": [
    "0 0 0 0 0 0 0 9\n",
    "0 0 0 0 3 0 0 8\n",
    "-1 0 5 0 0 0 22 0\n",
    "-1 8 0 0 0 0 0 0\n",
    "0 0 0 0 0 10 43 0\n",
    "0 0 5 0 15 0 0 0\n",
    "0 0 40 0 0 0 20 0"
   ]
  },
  {
   "cell_type": "code",
   "execution_count": 8,
   "metadata": {},
   "outputs": [
    {
     "name": "stdout",
     "output_type": "stream",
     "text": [
      "10\n",
      "9\n",
      "8\n",
      "7\n",
      "6\n",
      "5\n",
      "4\n",
      "3\n",
      "2\n"
     ]
    }
   ],
   "source": [
    "for i in range(10, 1, -1):\n",
    "    print(i)"
   ]
  },
  {
   "cell_type": "code",
   "execution_count": null,
   "metadata": {},
   "outputs": [],
   "source": []
  },
  {
   "cell_type": "code",
   "execution_count": null,
   "metadata": {},
   "outputs": [],
   "source": []
  }
 ],
 "metadata": {
  "kernelspec": {
   "display_name": "Python 3",
   "language": "python",
   "name": "python3"
  },
  "language_info": {
   "codemirror_mode": {
    "name": "ipython",
    "version": 3
   },
   "file_extension": ".py",
   "mimetype": "text/x-python",
   "name": "python",
   "nbconvert_exporter": "python",
   "pygments_lexer": "ipython3",
   "version": "3.8.5"
  }
 },
 "nbformat": 4,
 "nbformat_minor": 4
}
