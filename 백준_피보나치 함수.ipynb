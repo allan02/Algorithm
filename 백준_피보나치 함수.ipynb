{
 "cells": [
  {
   "cell_type": "code",
   "execution_count": 2,
   "metadata": {},
   "outputs": [
    {
     "name": "stdout",
     "output_type": "stream",
     "text": [
      "3\n",
      "0\n",
      "1 0\n",
      "1\n",
      "0 1\n",
      "3\n",
      "1 2\n"
     ]
    }
   ],
   "source": [
    "t = int(input())\n",
    "\n",
    "for _ in range(t):\n",
    "    n = int(input())\n",
    "\n",
    "    if n == 0:\n",
    "        print(\"1 0\")\n",
    "    elif n == 1:\n",
    "        print(\"0 1\")\n",
    "\n",
    "    else:\n",
    "        d = [[0] * 2 for _ in range(n + 1)]\n",
    "        d[0][0] = 1\n",
    "        d[1][1] = 1\n",
    "        d[2] = [1, 1]\n",
    "        for j in range(3, n + 1):\n",
    "            d[j][0] = d[j - 1][0] + d[j - 2][0]\n",
    "            d[j][1] = d[j - 1][1] + d[j - 2][1]\n",
    "\n",
    "        print(d[n][0], d[n][1])\n",
    "    "
   ]
  }
 ],
 "metadata": {
  "kernelspec": {
   "display_name": "Python 3",
   "language": "python",
   "name": "python3"
  },
  "language_info": {
   "codemirror_mode": {
    "name": "ipython",
    "version": 3
   },
   "file_extension": ".py",
   "mimetype": "text/x-python",
   "name": "python",
   "nbconvert_exporter": "python",
   "pygments_lexer": "ipython3",
   "version": "3.8.5"
  }
 },
 "nbformat": 4,
 "nbformat_minor": 4
}
