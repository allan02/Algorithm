{
 "cells": [
  {
   "cell_type": "code",
   "execution_count": 3,
   "metadata": {},
   "outputs": [
    {
     "name": "stdout",
     "output_type": "stream",
     "text": [
      "7\n",
      "1 6\n",
      "6 3\n",
      "3 5\n",
      "4 1\n",
      "2 4\n",
      "4 7\n",
      "4\n",
      "6\n",
      "1\n",
      "3\n",
      "1\n",
      "4\n"
     ]
    }
   ],
   "source": [
    "import sys\n",
    "#input = sys.stdin.readline\n",
    "sys.setrecursionlimit(10 ** 9)\n",
    "n = int(input())\n",
    "\n",
    "answer = [0 for _ in range(n + 1)]\n",
    "array = [[] for _ in range(n + 1)]\n",
    "\n",
    "for _ in range(n - 1):\n",
    "    a, b = map(int, input().split())\n",
    "    array[a].append(b)\n",
    "    array[b].append(a)\n",
    "    \n",
    "def dfs(a, array, answer):   \n",
    "    for i in array[a]:\n",
    "        if answer[i] == 0:\n",
    "            answer[i] = a\n",
    "            dfs(i, array, answer)\n",
    "            \n",
    "dfs(1, array, answer)\n",
    "for i in range(2, n + 1):\n",
    "    print(answer[i])"
   ]
  },
  {
   "cell_type": "code",
   "execution_count": null,
   "metadata": {},
   "outputs": [],
   "source": [
    "7\n",
    "1 6\n",
    "6 3\n",
    "3 5\n",
    "4 1\n",
    "2 4\n",
    "4 7"
   ]
  }
 ],
 "metadata": {
  "kernelspec": {
   "display_name": "Python 3",
   "language": "python",
   "name": "python3"
  }
 },
 "nbformat": 4,
 "nbformat_minor": 4
}
