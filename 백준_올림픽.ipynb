{
 "cells": [
  {
   "cell_type": "code",
   "execution_count": 22,
   "metadata": {},
   "outputs": [
    {
     "name": "stdout",
     "output_type": "stream",
     "text": [
      "4 2\n",
      "3 0 0 0\n",
      "4 0 0 0\n",
      "2 0 0 0\n",
      "1 0 0 0\n",
      "1\n"
     ]
    }
   ],
   "source": [
    "#import sys\n",
    "#input = sys.stdin.readline\n",
    "\n",
    "n, k = map(int, input().split())\n",
    "\n",
    "array = []\n",
    "\n",
    "for _ in range(n):\n",
    "    p, a, b, c = map(int, input().split())\n",
    "    array.append((p, a, b, c))\n",
    "    \n",
    "array.sort(key=lambda x : (-x[1], -x[2], -x[3]))\n",
    "\n",
    "count = 1\n",
    "s = 0\n",
    "\n",
    "for i in range(n):\n",
    "    if i != 0:\n",
    "        if array[i - 1][1:] != array[i][1:]:\n",
    "            if s:\n",
    "                count += s\n",
    "                s = 0\n",
    "            count += 1\n",
    "        else:\n",
    "            s += 1\n",
    "    \n",
    "    if k == array[i][0]:\n",
    "        print(count)\n",
    "        break\n",
    "        "
   ]
  }
 ],
 "metadata": {
  "kernelspec": {
   "display_name": "Python 3",
   "language": "python",
   "name": "python3"
  },
  "language_info": {
   "codemirror_mode": {
    "name": "ipython",
    "version": 3
   },
   "file_extension": ".py",
   "mimetype": "text/x-python",
   "name": "python",
   "nbconvert_exporter": "python",
   "pygments_lexer": "ipython3",
   "version": "3.8.5"
  }
 },
 "nbformat": 4,
 "nbformat_minor": 4
}
