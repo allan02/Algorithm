{
 "cells": [
  {
   "cell_type": "code",
   "execution_count": 2,
   "metadata": {},
   "outputs": [
    {
     "name": "stdout",
     "output_type": "stream",
     "text": [
      "189\n",
      "-1\n"
     ]
    }
   ],
   "source": [
    "t = int(input())\n",
    "a = 0\n",
    "b = 0\n",
    "c = 0\n",
    "\n",
    "if t >= 300:\n",
    "    a += t // 300\n",
    "    t = t % 300\n",
    "    \n",
    "if t >= 60:\n",
    "    b += t // 60\n",
    "    t = t % 60\n",
    "    \n",
    "if t >= 10:\n",
    "    c += t // 10\n",
    "    t = t % 10\n",
    "    \n",
    "if t == 0:\n",
    "    print(a, b, c)\n",
    "    \n",
    "else:\n",
    "    print(-1)\n",
    "\n"
   ]
  }
 ],
 "metadata": {
  "kernelspec": {
   "display_name": "Python 3",
   "language": "python",
   "name": "python3"
  },
  "language_info": {
   "codemirror_mode": {
    "name": "ipython",
    "version": 3
   },
   "file_extension": ".py",
   "mimetype": "text/x-python",
   "name": "python",
   "nbconvert_exporter": "python",
   "pygments_lexer": "ipython3",
   "version": "3.8.5"
  }
 },
 "nbformat": 4,
 "nbformat_minor": 4
}
