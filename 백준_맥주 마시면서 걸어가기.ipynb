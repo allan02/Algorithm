{
 "cells": [
  {
   "cell_type": "code",
   "execution_count": 10,
   "metadata": {},
   "outputs": [
    {
     "name": "stdout",
     "output_type": "stream",
     "text": [
      "2\n",
      "2\n",
      "0 0\n",
      "1000 0\n",
      "1000 1000\n",
      "2000 1000\n",
      "0 0 False\n",
      "0 0 False\n",
      "1000 0 False\n",
      "happy\n",
      "2\n",
      "0 0\n",
      "1000 0\n",
      "2000 1000\n",
      "2000 2000\n",
      "1000 1000 False\n",
      "0 0 False\n",
      "sad\n"
     ]
    }
   ],
   "source": [
    "from collections import deque\n",
    "\n",
    "t = int(input())\n",
    "\n",
    "for _ in range(t):\n",
    "    q = deque()\n",
    "    store = []\n",
    "    al = []\n",
    "    n = int(input())\n",
    "    \n",
    "    s_x, s_y = map(int, input().split())\n",
    "    q.append((s_x, s_y))\n",
    "    \n",
    "    for _ in range(n):\n",
    "        x, y = map(int, input().split())\n",
    "        store.append((x, y))\n",
    "        \n",
    "    a_x, a_y = map(int, input().split())\n",
    "    \n",
    "    check = False\n",
    "  \n",
    "    while q:\n",
    "        now_x, now_y = q.popleft()\n",
    "        if abs(now_x - a_x) + abs(now_y - a_y) <= 1000:\n",
    "            check = True\n",
    "            break\n",
    "            \n",
    "        else:\n",
    "            for xx, yy in store:\n",
    "                if abs(now_x - xx) + abs(now_y - yy) <= 1000 and (xx, yy) not in al:\n",
    "                    q.append((xx, yy))\n",
    "                    al.append((xx, yy))\n",
    "                    \n",
    "    if check == True:\n",
    "        print(\"happy\")\n",
    "            \n",
    "    else:\n",
    "        print(\"sad\")\n",
    "    \n",
    "    "
   ]
  },
  {
   "cell_type": "code",
   "execution_count": 3,
   "metadata": {},
   "outputs": [
    {
     "name": "stdout",
     "output_type": "stream",
     "text": [
      "1\n",
      "0\n"
     ]
    }
   ],
   "source": [
    "array = [(1, 1)]\n",
    "if (1, 1) in array:\n",
    "    print(1)\n",
    "else:\n",
    "    print(0)\n",
    "    \n",
    "if 1 in array:\n",
    "    print(1)\n",
    "else:\n",
    "    print(0)"
   ]
  },
  {
   "cell_type": "code",
   "execution_count": null,
   "metadata": {},
   "outputs": [],
   "source": []
  }
 ],
 "metadata": {
  "kernelspec": {
   "display_name": "Python 3",
   "language": "python",
   "name": "python3"
  },
  "language_info": {
   "codemirror_mode": {
    "name": "ipython",
    "version": 3
   },
   "file_extension": ".py",
   "mimetype": "text/x-python",
   "name": "python",
   "nbconvert_exporter": "python",
   "pygments_lexer": "ipython3",
   "version": "3.8.5"
  }
 },
 "nbformat": 4,
 "nbformat_minor": 4
}
