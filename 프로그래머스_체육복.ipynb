{
 "cells": [
  {
   "cell_type": "code",
   "execution_count": 3,
   "metadata": {},
   "outputs": [
    {
     "name": "stdout",
     "output_type": "stream",
     "text": [
      "[1, 1, 1, 2, 3, 4]\n",
      "{1, 2, 3, 4}\n",
      "{1, 2, 3, 4}\n",
      "{1, 2, 3, 4}\n",
      "{1, 2, 3, 4}\n",
      "0\n"
     ]
    }
   ],
   "source": [
    "a = [1,1,1,1,2,3,4]\n",
    "a.remove(1)\n",
    "print(a)\n",
    "\n",
    "\n",
    "a = set(a)\n",
    "for i in a:\n",
    "    print(a)\n",
    "    \n",
    "a = []\n",
    "print(len(a))"
   ]
  },
  {
   "cell_type": "code",
   "execution_count": 9,
   "metadata": {},
   "outputs": [
    {
     "name": "stdout",
     "output_type": "stream",
     "text": [
      "{1, 3, 5}\n",
      "{2, 4}\n",
      "1\n",
      "0\n",
      "{1, 3, 5}\n",
      "{4}\n",
      "3\n",
      "2\n",
      "{1, 3, 5}\n",
      "set()\n",
      "5\n",
      "4\n",
      "5\n"
     ]
    }
   ],
   "source": [
    "def solution(n, lost, reserve):\n",
    "    new_reserve = set(reserve) - set(lost)\n",
    "    new_lost = set(lost) - set(reserve)\n",
    "    for i in new_reserve:\n",
    "        if i - 1 in new_lost:\n",
    "            new_lost.remove(i - 1)\n",
    "        elif i + 1 in new_lost: # new를 빼먹고 생각,, 집중!\n",
    "            new_lost.remove(i + 1)\n",
    "        \n",
    "            \n",
    "    return n - len(new_lost)\n"
   ]
  },
  {
   "cell_type": "code",
   "execution_count": 8,
   "metadata": {},
   "outputs": [
    {
     "name": "stdout",
     "output_type": "stream",
     "text": [
      "{1, 2, 3, 4, 5}\n",
      "{1, 3, 4, 5}\n",
      "1\n",
      "3\n",
      "4\n",
      "5\n"
     ]
    }
   ],
   "source": [
    "a = set([1,1,1,2,3,4,5])\n",
    "print(a)\n",
    "a.remove(2)\n",
    "print(a)\n",
    "for i in a:\n",
    "    print(i)"
   ]
  }
 ],
 "metadata": {
  "kernelspec": {
   "display_name": "Python 3",
   "language": "python",
   "name": "python3"
  },
  "language_info": {
   "codemirror_mode": {
    "name": "ipython",
    "version": 3
   },
   "file_extension": ".py",
   "mimetype": "text/x-python",
   "name": "python",
   "nbconvert_exporter": "python",
   "pygments_lexer": "ipython3",
   "version": "3.8.5"
  }
 },
 "nbformat": 4,
 "nbformat_minor": 4
}
