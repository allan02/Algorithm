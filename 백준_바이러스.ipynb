{
 "cells": [
  {
   "cell_type": "code",
   "execution_count": 27,
   "metadata": {},
   "outputs": [
    {
     "name": "stdout",
     "output_type": "stream",
     "text": [
      "5\n",
      "4\n",
      "4 5\n",
      "3 4\n",
      "2 3\n",
      "1 2\n",
      "4\n"
     ]
    }
   ],
   "source": [
    "def find_parent(array, a):\n",
    "    if array[a] != a:\n",
    "        array[a] = find_parent(array, array[a])\n",
    "    return array[a]\n",
    "    \n",
    "def union(array, a, b):\n",
    "    a = find_parent(array, a)\n",
    "    b = find_parent(array, b)\n",
    "    \n",
    "    if a < b:\n",
    "        array[b] = a\n",
    "    else:\n",
    "        array[a] = b\n",
    "        \n",
    "n = int(input())\n",
    "m = int(input())\n",
    "\n",
    "array = [i for i in range(n)]\n",
    "\n",
    "for _ in range(m):\n",
    "    x, y = map(int, input().split())\n",
    "    union(array, x - 1, y - 1)\n",
    "\n",
    "#print(array)    \n",
    "\n",
    "answer = -1\n",
    "\n",
    "for i in array:\n",
    "    if find_parent(array, i) == 0:\n",
    "        answer += 1\n",
    "print(answer)\n",
    "\n",
    "#print(array)\n",
    "\n",
    "# 단순하게 0 개수만 세지 말 것.\n",
    "# 부모를 찾아야 한다."
   ]
  },
  {
   "cell_type": "code",
   "execution_count": null,
   "metadata": {},
   "outputs": [],
   "source": []
  },
  {
   "cell_type": "code",
   "execution_count": 5,
   "metadata": {},
   "outputs": [
    {
     "name": "stdout",
     "output_type": "stream",
     "text": [
      "[1, 2, 3, 4, 5]\n",
      "[1, 123145, 3, 4, 5]\n",
      "2\n",
      "2\n"
     ]
    }
   ],
   "source": [
    "array = [1,2,3,4,5]\n",
    "\n",
    "def yoo(array, x):\n",
    "    array[x] = 123145\n",
    "\n",
    "print(array)\n",
    "yoo(array, 1)\n",
    "print(array)\n",
    "\n",
    "n = 2\n",
    "\n",
    "def yoo2(a):\n",
    "    a = 1234\n",
    "    \n",
    "print(n)\n",
    "yoo2(n)\n",
    "print(n)"
   ]
  }
 ],
 "metadata": {
  "kernelspec": {
   "display_name": "Python 3",
   "language": "python",
   "name": "python3"
  },
  "language_info": {
   "codemirror_mode": {
    "name": "ipython",
    "version": 3
   },
   "file_extension": ".py",
   "mimetype": "text/x-python",
   "name": "python",
   "nbconvert_exporter": "python",
   "pygments_lexer": "ipython3",
   "version": "3.8.5"
  }
 },
 "nbformat": 4,
 "nbformat_minor": 4
}
