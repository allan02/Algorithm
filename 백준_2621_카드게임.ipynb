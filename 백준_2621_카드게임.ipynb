{
 "cells": [
  {
   "cell_type": "code",
   "execution_count": 19,
   "metadata": {},
   "outputs": [
    {
     "name": "stdout",
     "output_type": "stream",
     "text": [
      "B 3\n",
      "B 7\n",
      "R 1\n",
      "B 2\n",
      "Y 7\n",
      "207\n"
     ]
    }
   ],
   "source": [
    "r = 0\n",
    "b = 0\n",
    "y = 0\n",
    "g = 0\n",
    "\n",
    "array = []\n",
    "array2 = [0] * 10\n",
    "\n",
    "for _ in range(5):\n",
    "    color, n = input().split()\n",
    "    if color == 'R':\n",
    "        r += 1\n",
    "        \n",
    "    if color == 'B':\n",
    "        b += 1\n",
    "        \n",
    "    if color == 'Y':\n",
    "        y += 1\n",
    "        \n",
    "    if color == 'G':\n",
    "        g += 1\n",
    "        \n",
    "    array2[int(n)] += 1\n",
    "        \n",
    "    array.append((int(n), color))\n",
    "    \n",
    "answer = -1\n",
    "\n",
    "array.sort()\n",
    "\n",
    "if r == 5 or b == 5 or y == 5 or g == 5:\n",
    "    if array[0][0] + 1 == array[1][0] and array[1][0] + 1 == array[2][0] and array[2][0] + 1 == array[3][0] and array[3][0] + 1 == array[4][0]:\n",
    "        answer = max(answer, array[4][0] + 900)\n",
    "        \n",
    "    answer = max(answer, array[4][0] + 600)\n",
    "    \n",
    "if array[0][0] + 1 == array[1][0] and array[1][0] + 1 == array[2][0] and array[2][0] + 1 == array[3][0] and array[3][0] + 1 == array[4][0]:\n",
    "        answer = max(answer, array[4][0] + 500)\n",
    "\n",
    "count_3 = 0\n",
    "count_2 = 0\n",
    "num_2 = 0\n",
    "\n",
    "for i in range(10):\n",
    "    \n",
    "    if array2[i] == 4:\n",
    "        answer = max(answer, 800 + i)\n",
    "\n",
    "    if array2[i] == 3:\n",
    "        count_3 = i\n",
    "        answer = max(answer, i + 400)\n",
    "        \n",
    "    if array2[i] == 2:\n",
    "        answer = max(answer, i + 200)\n",
    "        \n",
    "    if array2[i] == 2 and count_2 == 0:\n",
    "        count_2 = i\n",
    "    \n",
    "    elif array2[i] == 2 and count_2 != 0:\n",
    "        answer = max(answer, i * 10 + count_2 + 300)\n",
    "        \n",
    "    if count_3 != 0 and count_2 != 0:\n",
    "        answer = max(answer, (count_3 * 10 + count_2) + 700)\n",
    "\n",
    "if answer != -1:\n",
    "    print(answer)\n",
    "else:\n",
    "    print(array[4][0] + 100)\n"
   ]
  },
  {
   "cell_type": "code",
   "execution_count": 1,
   "metadata": {},
   "outputs": [
    {
     "name": "stdout",
     "output_type": "stream",
     "text": [
      "[(2, 1), (1, 2)]\n",
      "[(1, 2), (2, 1)]\n"
     ]
    }
   ],
   "source": [
    "array = []\n",
    "array.append((2, 1))\n",
    "array.append((1, 2))\n",
    "\n",
    "print(array)\n",
    "\n",
    "array.sort()\n",
    "\n",
    "print(array)"
   ]
  },
  {
   "cell_type": "code",
   "execution_count": null,
   "metadata": {},
   "outputs": [],
   "source": []
  },
  {
   "cell_type": "code",
   "execution_count": null,
   "metadata": {},
   "outputs": [],
   "source": []
  }
 ],
 "metadata": {
  "kernelspec": {
   "display_name": "Python 3",
   "language": "python",
   "name": "python3"
  },
  "language_info": {
   "codemirror_mode": {
    "name": "ipython",
    "version": 3
   },
   "file_extension": ".py",
   "mimetype": "text/x-python",
   "name": "python",
   "nbconvert_exporter": "python",
   "pygments_lexer": "ipython3",
   "version": "3.8.5"
  }
 },
 "nbformat": 4,
 "nbformat_minor": 4
}
