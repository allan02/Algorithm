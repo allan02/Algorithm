{
 "cells": [
  {
   "cell_type": "markdown",
   "metadata": {},
   "source": [
    "## 3190번, 뱀"
   ]
  },
  {
   "cell_type": "code",
   "execution_count": 9,
   "metadata": {},
   "outputs": [
    {
     "name": "stdout",
     "output_type": "stream",
     "text": [
      "10\n",
      "5\n",
      "1 5\n",
      "1 3\n",
      "1 2\n",
      "1 6\n",
      "1 7\n",
      "4\n",
      "8 D\n",
      "10 D\n",
      "11 D\n",
      "13 L\n",
      "13\n"
     ]
    }
   ],
   "source": [
    "from collections import deque\n",
    "\n",
    "dx = [0, 1, 0, -1]\n",
    "dy = [1, 0, -1, 0]\n",
    "\n",
    "# 동 남 서 북\n",
    "\n",
    "\n",
    "\n",
    "n = int(input())\n",
    "\n",
    "k = int(input())\n",
    "\n",
    "graph = [[0] * (n + 1) for _ in range(n + 1)]\n",
    "\n",
    "for _ in range(k):\n",
    "    x, y = map(int, input().split())\n",
    "    graph[x][y] = 1\n",
    "    \n",
    "l = int(input())\n",
    "\n",
    "count_direction = []\n",
    "direction = []\n",
    "\n",
    "direction_snake = 0\n",
    "\n",
    "snake_pos = deque()\n",
    "snake_pos.append((1, 1))\n",
    "graph[1][1] = 2\n",
    "\n",
    "result_count = 0\n",
    "count_check = 0\n",
    "\n",
    "for _ in range(l):\n",
    "    x, c = input().split()\n",
    "    count_direction.append(int(x))\n",
    "    direction.append(c)\n",
    "  \n",
    "while True:\n",
    "    #print(snake_pos)\n",
    "    snake_x, snake_y = snake_pos.pop()\n",
    "    snake_pos.append((snake_x, snake_y))\n",
    "    \n",
    "    nx = snake_x + dx[direction_snake]\n",
    "    ny = snake_y + dy[direction_snake]\n",
    "    \n",
    "    if nx <= 0 or nx > n or ny <= 0 or ny > n or graph[nx][ny] == 2: # and or 제대로 확인!\n",
    "        break\n",
    "        \n",
    "    # print(nx, ny, n)\n",
    "    if graph[nx][ny] == 0:    \n",
    "        #print(snake_pos)\n",
    "        snake_pos.append((nx, ny))\n",
    "        #print(snake_pos)\n",
    "        graph[nx][ny] = 2\n",
    "        \n",
    "        xx, yy = snake_pos.popleft()\n",
    "        graph[xx][yy] = 0\n",
    "        \n",
    "    if graph[nx][ny] == 1:\n",
    "        graph[nx][ny] = 2\n",
    "        snake_pos.append((nx, ny))\n",
    "        \n",
    "    result_count += 1\n",
    "    if count_check < l:\n",
    "        if count_direction[count_check] == result_count:\n",
    "            if direction[count_check] == 'L':\n",
    "                count_check += 1\n",
    "                direction_snake -= 1\n",
    "                if direction_snake == -1:\n",
    "                    direction_snake = 3\n",
    "\n",
    "            else:\n",
    "                count_check += 1 # 제대로 확인!\n",
    "                direction_snake += 1\n",
    "                if direction_snake == 4:\n",
    "                    direction_snake = 0\n",
    "        \n",
    "        \n",
    "print(result_count + 1)"
   ]
  },
  {
   "cell_type": "code",
   "execution_count": null,
   "metadata": {},
   "outputs": [],
   "source": [
    "array = [1, 2, 3]\n",
    "x = array.pop()\n",
    "print(array)\n",
    "print(x)"
   ]
  },
  {
   "cell_type": "code",
   "execution_count": null,
   "metadata": {},
   "outputs": [],
   "source": []
  }
 ],
 "metadata": {
  "kernelspec": {
   "display_name": "Python 3",
   "language": "python",
   "name": "python3"
  },
  "language_info": {
   "codemirror_mode": {
    "name": "ipython",
    "version": 3
   },
   "file_extension": ".py",
   "mimetype": "text/x-python",
   "name": "python",
   "nbconvert_exporter": "python",
   "pygments_lexer": "ipython3",
   "version": "3.8.5"
  }
 },
 "nbformat": 4,
 "nbformat_minor": 4
}
