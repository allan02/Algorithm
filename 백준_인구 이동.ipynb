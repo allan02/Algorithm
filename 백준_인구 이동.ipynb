{
 "cells": [
  {
   "cell_type": "markdown",
   "metadata": {},
   "source": [
    "## 16234번, 인구 이동"
   ]
  },
  {
   "cell_type": "code",
   "execution_count": 5,
   "metadata": {},
   "outputs": [
    {
     "name": "stdout",
     "output_type": "stream",
     "text": [
      "3 5 10\n",
      "10 15 20\n",
      "20 30 25\n",
      "40 22 10\n",
      "2\n"
     ]
    }
   ],
   "source": [
    "from collections import deque\n",
    "\n",
    "n, l, r = map(int, input().split())\n",
    "\n",
    "graph = []\n",
    "\n",
    "count = 0\n",
    "\n",
    "dx = [0, 0, 1, -1]\n",
    "dy = [1, -1, 0, 0]\n",
    "\n",
    "for _ in range(n):\n",
    "    graph.append(list(map(int, input().split())))\n",
    "    \n",
    "def move_people(x, y, index):\n",
    "    \n",
    "    union = []\n",
    "    \n",
    "    union.append((x, y))\n",
    "    \n",
    "    union_number[x][y] = index\n",
    "    \n",
    "    result = graph[x][y]\n",
    "    \n",
    "    count = 1\n",
    "    \n",
    "    q = deque()\n",
    "    \n",
    "    q.append((x, y))\n",
    "    \n",
    "    while q:\n",
    "        \n",
    "        x, y = q.popleft()\n",
    "        \n",
    "        for i in range(4):\n",
    "            nx = x + dx[i]\n",
    "            ny = y + dy[i]\n",
    "            \n",
    "            if nx >= 0 and nx < n and ny >= 0 and ny < n:\n",
    "                if union_number[nx][ny] == -1:\n",
    "                    if abs(graph[nx][ny] - graph[x][y]) >= l and abs(graph[nx][ny] - graph[x][y]) <= r:\n",
    "                        result += graph[nx][ny]\n",
    "                        union_number[nx][ny] = index\n",
    "                        count += 1\n",
    "                        q.append((nx, ny))\n",
    "                        union.append((nx, ny))\n",
    "                \n",
    "    for xx, yy in union:\n",
    "        graph[xx][yy] = result // count\n",
    "        \n",
    "    return count\n",
    "        \n",
    "        \n",
    "total_count = 0\n",
    "\n",
    "\n",
    "while True:\n",
    "    \n",
    "    union_number = [[-1] * n for _ in range(n)]\n",
    "    \n",
    "    index = 0\n",
    "\n",
    "    \n",
    "    for i in range(n):\n",
    "        for j in range(n):\n",
    "            if union_number[i][j] == -1:\n",
    "                move_people(i, j, index)\n",
    "                index += 1\n",
    "    \n",
    "    if index == n * n:\n",
    "        break\n",
    "        \n",
    "    total_count += 1\n",
    "        \n",
    "                \n",
    "    \n",
    "\n",
    "print(total_count)\n",
    "    \n",
    "\n",
    "\n",
    "        \n",
    "    "
   ]
  },
  {
   "cell_type": "code",
   "execution_count": 8,
   "metadata": {},
   "outputs": [
    {
     "name": "stdout",
     "output_type": "stream",
     "text": [
      "[1, 2, 2, 4, 6]\n"
     ]
    }
   ],
   "source": [
    "graph = [1, 2, 3, 4, 6]\n",
    "\n",
    "def test_1():\n",
    "    \n",
    "    graph[2] = 2\n",
    "    \n",
    "test_1()\n",
    "\n",
    "print(graph)"
   ]
  },
  {
   "cell_type": "code",
   "execution_count": 9,
   "metadata": {},
   "outputs": [
    {
     "ename": "UnboundLocalError",
     "evalue": "local variable 'graph' referenced before assignment",
     "output_type": "error",
     "traceback": [
      "\u001b[1;31m---------------------------------------------------------------------------\u001b[0m",
      "\u001b[1;31mUnboundLocalError\u001b[0m                         Traceback (most recent call last)",
      "\u001b[1;32m<ipython-input-9-43522a78ad41>\u001b[0m in \u001b[0;36m<module>\u001b[1;34m\u001b[0m\n\u001b[0;32m      5\u001b[0m     \u001b[0mgraph\u001b[0m \u001b[1;33m=\u001b[0m \u001b[0mgraph\u001b[0m \u001b[1;33m+\u001b[0m \u001b[1;36m3\u001b[0m\u001b[1;33m\u001b[0m\u001b[1;33m\u001b[0m\u001b[0m\n\u001b[0;32m      6\u001b[0m \u001b[1;33m\u001b[0m\u001b[0m\n\u001b[1;32m----> 7\u001b[1;33m \u001b[0mtest_1\u001b[0m\u001b[1;33m(\u001b[0m\u001b[1;33m)\u001b[0m\u001b[1;33m\u001b[0m\u001b[1;33m\u001b[0m\u001b[0m\n\u001b[0m\u001b[0;32m      8\u001b[0m \u001b[1;33m\u001b[0m\u001b[0m\n\u001b[0;32m      9\u001b[0m \u001b[0mprint\u001b[0m\u001b[1;33m(\u001b[0m\u001b[0mgraph\u001b[0m\u001b[1;33m)\u001b[0m\u001b[1;33m\u001b[0m\u001b[1;33m\u001b[0m\u001b[0m\n",
      "\u001b[1;32m<ipython-input-9-43522a78ad41>\u001b[0m in \u001b[0;36mtest_1\u001b[1;34m()\u001b[0m\n\u001b[0;32m      3\u001b[0m \u001b[1;32mdef\u001b[0m \u001b[0mtest_1\u001b[0m\u001b[1;33m(\u001b[0m\u001b[1;33m)\u001b[0m\u001b[1;33m:\u001b[0m\u001b[1;33m\u001b[0m\u001b[1;33m\u001b[0m\u001b[0m\n\u001b[0;32m      4\u001b[0m \u001b[1;33m\u001b[0m\u001b[0m\n\u001b[1;32m----> 5\u001b[1;33m     \u001b[0mgraph\u001b[0m \u001b[1;33m=\u001b[0m \u001b[0mgraph\u001b[0m \u001b[1;33m+\u001b[0m \u001b[1;36m3\u001b[0m\u001b[1;33m\u001b[0m\u001b[1;33m\u001b[0m\u001b[0m\n\u001b[0m\u001b[0;32m      6\u001b[0m \u001b[1;33m\u001b[0m\u001b[0m\n\u001b[0;32m      7\u001b[0m \u001b[0mtest_1\u001b[0m\u001b[1;33m(\u001b[0m\u001b[1;33m)\u001b[0m\u001b[1;33m\u001b[0m\u001b[1;33m\u001b[0m\u001b[0m\n",
      "\u001b[1;31mUnboundLocalError\u001b[0m: local variable 'graph' referenced before assignment"
     ]
    }
   ],
   "source": [
    "graph = 1\n",
    "\n",
    "def test_1():\n",
    "    \n",
    "    graph = graph + 3\n",
    "    \n",
    "test_1()\n",
    "\n",
    "print(graph)"
   ]
  },
  {
   "cell_type": "code",
   "execution_count": 9,
   "metadata": {},
   "outputs": [
    {
     "name": "stdout",
     "output_type": "stream",
     "text": [
      "deque([2, 3])\n",
      "deque([(2, 3)])\n"
     ]
    }
   ],
   "source": [
    "from collections import deque\n",
    "\n",
    "q = deque((2, 3))\n",
    "\n",
    "print(q)\n",
    "\n",
    "qq = deque()\n",
    "\n",
    "qq.append((2,3))\n",
    "\n",
    "print(qq)"
   ]
  }
 ],
 "metadata": {
  "kernelspec": {
   "display_name": "Python 3",
   "language": "python",
   "name": "python3"
  },
  "language_info": {
   "codemirror_mode": {
    "name": "ipython",
    "version": 3
   },
   "file_extension": ".py",
   "mimetype": "text/x-python",
   "name": "python",
   "nbconvert_exporter": "python",
   "pygments_lexer": "ipython3",
   "version": "3.8.5"
  }
 },
 "nbformat": 4,
 "nbformat_minor": 4
}
