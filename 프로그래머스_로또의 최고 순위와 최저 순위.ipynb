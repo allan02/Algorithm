{
 "cells": [
  {
   "cell_type": "code",
   "execution_count": 1,
   "metadata": {},
   "outputs": [],
   "source": [
    "def solution(lottos, win_nums):\n",
    "    answer = []\n",
    "    count = 0\n",
    "    count_0 = 0\n",
    "    for i in lottos:\n",
    "        if i in win_nums:\n",
    "            count += 1\n",
    "        if i == 0:\n",
    "            count_0 += 1\n",
    "    if count_0 + count < 2:\n",
    "        answer.append(6)\n",
    "    else:\n",
    "        answer.append(7 - (count_0 + count))\n",
    "    \n",
    "    if count < 2:\n",
    "        answer.append(6)\n",
    "    else:\n",
    "        answer.append(7 - count)\n",
    "    \n",
    "    return answer"
   ]
  }
 ],
 "metadata": {
  "kernelspec": {
   "display_name": "Python 3",
   "language": "python",
   "name": "python3"
  },
  "language_info": {
   "codemirror_mode": {
    "name": "ipython",
    "version": 3
   },
   "file_extension": ".py",
   "mimetype": "text/x-python",
   "name": "python",
   "nbconvert_exporter": "python",
   "pygments_lexer": "ipython3",
   "version": "3.8.5"
  }
 },
 "nbformat": 4,
 "nbformat_minor": 4
}
