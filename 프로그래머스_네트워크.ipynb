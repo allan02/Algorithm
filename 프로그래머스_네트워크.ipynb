{
 "cells": [
  {
   "cell_type": "code",
   "execution_count": null,
   "metadata": {},
   "outputs": [],
   "source": [
    "def find_parent(parent, x):\n",
    "    if parent[x] != x:\n",
    "        parent[x] = find_parent(parent, parent[x])\n",
    "    return parent[x]\n",
    "\n",
    "def union(parent, x, y):\n",
    "    x = find_parent(parent, x)\n",
    "    y = find_parent(parent, y)\n",
    "    \n",
    "    if x < y:\n",
    "        parent[y] = x\n",
    "    else:\n",
    "        parent[x] = y\n",
    "    \n",
    "\n",
    "\n",
    "def solution(n, computers):\n",
    "    parent = []\n",
    "    for i in range(n):\n",
    "        parent.append(i)\n",
    "        \n",
    "    for i in range(n):\n",
    "        for j in range(n):\n",
    "            if computers[i][j] == 1:\n",
    "                union(parent, i, j)\n",
    "                \n",
    "    answer = set()\n",
    "    for i in range(n):\n",
    "        parent[i] = find_parent(parent, i)\n",
    "        answer.add(parent[i])\n",
    "        \n",
    "    return len(answer)"
   ]
  }
 ],
 "metadata": {
  "kernelspec": {
   "display_name": "Python 3",
   "language": "python",
   "name": "python3"
  },
  "language_info": {
   "codemirror_mode": {
    "name": "ipython",
    "version": 3
   },
   "file_extension": ".py",
   "mimetype": "text/x-python",
   "name": "python",
   "nbconvert_exporter": "python",
   "pygments_lexer": "ipython3",
   "version": "3.8.5"
  }
 },
 "nbformat": 4,
 "nbformat_minor": 4
}
