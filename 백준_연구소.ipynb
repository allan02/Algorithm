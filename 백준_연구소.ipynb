{
 "cells": [
  {
   "cell_type": "markdown",
   "metadata": {},
   "source": [
    "## 14502번, 연구소"
   ]
  },
  {
   "cell_type": "code",
   "execution_count": 2,
   "metadata": {},
   "outputs": [
    {
     "name": "stdout",
     "output_type": "stream",
     "text": [
      "8 8\n",
      "2 0 0 0 0 0 0 2\n",
      "2 0 0 0 0 0 0 2\n",
      "2 0 0 0 0 0 0 2\n",
      "2 0 0 0 0 0 0 2\n",
      "2 0 0 0 0 0 0 2\n",
      "0 0 0 0 0 0 0 0\n",
      "0 0 0 0 0 0 0 0\n",
      "0 0 0 0 0 0 0 0\n",
      "3\n"
     ]
    }
   ],
   "source": [
    "from itertools import combinations\n",
    "from collections import deque\n",
    "import copy\n",
    "\n",
    "dx = [0, 0, 1, -1]\n",
    "dy = [1, -1, 0, 0]\n",
    "\n",
    "\n",
    "n, m = map(int, input().split())\n",
    "\n",
    "array = []\n",
    "\n",
    "graph = []\n",
    "\n",
    "for _ in range(n):\n",
    "    array.append(list(map(int, input().split())))\n",
    "    \n",
    "for i in range(n):\n",
    "    for j in range(m):\n",
    "        if array[i][j] == 0: # 처음에 X,, 바이러스도 1로,,\n",
    "            graph.append((i, j))\n",
    "        \n",
    "graph = list(combinations(graph, 3))\n",
    "\n",
    "result = 0\n",
    "\n",
    "for x, y, z in graph:\n",
    "    \n",
    "    temp_array = copy.deepcopy(array)\n",
    "    \n",
    "    count = 0\n",
    "    \n",
    "    q = deque()\n",
    "    \n",
    "    a, b = x\n",
    "    c, d = y\n",
    "    e, f = z\n",
    "    temp_array[a][b] = 1\n",
    "    temp_array[c][d] = 1\n",
    "    temp_array[e][f] = 1\n",
    "    \n",
    "    for i in range(n):\n",
    "        for j in range(m):\n",
    "            if temp_array[i][j] == 2:\n",
    "                q.append((i, j))\n",
    "                \n",
    "    while q:\n",
    "\n",
    "        x, y = q.popleft()\n",
    "        \n",
    "        for i in range(4):\n",
    "            nx = x + dx[i]\n",
    "            ny = y + dy[i]\n",
    "            \n",
    "            if nx >= 0 and nx < n and ny >= 0 and ny < m and temp_array[nx][ny] == 0:\n",
    "                temp_array[nx][ny] = 2\n",
    "                q.append((nx, ny))\n",
    "  \n",
    "\n",
    "\n",
    "    for i in range(n):\n",
    "        for j in range(m):\n",
    "            if temp_array[i][j] == 0:\n",
    "                count += 1\n",
    "               \n",
    "    result = max(result, count)\n",
    "    \n",
    "    \n",
    "print(result)\n",
    "                \n",
    "    \n",
    "    "
   ]
  },
  {
   "cell_type": "code",
   "execution_count": null,
   "metadata": {},
   "outputs": [],
   "source": []
  }
 ],
 "metadata": {
  "kernelspec": {
   "display_name": "Python 3",
   "language": "python",
   "name": "python3"
  },
  "language_info": {
   "codemirror_mode": {
    "name": "ipython",
    "version": 3
   },
   "file_extension": ".py",
   "mimetype": "text/x-python",
   "name": "python",
   "nbconvert_exporter": "python",
   "pygments_lexer": "ipython3",
   "version": "3.8.5"
  }
 },
 "nbformat": 4,
 "nbformat_minor": 4
}
