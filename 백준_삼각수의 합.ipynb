{
 "cells": [
  {
   "cell_type": "code",
   "execution_count": 3,
   "metadata": {},
   "outputs": [
    {
     "name": "stdout",
     "output_type": "stream",
     "text": [
      "4\n",
      "3\n",
      "45\n",
      "4\n",
      "105\n",
      "5\n",
      "210\n",
      "10\n",
      "2145\n"
     ]
    }
   ],
   "source": [
    "t = int(input())\n",
    "\n",
    "while t > 0:\n",
    "    answer = 0\n",
    "    n = int(input())\n",
    "    for i in range(1, n + 1):\n",
    "        now = 0\n",
    "        for j in range(1, i + 2):\n",
    "            now += j\n",
    "            \n",
    "        now *= i\n",
    "        answer += now\n",
    "        \n",
    "    print(answer)\n",
    "    \n",
    "    \n",
    "    t -= 1"
   ]
  }
 ],
 "metadata": {
  "kernelspec": {
   "display_name": "Python 3",
   "language": "python",
   "name": "python3"
  },
  "language_info": {
   "codemirror_mode": {
    "name": "ipython",
    "version": 3
   },
   "file_extension": ".py",
   "mimetype": "text/x-python",
   "name": "python",
   "nbconvert_exporter": "python",
   "pygments_lexer": "ipython3",
   "version": "3.8.5"
  }
 },
 "nbformat": 4,
 "nbformat_minor": 4
}
