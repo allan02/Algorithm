{
 "cells": [
  {
   "cell_type": "code",
   "execution_count": 26,
   "metadata": {},
   "outputs": [
    {
     "data": {
      "text/plain": [
       "5"
      ]
     },
     "execution_count": 26,
     "metadata": {},
     "output_type": "execute_result"
    }
   ],
   "source": [
    "from collections import Counter\n",
    "\n",
    "def solution(clothes):\n",
    "    answer = {}\n",
    "    \n",
    "    for i in clothes:\n",
    "        if i[1] in answer:\n",
    "            answer[i[1]] += 1\n",
    "        else:\n",
    "            answer[i[1]] = 1\n",
    "            \n",
    "    result = 0\n",
    "    \n",
    "    for i in answer.values():\n",
    "        if result == 0:\n",
    "            result += (i + 1)\n",
    "        else:\n",
    "            result *= (i + 1)\n",
    "    \n",
    "    result -= 1\n",
    "\n",
    "    return result\n",
    "\n"
   ]
  },
  {
   "cell_type": "code",
   "execution_count": 25,
   "metadata": {},
   "outputs": [
    {
     "name": "stdout",
     "output_type": "stream",
     "text": [
      "{'a': 1, 'b': 2}\n",
      "{'a': 2, 'b': 2, 'c': 2}\n"
     ]
    }
   ],
   "source": [
    "answer = {'a' : 1, 'b' : 2}\n",
    "print(answer)\n",
    "\n",
    "if 'a' in answer:\n",
    "    answer['a'] += 1\n",
    "\n",
    "answer['c'] = 2\n",
    "print(answer)"
   ]
  },
  {
   "cell_type": "code",
   "execution_count": null,
   "metadata": {},
   "outputs": [],
   "source": []
  },
  {
   "cell_type": "code",
   "execution_count": null,
   "metadata": {},
   "outputs": [],
   "source": []
  }
 ],
 "metadata": {
  "kernelspec": {
   "display_name": "Python 3",
   "language": "python",
   "name": "python3"
  },
  "language_info": {
   "codemirror_mode": {
    "name": "ipython",
    "version": 3
   },
   "file_extension": ".py",
   "mimetype": "text/x-python",
   "name": "python",
   "nbconvert_exporter": "python",
   "pygments_lexer": "ipython3",
   "version": "3.8.5"
  }
 },
 "nbformat": 4,
 "nbformat_minor": 4
}
