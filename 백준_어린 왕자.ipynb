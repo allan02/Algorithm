{
 "cells": [
  {
   "cell_type": "code",
   "execution_count": 1,
   "metadata": {},
   "outputs": [
    {
     "name": "stdout",
     "output_type": "stream",
     "text": [
      "2\n",
      "-5 1 12 1\n",
      "7\n",
      "1 1 8\n",
      "-3 1 1\n",
      "2 2 2\n",
      "5 5 1\n",
      "-4 5 1\n",
      "12 1 1\n",
      "12 1 2\n",
      "3\n",
      "-5 1 5 1\n",
      "1\n",
      "0 0 2\n",
      "0\n"
     ]
    }
   ],
   "source": [
    "t = int(input())\n",
    "\n",
    "for _ in range(t):\n",
    "    x1, y1, x2, y2 = map(int, input().split())\n",
    "    n = int(input())\n",
    "    count = 0\n",
    "    \n",
    "    for _ in range(n):\n",
    "        cx, cy, r = map(int, input().split())\n",
    "        \n",
    "        r1 = (abs(x1 - cx) ** 2 + abs(y1 - cy) ** 2) ** 0.5\n",
    "        r2 = (abs(x2 - cx) ** 2 + abs(y2 - cy) ** 2) ** 0.5\n",
    "        \n",
    "        if r1 < r and r2 < r:\n",
    "            continue\n",
    "            \n",
    "        elif r1 < r:\n",
    "            count += 1\n",
    "    \n",
    "        elif r2 < r:\n",
    "            count += 1\n",
    "            \n",
    "            \n",
    "    print(count)"
   ]
  }
 ],
 "metadata": {
  "kernelspec": {
   "display_name": "Python 3",
   "language": "python",
   "name": "python3"
  },
  "language_info": {
   "codemirror_mode": {
    "name": "ipython",
    "version": 3
   },
   "file_extension": ".py",
   "mimetype": "text/x-python",
   "name": "python",
   "nbconvert_exporter": "python",
   "pygments_lexer": "ipython3",
   "version": "3.8.5"
  }
 },
 "nbformat": 4,
 "nbformat_minor": 4
}
