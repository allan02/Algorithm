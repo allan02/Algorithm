{
 "cells": [
  {
   "cell_type": "code",
   "execution_count": null,
   "metadata": {},
   "outputs": [],
   "source": [
    "from collections import deque\n",
    "\n",
    "def solution(priorities, location):\n",
    "    answer = []\n",
    "    q = deque()\n",
    "    \n",
    "    for i in range(len(priorities)):\n",
    "        q.append((priorities[i], i))\n",
    "        \n",
    "    while q:\n",
    "        x, y = q[0]\n",
    "        if x == max(q)[0]:\n",
    "            q.popleft()\n",
    "            answer.append(y)\n",
    "        else:\n",
    "            q.popleft()\n",
    "            q.append((x, y))\n",
    "            \n",
    "    for i in range(len(answer)):\n",
    "        if answer[i] == location:\n",
    "            return i + 1"
   ]
  }
 ],
 "metadata": {
  "kernelspec": {
   "display_name": "Python 3",
   "language": "python",
   "name": "python3"
  },
  "language_info": {
   "codemirror_mode": {
    "name": "ipython",
    "version": 3
   },
   "file_extension": ".py",
   "mimetype": "text/x-python",
   "name": "python",
   "nbconvert_exporter": "python",
   "pygments_lexer": "ipython3",
   "version": "3.8.5"
  }
 },
 "nbformat": 4,
 "nbformat_minor": 4
}
