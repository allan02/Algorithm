{
 "cells": [
  {
   "cell_type": "markdown",
   "metadata": {},
   "source": [
    "## 16235번, 나무 재테크"
   ]
  },
  {
   "cell_type": "code",
   "execution_count": 31,
   "metadata": {},
   "outputs": [
    {
     "name": "stdout",
     "output_type": "stream",
     "text": [
      "5 2 6\n",
      "2 3 2 3 2\n",
      "2 3 2 3 2\n",
      "2 3 2 3 2\n",
      "2 3 2 3 2\n",
      "2 3 2 3 2\n",
      "2 1 3\n",
      "3 2 3\n",
      "85\n"
     ]
    }
   ],
   "source": [
    "# 3차원 배열로 해결..\n",
    "\n",
    "# 처음에 1개 배열에 나이 x, y 모두 넣고 매번 sort.. -> 시간 초과\n",
    "\n",
    "\n",
    "from collections import deque\n",
    "\n",
    "n, m, k = map(int, input().split())\n",
    "\n",
    "graph = [list(map(int, input().split())) for _ in range (n)]\n",
    "\n",
    "plant = [[5] * n for _ in range(n)]\n",
    "\n",
    "dx = (-1, -1, 0, 1, 1, 1, 0, -1)\n",
    "dy = (0, 1, 1, 1, 0, -1, -1, -1)\n",
    "\n",
    "tree = [[[] for _ in range(n)] for _ in range(n)]\n",
    "\n",
    "for _ in range(m):\n",
    "    x, y, age = map(int, input().split())\n",
    "    tree[x - 1][y - 1].append(age)\n",
    "        \n",
    "        \n",
    "count = 0\n",
    "\n",
    "for _ in range(k):\n",
    "    \n",
    "    # 봄\n",
    "    for i in range(n):\n",
    "        for j in range(n):\n",
    "            if tree[i][j]:\n",
    "                dead = []\n",
    "                alive = []\n",
    "                tree[i][j].sort(reverse = True)\n",
    "                \n",
    "                while tree[i][j]:\n",
    "                    age = tree[i][j].pop()\n",
    "                    if age <= plant[i][j]: #부등호 잘못 씀..\n",
    "                        plant[i][j] -= age\n",
    "                        alive.append(age + 1) # +1 안해줌..\n",
    "                    else:\n",
    "                        dead.append(age)\n",
    "                \n",
    "                while alive:\n",
    "                    tree[i][j].append(alive.pop())\n",
    "                   \n",
    "                while dead:\n",
    "                    plant[i][j] += (dead.pop()) // 2\n",
    "        \n",
    "    #가을\n",
    "    for i in range(n):\n",
    "        for j in range(n):\n",
    "            if tree[i][j]:\n",
    "                length = len(tree[i][j])\n",
    "                for index in range(length):\n",
    "                    age = tree[i][j][index]\n",
    "                    if age % 5 == 0:\n",
    "                        for z in range(8):\n",
    "                            nx, ny = i + dx[z], j + dy[z]\n",
    "            \n",
    "                            if not (0 <= nx < n and 0 <= ny < n):\n",
    "                                continue\n",
    "                                \n",
    "                            tree[nx][ny].append(1)\n",
    "                \n",
    "\n",
    "\n",
    "    \n",
    "    #겨울\n",
    "    for i in range(n):\n",
    "        for j in range(n):\n",
    "            plant[i][j] += graph[i][j]\n",
    "                 \n",
    "\n",
    "ans = 0\n",
    "for i in range(n):\n",
    "    for j in range(n):\n",
    "        ans += len(tree[i][j])\n",
    "\n",
    "print(ans)\n"
   ]
  },
  {
   "cell_type": "code",
   "execution_count": null,
   "metadata": {},
   "outputs": [],
   "source": [
    "5 2 6\n",
    "2 3 2 3 2\n",
    "2 3 2 3 2\n",
    "2 3 2 3 2\n",
    "2 3 2 3 2\n",
    "2 3 2 3 2\n",
    "2 1 3\n",
    "3 2 3"
   ]
  },
  {
   "cell_type": "code",
   "execution_count": 8,
   "metadata": {},
   "outputs": [
    {
     "name": "stdout",
     "output_type": "stream",
     "text": [
      "[2, 9, 1, 6, 7]\n",
      "[2, 1, 6, 7]\n",
      "[1, 2, 6, 7]\n"
     ]
    }
   ],
   "source": [
    "q = [2, 9, 1, 6, 7]\n",
    "print(q)\n",
    "del q[1]\n",
    "print(q)\n",
    "q.sort()\n",
    "print(q)"
   ]
  },
  {
   "cell_type": "code",
   "execution_count": 13,
   "metadata": {},
   "outputs": [
    {
     "name": "stdout",
     "output_type": "stream",
     "text": [
      "[5, 5, 4, 3, 1]\n"
     ]
    }
   ],
   "source": [
    "from collections import deque\n",
    "\n",
    "a = [1,3,5,4,5]\n",
    "a.sort(reverse = True)\n",
    "print(a)"
   ]
  },
  {
   "cell_type": "code",
   "execution_count": 7,
   "metadata": {},
   "outputs": [
    {
     "name": "stdout",
     "output_type": "stream",
     "text": [
      "[[], [], [], [], []]\n",
      "[[], [], [], [], []]\n",
      "[[[], [], [], [], []], [[], [2], [], [], []], [[], [], [], [], []], [[], [], [], [], []], [[], [], [], [], []]]\n",
      "2\n"
     ]
    }
   ],
   "source": [
    "a = [[] for _ in range(5)]\n",
    "b = [[] * 5 for _ in range(5)]\n",
    "c = [[[] for _ in range(5)] for _ in range(5)]\n",
    "c[1][1].append(2)\n",
    "print(a)\n",
    "print(b)\n",
    "print(c)\n",
    "print(c[1][1][0])"
   ]
  }
 ],
 "metadata": {
  "kernelspec": {
   "display_name": "Python 3",
   "language": "python",
   "name": "python3"
  },
  "language_info": {
   "codemirror_mode": {
    "name": "ipython",
    "version": 3
   },
   "file_extension": ".py",
   "mimetype": "text/x-python",
   "name": "python",
   "nbconvert_exporter": "python",
   "pygments_lexer": "ipython3",
   "version": "3.8.5"
  }
 },
 "nbformat": 4,
 "nbformat_minor": 4
}
