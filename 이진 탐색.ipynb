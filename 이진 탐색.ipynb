{
 "cells": [
  {
   "cell_type": "markdown",
   "metadata": {},
   "source": [
    "## 1, 부품 찾기"
   ]
  },
  {
   "cell_type": "code",
   "execution_count": null,
   "metadata": {},
   "outputs": [],
   "source": [
    "# 정수 -> 이진 탐색 고려, 데이터 多 -> 이진 탐색 고려."
   ]
  },
  {
   "cell_type": "code",
   "execution_count": 4,
   "metadata": {},
   "outputs": [
    {
     "name": "stdout",
     "output_type": "stream",
     "text": [
      "5\n",
      "8 4 7 9 2\n",
      "3\n",
      "5 7 9\n",
      "no yes yes "
     ]
    }
   ],
   "source": [
    "n = int(input())\n",
    "\n",
    "array1 = list(map(int, input().split()))\n",
    "\n",
    "array1.sort()\n",
    "\n",
    "m = int(input())\n",
    "\n",
    "array2 = list(map(int, input().split()))\n",
    "\n",
    "def binary_search(array, target, start, end):\n",
    "    if start > end:\n",
    "        return False\n",
    "    \n",
    "    mid = (start + end) // 2\n",
    "    \n",
    "    if target == array[mid]: # array[mid],, mid만 쓰기 X\n",
    "        return True\n",
    "    \n",
    "    elif array[mid] > target: # 등호 방향 똑바로 보기!\n",
    "        return binary_search(array, target, start, mid - 1) # return 꼭 쓰기!\n",
    "    \n",
    "    else:\n",
    "        return binary_search(array, target, mid + 1, end)\n",
    "    \n",
    "\n",
    "    \n",
    "for i in array2:\n",
    "    result = binary_search(array1, i, 0, n - 1)\n",
    "    if result: # n 쓰기 X\n",
    "        print(\"yes\", end = ' ')\n",
    "    else: \n",
    "        print(\"no\", end = ' ')\n",
    "    \n",
    "    \n",
    "# 재귀 함수 return문의 필요성"
   ]
  },
  {
   "cell_type": "markdown",
   "metadata": {},
   "source": [
    "## 2, 떡볶이 떡 만들기"
   ]
  },
  {
   "cell_type": "code",
   "execution_count": 6,
   "metadata": {},
   "outputs": [
    {
     "name": "stdout",
     "output_type": "stream",
     "text": [
      "4 6\n",
      "19 15 10 17\n",
      "15\n"
     ]
    }
   ],
   "source": [
    "n, m = map(int, input().split())\n",
    "\n",
    "array = list(map(int, input().split()))\n",
    "\n",
    "result = 0\n",
    "\n",
    "def binary_search(array, target, start, end):\n",
    "    global result # 함수 안에 정의 -> GLOBAL 변수에 유의.\n",
    "    while start <= end:\n",
    "        mid = (start + end) // 2\n",
    "        summ = 0\n",
    "        \n",
    "        for i in array:\n",
    "            if i - mid > 0: # i > mid\n",
    "                summ += (i - mid)\n",
    "                \n",
    "        if target > summ: # 덜 자른 경우\n",
    "            end = mid - 1\n",
    "\n",
    "        else:\n",
    "            result = mid\n",
    "            start = mid + 1\n",
    "\n",
    "\n",
    "binary_search(array, m, 0, max(array))\n",
    "\n",
    "print(result)\n",
    "\n"
   ]
  },
  {
   "cell_type": "code",
   "execution_count": 6,
   "metadata": {},
   "outputs": [
    {
     "name": "stdout",
     "output_type": "stream",
     "text": [
      "8\n"
     ]
    }
   ],
   "source": [
    "array = [1, 2, 8, 4, 5]\n",
    "print(max(array))"
   ]
  },
  {
   "cell_type": "code",
   "execution_count": null,
   "metadata": {},
   "outputs": [],
   "source": []
  }
 ],
 "metadata": {
  "kernelspec": {
   "display_name": "Python 3",
   "language": "python",
   "name": "python3"
  },
  "language_info": {
   "codemirror_mode": {
    "name": "ipython",
    "version": 3
   },
   "file_extension": ".py",
   "mimetype": "text/x-python",
   "name": "python",
   "nbconvert_exporter": "python",
   "pygments_lexer": "ipython3",
   "version": "3.8.5"
  }
 },
 "nbformat": 4,
 "nbformat_minor": 4
}
