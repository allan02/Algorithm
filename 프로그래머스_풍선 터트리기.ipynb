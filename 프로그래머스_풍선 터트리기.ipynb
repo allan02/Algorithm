{
 "cells": [
  {
   "cell_type": "code",
   "execution_count": 8,
   "metadata": {},
   "outputs": [
    {
     "name": "stdout",
     "output_type": "stream",
     "text": [
      "3\n"
     ]
    }
   ],
   "source": [
    "array = [1,2,3,4,5]\n",
    "def sol(arr):\n",
    "    print(arr)\n",
    "\n",
    "sol(array.pop(2))"
   ]
  },
  {
   "cell_type": "code",
   "execution_count": null,
   "metadata": {},
   "outputs": [],
   "source": [
    "# 시간 초과\n",
    "from itertools import combinations\n",
    "\n",
    "def solution(a):\n",
    "    answer = []\n",
    "    array = list(combinations(a, 2))\n",
    "    \n",
    "    def sol(balloon, arr, num):\n",
    "        if len(balloon) == 1:\n",
    "            answer.append(balloon[0])\n",
    "            return\n",
    "        \n",
    "        for k in arr:\n",
    "            if num == 0: # 더 작은 풍선 터트리기 가능\n",
    "                temp1 = min(k)\n",
    "                if temp1 in balloon:\n",
    "                    balloon.remove(temp1)\n",
    "                    sol(balloon, arr, 1)\n",
    "                    balloon.append(temp1)\n",
    "\n",
    "                temp2 = max(k)\n",
    "                if temp2 in balloon:\n",
    "                    balloon.remove(temp2)\n",
    "                    sol(balloon, arr, num)\n",
    "                    balloon.append(temp2)\n",
    "\n",
    "            else:\n",
    "                temp2 = max(k)\n",
    "                if temp2 in balloon:\n",
    "                    balloon.remove(temp2)\n",
    "                    sol(balloon, arr, 1)\n",
    "                    balloon.append(temp2)\n",
    "\n",
    "    sol(a, array, 0)\n",
    "    return len(set(array))"
   ]
  },
  {
   "cell_type": "code",
   "execution_count": 9,
   "metadata": {},
   "outputs": [],
   "source": [
    "def solution(a):\n",
    "    answer = 2\n",
    "    length = len(a)\n",
    "    \n",
    "    array_l = [a[0]]\n",
    "    array_r = [a[-1]]\n",
    "    \n",
    "    for i in range(1, length):\n",
    "        if array_l[-1] > a[i]:\n",
    "            array_l.append(a[i])\n",
    "        else:\n",
    "            array_l.append(array_l[-1])\n",
    "            \n",
    "        if array_r[-1] > a[length - 1 - i]:\n",
    "            array_r.append(a[length - 1 - i])\n",
    "        else:\n",
    "            array_r.append(array_r[-1])\n",
    "            \n",
    "    array_r.reverse()\n",
    "    for k in range(1, length - 1):\n",
    "        if array_l[k - 1] < a[k] and array_r[k + 1] < a[k]:\n",
    "            continue\n",
    "        else:\n",
    "            answer += 1\n",
    "        \n",
    "        \n",
    "    return answer"
   ]
  }
 ],
 "metadata": {
  "kernelspec": {
   "display_name": "Python 3",
   "language": "python",
   "name": "python3"
  },
  "language_info": {
   "codemirror_mode": {
    "name": "ipython",
    "version": 3
   },
   "file_extension": ".py",
   "mimetype": "text/x-python",
   "name": "python",
   "nbconvert_exporter": "python",
   "pygments_lexer": "ipython3",
   "version": "3.8.5"
  }
 },
 "nbformat": 4,
 "nbformat_minor": 4
}
