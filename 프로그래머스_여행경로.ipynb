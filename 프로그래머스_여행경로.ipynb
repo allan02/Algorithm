{
 "cells": [
  {
   "cell_type": "code",
   "execution_count": 2,
   "metadata": {},
   "outputs": [
    {
     "name": "stdout",
     "output_type": "stream",
     "text": [
      "defaultdict(<class 'list'>, {})\n"
     ]
    }
   ],
   "source": [
    "from collections import defaultdict\n",
    "\n",
    "routes = defaultdict()\n",
    "print(routes)"
   ]
  },
  {
   "cell_type": "code",
   "execution_count": 3,
   "metadata": {},
   "outputs": [],
   "source": [
    "from collections import defaultdict\n",
    "\n",
    "def solution(tickets):\n",
    "    answer = []\n",
    "    routes = defaultdict(list)\n",
    "    for x, y in tickets:\n",
    "        routes[x].append(y)\n",
    "    for x in routes:\n",
    "        routes[x].sort(reverse = True)\n",
    "    stack = ['ICN']\n",
    "    path = []\n",
    "    while stack:\n",
    "        top = stack[-1]\n",
    "        if top in routes and routes[top]:\n",
    "            stack.append(routes[top].pop())\n",
    "        else:\n",
    "            path.append(stack.pop())\n",
    "            \n",
    "    return path[::-1]"
   ]
  },
  {
   "cell_type": "code",
   "execution_count": null,
   "metadata": {},
   "outputs": [],
   "source": []
  }
 ],
 "metadata": {
  "kernelspec": {
   "display_name": "Python 3",
   "language": "python",
   "name": "python3"
  },
  "language_info": {
   "codemirror_mode": {
    "name": "ipython",
    "version": 3
   },
   "file_extension": ".py",
   "mimetype": "text/x-python",
   "name": "python",
   "nbconvert_exporter": "python",
   "pygments_lexer": "ipython3",
   "version": "3.8.5"
  }
 },
 "nbformat": 4,
 "nbformat_minor": 4
}
