{
 "cells": [
  {
   "cell_type": "code",
   "execution_count": 32,
   "metadata": {},
   "outputs": [
    {
     "name": "stdout",
     "output_type": "stream",
     "text": [
      "10 10\n",
      "1 6 3 2 7 9 8 4 10 5\n",
      "14\n"
     ]
    }
   ],
   "source": [
    "from collections import deque\n",
    "n, m = map(int, input().split())\n",
    "q = deque()\n",
    "for i in range(1, n + 1):\n",
    "    q.append(i)\n",
    "array = list(map(int, input().split()))\n",
    "\n",
    "answer = 0\n",
    "\n",
    "for i in array:\n",
    "    for j in range(len(q)):\n",
    "        #print(j, q[j], i)\n",
    "        #print(q)\n",
    "        if q[j] == i:\n",
    "            a = j\n",
    "            b = len(q) - j\n",
    "            if a > b:\n",
    "                answer += b\n",
    "                q.rotate(b)\n",
    "                q.popleft()\n",
    "            else:\n",
    "                answer += a\n",
    "                q.rotate(-a)\n",
    "                q.popleft()\n",
    "            #print(q)\n",
    "            #print(\"a, b\",a, b)\n",
    "            break\n",
    "print(answer)"
   ]
  },
  {
   "cell_type": "code",
   "execution_count": null,
   "metadata": {},
   "outputs": [],
   "source": []
  },
  {
   "cell_type": "code",
   "execution_count": 14,
   "metadata": {},
   "outputs": [
    {
     "name": "stdout",
     "output_type": "stream",
     "text": [
      "deque([1, 2, 3, 4, 5])\n",
      "deque([2, 3, 4, 5, 1])\n",
      "deque([5, 1, 2, 3, 4])\n",
      "deque([5, 1, 2, 3, 4])\n"
     ]
    }
   ],
   "source": [
    "from collections import deque\n",
    "array = deque([1,2,3,4,5])\n",
    "print(array)\n",
    "array.rotate(-1)\n",
    "print(array)\n",
    "array.rotate(2)\n",
    "print(array)\n",
    "array.rotate(0)\n",
    "print(array)"
   ]
  },
  {
   "cell_type": "code",
   "execution_count": null,
   "metadata": {},
   "outputs": [],
   "source": []
  }
 ],
 "metadata": {
  "kernelspec": {
   "display_name": "Python 3",
   "language": "python",
   "name": "python3"
  },
  "language_info": {
   "codemirror_mode": {
    "name": "ipython",
    "version": 3
   },
   "file_extension": ".py",
   "mimetype": "text/x-python",
   "name": "python",
   "nbconvert_exporter": "python",
   "pygments_lexer": "ipython3",
   "version": "3.8.5"
  }
 },
 "nbformat": 4,
 "nbformat_minor": 4
}
