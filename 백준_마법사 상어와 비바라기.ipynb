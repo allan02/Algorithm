{
 "cells": [
  {
   "cell_type": "code",
   "execution_count": 4,
   "metadata": {},
   "outputs": [
    {
     "name": "stdout",
     "output_type": "stream",
     "text": [
      "5 8\n",
      "100 100 100 100 100\n",
      "100 100 100 100 100\n",
      "100 100 100 100 100\n",
      "100 100 100 100 100\n",
      "100 100 100 100 100\n",
      "8 1\n",
      "7 1\n",
      "6 1\n",
      "5 1\n",
      "4 1\n",
      "3 1\n",
      "2 1\n",
      "1 1\n",
      "2657\n"
     ]
    }
   ],
   "source": [
    "from collections import deque\n",
    "\n",
    "n, m = map(int, input().split())\n",
    "\n",
    "dx = [0, -1, -1, -1, 0, 1, 1, 1]\n",
    "dy = [-1, -1, 0, 1, 1, 1, 0, -1]\n",
    "\n",
    "array = []\n",
    "\n",
    "for _ in range(n):\n",
    "    array.append(list(map(int, input().split())))\n",
    "    \n",
    "q = deque()\n",
    "\n",
    "q.append((n - 1, 0))\n",
    "q.append((n - 1, 1))\n",
    "q.append((n - 2, 0))\n",
    "q.append((n - 2, 1))\n",
    "\n",
    "for _ in range(m):\n",
    "    d, s = map(int, input().split())\n",
    "    while s != 0:\n",
    "        for _ in range(len(q)):\n",
    "            x, y = q.popleft()\n",
    "            nx = x + dx[d - 1]\n",
    "            ny = y + dy[d - 1]\n",
    "            \n",
    "            if nx >= n:\n",
    "                nx -= n\n",
    "                \n",
    "            if ny >= n:\n",
    "                ny -= n\n",
    "                \n",
    "            if nx < 0:\n",
    "                nx += n\n",
    "                \n",
    "            if ny < 0:\n",
    "                ny += n\n",
    "            \n",
    "            q.append((nx, ny))\n",
    "            \n",
    "        s -= 1\n",
    "    \n",
    "    check = []\n",
    "    \n",
    "    while q:\n",
    "        x, y = q.popleft()\n",
    "        \n",
    "        array[x][y] += 1\n",
    "        \n",
    "        check.append((x, y))\n",
    "        \n",
    "    for x, y in check:\n",
    "        count = 0\n",
    "        \n",
    "        for k in range(1, 8, 2):\n",
    "            nx = x + dx[k]\n",
    "            ny = y + dy[k]\n",
    "            \n",
    "            if 0 <= nx < n and 0 <= ny < n and array[nx][ny] > 0:\n",
    "                count += 1\n",
    "        \n",
    "        array[x][y] += count\n",
    "        \n",
    "    for i in range(n):\n",
    "        for j in range(n):\n",
    "            if array[i][j] >= 2:\n",
    "                if (i, j) in check:\n",
    "                    continue\n",
    "                else:\n",
    "                    q.append((i, j))\n",
    "                    array[i][j] -= 2\n",
    "                \n",
    "answer = 0\n",
    "\n",
    "for i in range(n):\n",
    "    for j in range(n):\n",
    "        answer += array[i][j]\n",
    "        \n",
    "print(answer)"
   ]
  },
  {
   "cell_type": "code",
   "execution_count": 12,
   "metadata": {},
   "outputs": [
    {
     "name": "stdout",
     "output_type": "stream",
     "text": [
      "[(2, 3)]\n",
      "있다1\n"
     ]
    }
   ],
   "source": [
    "temp = []\n",
    "\n",
    "temp.append((2, 3))\n",
    "\n",
    "print(temp)\n",
    "\n",
    "if (2, 3) in temp:\n",
    "    print(\"있다1\")\n",
    "    \n",
    "if (3, 4) in temp:\n",
    "    print(\"있다2\")"
   ]
  },
  {
   "cell_type": "code",
   "execution_count": 17,
   "metadata": {},
   "outputs": [
    {
     "name": "stdout",
     "output_type": "stream",
     "text": [
      "1\n",
      "3\n",
      "5\n",
      "7\n"
     ]
    }
   ],
   "source": [
    "for k in range(1, 8, 2):\n",
    "    print(k)"
   ]
  }
 ],
 "metadata": {
  "kernelspec": {
   "display_name": "Python 3",
   "language": "python",
   "name": "python3"
  },
  "language_info": {
   "codemirror_mode": {
    "name": "ipython",
    "version": 3
   },
   "file_extension": ".py",
   "mimetype": "text/x-python",
   "name": "python",
   "nbconvert_exporter": "python",
   "pygments_lexer": "ipython3",
   "version": "3.8.5"
  }
 },
 "nbformat": 4,
 "nbformat_minor": 4
}
