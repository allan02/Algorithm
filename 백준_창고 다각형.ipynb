{
 "cells": [
  {
   "cell_type": "code",
   "execution_count": 3,
   "metadata": {},
   "outputs": [
    {
     "name": "stdout",
     "output_type": "stream",
     "text": [
      "7\n",
      "2 4\n",
      "11 4\n",
      "15 8\n",
      "4 6\n",
      "5 3\n",
      "8 10\n",
      "13 6\n",
      "98\n"
     ]
    }
   ],
   "source": [
    "n = int(input())\n",
    "\n",
    "m_index = -1\n",
    "m_max = -1\n",
    "\n",
    "array = [0] * 1001\n",
    "\n",
    "for _ in range(n):\n",
    "    l, h = map(int, input().split())\n",
    "    \n",
    "    array[l] = h\n",
    "    \n",
    "    if m_max < h:\n",
    "        m_index = l\n",
    "        m_max = h\n",
    "    \n",
    "now = 0\n",
    "answer = 0\n",
    "\n",
    "for i in range(1, m_index):\n",
    "    if array[i] >= now:\n",
    "        now = array[i]\n",
    "    answer += now\n",
    "    \n",
    "now = 0\n",
    "\n",
    "for i in range(1000, m_index, -1):\n",
    "    if array[i] >= now:\n",
    "        now = array[i]\n",
    "    answer += now\n",
    "    \n",
    "print(answer + array[m_index])\n",
    "    \n",
    "    "
   ]
  },
  {
   "cell_type": "code",
   "execution_count": 1,
   "metadata": {},
   "outputs": [
    {
     "name": "stdout",
     "output_type": "stream",
     "text": [
      "1\n",
      "2\n",
      "5\n",
      "4\n"
     ]
    }
   ],
   "source": [
    "for i in range(1, 3):\n",
    "    print(i)\n",
    "    \n",
    "for i in range(5, 3, -1):\n",
    "    print(i)"
   ]
  }
 ],
 "metadata": {
  "kernelspec": {
   "display_name": "Python 3",
   "language": "python",
   "name": "python3"
  },
  "language_info": {
   "codemirror_mode": {
    "name": "ipython",
    "version": 3
   },
   "file_extension": ".py",
   "mimetype": "text/x-python",
   "name": "python",
   "nbconvert_exporter": "python",
   "pygments_lexer": "ipython3",
   "version": "3.8.5"
  }
 },
 "nbformat": 4,
 "nbformat_minor": 4
}
