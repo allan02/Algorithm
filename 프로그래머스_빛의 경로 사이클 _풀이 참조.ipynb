{
 "cells": [
  {
   "cell_type": "code",
   "execution_count": 1,
   "metadata": {},
   "outputs": [],
   "source": [
    "dx = [1,0,-1,0]\n",
    "dy = [0,-1,0,1]\n",
    "\n",
    "def solution(grid):\n",
    "    global visited,n,m\n",
    "    n = len(grid)\n",
    "    m = len(grid[0])\n",
    "    answer = []\n",
    "    visited = [[[False]*4 for _ in range(m)] for _ in range(n)]\n",
    "    for sx in range(n):\n",
    "        for sy in range(m):\n",
    "            for d in range(4):\n",
    "                if not visited[sx][sy][d]:\n",
    "                    rst = simul(sx,sy,d,grid)\n",
    "                    if rst != 0:\n",
    "                        answer.append(rst)\n",
    "    answer.sort()\n",
    "    return answer\n",
    "\n",
    "def simul(sx,sy,sd,grid):\n",
    "    global visited\n",
    "    x,y,d=sx,sy,sd\n",
    "    cnt = 0\n",
    "    visited[sx][sy][sd] = True\n",
    "    while True:\n",
    "        x = (x + dx[d]) % n\n",
    "        y = (y + dy[d]) % m\n",
    "        cnt += 1\n",
    "\n",
    "        if grid[x][y] == 'R':\n",
    "            d = (d+1)%4\n",
    "        elif grid[x][y] == 'L':\n",
    "            d = (d-1)%4\n",
    "        if visited[x][y][d]:\n",
    "            if (x,y,d) == (sx,sy,sd):\n",
    "                return cnt\n",
    "            else:\n",
    "                return 0\n",
    "        visited[x][y][d] = True"
   ]
  }
 ],
 "metadata": {
  "kernelspec": {
   "display_name": "Python 3",
   "language": "python",
   "name": "python3"
  },
  "language_info": {
   "codemirror_mode": {
    "name": "ipython",
    "version": 3
   },
   "file_extension": ".py",
   "mimetype": "text/x-python",
   "name": "python",
   "nbconvert_exporter": "python",
   "pygments_lexer": "ipython3",
   "version": "3.8.5"
  }
 },
 "nbformat": 4,
 "nbformat_minor": 4
}
