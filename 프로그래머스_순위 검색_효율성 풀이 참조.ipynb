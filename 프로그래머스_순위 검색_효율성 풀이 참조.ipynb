{
 "cells": [
  {
   "cell_type": "code",
   "execution_count": 1,
   "metadata": {},
   "outputs": [
    {
     "name": "stdout",
     "output_type": "stream",
     "text": [
      "java\n",
      "backend\n",
      "junior\n",
      "pizza\n",
      "150\n"
     ]
    }
   ],
   "source": [
    "a = \"java backend junior pizza 150\"\n",
    "\n",
    "for i in a.split():\n",
    "    print(i)"
   ]
  },
  {
   "cell_type": "code",
   "execution_count": null,
   "metadata": {},
   "outputs": [],
   "source": []
  },
  {
   "cell_type": "code",
   "execution_count": 10,
   "metadata": {},
   "outputs": [
    {
     "name": "stdout",
     "output_type": "stream",
     "text": [
      "[1, 1, 1, 1, 2, 4]\n"
     ]
    }
   ],
   "source": [
    "# 정확성만 통과\n",
    "\n",
    "from collections import deque\n",
    "\n",
    "def solution(info, query):\n",
    "    answer = []\n",
    "    q = deque(query)\n",
    "    while q:\n",
    "        a, b, c, d, e, f, g, h = q.popleft().split()\n",
    "        qu = deque(info)\n",
    "        temp = 0\n",
    "        while qu:\n",
    "            aa, bb, cc, dd, ee = qu.popleft().split()\n",
    "            if (a == aa or a == \"-\") and (c == bb or c == \"-\") and (e == cc or e == \"-\") and (g == dd or g == \"-\") and (int(h) <= int(ee)): # int가 아니다!\n",
    "                #print(h,\"<=\", ee)\n",
    "                #print(a, c, e, g, h)\n",
    "                #print(aa, bb, cc, dd, ee)\n",
    "                #print(\"-----\")\n",
    "                temp += 1\n",
    "        answer.append(temp)\n",
    "    \n",
    "    return answer\n",
    "\n",
    "print(solution([\"java backend junior pizza 150\",\"python frontend senior chicken 210\",\"python frontend senior chicken 150\",\"cpp backend senior pizza 260\",\"java backend junior chicken 80\",\"python backend senior chicken 50\"], [\"java and backend and junior and pizza 100\",\"python and frontend and senior and chicken 200\",\"cpp and - and senior and pizza 250\",\"- and backend and senior and - 150\",\"- and - and - and chicken 100\",\"- and - and - and - 150\"]))"
   ]
  },
  {
   "cell_type": "code",
   "execution_count": 6,
   "metadata": {},
   "outputs": [
    {
     "name": "stdout",
     "output_type": "stream",
     "text": [
      "True\n"
     ]
    }
   ],
   "source": [
    "print('-' == \"-\")"
   ]
  },
  {
   "cell_type": "code",
   "execution_count": null,
   "metadata": {},
   "outputs": [],
   "source": []
  },
  {
   "cell_type": "code",
   "execution_count": 11,
   "metadata": {},
   "outputs": [],
   "source": [
    "from itertools import combinations\n",
    "from bisect import bisect_left\n",
    "\n",
    "\n",
    "def solution(info, query):\n",
    "    answer = []\n",
    "    info_dict = {}\n",
    "\n",
    "    for i in range(len(info)):\n",
    "        infol = info[i].split()  # info안의 문자열을 공백을 기준으로 분리\n",
    "        mykey = infol[:-1]  # info의 점수제외부분을 key로 분류\n",
    "        myval = infol[-1]  # info의 점수부분을 value로 분류\n",
    "\n",
    "        for j in range(5):  # key들로 만들 수 있는 모든 조합 생성\n",
    "            for c in combinations(mykey, j):\n",
    "                tmp = ''.join(c)\n",
    "                if tmp in info_dict:\n",
    "                    info_dict[tmp].append(int(myval))  # 그 조합의 key값에 점수 추가\n",
    "                else:\n",
    "                    info_dict[tmp] = [int(myval)]\n",
    "\n",
    "    for k in info_dict:\n",
    "        info_dict[k].sort()  # dict안의 조합들을 점수순으로 정렬\n",
    "\n",
    "    for qu in query:  # query도 마찬가지로 key와 value로 분리\n",
    "        myqu = qu.split(' ')\n",
    "        qu_key = myqu[:-1]\n",
    "        qu_val = myqu[-1]\n",
    "\n",
    "        while 'and' in qu_key:  # and 제거\n",
    "            qu_key.remove('and')\n",
    "        while '-' in qu_key:  # - 제거\n",
    "            qu_key.remove('-')\n",
    "        qu_key = ''.join(qu_key)  # dict의 key처럼 문자열로 변경\n",
    "\n",
    "        if qu_key in info_dict:  # query의 key가 info_dict의 key로 존재하면\n",
    "            scores = info_dict[qu_key]\n",
    "\n",
    "            if scores:  # score리스트에 값이 존재하면\n",
    "                enter = bisect_left(scores, int(qu_val))\n",
    "\n",
    "                answer.append(len(scores) - enter)\n",
    "        else:\n",
    "            answer.append(0)\n",
    "\n",
    "    return answer"
   ]
  },
  {
   "cell_type": "code",
   "execution_count": null,
   "metadata": {},
   "outputs": [],
   "source": []
  }
 ],
 "metadata": {
  "kernelspec": {
   "display_name": "Python 3",
   "language": "python",
   "name": "python3"
  },
  "language_info": {
   "codemirror_mode": {
    "name": "ipython",
    "version": 3
   },
   "file_extension": ".py",
   "mimetype": "text/x-python",
   "name": "python",
   "nbconvert_exporter": "python",
   "pygments_lexer": "ipython3",
   "version": "3.8.5"
  }
 },
 "nbformat": 4,
 "nbformat_minor": 4
}
