{
 "cells": [
  {
   "cell_type": "code",
   "execution_count": null,
   "metadata": {},
   "outputs": [],
   "source": [
    "import math\n",
    "\n",
    "t = int(input())\n",
    "\n",
    "for _ in range(t):\n",
    "    x, y = map(int, input().split())\n",
    "    distance = y - x\n",
    "    count = 0\n",
    "\n",
    "    num = math.floor(math.sqrt(distance))   # n제곱 <= 거리 < (n+1)제곱일때 n제곱\n",
    "    num_square = num ** 2   # n제곱의 제곱\n",
    "    increase_num = math.sqrt(num_square)\n",
    "\n",
    "    if distance > num_square + increase_num:\n",
    "        count = 2 * num + 1\n",
    "    elif distance > num_square and distance <= num_square + increase_num:\n",
    "        count = 2 * num\n",
    "    elif distance == num_square:\n",
    "        count = 2 * num - 1\n",
    "\n",
    "    if distance < 4:\n",
    "        count = distance\n",
    "\n",
    "    print(count)"
   ]
  }
 ],
 "metadata": {
  "kernelspec": {
   "display_name": "Python 3",
   "language": "python",
   "name": "python3"
  },
  "language_info": {
   "codemirror_mode": {
    "name": "ipython",
    "version": 3
   },
   "file_extension": ".py",
   "mimetype": "text/x-python",
   "name": "python",
   "nbconvert_exporter": "python",
   "pygments_lexer": "ipython3",
   "version": "3.8.5"
  }
 },
 "nbformat": 4,
 "nbformat_minor": 4
}
