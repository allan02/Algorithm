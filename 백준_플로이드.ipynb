{
 "cells": [
  {
   "cell_type": "markdown",
   "metadata": {},
   "source": [
    "## 11404번, 플로이드"
   ]
  },
  {
   "cell_type": "code",
   "execution_count": 1,
   "metadata": {},
   "outputs": [
    {
     "name": "stdout",
     "output_type": "stream",
     "text": [
      "5\n",
      "14\n",
      "1 2 2\n",
      "1 3 3\n",
      "1 4 1\n",
      "1 5 10\n",
      "2 4 2\n",
      "3 4 1\n",
      "3 5 1\n",
      "4 5 3\n",
      "3 5 10\n",
      "3 1 8\n",
      "1 4 2\n",
      "5 1 7\n",
      "3 4 2\n",
      "5 2 4\n",
      "0 2 3 1 4 \n",
      "12 0 15 2 5 \n",
      "8 5 0 1 1 \n",
      "10 7 13 0 3 \n",
      "7 4 10 6 0 \n"
     ]
    }
   ],
   "source": [
    "n = int(input())\n",
    "\n",
    "m = int(input())\n",
    "\n",
    "array = [[int(1e9)] * (n + 1) for _ in range(n + 1)]\n",
    "\n",
    "for _ in range(m):\n",
    "    a, b, cost = map(int, input().split())\n",
    "    array[a][b] = min(array[a][b], cost)\n",
    "    \n",
    "for i in range(1, n + 1): # 자기 자신으로 가는 경로 초기화! 꼭 확인!\n",
    "    for j in range(1, n + 1):\n",
    "        if i == j:\n",
    "            array[i][j] = 0\n",
    "    \n",
    "\n",
    "for k in range(1, n + 1): # 왜 순서를 바꾸면 답이 다를까?\n",
    "    for i in range(1, n + 1):\n",
    "        for j in range(1, n + 1):\n",
    "            array[i][j] = min(array[i][j], array[i][k] + array[k][j])\n",
    "            \n",
    "for i in range(1, n + 1):\n",
    "    for j in range(1, n + 1):\n",
    "        if array[i][j] == int(1e9):\n",
    "            print(0, end = ' ')\n",
    "        else: \n",
    "            print(array[i][j], end = ' ')\n",
    "    print()\n",
    "    \n",
    "    "
   ]
  },
  {
   "cell_type": "code",
   "execution_count": null,
   "metadata": {},
   "outputs": [],
   "source": []
  },
  {
   "cell_type": "code",
   "execution_count": null,
   "metadata": {},
   "outputs": [],
   "source": []
  }
 ],
 "metadata": {
  "kernelspec": {
   "display_name": "Python 3",
   "language": "python",
   "name": "python3"
  },
  "language_info": {
   "codemirror_mode": {
    "name": "ipython",
    "version": 3
   },
   "file_extension": ".py",
   "mimetype": "text/x-python",
   "name": "python",
   "nbconvert_exporter": "python",
   "pygments_lexer": "ipython3",
   "version": "3.8.5"
  }
 },
 "nbformat": 4,
 "nbformat_minor": 4
}
