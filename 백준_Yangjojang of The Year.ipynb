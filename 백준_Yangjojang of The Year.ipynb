{
 "cells": [
  {
   "cell_type": "code",
   "execution_count": 3,
   "metadata": {},
   "outputs": [
    {
     "name": "stdout",
     "output_type": "stream",
     "text": [
      "2\n",
      "3\n",
      "Yonsei 10\n",
      "Korea 10000000\n",
      "Ewha 20\n",
      "Korea\n",
      "2\n",
      "Yonsei 1\n",
      "Korea 10000000\n",
      "Korea\n"
     ]
    }
   ],
   "source": [
    "t = int(input())\n",
    "for _ in range(t):\n",
    "    n = int(input())\n",
    "    array1 = []\n",
    "    array2 = []\n",
    "    for _ in range(n):\n",
    "        a, b = input().split()\n",
    "        array1.append(a)\n",
    "        array2.append(int(b))\n",
    "    ans = array2.index(max(array2))\n",
    "    print(array1[ans])\n",
    "        "
   ]
  }
 ],
 "metadata": {
  "kernelspec": {
   "display_name": "Python 3",
   "language": "python",
   "name": "python3"
  },
  "language_info": {
   "codemirror_mode": {
    "name": "ipython",
    "version": 3
   },
   "file_extension": ".py",
   "mimetype": "text/x-python",
   "name": "python",
   "nbconvert_exporter": "python",
   "pygments_lexer": "ipython3",
   "version": "3.8.5"
  }
 },
 "nbformat": 4,
 "nbformat_minor": 4
}
