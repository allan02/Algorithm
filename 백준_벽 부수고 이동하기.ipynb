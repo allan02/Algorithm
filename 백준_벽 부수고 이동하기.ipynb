{
 "cells": [
  {
   "cell_type": "code",
   "execution_count": 1,
   "metadata": {},
   "outputs": [
    {
     "name": "stdout",
     "output_type": "stream",
     "text": [
      "5 10\n",
      "0000011000\n",
      "1101011010\n",
      "0000000010\n",
      "1111111110\n",
      "1111000000\n",
      "-1\n"
     ]
    }
   ],
   "source": [
    "import sys\n",
    "from collections import deque\n",
    "\n",
    "input = sys.stdin.readline\n",
    "N, M = map(int, input().split())\n",
    "board = [list(map(int, input().rstrip())) for _ in range(N)]\n",
    "visited = [[[0] * 2 for _ in range(M)] for _ in range(N)]\n",
    "dir = [[-1, 0], [1, 0], [0, -1], [0, 1]]\n",
    "ans = 0\n",
    "\n",
    "\n",
    "def bfs():\n",
    "    q = deque([(0, 0, 0)])\n",
    "    visited[0][0][0] = 1\n",
    "\n",
    "    while q:\n",
    "        r, c, wall = q.popleft()\n",
    "        # 도착 시 멈추기\n",
    "        if r == N - 1 and c == M - 1:\n",
    "            return visited[r][c][wall]\n",
    "\n",
    "        for i in range(4):\n",
    "            nr = r + dir[i][0]\n",
    "            nc = c + dir[i][1]\n",
    "            # 맵 범위 안에 있고, 한 번도 방문하지 않았으면\n",
    "            if 0 <= nr < N and 0 <= nc < M and visited[nr][nc][wall] == 0:\n",
    "                # 벽이 아니라면 이동하고, 이전경로 + 1 visited 배열에 저장\n",
    "                if board[nr][nc] == 0:\n",
    "                    q.append((nr, nc, wall))\n",
    "                    visited[nr][nc][wall] = visited[r][c][wall] + 1\n",
    "                \n",
    "                # 벽 1번도 안 부쉈고, 다음 이동할 곳이 벽이라면\n",
    "                if wall == 0 and board[nr][nc] == 1:\n",
    "                    # 벽을 부순 상태를 1로 표현\n",
    "                    q.append((nr, nc, 1))\n",
    "                    # 벽 부순 상태의 visited[nr][nc][1]에 이전경로 + 1 저장\n",
    "                    visited[nr][nc][1] = visited[r][c][wall] + 1\n",
    "\n",
    "    return -1\n",
    "\n",
    "\n",
    "print(bfs())"
   ]
  }
 ],
 "metadata": {
  "kernelspec": {
   "display_name": "Python 3",
   "language": "python",
   "name": "python3"
  },
  "language_info": {
   "codemirror_mode": {
    "name": "ipython",
    "version": 3
   },
   "file_extension": ".py",
   "mimetype": "text/x-python",
   "name": "python",
   "nbconvert_exporter": "python",
   "pygments_lexer": "ipython3",
   "version": "3.8.5"
  }
 },
 "nbformat": 4,
 "nbformat_minor": 4
}
