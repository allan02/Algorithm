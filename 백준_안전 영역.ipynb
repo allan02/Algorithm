{
 "cells": [
  {
   "cell_type": "code",
   "execution_count": 7,
   "metadata": {},
   "outputs": [
    {
     "name": "stdout",
     "output_type": "stream",
     "text": [
      "7\n",
      "9 9 9 9 9 9 9\n",
      "9 2 1 2 1 2 9\n",
      "9 1 8 7 8 1 9\n",
      "9 2 7 9 7 2 9\n",
      "9 1 8 7 8 1 9\n",
      "9 2 1 2 1 2 9\n",
      "9 9 9 9 9 9 9\n",
      "6\n"
     ]
    }
   ],
   "source": [
    "from collections import deque\n",
    "import copy\n",
    "\n",
    "n = int(input())\n",
    "array = []\n",
    "depth = -1\n",
    "answer = -1\n",
    "\n",
    "dx = [-1, 1, 0, 0]\n",
    "dy = [0, 0, 1, -1]\n",
    "\n",
    "for i in range(n):\n",
    "    temp = list(map(int, input().split()))\n",
    "    depth = max(depth, max(temp))\n",
    "    array.append(temp)\n",
    "    \n",
    "for i in range(depth):\n",
    "    now = copy.deepcopy(array)\n",
    "    now_ans = 0\n",
    "    \n",
    "    for x in range(n):\n",
    "        for y in range(n):\n",
    "            if now[x][y] <= i:\n",
    "                now[x][y] = 0\n",
    "                \n",
    "    q = deque()\n",
    "                \n",
    "    for xx in range(n):\n",
    "        for yy in range(n):\n",
    "            if now[xx][yy] != 0:\n",
    "                now_ans += 1\n",
    "                now[xx][yy] = 0\n",
    "                q.append((xx, yy))\n",
    "                \n",
    "                while q:\n",
    "                    now_x, now_y = q.popleft()\n",
    "                    for k in range(4):\n",
    "                        nx = now_x + dx[k]\n",
    "                        ny = now_y + dy[k]\n",
    "                        if 0 <= nx < n and 0 <= ny < n and now[nx][ny] != 0:\n",
    "                            now[nx][ny] = 0\n",
    "                            q.append((nx, ny))\n",
    "                            \n",
    "    answer = max(answer, now_ans)\n",
    "    \n",
    "\n",
    "print(answer)\n",
    "                    \n",
    "                \n",
    "                \n",
    "    \n",
    "    \n",
    "    "
   ]
  }
 ],
 "metadata": {
  "kernelspec": {
   "display_name": "Python 3",
   "language": "python",
   "name": "python3"
  },
  "language_info": {
   "codemirror_mode": {
    "name": "ipython",
    "version": 3
   },
   "file_extension": ".py",
   "mimetype": "text/x-python",
   "name": "python",
   "nbconvert_exporter": "python",
   "pygments_lexer": "ipython3",
   "version": "3.8.5"
  }
 },
 "nbformat": 4,
 "nbformat_minor": 4
}
