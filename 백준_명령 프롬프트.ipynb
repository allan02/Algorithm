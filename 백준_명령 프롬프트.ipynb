{
 "cells": [
  {
   "cell_type": "code",
   "execution_count": 5,
   "metadata": {},
   "outputs": [
    {
     "name": "stdout",
     "output_type": "stream",
     "text": [
      "2\n",
      "contest.txt\n",
      "context.txt\n",
      "conte?t.txt\n"
     ]
    }
   ],
   "source": [
    "n = int(input())\n",
    "\n",
    "temp = ''\n",
    "\n",
    "array = []\n",
    "\n",
    "for _ in range(n):\n",
    "    s = input()\n",
    "    array.append(s)\n",
    "    \n",
    "l = len(array[0])\n",
    "\n",
    "for i in range(l):\n",
    "    check = True\n",
    "    now = array[0][i]\n",
    "    for k in array:\n",
    "        if k[i] != now:\n",
    "            check = False\n",
    "            break\n",
    "    if check:\n",
    "        temp += array[0][i]\n",
    "    else:\n",
    "        temp += '?'\n",
    "        \n",
    "print(temp)\n",
    "    \n",
    "    "
   ]
  }
 ],
 "metadata": {
  "kernelspec": {
   "display_name": "Python 3",
   "language": "python",
   "name": "python3"
  },
  "language_info": {
   "codemirror_mode": {
    "name": "ipython",
    "version": 3
   },
   "file_extension": ".py",
   "mimetype": "text/x-python",
   "name": "python",
   "nbconvert_exporter": "python",
   "pygments_lexer": "ipython3",
   "version": "3.8.5"
  }
 },
 "nbformat": 4,
 "nbformat_minor": 4
}
