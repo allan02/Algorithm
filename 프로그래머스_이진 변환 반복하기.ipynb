{
 "cells": [
  {
   "cell_type": "code",
   "execution_count": 3,
   "metadata": {},
   "outputs": [
    {
     "data": {
      "text/plain": [
       "[3, 8]"
      ]
     },
     "execution_count": 3,
     "metadata": {},
     "output_type": "execute_result"
    }
   ],
   "source": [
    "def sol(n):\n",
    "    temp = ''\n",
    "    n = int(n)\n",
    "    while n != 0:\n",
    "        temp = str(n % 2) + temp\n",
    "        n = n // 2\n",
    "    return temp\n",
    "    \n",
    "\n",
    "def solution(s):\n",
    "    count = 0\n",
    "    rem = 0\n",
    "    answer = []\n",
    "    while s != '1':\n",
    "        count += 1\n",
    "        temp = \"\"\n",
    "        for i in s:\n",
    "            if i != '0':\n",
    "                temp += i\n",
    "            else:\n",
    "                rem += 1\n",
    "\n",
    "        s = len(temp)\n",
    "        s = sol(s)\n",
    "\n",
    "    return [count, rem]\n",
    "\n",
    "\n",
    "solution(\"110010101001\")"
   ]
  }
 ],
 "metadata": {
  "kernelspec": {
   "display_name": "Python 3",
   "language": "python",
   "name": "python3"
  },
  "language_info": {
   "codemirror_mode": {
    "name": "ipython",
    "version": 3
   },
   "file_extension": ".py",
   "mimetype": "text/x-python",
   "name": "python",
   "nbconvert_exporter": "python",
   "pygments_lexer": "ipython3",
   "version": "3.8.5"
  }
 },
 "nbformat": 4,
 "nbformat_minor": 4
}
