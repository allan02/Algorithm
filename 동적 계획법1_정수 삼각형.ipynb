{
 "cells": [
  {
   "cell_type": "code",
   "execution_count": 9,
   "metadata": {},
   "outputs": [
    {
     "name": "stdout",
     "output_type": "stream",
     "text": [
      "5\n",
      "7\n",
      "3 8\n",
      "8 1 0\n",
      "2 7 4 4\n",
      "4 5 2 6 5\n",
      "[[7], [3, 8], [8, 1, 0], [2, 7, 4, 4], [4, 5, 2, 6, 5]]\n",
      "30\n"
     ]
    }
   ],
   "source": [
    "n = int(input())\n",
    "\n",
    "array = []\n",
    "\n",
    "for _ in range(n):\n",
    "    array.append(list(map(int, input().split())))\n",
    "\n",
    "dp = [[0] * n for _ in range(n)]\n",
    "\n",
    "\n",
    "\n",
    "dp[0][0] = array[0][0]\n",
    "\n",
    "for i in range(1, n):\n",
    "    for j in range(i + 1):\n",
    "        if j - 1 >= 0:\n",
    "            dp[i][j] = max(dp[i][j], dp[i - 1][j - 1] + array[i][j])\n",
    "        \n",
    "        dp[i][j] = max(dp[i][j], dp[i - 1][j] + array[i][j])\n",
    "\n",
    "            \n",
    "print(max(dp[n - 1]))"
   ]
  },
  {
   "cell_type": "code",
   "execution_count": null,
   "metadata": {},
   "outputs": [],
   "source": [
    "print()"
   ]
  },
  {
   "cell_type": "code",
   "execution_count": null,
   "metadata": {},
   "outputs": [],
   "source": []
  }
 ],
 "metadata": {
  "kernelspec": {
   "display_name": "Python 3",
   "language": "python",
   "name": "python3"
  },
  "language_info": {
   "codemirror_mode": {
    "name": "ipython",
    "version": 3
   },
   "file_extension": ".py",
   "mimetype": "text/x-python",
   "name": "python",
   "nbconvert_exporter": "python",
   "pygments_lexer": "ipython3",
   "version": "3.8.5"
  }
 },
 "nbformat": 4,
 "nbformat_minor": 4
}
