{
 "cells": [
  {
   "cell_type": "code",
   "execution_count": 19,
   "metadata": {},
   "outputs": [
    {
     "name": "stdout",
     "output_type": "stream",
     "text": [
      "5 7\n",
      "0 0 0 0 0 0 0\n",
      "0 2 4 5 3 0 0\n",
      "0 3 0 2 5 2 0\n",
      "0 7 6 2 4 0 0\n",
      "0 0 0 0 0 0 0\n",
      "2\n"
     ]
    }
   ],
   "source": [
    "from collections import deque\n",
    "\n",
    "dx = [1, -1, 0, 0]\n",
    "dy = [0, 0, 1, -1]\n",
    "\n",
    "n, m = map(int, input().split())\n",
    "\n",
    "arr = []\n",
    "\n",
    "for _ in range(n):\n",
    "    arr.append(list(map(int, input().split())))\n",
    "\n",
    "answer = 0\n",
    "    \n",
    "while True:\n",
    "    \n",
    "    q = deque()\n",
    "    temp_arr = [[0] * m for _ in range(n)]\n",
    "    count = 0\n",
    "    \n",
    "    for i in range(n):\n",
    "        for j in range(m):\n",
    "            if arr[i][j] != 0 and temp_arr[i][j] == 0:\n",
    "                count += 1\n",
    "                temp_arr[i][j] = 1\n",
    "                q.append((i, j))\n",
    "                while q:\n",
    "                    x, y = q.popleft()\n",
    "                    for k in range(4):\n",
    "                        nx = x + dx[k]\n",
    "                        ny = y + dy[k]\n",
    "                        if 0 <= nx < n and 0 <= ny < m and temp_arr[nx][ny] == 0 and arr[nx][ny] != 0:\n",
    "                            temp_arr[nx][ny] = 1\n",
    "                            q.append((nx, ny))\n",
    "    if count >= 2:\n",
    "        print(answer)\n",
    "        break\n",
    "        \n",
    "\n",
    "    q = deque()\n",
    "    \n",
    "    for i in range(n):\n",
    "        for j in range(m):\n",
    "            if arr[i][j] != 0:\n",
    "                temp = 0\n",
    "                for k in range(4):\n",
    "                    nx = i + dx[k]\n",
    "                    ny = j + dy[k]\n",
    "                    if 0 <= nx < n and 0 <= ny < m and arr[nx][ny] == 0:\n",
    "                        temp += 1\n",
    "                        \n",
    "                q.append((i, j, temp))\n",
    "          \n",
    "    \n",
    "    if len(q) == 0:\n",
    "        print(0)\n",
    "        break\n",
    "        \n",
    "    while q:\n",
    "        x, y, v = q.popleft()\n",
    "        arr[x][y] -= v\n",
    "        \n",
    "        if arr[x][y] < 0:\n",
    "            arr[x][y] = 0\n",
    "        \n",
    "    answer += 1\n",
    "                    "
   ]
  },
  {
   "cell_type": "code",
   "execution_count": 3,
   "metadata": {},
   "outputs": [
    {
     "name": "stdout",
     "output_type": "stream",
     "text": [
      "[[0, 0, 0, 0, 0, 0, 0], [0, 0, 0, 0, 0, 0, 0], [0, 0, 0, 0, 0, 0, 0], [0, 0, 0, 0, 0, 0, 0], [0, 0, 0, 0, 0, 0, 0]]\n"
     ]
    }
   ],
   "source": [
    "array = [[0] * m for _ in range(n)]\n",
    "print(array)"
   ]
  }
 ],
 "metadata": {
  "kernelspec": {
   "display_name": "Python 3",
   "language": "python",
   "name": "python3"
  },
  "language_info": {
   "codemirror_mode": {
    "name": "ipython",
    "version": 3
   },
   "file_extension": ".py",
   "mimetype": "text/x-python",
   "name": "python",
   "nbconvert_exporter": "python",
   "pygments_lexer": "ipython3",
   "version": "3.8.5"
  }
 },
 "nbformat": 4,
 "nbformat_minor": 4
}
