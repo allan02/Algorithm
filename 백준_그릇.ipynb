{
 "cells": [
  {
   "cell_type": "code",
   "execution_count": 2,
   "metadata": {},
   "outputs": [
    {
     "name": "stdout",
     "output_type": "stream",
     "text": [
      "()()()))(\n",
      "80\n"
     ]
    }
   ],
   "source": [
    "s = input()\n",
    "answer = 10\n",
    "\n",
    "for i in range(1, len(s)):\n",
    "    if s[i] != s[i - 1]:\n",
    "        answer += 10\n",
    "    else:\n",
    "        answer += 5\n",
    "        \n",
    "print(answer)"
   ]
  }
 ],
 "metadata": {
  "kernelspec": {
   "display_name": "Python 3",
   "language": "python",
   "name": "python3"
  },
  "language_info": {
   "codemirror_mode": {
    "name": "ipython",
    "version": 3
   },
   "file_extension": ".py",
   "mimetype": "text/x-python",
   "name": "python",
   "nbconvert_exporter": "python",
   "pygments_lexer": "ipython3",
   "version": "3.8.5"
  }
 },
 "nbformat": 4,
 "nbformat_minor": 4
}
