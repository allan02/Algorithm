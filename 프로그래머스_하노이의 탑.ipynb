{
 "cells": [
  {
   "cell_type": "code",
   "execution_count": null,
   "metadata": {},
   "outputs": [],
   "source": [
    "answer = []\n",
    "\n",
    "def hanoi(num, fro, by, to):\n",
    "    global answer\n",
    "    if num == 1:\n",
    "        answer.append((fro, to))\n",
    "    else:\n",
    "        hanoi(num - 1, fro, to, by)\n",
    "        answer.append((fro, to))\n",
    "        hanoi(num - 1, by, fro, to)\n",
    "            \n",
    "    \n",
    "\n",
    "\n",
    "def solution(n):\n",
    "    global answer\n",
    "    hanoi(n, 1, 2, 3)\n",
    "    return answer"
   ]
  }
 ],
 "metadata": {
  "kernelspec": {
   "display_name": "Python 3",
   "language": "python",
   "name": "python3"
  },
  "language_info": {
   "codemirror_mode": {
    "name": "ipython",
    "version": 3
   },
   "file_extension": ".py",
   "mimetype": "text/x-python",
   "name": "python",
   "nbconvert_exporter": "python",
   "pygments_lexer": "ipython3",
   "version": "3.8.5"
  }
 },
 "nbformat": 4,
 "nbformat_minor": 4
}
