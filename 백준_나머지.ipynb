{
 "cells": [
  {
   "cell_type": "code",
   "execution_count": 4,
   "metadata": {},
   "outputs": [
    {
     "name": "stdout",
     "output_type": "stream",
     "text": [
      "42\n",
      "84\n",
      "252\n",
      "420\n",
      "840\n",
      "126\n",
      "42\n",
      "84\n",
      "420\n",
      "126\n",
      "1\n"
     ]
    }
   ],
   "source": [
    "#import sys\n",
    "#input = sys.stdin.readline\n",
    "answer = set()\n",
    "for _ in range(10):\n",
    "    n = int(input())\n",
    "    answer.add(n % 42)\n",
    "print(len(answer))"
   ]
  }
 ],
 "metadata": {
  "kernelspec": {
   "display_name": "Python 3",
   "language": "python",
   "name": "python3"
  },
  "language_info": {
   "codemirror_mode": {
    "name": "ipython",
    "version": 3
   },
   "file_extension": ".py",
   "mimetype": "text/x-python",
   "name": "python",
   "nbconvert_exporter": "python",
   "pygments_lexer": "ipython3",
   "version": "3.8.5"
  }
 },
 "nbformat": 4,
 "nbformat_minor": 4
}
