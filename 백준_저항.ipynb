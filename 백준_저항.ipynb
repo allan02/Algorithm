{
 "cells": [
  {
   "cell_type": "code",
   "execution_count": 3,
   "metadata": {},
   "outputs": [
    {
     "name": "stdout",
     "output_type": "stream",
     "text": [
      "orange\n",
      "red\n",
      "blue\n",
      "32000000\n"
     ]
    }
   ],
   "source": [
    "array = []\n",
    "\n",
    "array.append([\"black\", 0, 1])\n",
    "array.append([\"brown\", 1, 10])\n",
    "array.append([\"red\", 2, 100])\n",
    "array.append([\"orange\", 3, 1000])\n",
    "array.append([\"yellow\", 4, 10000])\n",
    "array.append([\"green\", 5, 100000])\n",
    "array.append([\"blue\", 6, 1000000])\n",
    "array.append([\"violet\", 7, 10000000])\n",
    "array.append([\"grey\", 8, 100000000])\n",
    "array.append([\"white\", 9, 1000000000])\n",
    "\n",
    "answer = ''\n",
    "\n",
    "for _ in range(2):\n",
    "    s = input()\n",
    "    for i in array:\n",
    "        #print(i[1])\n",
    "        if i[0] == s:\n",
    "            answer += str(i[1])\n",
    "            break\n",
    "            \n",
    "s = input()\n",
    "\n",
    "for i in array:\n",
    "    if i[0] == s:\n",
    "        print(int(answer) * i[2])\n",
    "        break"
   ]
  }
 ],
 "metadata": {
  "kernelspec": {
   "display_name": "Python 3",
   "language": "python",
   "name": "python3"
  },
  "language_info": {
   "codemirror_mode": {
    "name": "ipython",
    "version": 3
   },
   "file_extension": ".py",
   "mimetype": "text/x-python",
   "name": "python",
   "nbconvert_exporter": "python",
   "pygments_lexer": "ipython3",
   "version": "3.8.5"
  }
 },
 "nbformat": 4,
 "nbformat_minor": 4
}
