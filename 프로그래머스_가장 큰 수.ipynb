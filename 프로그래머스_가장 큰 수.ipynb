{
 "cells": [
  {
   "cell_type": "code",
   "execution_count": 4,
   "metadata": {},
   "outputs": [
    {
     "name": "stdout",
     "output_type": "stream",
     "text": [
      "123\n",
      "['1', '2', '3']\n"
     ]
    }
   ],
   "source": [
    "a = list(input())\n",
    "print(a)"
   ]
  },
  {
   "cell_type": "code",
   "execution_count": 9,
   "metadata": {},
   "outputs": [
    {
     "name": "stdout",
     "output_type": "stream",
     "text": [
      "123\n"
     ]
    }
   ],
   "source": [
    "b = 123\n",
    "print(str(b))"
   ]
  },
  {
   "cell_type": "code",
   "execution_count": 14,
   "metadata": {},
   "outputs": [
    {
     "name": "stdout",
     "output_type": "stream",
     "text": [
      "1233\n",
      "126\n"
     ]
    }
   ],
   "source": [
    "a = '123'\n",
    "\n",
    "print(a + '3')\n",
    "\n",
    "print(int(a) + 3)"
   ]
  },
  {
   "cell_type": "code",
   "execution_count": 15,
   "metadata": {},
   "outputs": [],
   "source": [
    "# 시간 초과\n",
    "\n",
    "from itertools import permutations\n",
    "\n",
    "def solution(numbers):\n",
    "    answer = ''\n",
    "    temp = []\n",
    "    length = len(numbers)\n",
    "    array = list(permutations(numbers, length))\n",
    "    for i in array:\n",
    "        sum = ''\n",
    "        for j in i:\n",
    "            sum += str(j)\n",
    "        temp.append(int(sum))\n",
    "    \n",
    "    answer = str(max(temp))\n",
    "    return answer"
   ]
  },
  {
   "cell_type": "code",
   "execution_count": 17,
   "metadata": {},
   "outputs": [
    {
     "name": "stdout",
     "output_type": "stream",
     "text": [
      "[[1], [1, 2], [1, 2.5], [1, 3], [1, 3.5], [1, 4]]\n"
     ]
    }
   ],
   "source": [
    "array = [[1,2], [1,3], [1,4], [1], [1, 2.5], [1, 3.5]]\n",
    "array.sort()\n",
    "print(array)"
   ]
  },
  {
   "cell_type": "code",
   "execution_count": 18,
   "metadata": {},
   "outputs": [],
   "source": [
    "def solution(numbers):\n",
    "    answer = ''\n",
    "    numbers = list(map(str, numbers))\n",
    "    numbers.sort(key = lambda x: x * 3, reverse = True)\n",
    "    for i in numbers:\n",
    "        answer += i\n",
    "    return str(int(answer))"
   ]
  },
  {
   "cell_type": "code",
   "execution_count": null,
   "metadata": {},
   "outputs": [],
   "source": []
  }
 ],
 "metadata": {
  "kernelspec": {
   "display_name": "Python 3",
   "language": "python",
   "name": "python3"
  },
  "language_info": {
   "codemirror_mode": {
    "name": "ipython",
    "version": 3
   },
   "file_extension": ".py",
   "mimetype": "text/x-python",
   "name": "python",
   "nbconvert_exporter": "python",
   "pygments_lexer": "ipython3",
   "version": "3.8.5"
  }
 },
 "nbformat": 4,
 "nbformat_minor": 4
}
