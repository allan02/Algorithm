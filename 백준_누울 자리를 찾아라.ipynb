{
 "cells": [
  {
   "cell_type": "code",
   "execution_count": 15,
   "metadata": {},
   "outputs": [
    {
     "name": "stdout",
     "output_type": "stream",
     "text": [
      "5\n",
      "....X\n",
      "..XX.\n",
      ".....\n",
      ".XX..\n",
      "X....\n",
      "5 4\n"
     ]
    }
   ],
   "source": [
    "import copy\n",
    "\n",
    "n = int(input())\n",
    "\n",
    "array = []\n",
    "\n",
    "for _ in range(n):\n",
    "    array.append(list(input()))\n",
    "    \n",
    "array_temp = copy.deepcopy(array)\n",
    "\n",
    "answer1 = 0\n",
    "answer2 = 0\n",
    "\n",
    "for i in range(n):\n",
    "    for j in range(n - 1):\n",
    "        if array[i][j] == '.' and array[i][j + 1] == '.':\n",
    "            answer1 += 1\n",
    "            array[i][j] = 'X'\n",
    "            array[i][j + 1] = 'X'\n",
    "            \n",
    "            if j + 2 < n:\n",
    "                temp = j + 2\n",
    "                \n",
    "                while True:\n",
    "                    if array[i][temp] == 'X':\n",
    "                        break\n",
    "                    \n",
    "                    else:\n",
    "                        array[i][temp] = 'X'\n",
    "                        temp += 1\n",
    "                        if temp >= n:\n",
    "                            break\n",
    "                \n",
    "            \n",
    "for j in range(n):\n",
    "    for i in range(n - 1):\n",
    "        if array_temp[i][j] == '.' and array_temp[i + 1][j] == '.':\n",
    "            answer2 += 1\n",
    "            array_temp[i][j] = 'X'\n",
    "            array_temp[i + 1][j] = 'X'\n",
    "            \n",
    "            if i + 2 < n:\n",
    "                temp = i + 2\n",
    "                \n",
    "                while True:\n",
    "                    if array_temp[temp][j] == 'X':\n",
    "                        break\n",
    "                    \n",
    "                    else:\n",
    "                        array_temp[temp][j] = 'X'\n",
    "                        temp += 1\n",
    "                        if temp >= n:\n",
    "                            break\n",
    "        \n",
    "print(answer1, answer2)"
   ]
  }
 ],
 "metadata": {
  "kernelspec": {
   "display_name": "Python 3",
   "language": "python",
   "name": "python3"
  },
  "language_info": {
   "codemirror_mode": {
    "name": "ipython",
    "version": 3
   },
   "file_extension": ".py",
   "mimetype": "text/x-python",
   "name": "python",
   "nbconvert_exporter": "python",
   "pygments_lexer": "ipython3",
   "version": "3.8.5"
  }
 },
 "nbformat": 4,
 "nbformat_minor": 4
}
