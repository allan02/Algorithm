{
 "cells": [
  {
   "cell_type": "code",
   "execution_count": 3,
   "metadata": {},
   "outputs": [
    {
     "name": "stdout",
     "output_type": "stream",
     "text": [
      "1\n",
      "1\n",
      "1\n",
      "1\n",
      "10\n",
      "4\n",
      "1000\n",
      "135\n",
      "100000\n",
      "8392\n",
      "0\n"
     ]
    }
   ],
   "source": [
    "#import sys\n",
    "#input = sys.stdin.readline\n",
    "import math\n",
    "\n",
    "while True:\n",
    "    n = int(input())\n",
    "    if n == 0:\n",
    "        break\n",
    "    array = [True] * (2 * n + 1)\n",
    "    array[0] = False\n",
    "    array[1] = False\n",
    "    for i in range(2, int(math.sqrt(2 * n)) + 1): # +1 !\n",
    "        if array[i] == True:\n",
    "            for j in range(i + i, 2 * n + 1, i):\n",
    "                array[j] = False\n",
    "    answer = 0\n",
    "    \n",
    "    for i in range(n + 1, 2 * n + 1):\n",
    "        if array[i] == True:\n",
    "            answer += 1\n",
    "            \n",
    "    print(answer)\n",
    "    "
   ]
  },
  {
   "cell_type": "code",
   "execution_count": 6,
   "metadata": {},
   "outputs": [
    {
     "name": "stdout",
     "output_type": "stream",
     "text": [
      "2.0\n",
      "2.23606797749979\n",
      "\n",
      "2\n",
      "2.449489742783178\n",
      "2.6457513110645907\n",
      "2.8284271247461903\n",
      "3.0\n"
     ]
    }
   ],
   "source": [
    "import math\n",
    "print(math.sqrt(4))\n",
    "print(math.sqrt(5))\n",
    "print()\n",
    "print(int(math.sqrt(5)))\n",
    "print(math.sqrt(6))\n",
    "print(math.sqrt(7))\n",
    "print(math.sqrt(8))\n",
    "print(math.sqrt(9))"
   ]
  }
 ],
 "metadata": {
  "kernelspec": {
   "display_name": "Python 3",
   "language": "python",
   "name": "python3"
  },
  "language_info": {
   "codemirror_mode": {
    "name": "ipython",
    "version": 3
   },
   "file_extension": ".py",
   "mimetype": "text/x-python",
   "name": "python",
   "nbconvert_exporter": "python",
   "pygments_lexer": "ipython3",
   "version": "3.8.5"
  }
 },
 "nbformat": 4,
 "nbformat_minor": 4
}
