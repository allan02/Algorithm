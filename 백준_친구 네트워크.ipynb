{
 "cells": [
  {
   "cell_type": "code",
   "execution_count": 2,
   "metadata": {},
   "outputs": [
    {
     "name": "stdout",
     "output_type": "stream",
     "text": [
      "1\n",
      "5\n",
      "a b\n",
      "2\n",
      "b c\n",
      "3\n",
      "a d\n",
      "4\n",
      "a e\n",
      "5\n",
      "e a\n",
      "5\n"
     ]
    }
   ],
   "source": [
    "import sys\n",
    "#input = sys.stdin.readline\n",
    "from collections import defaultdict\n",
    "\n",
    "def find_parent(parent, a):\n",
    "    if parent[a] != a:\n",
    "        parent[a] = find_parent(parent, parent[a])\n",
    "    return parent[a]\n",
    "\n",
    "def union(parent, a, b):\n",
    "    a = find_parent(parent, a)\n",
    "    b = find_parent(parent, b)\n",
    "    \n",
    "    if a != b:\n",
    "        parent[b] = a\n",
    "        array2[a] += array2[b]\n",
    "        \n",
    "    print(max(array2[a], array2[b])\n",
    "    \n",
    "    #그냥 array2[a] -> 답\n",
    "    #대소 비교 안하면 재귀 깊이가 깊어짐\n",
    "        \n",
    "t = int(input())\n",
    "\n",
    "while t != 0:\n",
    "    d = defaultdict(int)\n",
    "    count = 1\n",
    "    array = []\n",
    "    array2 = []\n",
    "    for _ in range(int(input())):\n",
    "        a, b = input().split()\n",
    "        if d[a] == 0:\n",
    "            d[a] = count\n",
    "            array.append(count - 1)\n",
    "            array2.append(1)\n",
    "            count += 1\n",
    "        if d[b] == 0:\n",
    "            d[b] = count\n",
    "            array.append(count - 1)\n",
    "            array2.append(1)\n",
    "            count += 1\n",
    "        \n",
    "        union(array, d[a] - 1, d[b] - 1)\n",
    "            \n",
    "        \n",
    "    t -= 1"
   ]
  },
  {
   "cell_type": "code",
   "execution_count": 4,
   "metadata": {},
   "outputs": [
    {
     "name": "stdout",
     "output_type": "stream",
     "text": [
      "0\n",
      "1\n",
      "defaultdict(<class 'int'>, {1: 1})\n"
     ]
    }
   ],
   "source": [
    "from collections import defaultdict\n",
    "\n",
    "a = defaultdict(int)\n",
    "if a[1] != 0:\n",
    "    print(a[1])\n",
    "else:\n",
    "    print(0)\n",
    "    \n",
    "a[1] += 1\n",
    "\n",
    "if a[1] != 0:\n",
    "    print(a[1])\n",
    "else:\n",
    "    print(0)\n",
    "print(a)"
   ]
  },
  {
   "cell_type": "code",
   "execution_count": 3,
   "metadata": {},
   "outputs": [
    {
     "name": "stdout",
     "output_type": "stream",
     "text": [
      "[1, 2, 3]\n",
      "[1, 3, 3]\n"
     ]
    }
   ],
   "source": [
    "def test():\n",
    "    arr[1] += 1\n",
    "    \n",
    "arr = [1,2,3]\n",
    "print(arr)\n",
    "test()\n",
    "print(arr)"
   ]
  }
 ],
 "metadata": {
  "kernelspec": {
   "display_name": "Python 3",
   "language": "python",
   "name": "python3"
  },
  "language_info": {
   "codemirror_mode": {
    "name": "ipython",
    "version": 3
   },
   "file_extension": ".py",
   "mimetype": "text/x-python",
   "name": "python",
   "nbconvert_exporter": "python",
   "pygments_lexer": "ipython3",
   "version": "3.8.5"
  }
 },
 "nbformat": 4,
 "nbformat_minor": 4
}
