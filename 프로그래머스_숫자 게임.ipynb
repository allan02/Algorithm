{
 "cells": [
  {
   "cell_type": "code",
   "execution_count": 2,
   "metadata": {},
   "outputs": [],
   "source": [
    "# 시간 초과\n",
    "\n",
    "from itertools import permutations\n",
    "\n",
    "def solution(A, B):\n",
    "    answer = -1\n",
    "    length = len(A)\n",
    "    B = list(permutations(B, len(B)))\n",
    "    \n",
    "    for now in B:\n",
    "        temp = []\n",
    "        for i in range(length):\n",
    "            t = now[i] - A[i]\n",
    "            if t > 0:\n",
    "                temp.append(1)\n",
    "                \n",
    "        answer = max(answer, sum(temp))\n",
    "        \n",
    "    return answer"
   ]
  },
  {
   "cell_type": "code",
   "execution_count": 3,
   "metadata": {},
   "outputs": [],
   "source": [
    "from collections import deque \n",
    "import heapq\n",
    "\n",
    "def solution(A, B):\n",
    "    answer = 0\n",
    "    if min(A) > max(B):\n",
    "        return 0\n",
    "    A = deque(sorted(A, reverse = True))\n",
    "    \n",
    "    B = [i * -1 for i in B]\n",
    "    heapq.heapify(B)\n",
    "    \n",
    "    for i in A:\n",
    "        if i < abs(B[0]):\n",
    "            answer += 1\n",
    "            heapq.heappop(B)\n",
    "        else:\n",
    "            continue\n",
    "    \n",
    "    return answer"
   ]
  }
 ],
 "metadata": {
  "kernelspec": {
   "display_name": "Python 3",
   "language": "python",
   "name": "python3"
  },
  "language_info": {
   "codemirror_mode": {
    "name": "ipython",
    "version": 3
   },
   "file_extension": ".py",
   "mimetype": "text/x-python",
   "name": "python",
   "nbconvert_exporter": "python",
   "pygments_lexer": "ipython3",
   "version": "3.8.5"
  }
 },
 "nbformat": 4,
 "nbformat_minor": 4
}
