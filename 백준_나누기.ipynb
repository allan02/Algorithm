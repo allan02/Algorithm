{
 "cells": [
  {
   "cell_type": "code",
   "execution_count": 12,
   "metadata": {},
   "outputs": [
    {
     "name": "stdout",
     "output_type": "stream",
     "text": [
      "32442\n",
      "99\n",
      "72\n"
     ]
    }
   ],
   "source": [
    "n = input()\n",
    "f = int(input())\n",
    "\n",
    "n = n[0:-2]\n",
    "\n",
    "temp = '00'\n",
    "\n",
    "while True:\n",
    "    now = n + temp\n",
    "    if int(now) % f == 0:\n",
    "        print(temp)\n",
    "        break\n",
    "    \n",
    "    temp = str(int(temp) + 1)\n",
    "    if len(temp) == 1:\n",
    "        temp = '0' + temp\n",
    "        \n",
    "        "
   ]
  },
  {
   "cell_type": "code",
   "execution_count": 8,
   "metadata": {},
   "outputs": [
    {
     "name": "stdout",
     "output_type": "stream",
     "text": [
      "9\n"
     ]
    }
   ],
   "source": [
    "print(str(int('09')))"
   ]
  }
 ],
 "metadata": {
  "kernelspec": {
   "display_name": "Python 3",
   "language": "python",
   "name": "python3"
  },
  "language_info": {
   "codemirror_mode": {
    "name": "ipython",
    "version": 3
   },
   "file_extension": ".py",
   "mimetype": "text/x-python",
   "name": "python",
   "nbconvert_exporter": "python",
   "pygments_lexer": "ipython3",
   "version": "3.8.5"
  }
 },
 "nbformat": 4,
 "nbformat_minor": 4
}
