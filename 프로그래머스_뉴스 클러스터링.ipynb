{
 "cells": [
  {
   "cell_type": "code",
   "execution_count": 5,
   "metadata": {},
   "outputs": [
    {
     "name": "stdout",
     "output_type": "stream",
     "text": [
      "[1, 2, 3, 4, 5, 5]\n",
      "[1, 2, 3, 4, 5]\n",
      "2.3123\n",
      "2\n"
     ]
    }
   ],
   "source": [
    "array1 = [1,2,3,4,5,5]\n",
    "array2 = [1,2,3,4]\n",
    "print(array1)\n",
    "array1.remove(5)\n",
    "print(array1)\n",
    "\n",
    "a = 2.3123\n",
    "print(a)\n",
    "print(int(a))"
   ]
  },
  {
   "cell_type": "code",
   "execution_count": 6,
   "metadata": {},
   "outputs": [],
   "source": [
    "def solution(str1, str2):\n",
    "    answer = 0\n",
    "    array1 = []\n",
    "    array2 = []\n",
    "    \n",
    "    index = 0\n",
    "    length1 = len(str1)\n",
    "    length2 = len(str2)\n",
    "    \n",
    "    while index + 2 <= length1:\n",
    "        temp = str1[index : index + 2]\n",
    "        if temp.isalpha():\n",
    "            array1.append(temp.upper())\n",
    "        index += 1\n",
    "        \n",
    "    index = 0\n",
    "    while index + 2 <= length2:\n",
    "        temp = str2[index : index + 2]\n",
    "        if temp.isalpha():\n",
    "            array2.append(temp.upper())\n",
    "        index += 1\n",
    "            \n",
    "    inter = []\n",
    "    \n",
    "    print(array1)\n",
    "    print(array2)\n",
    "    print(inter)\n",
    "    \n",
    "    for i in array1[:]:\n",
    "        if i in array2:\n",
    "            inter.append(i)\n",
    "            array1.remove(i)\n",
    "            array2.remove(i)\n",
    "            \n",
    "    for j in array2[:]:\n",
    "        if j in array1:\n",
    "            inter.append(j)\n",
    "            array1.remove(j)\n",
    "            array2.remove(j)\n",
    "        \n",
    "    uni = len(inter) + len(array1) + len(array2)\n",
    "    if uni == 0:\n",
    "        return 65536\n",
    "    else:\n",
    "        return int(len(inter) / uni * 65536)"
   ]
  },
  {
   "cell_type": "code",
   "execution_count": null,
   "metadata": {},
   "outputs": [],
   "source": []
  }
 ],
 "metadata": {
  "kernelspec": {
   "display_name": "Python 3",
   "language": "python",
   "name": "python3"
  },
  "language_info": {
   "codemirror_mode": {
    "name": "ipython",
    "version": 3
   },
   "file_extension": ".py",
   "mimetype": "text/x-python",
   "name": "python",
   "nbconvert_exporter": "python",
   "pygments_lexer": "ipython3",
   "version": "3.8.5"
  }
 },
 "nbformat": 4,
 "nbformat_minor": 4
}
