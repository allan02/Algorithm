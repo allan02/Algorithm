{
 "cells": [
  {
   "cell_type": "code",
   "execution_count": 4,
   "metadata": {},
   "outputs": [
    {
     "name": "stdout",
     "output_type": "stream",
     "text": [
      "3\n",
      "8\n",
      "3 5\n",
      "10\n",
      "5 5\n",
      "16\n",
      "5 11\n"
     ]
    }
   ],
   "source": [
    "import math\n",
    "#import sys\n",
    "#input = sys.stdin.readline\n",
    "t = int(input())\n",
    "while t != 0:\n",
    "    n = int(input())\n",
    "    array = [True] * (n + 1)\n",
    "    array[0] = False\n",
    "    array[1] = False\n",
    "    for i in range(2, int(math.sqrt(n + 1)) + 1):\n",
    "        if array[i] == True:\n",
    "            for j in range(i + i, n + 1, i):\n",
    "                array[j] = False\n",
    "    a = n // 2\n",
    "    b = n // 2\n",
    "    \n",
    "    while True:\n",
    "        if array[a] == True and array[b] == True:\n",
    "            break\n",
    "        else:\n",
    "            a -= 1\n",
    "            b += 1\n",
    "        \n",
    "    if a < b:\n",
    "        print(a, b)\n",
    "    else:\n",
    "        print(b, a)\n",
    "    t -= 1"
   ]
  }
 ],
 "metadata": {
  "kernelspec": {
   "display_name": "Python 3",
   "language": "python",
   "name": "python3"
  },
  "language_info": {
   "codemirror_mode": {
    "name": "ipython",
    "version": 3
   },
   "file_extension": ".py",
   "mimetype": "text/x-python",
   "name": "python",
   "nbconvert_exporter": "python",
   "pygments_lexer": "ipython3",
   "version": "3.8.5"
  }
 },
 "nbformat": 4,
 "nbformat_minor": 4
}
