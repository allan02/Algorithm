{
 "cells": [
  {
   "cell_type": "code",
   "execution_count": 5,
   "metadata": {},
   "outputs": [
    {
     "name": "stdout",
     "output_type": "stream",
     "text": [
      "abcd\n",
      "3\n",
      "P x\n",
      "L\n",
      "P y\n",
      "abcdyx\n"
     ]
    }
   ],
   "source": [
    "# 시간초과\n",
    "\n",
    "#import sys\n",
    "#input = sys.stdin.readline\n",
    "\n",
    "s = input()\n",
    "n = len(s)\n",
    "m = int(input())\n",
    "now = n\n",
    "\n",
    "for _ in range(m):\n",
    "    array = list(input())\n",
    "    \n",
    "    if len(array) == 1:\n",
    "        if array[0] == 'L':\n",
    "            now -= 1\n",
    "            if now < 0:\n",
    "                now = 0\n",
    "                \n",
    "        if array[0] == 'D':\n",
    "            now += 1\n",
    "            if now > len(s):\n",
    "                now = len(s)\n",
    "                \n",
    "        if array[0] == 'B':\n",
    "            if now != 0 and len(s) >= 1:\n",
    "                s = s[0:now - 1] + s[now :]\n",
    "                now -= 1\n",
    "                if now > len(s):\n",
    "                    now = len(s)\n",
    "                \n",
    "                elif now < 0:\n",
    "                    now = 0\n",
    "        \n",
    "        #print(s)\n",
    "                \n",
    "    else:\n",
    "        s = s[0:now] + array[2] + s[now:]\n",
    "        now += 1\n",
    "        #print(s)\n",
    "print(s)\n",
    "            \n",
    "\n",
    "            "
   ]
  },
  {
   "cell_type": "code",
   "execution_count": 7,
   "metadata": {},
   "outputs": [
    {
     "name": "stdout",
     "output_type": "stream",
     "text": [
      "abcd\n",
      "3\n",
      "P x\n",
      "L\n",
      "P y\n",
      "abcdyx\n"
     ]
    }
   ],
   "source": [
    "# 풀이 참조\n",
    "\n",
    "import sys\n",
    "\n",
    "st1 = list(sys.stdin.readline().rstrip())\n",
    "st2 = []\n",
    "\n",
    "for _ in range(int(sys.stdin.readline())):\n",
    "    command = list(sys.stdin.readline().split())\n",
    "    if command[0] == 'L':\n",
    "        if st1:\n",
    "            st2.append(st1.pop())\n",
    "            \n",
    "    elif command[0] == 'D':\n",
    "        if st2:\n",
    "            st1.append(st2.pop())\n",
    "\n",
    "    elif command[0] == 'B':\n",
    "        if st1:\n",
    "            st1.pop()\n",
    "            \n",
    "    else:\n",
    "        st1.append(command[1])\n",
    "        \n",
    "st1.extend(reversed(st2))\n",
    "print(''.join(st1))"
   ]
  },
  {
   "cell_type": "code",
   "execution_count": 4,
   "metadata": {},
   "outputs": [
    {
     "name": "stdout",
     "output_type": "stream",
     "text": [
      "[1, 2, 1, 3, 4, 5]\n"
     ]
    }
   ],
   "source": [
    "array = [1,2,3,4,5]\n",
    "array.insert(2, 1)\n",
    "print(array)"
   ]
  }
 ],
 "metadata": {
  "kernelspec": {
   "display_name": "Python 3",
   "language": "python",
   "name": "python3"
  },
  "language_info": {
   "codemirror_mode": {
    "name": "ipython",
    "version": 3
   },
   "file_extension": ".py",
   "mimetype": "text/x-python",
   "name": "python",
   "nbconvert_exporter": "python",
   "pygments_lexer": "ipython3",
   "version": "3.8.5"
  }
 },
 "nbformat": 4,
 "nbformat_minor": 4
}
