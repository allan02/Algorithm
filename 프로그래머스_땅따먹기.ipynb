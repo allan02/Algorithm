{
 "cells": [
  {
   "cell_type": "code",
   "execution_count": 1,
   "metadata": {},
   "outputs": [],
   "source": [
    "def solution(land):\n",
    "    answer = 0\n",
    "    length = len(land)\n",
    "    for i in range(1, length):\n",
    "        land[i][0] = max(land[i][0] + land[i - 1][1], land[i][0] + land[i - 1][2], land[i][0] + land[i - 1][3])\n",
    "        land[i][1] = max(land[i][1] + land[i - 1][0], land[i][1] + land[i - 1][2], land[i][1] + land[i - 1][3])\n",
    "        land[i][2] = max(land[i][2] + land[i - 1][0], land[i][2] + land[i - 1][1], land[i][2] + land[i - 1][3])\n",
    "        land[i][3] = max(land[i][3] + land[i - 1][0], land[i][3] + land[i - 1][1], land[i][3] + land[i - 1][2])\n",
    "    return max(land[length - 1])"
   ]
  }
 ],
 "metadata": {
  "kernelspec": {
   "display_name": "Python 3",
   "language": "python",
   "name": "python3"
  },
  "language_info": {
   "codemirror_mode": {
    "name": "ipython",
    "version": 3
   },
   "file_extension": ".py",
   "mimetype": "text/x-python",
   "name": "python",
   "nbconvert_exporter": "python",
   "pygments_lexer": "ipython3",
   "version": "3.8.5"
  }
 },
 "nbformat": 4,
 "nbformat_minor": 4
}
