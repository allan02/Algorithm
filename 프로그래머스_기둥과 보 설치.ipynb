{
 "cells": [
  {
   "cell_type": "code",
   "execution_count": 13,
   "metadata": {},
   "outputs": [],
   "source": [
    "def possible(answer):\n",
    "    for x, y, stuff in answer:\n",
    "        if stuff == 0:\n",
    "            if y == 0 or [x - 1, y, 1] in answer or [x, y, 1] in answer or [x, y - 1, 0] in answer:\n",
    "                continue\n",
    "                \n",
    "            return False\n",
    "        \n",
    "        elif stuff == 1:\n",
    "            if [x , y - 1, 0] in answer or [x + 1 , y - 1, 0] in answer or [x - 1 , y, 1] in answer and [x + 1 , y, 1] in answer:\n",
    "                continue\n",
    "            \n",
    "            return False\n",
    "    \n",
    "    return True\n",
    "            \n",
    "    \n",
    "def solution(n, build_frame):\n",
    "    answer = []\n",
    "    \n",
    "    for frame in build_frame:\n",
    "        x, y, stuff, operate = frame\n",
    "        \n",
    "        if operate == 0: # 삭헤 하는 경우\n",
    "            answer.remove([x, y, stuff])\n",
    "            if not possible(answer):\n",
    "                answer.append([x, y, stuff])\n",
    "        \n",
    "        else:\n",
    "            answer.append([x, y, stuff])\n",
    "            if not possible(answer):\n",
    "                answer.remove([x, y, stuff])\n",
    "                \n",
    "    return sorted(answer)\n",
    "        "
   ]
  },
  {
   "cell_type": "code",
   "execution_count": 12,
   "metadata": {},
   "outputs": [
    {
     "name": "stdout",
     "output_type": "stream",
     "text": [
      "[1, 2, 4, 5]\n"
     ]
    }
   ],
   "source": [
    "a = [1, 2, 2, 3, 4, 5]\n",
    "a.remove(2)\n",
    "a.remove(3)\n",
    "print(a)"
   ]
  }
 ],
 "metadata": {
  "kernelspec": {
   "display_name": "Python 3",
   "language": "python",
   "name": "python3"
  },
  "language_info": {
   "codemirror_mode": {
    "name": "ipython",
    "version": 3
   },
   "file_extension": ".py",
   "mimetype": "text/x-python",
   "name": "python",
   "nbconvert_exporter": "python",
   "pygments_lexer": "ipython3",
   "version": "3.8.5"
  }
 },
 "nbformat": 4,
 "nbformat_minor": 4
}
