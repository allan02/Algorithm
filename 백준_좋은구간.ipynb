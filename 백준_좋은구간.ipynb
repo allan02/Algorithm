{
 "cells": [
  {
   "cell_type": "code",
   "execution_count": 16,
   "metadata": {},
   "outputs": [
    {
     "name": "stdout",
     "output_type": "stream",
     "text": [
      "5\n",
      "4 8 13 24 30\n",
      "10\n",
      "5\n"
     ]
    }
   ],
   "source": [
    "l = int(input())\n",
    "array = list(map(int, input().split()))\n",
    "n = int(input())\n",
    "\n",
    "array.sort()\n",
    "\n",
    "pre = 0\n",
    "check = True\n",
    "\n",
    "for now in array:\n",
    "    if now == n:\n",
    "        print(0)\n",
    "        check = False\n",
    "        break\n",
    "        \n",
    "    if now > n:\n",
    "        max_v = now - 1\n",
    "        min_v = pre + 1\n",
    "        break\n",
    "        \n",
    "    pre = now\n",
    "       \n",
    "if check:\n",
    "    \n",
    "    start = 0\n",
    "    end = 0\n",
    "\n",
    "    for i in range(min_v, max_v + 1):\n",
    "        if i <= n:\n",
    "            start += 1\n",
    "\n",
    "        if i >= n:\n",
    "            end += 1\n",
    "\n",
    "    print(start * end - 1)\n",
    "        \n",
    "\n",
    "        \n",
    "    "
   ]
  }
 ],
 "metadata": {
  "kernelspec": {
   "display_name": "Python 3",
   "language": "python",
   "name": "python3"
  },
  "language_info": {
   "codemirror_mode": {
    "name": "ipython",
    "version": 3
   },
   "file_extension": ".py",
   "mimetype": "text/x-python",
   "name": "python",
   "nbconvert_exporter": "python",
   "pygments_lexer": "ipython3",
   "version": "3.8.5"
  }
 },
 "nbformat": 4,
 "nbformat_minor": 4
}
